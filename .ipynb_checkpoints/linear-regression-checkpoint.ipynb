{
 "cells": [
  {
   "cell_type": "markdown",
   "metadata": {},
   "source": [
    "# Linear Regression:\n",
    "                Linear regression is one of the easiest algorithms in Machine learning. Linear regression is a way to express relationship between an independent variable and a dependent variable. We have to find a linear model that is as accurate as possible which will predict the dependent variable as a function of independent variable."
   ]
  },
  {
   "cell_type": "markdown",
   "metadata": {},
   "source": [
    "# Hypothesis:\n",
    "    Our hypothesis in the linear regression case will be a function that will mape the independent values to the dependent values.\n",
    "\\begin{align}\n",
    "\\dot h_x & = \\theta_0 + \\theta_1X\n",
    "\\end{align}\n",
    "\n",
    "    This is for univariable we can extend it to multiple variable\n",
    "In this the X is the independent variable which is also called feature and output $ h_x $ is the dependent variable which is also called the prediction."
   ]
  },
  {
   "cell_type": "code",
   "execution_count": 362,
   "metadata": {},
   "outputs": [],
   "source": [
    "#first i imported my dependencies\n",
    "import numpy as np\n",
    "import matplotlib.pyplot as plt\n",
    "import pandas as pd\n",
    "import plotly.graph_objects as go"
   ]
  },
  {
   "cell_type": "code",
   "execution_count": 327,
   "metadata": {},
   "outputs": [],
   "source": [
    "def hypothesis(x, theta):\n",
    "    return np.dot(x, theta[1:]) + theta[0]"
   ]
  },
  {
   "cell_type": "markdown",
   "metadata": {},
   "source": [
    "Now that we have implemented the hypothesis function using python lets test it using arbitrary data.\n",
    "\n",
    "We have one column only containing one because we of $\\theta_0$"
   ]
  },
  {
   "cell_type": "code",
   "execution_count": 328,
   "metadata": {},
   "outputs": [
    {
     "data": {
      "text/plain": [
       "array([0.5, 1. , 1.5, 2. , 2.5])"
      ]
     },
     "execution_count": 328,
     "metadata": {},
     "output_type": "execute_result"
    }
   ],
   "source": [
    "theta = [0, 0.5]\n",
    "x = np.array([1, 2, 3, 4, 5]).reshape(len(x), 1)\n",
    "y = [1, 2, 3, 4, 5]\n",
    "y_predicted = hypothesis(x, theta)\n",
    "y_predicted"
   ]
  },
  {
   "cell_type": "code",
   "execution_count": 330,
   "metadata": {},
   "outputs": [
    {
     "data": {
      "text/plain": [
       "[<matplotlib.lines.Line2D at 0x7f084e6b7c88>]"
      ]
     },
     "execution_count": 330,
     "metadata": {},
     "output_type": "execute_result"
    },
    {
     "data": {
      "image/png": "[encoded data removed]",
      "text/plain": [
       "<Figure size 432x288 with 1 Axes>"
      ]
     },
     "metadata": {
      "needs_background": "light"
     },
     "output_type": "display_data"
    }
   ],
   "source": [
    "plt.scatter(x, y)\n",
    "plt.plot(x, y_predicted)"
   ]
  },
  {
   "cell_type": "markdown",
   "metadata": {},
   "source": [
    "# Cost: \n",
    "    Cost is the difference between the actual value and the predicted. The total cost is equal to the sum of all the costs.\n",
    "As we chose just random values for the $ \\theta_0 and \\theta_1 $ it does fit well through the data. To make the model work fine we have to chose those values for $ \\theta_0 and \\theta_1 $ that will reduce this cost function.\n",
    "$$ \\ J(\\theta_0, \\theta_1) = \\frac{1}{2m} \\sum_{i=1}^{m} (h_\\theta (x^{(i)}) - y^{(i)})^2 $$\n",
    "Now we have to find $ \\theta_0 and \\theta_1 $ which give small cost."
   ]
  },
  {
   "cell_type": "markdown",
   "metadata": {},
   "source": [
    "### Hypothesis:\n",
    "\n",
    "\\begin{align}\n",
    "\\dot h_x & = \\theta_0 + \\theta_1X\n",
    "\\end{align}\n",
    "### Parameter:\n",
    "\n",
    "$$ \\theta_0 and \\theta_1 $$\n",
    "### Cost Function:\n",
    "\n",
    "$$ \\ J(\\theta_0, \\theta_1) = \\frac{1}{2m} \\sum_{i=1}^{m} (h_\\theta (x^{(i)}) - y^{(i)}) $$\n",
    "\n",
    "### Goal: \n",
    "\n",
    "$$ Minimize  \\ J(\\theta_0, \\theta_1)  using  \\theta_0 and \\theta_1 $$"
   ]
  },
  {
   "cell_type": "markdown",
   "metadata": {},
   "source": [
    "![title](image/cost.jpeg)"
   ]
  },
  {
   "cell_type": "markdown",
   "metadata": {},
   "source": [
    "Lets try some arbitrary values for $$\\theta_0 and \\theta_1 $$ and find out the cost.\n",
    "\n",
    "For this we have to implement the cost function first."
   ]
  },
  {
   "cell_type": "code",
   "execution_count": 335,
   "metadata": {},
   "outputs": [],
   "source": [
    "def cost(y_given, y_predicted):\n",
    "    return ((y_predicted - y_given)**2).mean()/2"
   ]
  },
  {
   "cell_type": "code",
   "execution_count": 336,
   "metadata": {},
   "outputs": [],
   "source": [
    "y_predicted = []\n",
    "t_cost = []\n",
    "theta = []"
   ]
  },
  {
   "cell_type": "code",
   "execution_count": 337,
   "metadata": {},
   "outputs": [],
   "source": [
    "for i in range(20):\n",
    "    Q_theta = [0, i/10]\n",
    "    Q_predicted = hypothesis(x, Q_theta)\n",
    "    Q_cost = cost(y, Q_predicted)\n",
    "    \n",
    "    y_predicted.append(Q_predicted)\n",
    "    theta.append(Q_theta[1])\n",
    "    t_cost.append(Q_cost)"
   ]
  },
  {
   "cell_type": "markdown",
   "metadata": {},
   "source": [
    "    The below graph shows different linear model on the data."
   ]
  },
  {
   "cell_type": "code",
   "execution_count": 346,
   "metadata": {},
   "outputs": [
    {
     "data": {
      "application/vnd.plotly.v1+json": {
       "config": {
        "plotlyServerURL": "https://plot.ly"
       },
       "data": [
        {
         "line": {
          "color": "blue",
          "width": 2
         },
         "mode": "markers",
         "name": "Linar-model",
         "type": "scatter",
         "x": [
          1,
          2,
          3,
          4,
          5
         ],
         "y": [
          1,
          2,
          3,
          4,
          5
         ]
        },
        {
         "line": {
          "color": "blue",
          "width": 2
         },
         "mode": "markers",
         "name": "Data",
         "type": "scatter",
         "x": [
          1,
          2,
          3,
          4,
          5
         ],
         "y": [
          1,
          2,
          3,
          4,
          5
         ]
        }
       ],
       "frames": [
        {
         "data": [
          {
           "line": {
            "color": "red",
            "width": 2
           },
           "mode": "lines",
           "type": "scatter",
           "x": [
            1,
            2,
            3,
            4,
            5
           ],
           "y": [
            0,
            0,
            0,
            0,
            0
           ]
          }
         ]
        },
        {
         "data": [
          {
           "line": {
            "color": "red",
            "width": 2
           },
           "mode": "lines",
           "type": "scatter",
           "x": [
            1,
            2,
            3,
            4,
            5
           ],
           "y": [
            0.1,
            0.2,
            0.30000000000000004,
            0.4,
            0.5
           ]
          }
         ]
        },
        {
         "data": [
          {
           "line": {
            "color": "red",
            "width": 2
           },
           "mode": "lines",
           "type": "scatter",
           "x": [
            1,
            2,
            3,
            4,
            5
           ],
           "y": [
            0.2,
            0.4,
            0.6000000000000001,
            0.8,
            1
           ]
          }
         ]
        },
        {
         "data": [
          {
           "line": {
            "color": "red",
            "width": 2
           },
           "mode": "lines",
           "type": "scatter",
           "x": [
            1,
            2,
            3,
            4,
            5
           ],
           "y": [
            0.3,
            0.6,
            0.8999999999999999,
            1.2,
            1.5
           ]
          }
         ]
        },
        {
         "data": [
          {
           "line": {
            "color": "red",
            "width": 2
           },
           "mode": "lines",
           "type": "scatter",
           "x": [
            1,
            2,
            3,
            4,
            5
           ],
           "y": [
            0.4,
            0.8,
            1.2000000000000002,
            1.6,
            2
           ]
          }
         ]
        },
        {
         "data": [
          {
           "line": {
            "color": "red",
            "width": 2
           },
           "mode": "lines",
           "type": "scatter",
           "x": [
            1,
            2,
            3,
            4,
            5
           ],
           "y": [
            0.5,
            1,
            1.5,
            2,
            2.5
           ]
          }
         ]
        },
        {
         "data": [
          {
           "line": {
            "color": "red",
            "width": 2
           },
           "mode": "lines",
           "type": "scatter",
           "x": [
            1,
            2,
            3,
            4,
            5
           ],
           "y": [
            0.6,
            1.2,
            1.7999999999999998,
            2.4,
            3
           ]
          }
         ]
        },
        {
         "data": [
          {
           "line": {
            "color": "red",
            "width": 2
           },
           "mode": "lines",
           "type": "scatter",
           "x": [
            1,
            2,
            3,
            4,
            5
           ],
           "y": [
            0.7,
            1.4,
            2.0999999999999996,
            2.8,
            3.5
           ]
          }
         ]
        },
        {
         "data": [
          {
           "line": {
            "color": "red",
            "width": 2
           },
           "mode": "lines",
           "type": "scatter",
           "x": [
            1,
            2,
            3,
            4,
            5
           ],
           "y": [
            0.8,
            1.6,
            2.4000000000000004,
            3.2,
            4
           ]
          }
         ]
        },
        {
         "data": [
          {
           "line": {
            "color": "red",
            "width": 2
           },
           "mode": "lines",
           "type": "scatter",
           "x": [
            1,
            2,
            3,
            4,
            5
           ],
           "y": [
            0.9,
            1.8,
            2.7,
            3.6,
            4.5
           ]
          }
         ]
        },
        {
         "data": [
          {
           "line": {
            "color": "red",
            "width": 2
           },
           "mode": "lines",
           "type": "scatter",
           "x": [
            1,
            2,
            3,
            4,
            5
           ],
           "y": [
            1,
            2,
            3,
            4,
            5
           ]
          }
         ]
        },
        {
         "data": [
          {
           "line": {
            "color": "red",
            "width": 2
           },
           "mode": "lines",
           "type": "scatter",
           "x": [
            1,
            2,
            3,
            4,
            5
           ],
           "y": [
            1.1,
            2.2,
            3.3000000000000003,
            4.4,
            5.5
           ]
          }
         ]
        },
        {
         "data": [
          {
           "line": {
            "color": "red",
            "width": 2
           },
           "mode": "lines",
           "type": "scatter",
           "x": [
            1,
            2,
            3,
            4,
            5
           ],
           "y": [
            1.2,
            2.4,
            3.5999999999999996,
            4.8,
            6
           ]
          }
         ]
        },
        {
         "data": [
          {
           "line": {
            "color": "red",
            "width": 2
           },
           "mode": "lines",
           "type": "scatter",
           "x": [
            1,
            2,
            3,
            4,
            5
           ],
           "y": [
            1.3,
            2.6,
            3.9000000000000004,
            5.2,
            6.5
           ]
          }
         ]
        },
        {
         "data": [
          {
           "line": {
            "color": "red",
            "width": 2
           },
           "mode": "lines",
           "type": "scatter",
           "x": [
            1,
            2,
            3,
            4,
            5
           ],
           "y": [
            1.4,
            2.8,
            4.199999999999999,
            5.6,
            7
           ]
          }
         ]
        },
        {
         "data": [
          {
           "line": {
            "color": "red",
            "width": 2
           },
           "mode": "lines",
           "type": "scatter",
           "x": [
            1,
            2,
            3,
            4,
            5
           ],
           "y": [
            1.5,
            3,
            4.5,
            6,
            7.5
           ]
          }
         ]
        },
        {
         "data": [
          {
           "line": {
            "color": "red",
            "width": 2
           },
           "mode": "lines",
           "type": "scatter",
           "x": [
            1,
            2,
            3,
            4,
            5
           ],
           "y": [
            1.6,
            3.2,
            4.800000000000001,
            6.4,
            8
           ]
          }
         ]
        },
        {
         "data": [
          {
           "line": {
            "color": "red",
            "width": 2
           },
           "mode": "lines",
           "type": "scatter",
           "x": [
            1,
            2,
            3,
            4,
            5
           ],
           "y": [
            1.7,
            3.4,
            5.1,
            6.8,
            8.5
           ]
          }
         ]
        },
        {
         "data": [
          {
           "line": {
            "color": "red",
            "width": 2
           },
           "mode": "lines",
           "type": "scatter",
           "x": [
            1,
            2,
            3,
            4,
            5
           ],
           "y": [
            1.8,
            3.6,
            5.4,
            7.2,
            9
           ]
          }
         ]
        },
        {
         "data": [
          {
           "line": {
            "color": "red",
            "width": 2
           },
           "mode": "lines",
           "type": "scatter",
           "x": [
            1,
            2,
            3,
            4,
            5
           ],
           "y": [
            1.9,
            3.8,
            5.699999999999999,
            7.6,
            9.5
           ]
          }
         ]
        }
       ],
       "layout": {
        "hovermode": "closest",
        "template": {
         "data": {
          "bar": [
           {
            "error_x": {
             "color": "#2a3f5f"
            },
            "error_y": {
             "color": "#2a3f5f"
            },
            "marker": {
             "line": {
              "color": "#E5ECF6",
              "width": 0.5
             }
            },
            "type": "bar"
           }
          ],
          "barpolar": [
           {
            "marker": {
             "line": {
              "color": "#E5ECF6",
              "width": 0.5
             }
            },
            "type": "barpolar"
           }
          ],
          "carpet": [
           {
            "aaxis": {
             "endlinecolor": "#2a3f5f",
             "gridcolor": "white",
             "linecolor": "white",
             "minorgridcolor": "white",
             "startlinecolor": "#2a3f5f"
            },
            "baxis": {
             "endlinecolor": "#2a3f5f",
             "gridcolor": "white",
             "linecolor": "white",
             "minorgridcolor": "white",
             "startlinecolor": "#2a3f5f"
            },
            "type": "carpet"
           }
          ],
          "choropleth": [
           {
            "colorbar": {
             "outlinewidth": 0,
             "ticks": ""
            },
            "type": "choropleth"
           }
          ],
          "contour": [
           {
            "colorbar": {
             "outlinewidth": 0,
             "ticks": ""
            },
            "colorscale": [
             [
              0,
              "#0d0887"
             ],
             [
              0.1111111111111111,
              "#46039f"
             ],
             [
              0.2222222222222222,
              "#7201a8"
             ],
             [
              0.3333333333333333,
              "#9c179e"
             ],
             [
              0.4444444444444444,
              "#bd3786"
             ],
             [
              0.5555555555555556,
              "#d8576b"
             ],
             [
              0.6666666666666666,
              "#ed7953"
             ],
             [
              0.7777777777777778,
              "#fb9f3a"
             ],
             [
              0.8888888888888888,
              "#fdca26"
             ],
             [
              1,
              "#f0f921"
             ]
            ],
            "type": "contour"
           }
          ],
          "contourcarpet": [
           {
            "colorbar": {
             "outlinewidth": 0,
             "ticks": ""
            },
            "type": "contourcarpet"
           }
          ],
          "heatmap": [
           {
            "colorbar": {
             "outlinewidth": 0,
             "ticks": ""
            },
            "colorscale": [
             [
              0,
              "#0d0887"
             ],
             [
              0.1111111111111111,
              "#46039f"
             ],
             [
              0.2222222222222222,
              "#7201a8"
             ],
             [
              0.3333333333333333,
              "#9c179e"
             ],
             [
              0.4444444444444444,
              "#bd3786"
             ],
             [
              0.5555555555555556,
              "#d8576b"
             ],
             [
              0.6666666666666666,
              "#ed7953"
             ],
             [
              0.7777777777777778,
              "#fb9f3a"
             ],
             [
              0.8888888888888888,
              "#fdca26"
             ],
             [
              1,
              "#f0f921"
             ]
            ],
            "type": "heatmap"
           }
          ],
          "heatmapgl": [
           {
            "colorbar": {
             "outlinewidth": 0,
             "ticks": ""
            },
            "colorscale": [
             [
              0,
              "#0d0887"
             ],
             [
              0.1111111111111111,
              "#46039f"
             ],
             [
              0.2222222222222222,
              "#7201a8"
             ],
             [
              0.3333333333333333,
              "#9c179e"
             ],
             [
              0.4444444444444444,
              "#bd3786"
             ],
             [
              0.5555555555555556,
              "#d8576b"
             ],
             [
              0.6666666666666666,
              "#ed7953"
             ],
             [
              0.7777777777777778,
              "#fb9f3a"
             ],
             [
              0.8888888888888888,
              "#fdca26"
             ],
             [
              1,
              "#f0f921"
             ]
            ],
            "type": "heatmapgl"
           }
          ],
          "histogram": [
           {
            "marker": {
             "colorbar": {
              "outlinewidth": 0,
              "ticks": ""
             }
            },
            "type": "histogram"
           }
          ],
          "histogram2d": [
           {
            "colorbar": {
             "outlinewidth": 0,
             "ticks": ""
            },
            "colorscale": [
             [
              0,
              "#0d0887"
             ],
             [
              0.1111111111111111,
              "#46039f"
             ],
             [
              0.2222222222222222,
              "#7201a8"
             ],
             [
              0.3333333333333333,
              "#9c179e"
             ],
             [
              0.4444444444444444,
              "#bd3786"
             ],
             [
              0.5555555555555556,
              "#d8576b"
             ],
             [
              0.6666666666666666,
              "#ed7953"
             ],
             [
              0.7777777777777778,
              "#fb9f3a"
             ],
             [
              0.8888888888888888,
              "#fdca26"
             ],
             [
              1,
              "#f0f921"
             ]
            ],
            "type": "histogram2d"
           }
          ],
          "histogram2dcontour": [
           {
            "colorbar": {
             "outlinewidth": 0,
             "ticks": ""
            },
            "colorscale": [
             [
              0,
              "#0d0887"
             ],
             [
              0.1111111111111111,
              "#46039f"
             ],
             [
              0.2222222222222222,
              "#7201a8"
             ],
             [
              0.3333333333333333,
              "#9c179e"
             ],
             [
              0.4444444444444444,
              "#bd3786"
             ],
             [
              0.5555555555555556,
              "#d8576b"
             ],
             [
              0.6666666666666666,
              "#ed7953"
             ],
             [
              0.7777777777777778,
              "#fb9f3a"
             ],
             [
              0.8888888888888888,
              "#fdca26"
             ],
             [
              1,
              "#f0f921"
             ]
            ],
            "type": "histogram2dcontour"
           }
          ],
          "mesh3d": [
           {
            "colorbar": {
             "outlinewidth": 0,
             "ticks": ""
            },
            "type": "mesh3d"
           }
          ],
          "parcoords": [
           {
            "line": {
             "colorbar": {
              "outlinewidth": 0,
              "ticks": ""
             }
            },
            "type": "parcoords"
           }
          ],
          "scatter": [
           {
            "marker": {
             "colorbar": {
              "outlinewidth": 0,
              "ticks": ""
             }
            },
            "type": "scatter"
           }
          ],
          "scatter3d": [
           {
            "line": {
             "colorbar": {
              "outlinewidth": 0,
              "ticks": ""
             }
            },
            "marker": {
             "colorbar": {
              "outlinewidth": 0,
              "ticks": ""
             }
            },
            "type": "scatter3d"
           }
          ],
          "scattercarpet": [
           {
            "marker": {
             "colorbar": {
              "outlinewidth": 0,
              "ticks": ""
             }
            },
            "type": "scattercarpet"
           }
          ],
          "scattergeo": [
           {
            "marker": {
             "colorbar": {
              "outlinewidth": 0,
              "ticks": ""
             }
            },
            "type": "scattergeo"
           }
          ],
          "scattergl": [
           {
            "marker": {
             "colorbar": {
              "outlinewidth": 0,
              "ticks": ""
             }
            },
            "type": "scattergl"
           }
          ],
          "scattermapbox": [
           {
            "marker": {
             "colorbar": {
              "outlinewidth": 0,
              "ticks": ""
             }
            },
            "type": "scattermapbox"
           }
          ],
          "scatterpolar": [
           {
            "marker": {
             "colorbar": {
              "outlinewidth": 0,
              "ticks": ""
             }
            },
            "type": "scatterpolar"
           }
          ],
          "scatterpolargl": [
           {
            "marker": {
             "colorbar": {
              "outlinewidth": 0,
              "ticks": ""
             }
            },
            "type": "scatterpolargl"
           }
          ],
          "scatterternary": [
           {
            "marker": {
             "colorbar": {
              "outlinewidth": 0,
              "ticks": ""
             }
            },
            "type": "scatterternary"
           }
          ],
          "surface": [
           {
            "colorbar": {
             "outlinewidth": 0,
             "ticks": ""
            },
            "colorscale": [
             [
              0,
              "#0d0887"
             ],
             [
              0.1111111111111111,
              "#46039f"
             ],
             [
              0.2222222222222222,
              "#7201a8"
             ],
             [
              0.3333333333333333,
              "#9c179e"
             ],
             [
              0.4444444444444444,
              "#bd3786"
             ],
             [
              0.5555555555555556,
              "#d8576b"
             ],
             [
              0.6666666666666666,
              "#ed7953"
             ],
             [
              0.7777777777777778,
              "#fb9f3a"
             ],
             [
              0.8888888888888888,
              "#fdca26"
             ],
             [
              1,
              "#f0f921"
             ]
            ],
            "type": "surface"
           }
          ],
          "table": [
           {
            "cells": {
             "fill": {
              "color": "#EBF0F8"
             },
             "line": {
              "color": "white"
             }
            },
            "header": {
             "fill": {
              "color": "#C8D4E3"
             },
             "line": {
              "color": "white"
             }
            },
            "type": "table"
           }
          ]
         },
         "layout": {
          "annotationdefaults": {
           "arrowcolor": "#2a3f5f",
           "arrowhead": 0,
           "arrowwidth": 1
          },
          "colorscale": {
           "diverging": [
            [
             0,
             "#8e0152"
            ],
            [
             0.1,
             "#c51b7d"
            ],
            [
             0.2,
             "#de77ae"
            ],
            [
             0.3,
             "#f1b6da"
            ],
            [
             0.4,
             "#fde0ef"
            ],
            [
             0.5,
             "#f7f7f7"
            ],
            [
             0.6,
             "#e6f5d0"
            ],
            [
             0.7,
             "#b8e186"
            ],
            [
             0.8,
             "#7fbc41"
            ],
            [
             0.9,
             "#4d9221"
            ],
            [
             1,
             "#276419"
            ]
           ],
           "sequential": [
            [
             0,
             "#0d0887"
            ],
            [
             0.1111111111111111,
             "#46039f"
            ],
            [
             0.2222222222222222,
             "#7201a8"
            ],
            [
             0.3333333333333333,
             "#9c179e"
            ],
            [
             0.4444444444444444,
             "#bd3786"
            ],
            [
             0.5555555555555556,
             "#d8576b"
            ],
            [
             0.6666666666666666,
             "#ed7953"
            ],
            [
             0.7777777777777778,
             "#fb9f3a"
            ],
            [
             0.8888888888888888,
             "#fdca26"
            ],
            [
             1,
             "#f0f921"
            ]
           ],
           "sequentialminus": [
            [
             0,
             "#0d0887"
            ],
            [
             0.1111111111111111,
             "#46039f"
            ],
            [
             0.2222222222222222,
             "#7201a8"
            ],
            [
             0.3333333333333333,
             "#9c179e"
            ],
            [
             0.4444444444444444,
             "#bd3786"
            ],
            [
             0.5555555555555556,
             "#d8576b"
            ],
            [
             0.6666666666666666,
             "#ed7953"
            ],
            [
             0.7777777777777778,
             "#fb9f3a"
            ],
            [
             0.8888888888888888,
             "#fdca26"
            ],
            [
             1,
             "#f0f921"
            ]
           ]
          },
          "colorway": [
           "#636efa",
           "#EF553B",
           "#00cc96",
           "#ab63fa",
           "#FFA15A",
           "#19d3f3",
           "#FF6692",
           "#B6E880",
           "#FF97FF",
           "#FECB52"
          ],
          "font": {
           "color": "#2a3f5f"
          },
          "geo": {
           "bgcolor": "white",
           "lakecolor": "white",
           "landcolor": "#E5ECF6",
           "showlakes": true,
           "showland": true,
           "subunitcolor": "white"
          },
          "hoverlabel": {
           "align": "left"
          },
          "hovermode": "closest",
          "mapbox": {
           "style": "light"
          },
          "paper_bgcolor": "white",
          "plot_bgcolor": "#E5ECF6",
          "polar": {
           "angularaxis": {
            "gridcolor": "white",
            "linecolor": "white",
            "ticks": ""
           },
           "bgcolor": "#E5ECF6",
           "radialaxis": {
            "gridcolor": "white",
            "linecolor": "white",
            "ticks": ""
           }
          },
          "scene": {
           "xaxis": {
            "backgroundcolor": "#E5ECF6",
            "gridcolor": "white",
            "gridwidth": 2,
            "linecolor": "white",
            "showbackground": true,
            "ticks": "",
            "zerolinecolor": "white"
           },
           "yaxis": {
            "backgroundcolor": "#E5ECF6",
            "gridcolor": "white",
            "gridwidth": 2,
            "linecolor": "white",
            "showbackground": true,
            "ticks": "",
            "zerolinecolor": "white"
           },
           "zaxis": {
            "backgroundcolor": "#E5ECF6",
            "gridcolor": "white",
            "gridwidth": 2,
            "linecolor": "white",
            "showbackground": true,
            "ticks": "",
            "zerolinecolor": "white"
           }
          },
          "shapedefaults": {
           "line": {
            "color": "#2a3f5f"
           }
          },
          "ternary": {
           "aaxis": {
            "gridcolor": "white",
            "linecolor": "white",
            "ticks": ""
           },
           "baxis": {
            "gridcolor": "white",
            "linecolor": "white",
            "ticks": ""
           },
           "bgcolor": "#E5ECF6",
           "caxis": {
            "gridcolor": "white",
            "linecolor": "white",
            "ticks": ""
           }
          },
          "title": {
           "x": 0.05
          },
          "xaxis": {
           "automargin": true,
           "gridcolor": "white",
           "linecolor": "white",
           "ticks": "",
           "zerolinecolor": "white",
           "zerolinewidth": 2
          },
          "yaxis": {
           "automargin": true,
           "gridcolor": "white",
           "linecolor": "white",
           "ticks": "",
           "zerolinecolor": "white",
           "zerolinewidth": 2
          }
         }
        },
        "title": {
         "text": "Fitting the line through the data"
        },
        "updatemenus": [
         {
          "buttons": [
           {
            "args": [
             null
            ],
            "label": "Play",
            "method": "animate"
           }
          ],
          "type": "buttons"
         }
        ],
        "xaxis": {
         "autorange": false,
         "range": [
          0,
          6
         ],
         "zeroline": false
        },
        "yaxis": {
         "autorange": false,
         "range": [
          0,
          6
         ],
         "zeroline": false
        }
       }
      },
      "text/html": [
       "<div>\n",
       "        \n",
       "        \n",
       "            <div id=\"ef9ea96a-f09b-4cb8-a779-64f12d0edcc8\" class=\"plotly-graph-div\" style=\"height:525px; width:100%;\"></div>\n",
       "            <script type=\"text/javascript\">\n",
       "                require([\"plotly\"], function(Plotly) {\n",
       "                    window.PLOTLYENV=window.PLOTLYENV || {};\n",
       "                    \n",
       "                if (document.getElementById(\"ef9ea96a-f09b-4cb8-a779-64f12d0edcc8\")) {\n",
       "                    Plotly.newPlot(\n",
       "                        'ef9ea96a-f09b-4cb8-a779-64f12d0edcc8',\n",
       "                        [{\"line\": {\"color\": \"blue\", \"width\": 2}, \"mode\": \"markers\", \"name\": \"Linar-model\", \"type\": \"scatter\", \"x\": [1, 2, 3, 4, 5], \"y\": [1, 2, 3, 4, 5]}, {\"line\": {\"color\": \"blue\", \"width\": 2}, \"mode\": \"markers\", \"name\": \"Data\", \"type\": \"scatter\", \"x\": [1, 2, 3, 4, 5], \"y\": [1, 2, 3, 4, 5]}],\n",
       "                        {\"hovermode\": \"closest\", \"template\": {\"data\": {\"bar\": [{\"error_x\": {\"color\": \"#2a3f5f\"}, \"error_y\": {\"color\": \"#2a3f5f\"}, \"marker\": {\"line\": {\"color\": \"#E5ECF6\", \"width\": 0.5}}, \"type\": \"bar\"}], \"barpolar\": [{\"marker\": {\"line\": {\"color\": \"#E5ECF6\", \"width\": 0.5}}, \"type\": \"barpolar\"}], \"carpet\": [{\"aaxis\": {\"endlinecolor\": \"#2a3f5f\", \"gridcolor\": \"white\", \"linecolor\": \"white\", \"minorgridcolor\": \"white\", \"startlinecolor\": \"#2a3f5f\"}, \"baxis\": {\"endlinecolor\": \"#2a3f5f\", \"gridcolor\": \"white\", \"linecolor\": \"white\", \"minorgridcolor\": \"white\", \"startlinecolor\": \"#2a3f5f\"}, \"type\": \"carpet\"}], \"choropleth\": [{\"colorbar\": {\"outlinewidth\": 0, \"ticks\": \"\"}, \"type\": \"choropleth\"}], \"contour\": [{\"colorbar\": {\"outlinewidth\": 0, \"ticks\": \"\"}, \"colorscale\": [[0.0, \"#0d0887\"], [0.1111111111111111, \"#46039f\"], [0.2222222222222222, \"#7201a8\"], [0.3333333333333333, \"#9c179e\"], [0.4444444444444444, \"#bd3786\"], [0.5555555555555556, \"#d8576b\"], [0.6666666666666666, \"#ed7953\"], [0.7777777777777778, \"#fb9f3a\"], [0.8888888888888888, \"#fdca26\"], [1.0, \"#f0f921\"]], \"type\": \"contour\"}], \"contourcarpet\": [{\"colorbar\": {\"outlinewidth\": 0, \"ticks\": \"\"}, \"type\": \"contourcarpet\"}], \"heatmap\": [{\"colorbar\": {\"outlinewidth\": 0, \"ticks\": \"\"}, \"colorscale\": [[0.0, \"#0d0887\"], [0.1111111111111111, \"#46039f\"], [0.2222222222222222, \"#7201a8\"], [0.3333333333333333, \"#9c179e\"], [0.4444444444444444, \"#bd3786\"], [0.5555555555555556, \"#d8576b\"], [0.6666666666666666, \"#ed7953\"], [0.7777777777777778, \"#fb9f3a\"], [0.8888888888888888, \"#fdca26\"], [1.0, \"#f0f921\"]], \"type\": \"heatmap\"}], \"heatmapgl\": [{\"colorbar\": {\"outlinewidth\": 0, \"ticks\": \"\"}, \"colorscale\": [[0.0, \"#0d0887\"], [0.1111111111111111, \"#46039f\"], [0.2222222222222222, \"#7201a8\"], [0.3333333333333333, \"#9c179e\"], [0.4444444444444444, \"#bd3786\"], [0.5555555555555556, \"#d8576b\"], [0.6666666666666666, \"#ed7953\"], [0.7777777777777778, \"#fb9f3a\"], [0.8888888888888888, \"#fdca26\"], [1.0, \"#f0f921\"]], \"type\": \"heatmapgl\"}], \"histogram\": [{\"marker\": {\"colorbar\": {\"outlinewidth\": 0, \"ticks\": \"\"}}, \"type\": \"histogram\"}], \"histogram2d\": [{\"colorbar\": {\"outlinewidth\": 0, \"ticks\": \"\"}, \"colorscale\": [[0.0, \"#0d0887\"], [0.1111111111111111, \"#46039f\"], [0.2222222222222222, \"#7201a8\"], [0.3333333333333333, \"#9c179e\"], [0.4444444444444444, \"#bd3786\"], [0.5555555555555556, \"#d8576b\"], [0.6666666666666666, \"#ed7953\"], [0.7777777777777778, \"#fb9f3a\"], [0.8888888888888888, \"#fdca26\"], [1.0, \"#f0f921\"]], \"type\": \"histogram2d\"}], \"histogram2dcontour\": [{\"colorbar\": {\"outlinewidth\": 0, \"ticks\": \"\"}, \"colorscale\": [[0.0, \"#0d0887\"], [0.1111111111111111, \"#46039f\"], [0.2222222222222222, \"#7201a8\"], [0.3333333333333333, \"#9c179e\"], [0.4444444444444444, \"#bd3786\"], [0.5555555555555556, \"#d8576b\"], [0.6666666666666666, \"#ed7953\"], [0.7777777777777778, \"#fb9f3a\"], [0.8888888888888888, \"#fdca26\"], [1.0, \"#f0f921\"]], \"type\": \"histogram2dcontour\"}], \"mesh3d\": [{\"colorbar\": {\"outlinewidth\": 0, \"ticks\": \"\"}, \"type\": \"mesh3d\"}], \"parcoords\": [{\"line\": {\"colorbar\": {\"outlinewidth\": 0, \"ticks\": \"\"}}, \"type\": \"parcoords\"}], \"scatter\": [{\"marker\": {\"colorbar\": {\"outlinewidth\": 0, \"ticks\": \"\"}}, \"type\": \"scatter\"}], \"scatter3d\": [{\"line\": {\"colorbar\": {\"outlinewidth\": 0, \"ticks\": \"\"}}, \"marker\": {\"colorbar\": {\"outlinewidth\": 0, \"ticks\": \"\"}}, \"type\": \"scatter3d\"}], \"scattercarpet\": [{\"marker\": {\"colorbar\": {\"outlinewidth\": 0, \"ticks\": \"\"}}, \"type\": \"scattercarpet\"}], \"scattergeo\": [{\"marker\": {\"colorbar\": {\"outlinewidth\": 0, \"ticks\": \"\"}}, \"type\": \"scattergeo\"}], \"scattergl\": [{\"marker\": {\"colorbar\": {\"outlinewidth\": 0, \"ticks\": \"\"}}, \"type\": \"scattergl\"}], \"scattermapbox\": [{\"marker\": {\"colorbar\": {\"outlinewidth\": 0, \"ticks\": \"\"}}, \"type\": \"scattermapbox\"}], \"scatterpolar\": [{\"marker\": {\"colorbar\": {\"outlinewidth\": 0, \"ticks\": \"\"}}, \"type\": \"scatterpolar\"}], \"scatterpolargl\": [{\"marker\": {\"colorbar\": {\"outlinewidth\": 0, \"ticks\": \"\"}}, \"type\": \"scatterpolargl\"}], \"scatterternary\": [{\"marker\": {\"colorbar\": {\"outlinewidth\": 0, \"ticks\": \"\"}}, \"type\": \"scatterternary\"}], \"surface\": [{\"colorbar\": {\"outlinewidth\": 0, \"ticks\": \"\"}, \"colorscale\": [[0.0, \"#0d0887\"], [0.1111111111111111, \"#46039f\"], [0.2222222222222222, \"#7201a8\"], [0.3333333333333333, \"#9c179e\"], [0.4444444444444444, \"#bd3786\"], [0.5555555555555556, \"#d8576b\"], [0.6666666666666666, \"#ed7953\"], [0.7777777777777778, \"#fb9f3a\"], [0.8888888888888888, \"#fdca26\"], [1.0, \"#f0f921\"]], \"type\": \"surface\"}], \"table\": [{\"cells\": {\"fill\": {\"color\": \"#EBF0F8\"}, \"line\": {\"color\": \"white\"}}, \"header\": {\"fill\": {\"color\": \"#C8D4E3\"}, \"line\": {\"color\": \"white\"}}, \"type\": \"table\"}]}, \"layout\": {\"annotationdefaults\": {\"arrowcolor\": \"#2a3f5f\", \"arrowhead\": 0, \"arrowwidth\": 1}, \"colorscale\": {\"diverging\": [[0, \"#8e0152\"], [0.1, \"#c51b7d\"], [0.2, \"#de77ae\"], [0.3, \"#f1b6da\"], [0.4, \"#fde0ef\"], [0.5, \"#f7f7f7\"], [0.6, \"#e6f5d0\"], [0.7, \"#b8e186\"], [0.8, \"#7fbc41\"], [0.9, \"#4d9221\"], [1, \"#276419\"]], \"sequential\": [[0.0, \"#0d0887\"], [0.1111111111111111, \"#46039f\"], [0.2222222222222222, \"#7201a8\"], [0.3333333333333333, \"#9c179e\"], [0.4444444444444444, \"#bd3786\"], [0.5555555555555556, \"#d8576b\"], [0.6666666666666666, \"#ed7953\"], [0.7777777777777778, \"#fb9f3a\"], [0.8888888888888888, \"#fdca26\"], [1.0, \"#f0f921\"]], \"sequentialminus\": [[0.0, \"#0d0887\"], [0.1111111111111111, \"#46039f\"], [0.2222222222222222, \"#7201a8\"], [0.3333333333333333, \"#9c179e\"], [0.4444444444444444, \"#bd3786\"], [0.5555555555555556, \"#d8576b\"], [0.6666666666666666, \"#ed7953\"], [0.7777777777777778, \"#fb9f3a\"], [0.8888888888888888, \"#fdca26\"], [1.0, \"#f0f921\"]]}, \"colorway\": [\"#636efa\", \"#EF553B\", \"#00cc96\", \"#ab63fa\", \"#FFA15A\", \"#19d3f3\", \"#FF6692\", \"#B6E880\", \"#FF97FF\", \"#FECB52\"], \"font\": {\"color\": \"#2a3f5f\"}, \"geo\": {\"bgcolor\": \"white\", \"lakecolor\": \"white\", \"landcolor\": \"#E5ECF6\", \"showlakes\": true, \"showland\": true, \"subunitcolor\": \"white\"}, \"hoverlabel\": {\"align\": \"left\"}, \"hovermode\": \"closest\", \"mapbox\": {\"style\": \"light\"}, \"paper_bgcolor\": \"white\", \"plot_bgcolor\": \"#E5ECF6\", \"polar\": {\"angularaxis\": {\"gridcolor\": \"white\", \"linecolor\": \"white\", \"ticks\": \"\"}, \"bgcolor\": \"#E5ECF6\", \"radialaxis\": {\"gridcolor\": \"white\", \"linecolor\": \"white\", \"ticks\": \"\"}}, \"scene\": {\"xaxis\": {\"backgroundcolor\": \"#E5ECF6\", \"gridcolor\": \"white\", \"gridwidth\": 2, \"linecolor\": \"white\", \"showbackground\": true, \"ticks\": \"\", \"zerolinecolor\": \"white\"}, \"yaxis\": {\"backgroundcolor\": \"#E5ECF6\", \"gridcolor\": \"white\", \"gridwidth\": 2, \"linecolor\": \"white\", \"showbackground\": true, \"ticks\": \"\", \"zerolinecolor\": \"white\"}, \"zaxis\": {\"backgroundcolor\": \"#E5ECF6\", \"gridcolor\": \"white\", \"gridwidth\": 2, \"linecolor\": \"white\", \"showbackground\": true, \"ticks\": \"\", \"zerolinecolor\": \"white\"}}, \"shapedefaults\": {\"line\": {\"color\": \"#2a3f5f\"}}, \"ternary\": {\"aaxis\": {\"gridcolor\": \"white\", \"linecolor\": \"white\", \"ticks\": \"\"}, \"baxis\": {\"gridcolor\": \"white\", \"linecolor\": \"white\", \"ticks\": \"\"}, \"bgcolor\": \"#E5ECF6\", \"caxis\": {\"gridcolor\": \"white\", \"linecolor\": \"white\", \"ticks\": \"\"}}, \"title\": {\"x\": 0.05}, \"xaxis\": {\"automargin\": true, \"gridcolor\": \"white\", \"linecolor\": \"white\", \"ticks\": \"\", \"zerolinecolor\": \"white\", \"zerolinewidth\": 2}, \"yaxis\": {\"automargin\": true, \"gridcolor\": \"white\", \"linecolor\": \"white\", \"ticks\": \"\", \"zerolinecolor\": \"white\", \"zerolinewidth\": 2}}}, \"title\": {\"text\": \"Fitting the line through the data\"}, \"updatemenus\": [{\"buttons\": [{\"args\": [null], \"label\": \"Play\", \"method\": \"animate\"}], \"type\": \"buttons\"}], \"xaxis\": {\"autorange\": false, \"range\": [0, 6], \"zeroline\": false}, \"yaxis\": {\"autorange\": false, \"range\": [0, 6], \"zeroline\": false}},\n",
       "                        {\"responsive\": true}\n",
       "                    ).then(function(){\n",
       "                            Plotly.addFrames('ef9ea96a-f09b-4cb8-a779-64f12d0edcc8', [{\"data\": [{\"line\": {\"color\": \"red\", \"width\": 2}, \"mode\": \"lines\", \"x\": [1, 2, 3, 4, 5], \"y\": [0.0, 0.0, 0.0, 0.0, 0.0], \"type\": \"scatter\"}]}, {\"data\": [{\"line\": {\"color\": \"red\", \"width\": 2}, \"mode\": \"lines\", \"x\": [1, 2, 3, 4, 5], \"y\": [0.1, 0.2, 0.30000000000000004, 0.4, 0.5], \"type\": \"scatter\"}]}, {\"data\": [{\"line\": {\"color\": \"red\", \"width\": 2}, \"mode\": \"lines\", \"x\": [1, 2, 3, 4, 5], \"y\": [0.2, 0.4, 0.6000000000000001, 0.8, 1.0], \"type\": \"scatter\"}]}, {\"data\": [{\"line\": {\"color\": \"red\", \"width\": 2}, \"mode\": \"lines\", \"x\": [1, 2, 3, 4, 5], \"y\": [0.3, 0.6, 0.8999999999999999, 1.2, 1.5], \"type\": \"scatter\"}]}, {\"data\": [{\"line\": {\"color\": \"red\", \"width\": 2}, \"mode\": \"lines\", \"x\": [1, 2, 3, 4, 5], \"y\": [0.4, 0.8, 1.2000000000000002, 1.6, 2.0], \"type\": \"scatter\"}]}, {\"data\": [{\"line\": {\"color\": \"red\", \"width\": 2}, \"mode\": \"lines\", \"x\": [1, 2, 3, 4, 5], \"y\": [0.5, 1.0, 1.5, 2.0, 2.5], \"type\": \"scatter\"}]}, {\"data\": [{\"line\": {\"color\": \"red\", \"width\": 2}, \"mode\": \"lines\", \"x\": [1, 2, 3, 4, 5], \"y\": [0.6, 1.2, 1.7999999999999998, 2.4, 3.0], \"type\": \"scatter\"}]}, {\"data\": [{\"line\": {\"color\": \"red\", \"width\": 2}, \"mode\": \"lines\", \"x\": [1, 2, 3, 4, 5], \"y\": [0.7, 1.4, 2.0999999999999996, 2.8, 3.5], \"type\": \"scatter\"}]}, {\"data\": [{\"line\": {\"color\": \"red\", \"width\": 2}, \"mode\": \"lines\", \"x\": [1, 2, 3, 4, 5], \"y\": [0.8, 1.6, 2.4000000000000004, 3.2, 4.0], \"type\": \"scatter\"}]}, {\"data\": [{\"line\": {\"color\": \"red\", \"width\": 2}, \"mode\": \"lines\", \"x\": [1, 2, 3, 4, 5], \"y\": [0.9, 1.8, 2.7, 3.6, 4.5], \"type\": \"scatter\"}]}, {\"data\": [{\"line\": {\"color\": \"red\", \"width\": 2}, \"mode\": \"lines\", \"x\": [1, 2, 3, 4, 5], \"y\": [1.0, 2.0, 3.0, 4.0, 5.0], \"type\": \"scatter\"}]}, {\"data\": [{\"line\": {\"color\": \"red\", \"width\": 2}, \"mode\": \"lines\", \"x\": [1, 2, 3, 4, 5], \"y\": [1.1, 2.2, 3.3000000000000003, 4.4, 5.5], \"type\": \"scatter\"}]}, {\"data\": [{\"line\": {\"color\": \"red\", \"width\": 2}, \"mode\": \"lines\", \"x\": [1, 2, 3, 4, 5], \"y\": [1.2, 2.4, 3.5999999999999996, 4.8, 6.0], \"type\": \"scatter\"}]}, {\"data\": [{\"line\": {\"color\": \"red\", \"width\": 2}, \"mode\": \"lines\", \"x\": [1, 2, 3, 4, 5], \"y\": [1.3, 2.6, 3.9000000000000004, 5.2, 6.5], \"type\": \"scatter\"}]}, {\"data\": [{\"line\": {\"color\": \"red\", \"width\": 2}, \"mode\": \"lines\", \"x\": [1, 2, 3, 4, 5], \"y\": [1.4, 2.8, 4.199999999999999, 5.6, 7.0], \"type\": \"scatter\"}]}, {\"data\": [{\"line\": {\"color\": \"red\", \"width\": 2}, \"mode\": \"lines\", \"x\": [1, 2, 3, 4, 5], \"y\": [1.5, 3.0, 4.5, 6.0, 7.5], \"type\": \"scatter\"}]}, {\"data\": [{\"line\": {\"color\": \"red\", \"width\": 2}, \"mode\": \"lines\", \"x\": [1, 2, 3, 4, 5], \"y\": [1.6, 3.2, 4.800000000000001, 6.4, 8.0], \"type\": \"scatter\"}]}, {\"data\": [{\"line\": {\"color\": \"red\", \"width\": 2}, \"mode\": \"lines\", \"x\": [1, 2, 3, 4, 5], \"y\": [1.7, 3.4, 5.1, 6.8, 8.5], \"type\": \"scatter\"}]}, {\"data\": [{\"line\": {\"color\": \"red\", \"width\": 2}, \"mode\": \"lines\", \"x\": [1, 2, 3, 4, 5], \"y\": [1.8, 3.6, 5.4, 7.2, 9.0], \"type\": \"scatter\"}]}, {\"data\": [{\"line\": {\"color\": \"red\", \"width\": 2}, \"mode\": \"lines\", \"x\": [1, 2, 3, 4, 5], \"y\": [1.9, 3.8, 5.699999999999999, 7.6, 9.5], \"type\": \"scatter\"}]}]);\n",
       "                        }).then(function(){\n",
       "                            \n",
       "var gd = document.getElementById('ef9ea96a-f09b-4cb8-a779-64f12d0edcc8');\n",
       "var x = new MutationObserver(function (mutations, observer) {{\n",
       "        var display = window.getComputedStyle(gd).display;\n",
       "        if (!display || display === 'none') {{\n",
       "            console.log([gd, 'removed!']);\n",
       "            Plotly.purge(gd);\n",
       "            observer.disconnect();\n",
       "        }}\n",
       "}});\n",
       "\n",
       "// Listen for the removal of the full notebook cells\n",
       "var notebookContainer = gd.closest('#notebook-container');\n",
       "if (notebookContainer) {{\n",
       "    x.observe(notebookContainer, {childList: true});\n",
       "}}\n",
       "\n",
       "// Listen for the clearing of the current output cell\n",
       "var outputEl = gd.closest('.output');\n",
       "if (outputEl) {{\n",
       "    x.observe(outputEl, {childList: true});\n",
       "}}\n",
       "\n",
       "                        })\n",
       "                };\n",
       "                });\n",
       "            </script>\n",
       "        </div>"
      ]
     },
     "metadata": {},
     "output_type": "display_data"
    }
   ],
   "source": [
    "fig = go.Figure(\n",
    "    data=[go.Scatter(x=x.reshape(len(x)), y=y,\n",
    "                     mode=\"markers\",\n",
    "                     name='Linar-model',\n",
    "                     line=dict(width=2, color=\"blue\")),\n",
    "          go.Scatter(x=x.reshape(len(x)), y=y,\n",
    "                     mode=\"markers\",\n",
    "                     name='Data',\n",
    "                     line=dict(width=2, color=\"blue\"))],\n",
    "    layout=go.Layout(\n",
    "        xaxis=dict(range=[0, 6], autorange=False, zeroline=False),\n",
    "        yaxis=dict(range=[0, 6], autorange=False, zeroline=False),\n",
    "        title_text=\"Fitting the line through the data\", hovermode=\"closest\",\n",
    "        updatemenus=[dict(type=\"buttons\",\n",
    "                          buttons=[dict(label=\"Play\",\n",
    "                                        method=\"animate\",\n",
    "                                        args=[None])])]),\n",
    "      frames=[go.Frame(\n",
    "        data=[go.Scatter(\n",
    "            x=x.reshape(len(x)),\n",
    "            y=y_predicted[k],\n",
    "            mode=\"lines\",\n",
    "            line=dict(color=\"red\", width=2))\n",
    "        ]) for k in range(20)]\n",
    ")\n",
    "\n",
    "fig.show()"
   ]
  },
  {
   "cell_type": "markdown",
   "metadata": {},
   "source": [
    "    The above graph show how a line is fitted through the data. The below graph show the error in the original and the predicted data as the line changes its possitions."
   ]
  },
  {
   "cell_type": "code",
   "execution_count": 347,
   "metadata": {},
   "outputs": [
    {
     "data": {
      "application/vnd.plotly.v1+json": {
       "config": {
        "plotlyServerURL": "https://plot.ly"
       },
       "data": [
        {
         "line": {
          "color": "blue",
          "width": 2
         },
         "mode": "markers",
         "type": "scatter",
         "x": [
          0,
          0.1,
          0.2
         ],
         "y": [
          5.5,
          4.455,
          3.5200000000000005
         ]
        }
       ],
       "frames": [
        {
         "data": [
          {
           "line": {
            "color": "red",
            "width": 2
           },
           "mode": "lines",
           "type": "scatter",
           "x": [
            0,
            0.1,
            0.2
           ],
           "y": [
            5.5,
            4.455,
            3.5200000000000005
           ]
          }
         ]
        },
        {
         "data": [
          {
           "line": {
            "color": "red",
            "width": 2
           },
           "mode": "lines",
           "type": "scatter",
           "x": [
            0,
            0.1,
            0.2,
            0.3
           ],
           "y": [
            5.5,
            4.455,
            3.5200000000000005,
            2.695
           ]
          }
         ]
        },
        {
         "data": [
          {
           "line": {
            "color": "red",
            "width": 2
           },
           "mode": "lines",
           "type": "scatter",
           "x": [
            0,
            0.1,
            0.2,
            0.3,
            0.4
           ],
           "y": [
            5.5,
            4.455,
            3.5200000000000005,
            2.695,
            1.9799999999999998
           ]
          }
         ]
        },
        {
         "data": [
          {
           "line": {
            "color": "red",
            "width": 2
           },
           "mode": "lines",
           "type": "scatter",
           "x": [
            0,
            0.1,
            0.2,
            0.3,
            0.4,
            0.5
           ],
           "y": [
            5.5,
            4.455,
            3.5200000000000005,
            2.695,
            1.9799999999999998,
            1.375
           ]
          }
         ]
        },
        {
         "data": [
          {
           "line": {
            "color": "red",
            "width": 2
           },
           "mode": "lines",
           "type": "scatter",
           "x": [
            0,
            0.1,
            0.2,
            0.3,
            0.4,
            0.5,
            0.6
           ],
           "y": [
            5.5,
            4.455,
            3.5200000000000005,
            2.695,
            1.9799999999999998,
            1.375,
            0.8800000000000001
           ]
          }
         ]
        },
        {
         "data": [
          {
           "line": {
            "color": "red",
            "width": 2
           },
           "mode": "lines",
           "type": "scatter",
           "x": [
            0,
            0.1,
            0.2,
            0.3,
            0.4,
            0.5,
            0.6,
            0.7
           ],
           "y": [
            5.5,
            4.455,
            3.5200000000000005,
            2.695,
            1.9799999999999998,
            1.375,
            0.8800000000000001,
            0.4950000000000001
           ]
          }
         ]
        },
        {
         "data": [
          {
           "line": {
            "color": "red",
            "width": 2
           },
           "mode": "lines",
           "type": "scatter",
           "x": [
            0,
            0.1,
            0.2,
            0.3,
            0.4,
            0.5,
            0.6,
            0.7,
            0.8
           ],
           "y": [
            5.5,
            4.455,
            3.5200000000000005,
            2.695,
            1.9799999999999998,
            1.375,
            0.8800000000000001,
            0.4950000000000001,
            0.21999999999999992
           ]
          }
         ]
        },
        {
         "data": [
          {
           "line": {
            "color": "red",
            "width": 2
           },
           "mode": "lines",
           "type": "scatter",
           "x": [
            0,
            0.1,
            0.2,
            0.3,
            0.4,
            0.5,
            0.6,
            0.7,
            0.8,
            0.9
           ],
           "y": [
            5.5,
            4.455,
            3.5200000000000005,
            2.695,
            1.9799999999999998,
            1.375,
            0.8800000000000001,
            0.4950000000000001,
            0.21999999999999992,
            0.05499999999999998
           ]
          }
         ]
        },
        {
         "data": [
          {
           "line": {
            "color": "red",
            "width": 2
           },
           "mode": "lines",
           "type": "scatter",
           "x": [
            0,
            0.1,
            0.2,
            0.3,
            0.4,
            0.5,
            0.6,
            0.7,
            0.8,
            0.9,
            1
           ],
           "y": [
            5.5,
            4.455,
            3.5200000000000005,
            2.695,
            1.9799999999999998,
            1.375,
            0.8800000000000001,
            0.4950000000000001,
            0.21999999999999992,
            0.05499999999999998,
            0
           ]
          }
         ]
        },
        {
         "data": [
          {
           "line": {
            "color": "red",
            "width": 2
           },
           "mode": "lines",
           "type": "scatter",
           "x": [
            0,
            0.1,
            0.2,
            0.3,
            0.4,
            0.5,
            0.6,
            0.7,
            0.8,
            0.9,
            1,
            1.1
           ],
           "y": [
            5.5,
            4.455,
            3.5200000000000005,
            2.695,
            1.9799999999999998,
            1.375,
            0.8800000000000001,
            0.4950000000000001,
            0.21999999999999992,
            0.05499999999999998,
            0,
            0.05500000000000005
           ]
          }
         ]
        },
        {
         "data": [
          {
           "line": {
            "color": "red",
            "width": 2
           },
           "mode": "lines",
           "type": "scatter",
           "x": [
            0,
            0.1,
            0.2,
            0.3,
            0.4,
            0.5,
            0.6,
            0.7,
            0.8,
            0.9,
            1,
            1.1,
            1.2
           ],
           "y": [
            5.5,
            4.455,
            3.5200000000000005,
            2.695,
            1.9799999999999998,
            1.375,
            0.8800000000000001,
            0.4950000000000001,
            0.21999999999999992,
            0.05499999999999998,
            0,
            0.05500000000000005,
            0.21999999999999992
           ]
          }
         ]
        },
        {
         "data": [
          {
           "line": {
            "color": "red",
            "width": 2
           },
           "mode": "lines",
           "type": "scatter",
           "x": [
            0,
            0.1,
            0.2,
            0.3,
            0.4,
            0.5,
            0.6,
            0.7,
            0.8,
            0.9,
            1,
            1.1,
            1.2,
            1.3
           ],
           "y": [
            5.5,
            4.455,
            3.5200000000000005,
            2.695,
            1.9799999999999998,
            1.375,
            0.8800000000000001,
            0.4950000000000001,
            0.21999999999999992,
            0.05499999999999998,
            0,
            0.05500000000000005,
            0.21999999999999992,
            0.4950000000000001
           ]
          }
         ]
        },
        {
         "data": [
          {
           "line": {
            "color": "red",
            "width": 2
           },
           "mode": "lines",
           "type": "scatter",
           "x": [
            0,
            0.1,
            0.2,
            0.3,
            0.4,
            0.5,
            0.6,
            0.7,
            0.8,
            0.9,
            1,
            1.1,
            1.2,
            1.3,
            1.4
           ],
           "y": [
            5.5,
            4.455,
            3.5200000000000005,
            2.695,
            1.9799999999999998,
            1.375,
            0.8800000000000001,
            0.4950000000000001,
            0.21999999999999992,
            0.05499999999999998,
            0,
            0.05500000000000005,
            0.21999999999999992,
            0.4950000000000001,
            0.8799999999999997
           ]
          }
         ]
        },
        {
         "data": [
          {
           "line": {
            "color": "red",
            "width": 2
           },
           "mode": "lines",
           "type": "scatter",
           "x": [
            0,
            0.1,
            0.2,
            0.3,
            0.4,
            0.5,
            0.6,
            0.7,
            0.8,
            0.9,
            1,
            1.1,
            1.2,
            1.3,
            1.4,
            1.5
           ],
           "y": [
            5.5,
            4.455,
            3.5200000000000005,
            2.695,
            1.9799999999999998,
            1.375,
            0.8800000000000001,
            0.4950000000000001,
            0.21999999999999992,
            0.05499999999999998,
            0,
            0.05500000000000005,
            0.21999999999999992,
            0.4950000000000001,
            0.8799999999999997,
            1.375
           ]
          }
         ]
        },
        {
         "data": [
          {
           "line": {
            "color": "red",
            "width": 2
           },
           "mode": "lines",
           "type": "scatter",
           "x": [
            0,
            0.1,
            0.2,
            0.3,
            0.4,
            0.5,
            0.6,
            0.7,
            0.8,
            0.9,
            1,
            1.1,
            1.2,
            1.3,
            1.4,
            1.5,
            1.6
           ],
           "y": [
            5.5,
            4.455,
            3.5200000000000005,
            2.695,
            1.9799999999999998,
            1.375,
            0.8800000000000001,
            0.4950000000000001,
            0.21999999999999992,
            0.05499999999999998,
            0,
            0.05500000000000005,
            0.21999999999999992,
            0.4950000000000001,
            0.8799999999999997,
            1.375,
            1.9800000000000004
           ]
          }
         ]
        },
        {
         "data": [
          {
           "line": {
            "color": "red",
            "width": 2
           },
           "mode": "lines",
           "type": "scatter",
           "x": [
            0,
            0.1,
            0.2,
            0.3,
            0.4,
            0.5,
            0.6,
            0.7,
            0.8,
            0.9,
            1,
            1.1,
            1.2,
            1.3,
            1.4,
            1.5,
            1.6,
            1.7
           ],
           "y": [
            5.5,
            4.455,
            3.5200000000000005,
            2.695,
            1.9799999999999998,
            1.375,
            0.8800000000000001,
            0.4950000000000001,
            0.21999999999999992,
            0.05499999999999998,
            0,
            0.05500000000000005,
            0.21999999999999992,
            0.4950000000000001,
            0.8799999999999997,
            1.375,
            1.9800000000000004,
            2.6949999999999994
           ]
          }
         ]
        },
        {
         "data": [
          {
           "line": {
            "color": "red",
            "width": 2
           },
           "mode": "lines",
           "type": "scatter",
           "x": [
            0,
            0.1,
            0.2,
            0.3,
            0.4,
            0.5,
            0.6,
            0.7,
            0.8,
            0.9,
            1,
            1.1,
            1.2,
            1.3,
            1.4,
            1.5,
            1.6,
            1.7,
            1.8
           ],
           "y": [
            5.5,
            4.455,
            3.5200000000000005,
            2.695,
            1.9799999999999998,
            1.375,
            0.8800000000000001,
            0.4950000000000001,
            0.21999999999999992,
            0.05499999999999998,
            0,
            0.05500000000000005,
            0.21999999999999992,
            0.4950000000000001,
            0.8799999999999997,
            1.375,
            1.9800000000000004,
            2.6949999999999994,
            3.5200000000000005
           ]
          }
         ]
        }
       ],
       "layout": {
        "hovermode": "closest",
        "template": {
         "data": {
          "bar": [
           {
            "error_x": {
             "color": "#2a3f5f"
            },
            "error_y": {
             "color": "#2a3f5f"
            },
            "marker": {
             "line": {
              "color": "#E5ECF6",
              "width": 0.5
             }
            },
            "type": "bar"
           }
          ],
          "barpolar": [
           {
            "marker": {
             "line": {
              "color": "#E5ECF6",
              "width": 0.5
             }
            },
            "type": "barpolar"
           }
          ],
          "carpet": [
           {
            "aaxis": {
             "endlinecolor": "#2a3f5f",
             "gridcolor": "white",
             "linecolor": "white",
             "minorgridcolor": "white",
             "startlinecolor": "#2a3f5f"
            },
            "baxis": {
             "endlinecolor": "#2a3f5f",
             "gridcolor": "white",
             "linecolor": "white",
             "minorgridcolor": "white",
             "startlinecolor": "#2a3f5f"
            },
            "type": "carpet"
           }
          ],
          "choropleth": [
           {
            "colorbar": {
             "outlinewidth": 0,
             "ticks": ""
            },
            "type": "choropleth"
           }
          ],
          "contour": [
           {
            "colorbar": {
             "outlinewidth": 0,
             "ticks": ""
            },
            "colorscale": [
             [
              0,
              "#0d0887"
             ],
             [
              0.1111111111111111,
              "#46039f"
             ],
             [
              0.2222222222222222,
              "#7201a8"
             ],
             [
              0.3333333333333333,
              "#9c179e"
             ],
             [
              0.4444444444444444,
              "#bd3786"
             ],
             [
              0.5555555555555556,
              "#d8576b"
             ],
             [
              0.6666666666666666,
              "#ed7953"
             ],
             [
              0.7777777777777778,
              "#fb9f3a"
             ],
             [
              0.8888888888888888,
              "#fdca26"
             ],
             [
              1,
              "#f0f921"
             ]
            ],
            "type": "contour"
           }
          ],
          "contourcarpet": [
           {
            "colorbar": {
             "outlinewidth": 0,
             "ticks": ""
            },
            "type": "contourcarpet"
           }
          ],
          "heatmap": [
           {
            "colorbar": {
             "outlinewidth": 0,
             "ticks": ""
            },
            "colorscale": [
             [
              0,
              "#0d0887"
             ],
             [
              0.1111111111111111,
              "#46039f"
             ],
             [
              0.2222222222222222,
              "#7201a8"
             ],
             [
              0.3333333333333333,
              "#9c179e"
             ],
             [
              0.4444444444444444,
              "#bd3786"
             ],
             [
              0.5555555555555556,
              "#d8576b"
             ],
             [
              0.6666666666666666,
              "#ed7953"
             ],
             [
              0.7777777777777778,
              "#fb9f3a"
             ],
             [
              0.8888888888888888,
              "#fdca26"
             ],
             [
              1,
              "#f0f921"
             ]
            ],
            "type": "heatmap"
           }
          ],
          "heatmapgl": [
           {
            "colorbar": {
             "outlinewidth": 0,
             "ticks": ""
            },
            "colorscale": [
             [
              0,
              "#0d0887"
             ],
             [
              0.1111111111111111,
              "#46039f"
             ],
             [
              0.2222222222222222,
              "#7201a8"
             ],
             [
              0.3333333333333333,
              "#9c179e"
             ],
             [
              0.4444444444444444,
              "#bd3786"
             ],
             [
              0.5555555555555556,
              "#d8576b"
             ],
             [
              0.6666666666666666,
              "#ed7953"
             ],
             [
              0.7777777777777778,
              "#fb9f3a"
             ],
             [
              0.8888888888888888,
              "#fdca26"
             ],
             [
              1,
              "#f0f921"
             ]
            ],
            "type": "heatmapgl"
           }
          ],
          "histogram": [
           {
            "marker": {
             "colorbar": {
              "outlinewidth": 0,
              "ticks": ""
             }
            },
            "type": "histogram"
           }
          ],
          "histogram2d": [
           {
            "colorbar": {
             "outlinewidth": 0,
             "ticks": ""
            },
            "colorscale": [
             [
              0,
              "#0d0887"
             ],
             [
              0.1111111111111111,
              "#46039f"
             ],
             [
              0.2222222222222222,
              "#7201a8"
             ],
             [
              0.3333333333333333,
              "#9c179e"
             ],
             [
              0.4444444444444444,
              "#bd3786"
             ],
             [
              0.5555555555555556,
              "#d8576b"
             ],
             [
              0.6666666666666666,
              "#ed7953"
             ],
             [
              0.7777777777777778,
              "#fb9f3a"
             ],
             [
              0.8888888888888888,
              "#fdca26"
             ],
             [
              1,
              "#f0f921"
             ]
            ],
            "type": "histogram2d"
           }
          ],
          "histogram2dcontour": [
           {
            "colorbar": {
             "outlinewidth": 0,
             "ticks": ""
            },
            "colorscale": [
             [
              0,
              "#0d0887"
             ],
             [
              0.1111111111111111,
              "#46039f"
             ],
             [
              0.2222222222222222,
              "#7201a8"
             ],
             [
              0.3333333333333333,
              "#9c179e"
             ],
             [
              0.4444444444444444,
              "#bd3786"
             ],
             [
              0.5555555555555556,
              "#d8576b"
             ],
             [
              0.6666666666666666,
              "#ed7953"
             ],
             [
              0.7777777777777778,
              "#fb9f3a"
             ],
             [
              0.8888888888888888,
              "#fdca26"
             ],
             [
              1,
              "#f0f921"
             ]
            ],
            "type": "histogram2dcontour"
           }
          ],
          "mesh3d": [
           {
            "colorbar": {
             "outlinewidth": 0,
             "ticks": ""
            },
            "type": "mesh3d"
           }
          ],
          "parcoords": [
           {
            "line": {
             "colorbar": {
              "outlinewidth": 0,
              "ticks": ""
             }
            },
            "type": "parcoords"
           }
          ],
          "scatter": [
           {
            "marker": {
             "colorbar": {
              "outlinewidth": 0,
              "ticks": ""
             }
            },
            "type": "scatter"
           }
          ],
          "scatter3d": [
           {
            "line": {
             "colorbar": {
              "outlinewidth": 0,
              "ticks": ""
             }
            },
            "marker": {
             "colorbar": {
              "outlinewidth": 0,
              "ticks": ""
             }
            },
            "type": "scatter3d"
           }
          ],
          "scattercarpet": [
           {
            "marker": {
             "colorbar": {
              "outlinewidth": 0,
              "ticks": ""
             }
            },
            "type": "scattercarpet"
           }
          ],
          "scattergeo": [
           {
            "marker": {
             "colorbar": {
              "outlinewidth": 0,
              "ticks": ""
             }
            },
            "type": "scattergeo"
           }
          ],
          "scattergl": [
           {
            "marker": {
             "colorbar": {
              "outlinewidth": 0,
              "ticks": ""
             }
            },
            "type": "scattergl"
           }
          ],
          "scattermapbox": [
           {
            "marker": {
             "colorbar": {
              "outlinewidth": 0,
              "ticks": ""
             }
            },
            "type": "scattermapbox"
           }
          ],
          "scatterpolar": [
           {
            "marker": {
             "colorbar": {
              "outlinewidth": 0,
              "ticks": ""
             }
            },
            "type": "scatterpolar"
           }
          ],
          "scatterpolargl": [
           {
            "marker": {
             "colorbar": {
              "outlinewidth": 0,
              "ticks": ""
             }
            },
            "type": "scatterpolargl"
           }
          ],
          "scatterternary": [
           {
            "marker": {
             "colorbar": {
              "outlinewidth": 0,
              "ticks": ""
             }
            },
            "type": "scatterternary"
           }
          ],
          "surface": [
           {
            "colorbar": {
             "outlinewidth": 0,
             "ticks": ""
            },
            "colorscale": [
             [
              0,
              "#0d0887"
             ],
             [
              0.1111111111111111,
              "#46039f"
             ],
             [
              0.2222222222222222,
              "#7201a8"
             ],
             [
              0.3333333333333333,
              "#9c179e"
             ],
             [
              0.4444444444444444,
              "#bd3786"
             ],
             [
              0.5555555555555556,
              "#d8576b"
             ],
             [
              0.6666666666666666,
              "#ed7953"
             ],
             [
              0.7777777777777778,
              "#fb9f3a"
             ],
             [
              0.8888888888888888,
              "#fdca26"
             ],
             [
              1,
              "#f0f921"
             ]
            ],
            "type": "surface"
           }
          ],
          "table": [
           {
            "cells": {
             "fill": {
              "color": "#EBF0F8"
             },
             "line": {
              "color": "white"
             }
            },
            "header": {
             "fill": {
              "color": "#C8D4E3"
             },
             "line": {
              "color": "white"
             }
            },
            "type": "table"
           }
          ]
         },
         "layout": {
          "annotationdefaults": {
           "arrowcolor": "#2a3f5f",
           "arrowhead": 0,
           "arrowwidth": 1
          },
          "colorscale": {
           "diverging": [
            [
             0,
             "#8e0152"
            ],
            [
             0.1,
             "#c51b7d"
            ],
            [
             0.2,
             "#de77ae"
            ],
            [
             0.3,
             "#f1b6da"
            ],
            [
             0.4,
             "#fde0ef"
            ],
            [
             0.5,
             "#f7f7f7"
            ],
            [
             0.6,
             "#e6f5d0"
            ],
            [
             0.7,
             "#b8e186"
            ],
            [
             0.8,
             "#7fbc41"
            ],
            [
             0.9,
             "#4d9221"
            ],
            [
             1,
             "#276419"
            ]
           ],
           "sequential": [
            [
             0,
             "#0d0887"
            ],
            [
             0.1111111111111111,
             "#46039f"
            ],
            [
             0.2222222222222222,
             "#7201a8"
            ],
            [
             0.3333333333333333,
             "#9c179e"
            ],
            [
             0.4444444444444444,
             "#bd3786"
            ],
            [
             0.5555555555555556,
             "#d8576b"
            ],
            [
             0.6666666666666666,
             "#ed7953"
            ],
            [
             0.7777777777777778,
             "#fb9f3a"
            ],
            [
             0.8888888888888888,
             "#fdca26"
            ],
            [
             1,
             "#f0f921"
            ]
           ],
           "sequentialminus": [
            [
             0,
             "#0d0887"
            ],
            [
             0.1111111111111111,
             "#46039f"
            ],
            [
             0.2222222222222222,
             "#7201a8"
            ],
            [
             0.3333333333333333,
             "#9c179e"
            ],
            [
             0.4444444444444444,
             "#bd3786"
            ],
            [
             0.5555555555555556,
             "#d8576b"
            ],
            [
             0.6666666666666666,
             "#ed7953"
            ],
            [
             0.7777777777777778,
             "#fb9f3a"
            ],
            [
             0.8888888888888888,
             "#fdca26"
            ],
            [
             1,
             "#f0f921"
            ]
           ]
          },
          "colorway": [
           "#636efa",
           "#EF553B",
           "#00cc96",
           "#ab63fa",
           "#FFA15A",
           "#19d3f3",
           "#FF6692",
           "#B6E880",
           "#FF97FF",
           "#FECB52"
          ],
          "font": {
           "color": "#2a3f5f"
          },
          "geo": {
           "bgcolor": "white",
           "lakecolor": "white",
           "landcolor": "#E5ECF6",
           "showlakes": true,
           "showland": true,
           "subunitcolor": "white"
          },
          "hoverlabel": {
           "align": "left"
          },
          "hovermode": "closest",
          "mapbox": {
           "style": "light"
          },
          "paper_bgcolor": "white",
          "plot_bgcolor": "#E5ECF6",
          "polar": {
           "angularaxis": {
            "gridcolor": "white",
            "linecolor": "white",
            "ticks": ""
           },
           "bgcolor": "#E5ECF6",
           "radialaxis": {
            "gridcolor": "white",
            "linecolor": "white",
            "ticks": ""
           }
          },
          "scene": {
           "xaxis": {
            "backgroundcolor": "#E5ECF6",
            "gridcolor": "white",
            "gridwidth": 2,
            "linecolor": "white",
            "showbackground": true,
            "ticks": "",
            "zerolinecolor": "white"
           },
           "yaxis": {
            "backgroundcolor": "#E5ECF6",
            "gridcolor": "white",
            "gridwidth": 2,
            "linecolor": "white",
            "showbackground": true,
            "ticks": "",
            "zerolinecolor": "white"
           },
           "zaxis": {
            "backgroundcolor": "#E5ECF6",
            "gridcolor": "white",
            "gridwidth": 2,
            "linecolor": "white",
            "showbackground": true,
            "ticks": "",
            "zerolinecolor": "white"
           }
          },
          "shapedefaults": {
           "line": {
            "color": "#2a3f5f"
           }
          },
          "ternary": {
           "aaxis": {
            "gridcolor": "white",
            "linecolor": "white",
            "ticks": ""
           },
           "baxis": {
            "gridcolor": "white",
            "linecolor": "white",
            "ticks": ""
           },
           "bgcolor": "#E5ECF6",
           "caxis": {
            "gridcolor": "white",
            "linecolor": "white",
            "ticks": ""
           }
          },
          "title": {
           "x": 0.05
          },
          "xaxis": {
           "automargin": true,
           "gridcolor": "white",
           "linecolor": "white",
           "ticks": "",
           "zerolinecolor": "white",
           "zerolinewidth": 2
          },
          "yaxis": {
           "automargin": true,
           "gridcolor": "white",
           "linecolor": "white",
           "ticks": "",
           "zerolinecolor": "white",
           "zerolinewidth": 2
          }
         }
        },
        "title": {
         "text": "The cost "
        },
        "updatemenus": [
         {
          "buttons": [
           {
            "args": [
             null
            ],
            "label": "Play",
            "method": "animate"
           }
          ],
          "type": "buttons"
         }
        ],
        "xaxis": {
         "autorange": false,
         "range": [
          0,
          2
         ],
         "zeroline": false
        },
        "yaxis": {
         "autorange": false,
         "range": [
          0,
          3
         ],
         "zeroline": false
        }
       }
      },
      "text/html": [
       "<div>\n",
       "        \n",
       "        \n",
       "            <div id=\"e721212f-a4e8-42e3-8975-df1938281afe\" class=\"plotly-graph-div\" style=\"height:525px; width:100%;\"></div>\n",
       "            <script type=\"text/javascript\">\n",
       "                require([\"plotly\"], function(Plotly) {\n",
       "                    window.PLOTLYENV=window.PLOTLYENV || {};\n",
       "                    \n",
       "                if (document.getElementById(\"e721212f-a4e8-42e3-8975-df1938281afe\")) {\n",
       "                    Plotly.newPlot(\n",
       "                        'e721212f-a4e8-42e3-8975-df1938281afe',\n",
       "                        [{\"line\": {\"color\": \"blue\", \"width\": 2}, \"mode\": \"markers\", \"type\": \"scatter\", \"x\": [0.0, 0.1, 0.2], \"y\": [5.5, 4.455, 3.5200000000000005]}],\n",
       "                        {\"hovermode\": \"closest\", \"template\": {\"data\": {\"bar\": [{\"error_x\": {\"color\": \"#2a3f5f\"}, \"error_y\": {\"color\": \"#2a3f5f\"}, \"marker\": {\"line\": {\"color\": \"#E5ECF6\", \"width\": 0.5}}, \"type\": \"bar\"}], \"barpolar\": [{\"marker\": {\"line\": {\"color\": \"#E5ECF6\", \"width\": 0.5}}, \"type\": \"barpolar\"}], \"carpet\": [{\"aaxis\": {\"endlinecolor\": \"#2a3f5f\", \"gridcolor\": \"white\", \"linecolor\": \"white\", \"minorgridcolor\": \"white\", \"startlinecolor\": \"#2a3f5f\"}, \"baxis\": {\"endlinecolor\": \"#2a3f5f\", \"gridcolor\": \"white\", \"linecolor\": \"white\", \"minorgridcolor\": \"white\", \"startlinecolor\": \"#2a3f5f\"}, \"type\": \"carpet\"}], \"choropleth\": [{\"colorbar\": {\"outlinewidth\": 0, \"ticks\": \"\"}, \"type\": \"choropleth\"}], \"contour\": [{\"colorbar\": {\"outlinewidth\": 0, \"ticks\": \"\"}, \"colorscale\": [[0.0, \"#0d0887\"], [0.1111111111111111, \"#46039f\"], [0.2222222222222222, \"#7201a8\"], [0.3333333333333333, \"#9c179e\"], [0.4444444444444444, \"#bd3786\"], [0.5555555555555556, \"#d8576b\"], [0.6666666666666666, \"#ed7953\"], [0.7777777777777778, \"#fb9f3a\"], [0.8888888888888888, \"#fdca26\"], [1.0, \"#f0f921\"]], \"type\": \"contour\"}], \"contourcarpet\": [{\"colorbar\": {\"outlinewidth\": 0, \"ticks\": \"\"}, \"type\": \"contourcarpet\"}], \"heatmap\": [{\"colorbar\": {\"outlinewidth\": 0, \"ticks\": \"\"}, \"colorscale\": [[0.0, \"#0d0887\"], [0.1111111111111111, \"#46039f\"], [0.2222222222222222, \"#7201a8\"], [0.3333333333333333, \"#9c179e\"], [0.4444444444444444, \"#bd3786\"], [0.5555555555555556, \"#d8576b\"], [0.6666666666666666, \"#ed7953\"], [0.7777777777777778, \"#fb9f3a\"], [0.8888888888888888, \"#fdca26\"], [1.0, \"#f0f921\"]], \"type\": \"heatmap\"}], \"heatmapgl\": [{\"colorbar\": {\"outlinewidth\": 0, \"ticks\": \"\"}, \"colorscale\": [[0.0, \"#0d0887\"], [0.1111111111111111, \"#46039f\"], [0.2222222222222222, \"#7201a8\"], [0.3333333333333333, \"#9c179e\"], [0.4444444444444444, \"#bd3786\"], [0.5555555555555556, \"#d8576b\"], [0.6666666666666666, \"#ed7953\"], [0.7777777777777778, \"#fb9f3a\"], [0.8888888888888888, \"#fdca26\"], [1.0, \"#f0f921\"]], \"type\": \"heatmapgl\"}], \"histogram\": [{\"marker\": {\"colorbar\": {\"outlinewidth\": 0, \"ticks\": \"\"}}, \"type\": \"histogram\"}], \"histogram2d\": [{\"colorbar\": {\"outlinewidth\": 0, \"ticks\": \"\"}, \"colorscale\": [[0.0, \"#0d0887\"], [0.1111111111111111, \"#46039f\"], [0.2222222222222222, \"#7201a8\"], [0.3333333333333333, \"#9c179e\"], [0.4444444444444444, \"#bd3786\"], [0.5555555555555556, \"#d8576b\"], [0.6666666666666666, \"#ed7953\"], [0.7777777777777778, \"#fb9f3a\"], [0.8888888888888888, \"#fdca26\"], [1.0, \"#f0f921\"]], \"type\": \"histogram2d\"}], \"histogram2dcontour\": [{\"colorbar\": {\"outlinewidth\": 0, \"ticks\": \"\"}, \"colorscale\": [[0.0, \"#0d0887\"], [0.1111111111111111, \"#46039f\"], [0.2222222222222222, \"#7201a8\"], [0.3333333333333333, \"#9c179e\"], [0.4444444444444444, \"#bd3786\"], [0.5555555555555556, \"#d8576b\"], [0.6666666666666666, \"#ed7953\"], [0.7777777777777778, \"#fb9f3a\"], [0.8888888888888888, \"#fdca26\"], [1.0, \"#f0f921\"]], \"type\": \"histogram2dcontour\"}], \"mesh3d\": [{\"colorbar\": {\"outlinewidth\": 0, \"ticks\": \"\"}, \"type\": \"mesh3d\"}], \"parcoords\": [{\"line\": {\"colorbar\": {\"outlinewidth\": 0, \"ticks\": \"\"}}, \"type\": \"parcoords\"}], \"scatter\": [{\"marker\": {\"colorbar\": {\"outlinewidth\": 0, \"ticks\": \"\"}}, \"type\": \"scatter\"}], \"scatter3d\": [{\"line\": {\"colorbar\": {\"outlinewidth\": 0, \"ticks\": \"\"}}, \"marker\": {\"colorbar\": {\"outlinewidth\": 0, \"ticks\": \"\"}}, \"type\": \"scatter3d\"}], \"scattercarpet\": [{\"marker\": {\"colorbar\": {\"outlinewidth\": 0, \"ticks\": \"\"}}, \"type\": \"scattercarpet\"}], \"scattergeo\": [{\"marker\": {\"colorbar\": {\"outlinewidth\": 0, \"ticks\": \"\"}}, \"type\": \"scattergeo\"}], \"scattergl\": [{\"marker\": {\"colorbar\": {\"outlinewidth\": 0, \"ticks\": \"\"}}, \"type\": \"scattergl\"}], \"scattermapbox\": [{\"marker\": {\"colorbar\": {\"outlinewidth\": 0, \"ticks\": \"\"}}, \"type\": \"scattermapbox\"}], \"scatterpolar\": [{\"marker\": {\"colorbar\": {\"outlinewidth\": 0, \"ticks\": \"\"}}, \"type\": \"scatterpolar\"}], \"scatterpolargl\": [{\"marker\": {\"colorbar\": {\"outlinewidth\": 0, \"ticks\": \"\"}}, \"type\": \"scatterpolargl\"}], \"scatterternary\": [{\"marker\": {\"colorbar\": {\"outlinewidth\": 0, \"ticks\": \"\"}}, \"type\": \"scatterternary\"}], \"surface\": [{\"colorbar\": {\"outlinewidth\": 0, \"ticks\": \"\"}, \"colorscale\": [[0.0, \"#0d0887\"], [0.1111111111111111, \"#46039f\"], [0.2222222222222222, \"#7201a8\"], [0.3333333333333333, \"#9c179e\"], [0.4444444444444444, \"#bd3786\"], [0.5555555555555556, \"#d8576b\"], [0.6666666666666666, \"#ed7953\"], [0.7777777777777778, \"#fb9f3a\"], [0.8888888888888888, \"#fdca26\"], [1.0, \"#f0f921\"]], \"type\": \"surface\"}], \"table\": [{\"cells\": {\"fill\": {\"color\": \"#EBF0F8\"}, \"line\": {\"color\": \"white\"}}, \"header\": {\"fill\": {\"color\": \"#C8D4E3\"}, \"line\": {\"color\": \"white\"}}, \"type\": \"table\"}]}, \"layout\": {\"annotationdefaults\": {\"arrowcolor\": \"#2a3f5f\", \"arrowhead\": 0, \"arrowwidth\": 1}, \"colorscale\": {\"diverging\": [[0, \"#8e0152\"], [0.1, \"#c51b7d\"], [0.2, \"#de77ae\"], [0.3, \"#f1b6da\"], [0.4, \"#fde0ef\"], [0.5, \"#f7f7f7\"], [0.6, \"#e6f5d0\"], [0.7, \"#b8e186\"], [0.8, \"#7fbc41\"], [0.9, \"#4d9221\"], [1, \"#276419\"]], \"sequential\": [[0.0, \"#0d0887\"], [0.1111111111111111, \"#46039f\"], [0.2222222222222222, \"#7201a8\"], [0.3333333333333333, \"#9c179e\"], [0.4444444444444444, \"#bd3786\"], [0.5555555555555556, \"#d8576b\"], [0.6666666666666666, \"#ed7953\"], [0.7777777777777778, \"#fb9f3a\"], [0.8888888888888888, \"#fdca26\"], [1.0, \"#f0f921\"]], \"sequentialminus\": [[0.0, \"#0d0887\"], [0.1111111111111111, \"#46039f\"], [0.2222222222222222, \"#7201a8\"], [0.3333333333333333, \"#9c179e\"], [0.4444444444444444, \"#bd3786\"], [0.5555555555555556, \"#d8576b\"], [0.6666666666666666, \"#ed7953\"], [0.7777777777777778, \"#fb9f3a\"], [0.8888888888888888, \"#fdca26\"], [1.0, \"#f0f921\"]]}, \"colorway\": [\"#636efa\", \"#EF553B\", \"#00cc96\", \"#ab63fa\", \"#FFA15A\", \"#19d3f3\", \"#FF6692\", \"#B6E880\", \"#FF97FF\", \"#FECB52\"], \"font\": {\"color\": \"#2a3f5f\"}, \"geo\": {\"bgcolor\": \"white\", \"lakecolor\": \"white\", \"landcolor\": \"#E5ECF6\", \"showlakes\": true, \"showland\": true, \"subunitcolor\": \"white\"}, \"hoverlabel\": {\"align\": \"left\"}, \"hovermode\": \"closest\", \"mapbox\": {\"style\": \"light\"}, \"paper_bgcolor\": \"white\", \"plot_bgcolor\": \"#E5ECF6\", \"polar\": {\"angularaxis\": {\"gridcolor\": \"white\", \"linecolor\": \"white\", \"ticks\": \"\"}, \"bgcolor\": \"#E5ECF6\", \"radialaxis\": {\"gridcolor\": \"white\", \"linecolor\": \"white\", \"ticks\": \"\"}}, \"scene\": {\"xaxis\": {\"backgroundcolor\": \"#E5ECF6\", \"gridcolor\": \"white\", \"gridwidth\": 2, \"linecolor\": \"white\", \"showbackground\": true, \"ticks\": \"\", \"zerolinecolor\": \"white\"}, \"yaxis\": {\"backgroundcolor\": \"#E5ECF6\", \"gridcolor\": \"white\", \"gridwidth\": 2, \"linecolor\": \"white\", \"showbackground\": true, \"ticks\": \"\", \"zerolinecolor\": \"white\"}, \"zaxis\": {\"backgroundcolor\": \"#E5ECF6\", \"gridcolor\": \"white\", \"gridwidth\": 2, \"linecolor\": \"white\", \"showbackground\": true, \"ticks\": \"\", \"zerolinecolor\": \"white\"}}, \"shapedefaults\": {\"line\": {\"color\": \"#2a3f5f\"}}, \"ternary\": {\"aaxis\": {\"gridcolor\": \"white\", \"linecolor\": \"white\", \"ticks\": \"\"}, \"baxis\": {\"gridcolor\": \"white\", \"linecolor\": \"white\", \"ticks\": \"\"}, \"bgcolor\": \"#E5ECF6\", \"caxis\": {\"gridcolor\": \"white\", \"linecolor\": \"white\", \"ticks\": \"\"}}, \"title\": {\"x\": 0.05}, \"xaxis\": {\"automargin\": true, \"gridcolor\": \"white\", \"linecolor\": \"white\", \"ticks\": \"\", \"zerolinecolor\": \"white\", \"zerolinewidth\": 2}, \"yaxis\": {\"automargin\": true, \"gridcolor\": \"white\", \"linecolor\": \"white\", \"ticks\": \"\", \"zerolinecolor\": \"white\", \"zerolinewidth\": 2}}}, \"title\": {\"text\": \"The cost \"}, \"updatemenus\": [{\"buttons\": [{\"args\": [null], \"label\": \"Play\", \"method\": \"animate\"}], \"type\": \"buttons\"}], \"xaxis\": {\"autorange\": false, \"range\": [0, 2], \"zeroline\": false}, \"yaxis\": {\"autorange\": false, \"range\": [0, 3], \"zeroline\": false}},\n",
       "                        {\"responsive\": true}\n",
       "                    ).then(function(){\n",
       "                            Plotly.addFrames('e721212f-a4e8-42e3-8975-df1938281afe', [{\"data\": [{\"line\": {\"color\": \"red\", \"width\": 2}, \"mode\": \"lines\", \"x\": [0.0, 0.1, 0.2], \"y\": [5.5, 4.455, 3.5200000000000005], \"type\": \"scatter\"}]}, {\"data\": [{\"line\": {\"color\": \"red\", \"width\": 2}, \"mode\": \"lines\", \"x\": [0.0, 0.1, 0.2, 0.3], \"y\": [5.5, 4.455, 3.5200000000000005, 2.695], \"type\": \"scatter\"}]}, {\"data\": [{\"line\": {\"color\": \"red\", \"width\": 2}, \"mode\": \"lines\", \"x\": [0.0, 0.1, 0.2, 0.3, 0.4], \"y\": [5.5, 4.455, 3.5200000000000005, 2.695, 1.9799999999999998], \"type\": \"scatter\"}]}, {\"data\": [{\"line\": {\"color\": \"red\", \"width\": 2}, \"mode\": \"lines\", \"x\": [0.0, 0.1, 0.2, 0.3, 0.4, 0.5], \"y\": [5.5, 4.455, 3.5200000000000005, 2.695, 1.9799999999999998, 1.375], \"type\": \"scatter\"}]}, {\"data\": [{\"line\": {\"color\": \"red\", \"width\": 2}, \"mode\": \"lines\", \"x\": [0.0, 0.1, 0.2, 0.3, 0.4, 0.5, 0.6], \"y\": [5.5, 4.455, 3.5200000000000005, 2.695, 1.9799999999999998, 1.375, 0.8800000000000001], \"type\": \"scatter\"}]}, {\"data\": [{\"line\": {\"color\": \"red\", \"width\": 2}, \"mode\": \"lines\", \"x\": [0.0, 0.1, 0.2, 0.3, 0.4, 0.5, 0.6, 0.7], \"y\": [5.5, 4.455, 3.5200000000000005, 2.695, 1.9799999999999998, 1.375, 0.8800000000000001, 0.4950000000000001], \"type\": \"scatter\"}]}, {\"data\": [{\"line\": {\"color\": \"red\", \"width\": 2}, \"mode\": \"lines\", \"x\": [0.0, 0.1, 0.2, 0.3, 0.4, 0.5, 0.6, 0.7, 0.8], \"y\": [5.5, 4.455, 3.5200000000000005, 2.695, 1.9799999999999998, 1.375, 0.8800000000000001, 0.4950000000000001, 0.21999999999999992], \"type\": \"scatter\"}]}, {\"data\": [{\"line\": {\"color\": \"red\", \"width\": 2}, \"mode\": \"lines\", \"x\": [0.0, 0.1, 0.2, 0.3, 0.4, 0.5, 0.6, 0.7, 0.8, 0.9], \"y\": [5.5, 4.455, 3.5200000000000005, 2.695, 1.9799999999999998, 1.375, 0.8800000000000001, 0.4950000000000001, 0.21999999999999992, 0.05499999999999998], \"type\": \"scatter\"}]}, {\"data\": [{\"line\": {\"color\": \"red\", \"width\": 2}, \"mode\": \"lines\", \"x\": [0.0, 0.1, 0.2, 0.3, 0.4, 0.5, 0.6, 0.7, 0.8, 0.9, 1.0], \"y\": [5.5, 4.455, 3.5200000000000005, 2.695, 1.9799999999999998, 1.375, 0.8800000000000001, 0.4950000000000001, 0.21999999999999992, 0.05499999999999998, 0.0], \"type\": \"scatter\"}]}, {\"data\": [{\"line\": {\"color\": \"red\", \"width\": 2}, \"mode\": \"lines\", \"x\": [0.0, 0.1, 0.2, 0.3, 0.4, 0.5, 0.6, 0.7, 0.8, 0.9, 1.0, 1.1], \"y\": [5.5, 4.455, 3.5200000000000005, 2.695, 1.9799999999999998, 1.375, 0.8800000000000001, 0.4950000000000001, 0.21999999999999992, 0.05499999999999998, 0.0, 0.05500000000000005], \"type\": \"scatter\"}]}, {\"data\": [{\"line\": {\"color\": \"red\", \"width\": 2}, \"mode\": \"lines\", \"x\": [0.0, 0.1, 0.2, 0.3, 0.4, 0.5, 0.6, 0.7, 0.8, 0.9, 1.0, 1.1, 1.2], \"y\": [5.5, 4.455, 3.5200000000000005, 2.695, 1.9799999999999998, 1.375, 0.8800000000000001, 0.4950000000000001, 0.21999999999999992, 0.05499999999999998, 0.0, 0.05500000000000005, 0.21999999999999992], \"type\": \"scatter\"}]}, {\"data\": [{\"line\": {\"color\": \"red\", \"width\": 2}, \"mode\": \"lines\", \"x\": [0.0, 0.1, 0.2, 0.3, 0.4, 0.5, 0.6, 0.7, 0.8, 0.9, 1.0, 1.1, 1.2, 1.3], \"y\": [5.5, 4.455, 3.5200000000000005, 2.695, 1.9799999999999998, 1.375, 0.8800000000000001, 0.4950000000000001, 0.21999999999999992, 0.05499999999999998, 0.0, 0.05500000000000005, 0.21999999999999992, 0.4950000000000001], \"type\": \"scatter\"}]}, {\"data\": [{\"line\": {\"color\": \"red\", \"width\": 2}, \"mode\": \"lines\", \"x\": [0.0, 0.1, 0.2, 0.3, 0.4, 0.5, 0.6, 0.7, 0.8, 0.9, 1.0, 1.1, 1.2, 1.3, 1.4], \"y\": [5.5, 4.455, 3.5200000000000005, 2.695, 1.9799999999999998, 1.375, 0.8800000000000001, 0.4950000000000001, 0.21999999999999992, 0.05499999999999998, 0.0, 0.05500000000000005, 0.21999999999999992, 0.4950000000000001, 0.8799999999999997], \"type\": \"scatter\"}]}, {\"data\": [{\"line\": {\"color\": \"red\", \"width\": 2}, \"mode\": \"lines\", \"x\": [0.0, 0.1, 0.2, 0.3, 0.4, 0.5, 0.6, 0.7, 0.8, 0.9, 1.0, 1.1, 1.2, 1.3, 1.4, 1.5], \"y\": [5.5, 4.455, 3.5200000000000005, 2.695, 1.9799999999999998, 1.375, 0.8800000000000001, 0.4950000000000001, 0.21999999999999992, 0.05499999999999998, 0.0, 0.05500000000000005, 0.21999999999999992, 0.4950000000000001, 0.8799999999999997, 1.375], \"type\": \"scatter\"}]}, {\"data\": [{\"line\": {\"color\": \"red\", \"width\": 2}, \"mode\": \"lines\", \"x\": [0.0, 0.1, 0.2, 0.3, 0.4, 0.5, 0.6, 0.7, 0.8, 0.9, 1.0, 1.1, 1.2, 1.3, 1.4, 1.5, 1.6], \"y\": [5.5, 4.455, 3.5200000000000005, 2.695, 1.9799999999999998, 1.375, 0.8800000000000001, 0.4950000000000001, 0.21999999999999992, 0.05499999999999998, 0.0, 0.05500000000000005, 0.21999999999999992, 0.4950000000000001, 0.8799999999999997, 1.375, 1.9800000000000004], \"type\": \"scatter\"}]}, {\"data\": [{\"line\": {\"color\": \"red\", \"width\": 2}, \"mode\": \"lines\", \"x\": [0.0, 0.1, 0.2, 0.3, 0.4, 0.5, 0.6, 0.7, 0.8, 0.9, 1.0, 1.1, 1.2, 1.3, 1.4, 1.5, 1.6, 1.7], \"y\": [5.5, 4.455, 3.5200000000000005, 2.695, 1.9799999999999998, 1.375, 0.8800000000000001, 0.4950000000000001, 0.21999999999999992, 0.05499999999999998, 0.0, 0.05500000000000005, 0.21999999999999992, 0.4950000000000001, 0.8799999999999997, 1.375, 1.9800000000000004, 2.6949999999999994], \"type\": \"scatter\"}]}, {\"data\": [{\"line\": {\"color\": \"red\", \"width\": 2}, \"mode\": \"lines\", \"x\": [0.0, 0.1, 0.2, 0.3, 0.4, 0.5, 0.6, 0.7, 0.8, 0.9, 1.0, 1.1, 1.2, 1.3, 1.4, 1.5, 1.6, 1.7, 1.8], \"y\": [5.5, 4.455, 3.5200000000000005, 2.695, 1.9799999999999998, 1.375, 0.8800000000000001, 0.4950000000000001, 0.21999999999999992, 0.05499999999999998, 0.0, 0.05500000000000005, 0.21999999999999992, 0.4950000000000001, 0.8799999999999997, 1.375, 1.9800000000000004, 2.6949999999999994, 3.5200000000000005], \"type\": \"scatter\"}]}]);\n",
       "                        }).then(function(){\n",
       "                            \n",
       "var gd = document.getElementById('e721212f-a4e8-42e3-8975-df1938281afe');\n",
       "var x = new MutationObserver(function (mutations, observer) {{\n",
       "        var display = window.getComputedStyle(gd).display;\n",
       "        if (!display || display === 'none') {{\n",
       "            console.log([gd, 'removed!']);\n",
       "            Plotly.purge(gd);\n",
       "            observer.disconnect();\n",
       "        }}\n",
       "}});\n",
       "\n",
       "// Listen for the removal of the full notebook cells\n",
       "var notebookContainer = gd.closest('#notebook-container');\n",
       "if (notebookContainer) {{\n",
       "    x.observe(notebookContainer, {childList: true});\n",
       "}}\n",
       "\n",
       "// Listen for the clearing of the current output cell\n",
       "var outputEl = gd.closest('.output');\n",
       "if (outputEl) {{\n",
       "    x.observe(outputEl, {childList: true});\n",
       "}}\n",
       "\n",
       "                        })\n",
       "                };\n",
       "                });\n",
       "            </script>\n",
       "        </div>"
      ]
     },
     "metadata": {},
     "output_type": "display_data"
    }
   ],
   "source": [
    "fig = go.Figure(\n",
    "    data=[go.Scatter(x=theta[:3], y=t_cost[:3],\n",
    "                     mode=\"markers\",\n",
    "                     line=dict(width=2, color=\"blue\"))],\n",
    "    layout=go.Layout(\n",
    "        xaxis=dict(range=[0, 2], autorange=False, zeroline=False),\n",
    "        yaxis=dict(range=[0, 3], autorange=False, zeroline=False),\n",
    "        title_text=\"The cost \", hovermode=\"closest\",\n",
    "        updatemenus=[dict(type=\"buttons\",\n",
    "                          buttons=[dict(label=\"Play\",\n",
    "                                        method=\"animate\",\n",
    "                                        args=[None])])]),\n",
    "      frames=[go.Frame(\n",
    "        data=[go.Scatter(\n",
    "            x=theta[:k],\n",
    "            y=t_cost[:k],\n",
    "            mode=\"lines\",\n",
    "            line=dict(color=\"red\", width=2))\n",
    "        ]) for k in range(3, 20)]\n",
    ")\n",
    "\n",
    "fig.show()"
   ]
  },
  {
   "cell_type": "markdown",
   "metadata": {},
   "source": [
    "     As the graph above show the cost become very low at a certain point, we have to find that point, In this case we can find it just by looking at the graph but in high dimentional figure it become hard for us to find it manually just by looking at the figure. So we need an algorithm to find this.\n",
    "## Gradient Descent:\n",
    "Gradient descent is just an algorithm that minimize some arbitrary function $ \\ J(\\theta_0, \\theta_1) $. There could be many $\\theta $ not just two like $ J(\\theta_0, \\theta_1, \\theta_2, \\theta3, ....) $\n",
    "\n",
    "Now we have some function $ \\ J(\\theta_0, \\theta_1) $ and what we want is to minimize it.\n",
    "### Outline:\n",
    "* Start with some $\\theta_0 and \\theta_1 $.\n",
    "* keep changing $\\theta_0 and \\theta_1 $ to reduce $ J(\\theta_0, \\theta_1)$ untill hopefully we endup at a minimum.\n",
    "### Algorithm:\n",
    "    The algrithm of Gradient Desent.\n",
    "Repeat until convergence {\n",
    "\n",
    "$$ \\theta_j := \\theta_j - \\alpha \\frac{\\mathrm{d}}{\\mathrm{d}\\theta_j}J(\\theta_0, \\theta_j) $$\n",
    "}\n",
    "\n",
    "$$ \\theta_j := \\theta_j - \\alpha \\frac{\\mathrm{d}}{\\mathrm{d}\\theta_j}\\frac{1}{2m} \\sum_{i=1}^{m} (h_\\theta (x^{(i)}) - y^{(i)})^2 $$\n",
    "\n",
    "$$ \\theta_j := \\theta_j - \\alpha \\frac{1}{m} \\sum_{i=1}^{m} (h_\\theta (x^{(i)}) - y^{(i)}) x^{i}_j $$\n",
    "\n",
    "* := is the assignment operator.\n",
    "* $\\alpha$ is the learning rate\n",
    "* $\\frac{\\mathrm{d}}{\\mathrm{d}\\theta_j}J(\\theta_0, \\theta_j) $ is the derivative of the cost function which means we are taking small steps towards the local minimum. Local minimum is the point where the cost is low.\n",
    "* Gradient descent can converge to local minimum even with the learing rate $\\alpha$ fixed.\n",
    "* As we approach the local minimum , gradient descent will automatically take smaller steps. So no need to decrease $\\alpha$ over time.\n",
    "\n",
    "        Lets give it a shape of a class to make things simple"
   ]
  },
  {
   "cell_type": "code",
   "execution_count": 405,
   "metadata": {},
   "outputs": [],
   "source": [
    "class LinearRegression():\n",
    "    def __init__(self, no_of_attrs, alpha = 0.003, iteration=100):\n",
    "        self.alpha = alpha\n",
    "        self.theta = np.zeros(no_of_attrs)\n",
    "        self.t_cost = []\n",
    "        self.iter = iteration\n",
    "        pass\n",
    "    def fit(self, x_train, y_train):\n",
    "        if len(self.theta) == 1:\n",
    "            self.x = x_train.reshape(len(x_train), 1)\n",
    "        else:\n",
    "            self.x =  x_train\n",
    "        for i in range(self.iter):\n",
    "            Q_cost = self.cost(y_train)\n",
    "            self.t_cost.append(Q_cost)\n",
    "            self.GradientDescent(y_train)\n",
    "            print(i, \"Epoch completed with cost:\", Q_cost)\n",
    "    def hypothesis(self, x_value):\n",
    "        return np.dot(x_value, self.theta)\n",
    "    def cost(self, y_train):\n",
    "        return ((self.hypothesis(self.x) - y_train)**2).mean()/2\n",
    "    def cost_der(self, y_given):\n",
    "        cost = (self.hypothesis(self.x) - y_given)\n",
    "        cost = cost*self.x.T\n",
    "        cost = np.mean(cost)\n",
    "        return cost\n",
    "    def GradientDescent(self, y_given):\n",
    "        gr = self.cost_der(y_given)\n",
    "        self.theta = self.theta - self.alpha*gr\n",
    "    def predict(self, x_test):\n",
    "        return np.dot(x_test.reshape(len(x_test), len(self.theta)), self.theta)\n",
    "    def evaluate(self, x_test, y_test):\n",
    "        rmse = np.sqrt(((self.hypothesis(x_test.reshape(len(x_test), len(self.theta))) - y_test)**2).mean())\n",
    "        return rmse"
   ]
  },
  {
   "cell_type": "code",
   "execution_count": 411,
   "metadata": {},
   "outputs": [
    {
     "name": "stdout",
     "output_type": "stream",
     "text": [
      "0 Epoch completed with cost: 5.5\n",
      "1 Epoch completed with cost: 5.1429895000000005\n",
      "2 Epoch completed with cost: 4.8091529085655\n",
      "3 Epoch completed with cost: 4.496985984117605\n",
      "4 Epoch completed with cost: 4.205082126902548\n",
      "5 Epoch completed with cost: 3.932126040963176\n",
      "6 Epoch completed with cost: 3.6768878075182143\n",
      "7 Epoch completed with cost: 3.4382173430444\n",
      "8 Epoch completed with cost: 3.2150392170900446\n",
      "9 Epoch completed with cost: 3.006347806469513\n",
      "10 Epoch completed with cost: 2.8112027640037702\n",
      "11 Epoch completed with cost: 2.6287247813895216\n",
      "12 Epoch completed with cost: 2.458091627104747\n",
      "13 Epoch completed with cost: 2.2985344414977504\n",
      "14 Epoch completed with cost: 2.14933427236569\n",
      "15 Epoch completed with cost: 2.0098188354121604\n",
      "16 Epoch completed with cost: 1.8793594849867215\n",
      "17 Epoch completed with cost: 1.757368381456749\n",
      "18 Epoch completed with cost: 1.6432958424480095\n",
      "19 Epoch completed with cost: 1.5366278660188666\n",
      "20 Epoch completed with cost: 1.436883814607716\n",
      "21 Epoch completed with cost: 1.343614249317715\n",
      "22 Epoch completed with cost: 1.2563989047802526\n",
      "23 Epoch completed with cost: 1.174844795472062\n",
      "24 Epoch completed with cost: 1.0985844449531748\n",
      "25 Epoch completed with cost: 1.0272742300468192\n",
      "26 Epoch completed with cost: 0.9605928325002498\n",
      "27 Epoch completed with cost: 0.8982397911498262\n",
      "28 Epoch completed with cost: 0.8399341480664999\n",
      "29 Epoch completed with cost: 0.7854131825813555\n",
      "30 Epoch completed with cost: 0.734431227486817\n",
      "31 Epoch completed with cost: 0.6867585620794203\n",
      "32 Epoch completed with cost: 0.6421803770562831\n",
      "33 Epoch completed with cost: 0.6004958066011827\n",
      "34 Epoch completed with cost: 0.5615170232988935\n",
      "35 Epoch completed with cost: 0.5250683917995389\n",
      "36 Epoch completed with cost: 0.4909856774194389\n",
      "37 Epoch completed with cost: 0.45911530611246576\n",
      "38 Epoch completed with cost: 0.4293136724773993\n",
      "39 Epoch completed with cost: 0.40144649268321897\n",
      "40 Epoch completed with cost: 0.37538819939665846\n",
      "41 Epoch completed with cost: 0.351021375985622\n",
      "42 Epoch completed with cost: 0.32823622744901937\n",
      "43 Epoch completed with cost: 0.3069300856890762\n",
      "44 Epoch completed with cost: 0.2870069468969126\n",
      "45 Epoch completed with cost: 0.26837703896688697\n",
      "46 Epoch completed with cost: 0.2509564169905074\n",
      "47 Epoch completed with cost: 0.23466658500723653\n",
      "48 Epoch completed with cost: 0.2194341423078317\n",
      "49 Epoch completed with cost: 0.20519045269648797\n",
      "50 Epoch completed with cost: 0.19187133522150623\n",
      "51 Epoch completed with cost: 0.17941677498094305\n",
      "52 Epoch completed with cost: 0.16777065270015507\n",
      "53 Epoch completed with cost: 0.15688049186273526\n",
      "54 Epoch completed with cost: 0.14669722225543322\n",
      "55 Epoch completed with cost: 0.13717495886161082\n",
      "56 Epoch completed with cost: 0.12827079510694472\n",
      "57 Epoch completed with cost: 0.11994460952575792\n",
      "58 Epoch completed with cost: 0.11215888497683146\n",
      "59 Epoch completed with cost: 0.10487853959410046\n",
      "60 Epoch completed with cost: 0.09807076871050775\n",
      "61 Epoch completed with cost: 0.0917048970427399\n",
      "62 Epoch completed with cost: 0.08575224047079862\n",
      "63 Epoch completed with cost: 0.08018597678959864\n",
      "64 Epoch completed with cost: 0.07498102485020898\n",
      "65 Epoch completed with cost: 0.07011393154615704\n",
      "66 Epoch completed with cost: 0.06556276613556444\n",
      "67 Epoch completed with cost: 0.06130702142293876\n",
      "68 Epoch completed with cost: 0.05732752135535442\n",
      "69 Epoch completed with cost: 0.053606334616657016\n",
      "70 Epoch completed with cost: 0.05012669383035516\n",
      "71 Epoch completed with cost: 0.04687292000713299\n",
      "72 Epoch completed with cost: 0.04383035189655\n",
      "73 Epoch completed with cost: 0.04098527992459307\n",
      "74 Epoch completed with cost: 0.03832488441940775\n",
      "75 Epoch completed with cost: 0.0358371778468596\n",
      "76 Epoch completed with cost: 0.03351095079564211\n",
      "77 Epoch completed with cost: 0.031335721468546206\n",
      "78 Epoch completed with cost: 0.029301688452301418\n",
      "79 Epoch completed with cost: 0.027399686553174086\n",
      "80 Epoch completed with cost: 0.025621145499320968\n",
      "81 Epoch completed with cost: 0.023958051323814507\n",
      "82 Epoch completed with cost: 0.022402910254334392\n",
      "83 Epoch completed with cost: 0.020948714946815265\n",
      "84 Epoch completed with cost: 0.019588912910902583\n",
      "85 Epoch completed with cost: 0.018317376984942974\n",
      "86 Epoch completed with cost: 0.017128377727473304\n",
      "87 Epoch completed with cost: 0.016016557600805333\n",
      "88 Epoch completed with cost: 0.014976906830379477\n",
      "89 Epoch completed with cost: 0.014004740831112717\n",
      "90 Epoch completed with cost: 0.01309567909902441\n",
      "91 Epoch completed with cost: 0.01224562547302761\n",
      "92 Epoch completed with cost: 0.011450749677947906\n",
      "93 Epoch completed with cost: 0.01070747006560264\n",
      "94 Epoch completed with cost: 0.010012437476174299\n",
      "95 Epoch completed with cost: 0.009362520147158337\n",
      "96 Epoch completed with cost: 0.00875478960188614\n",
      "97 Epoch completed with cost: 0.008186507454038114\n",
      "98 Epoch completed with cost: 0.007655113068689048\n",
      "99 Epoch completed with cost: 0.007158212024287363\n",
      "100 Epoch completed with cost: 0.006693565323578855\n",
      "101 Epoch completed with cost: 0.0062590793048600225\n",
      "102 Epoch completed with cost: 0.005852796208102286\n",
      "103 Epoch completed with cost: 0.005472885353438155\n",
      "104 Epoch completed with cost: 0.005117634892261114\n",
      "105 Epoch completed with cost: 0.004785444093769585\n",
      "106 Epoch completed with cost: 0.004474816132198896\n",
      "107 Epoch completed with cost: 0.004184351342241733\n",
      "108 Epoch completed with cost: 0.003912740912265475\n",
      "109 Epoch completed with cost: 0.003658760986909433\n",
      "110 Epoch completed with cost: 0.003421267152488162\n",
      "111 Epoch completed with cost: 0.0031991892803529707\n",
      "112 Epoch completed with cost: 0.0029915267049759847\n",
      "113 Epoch completed with cost: 0.002797343715029267\n",
      "114 Epoch completed with cost: 0.0026157653371430005\n",
      "115 Epoch completed with cost: 0.0024459733933437015\n",
      "116 Epoch completed with cost: 0.0022872028144083545\n",
      "117 Epoch completed with cost: 0.002138738192522305\n",
      "118 Epoch completed with cost: 0.0019999105577074862\n",
      "119 Epoch completed with cost: 0.0018700943634961248\n",
      "120 Epoch completed with cost: 0.0017487046682672202\n",
      "121 Epoch completed with cost: 0.0016351944995453322\n",
      "122 Epoch completed with cost: 0.001529052389385345\n",
      "123 Epoch completed with cost: 0.001429800069737949\n",
      "124 Epoch completed with cost: 0.0013369903174112053\n",
      "125 Epoch completed with cost: 0.0012502049389177192\n",
      "126 Epoch completed with cost: 0.0011690528861276394\n",
      "127 Epoch completed with cost: 0.001093168494236203\n",
      "128 Epoch completed with cost: 0.0010222098341068444\n",
      "129 Epoch completed with cost: 0.0009558571715651304\n",
      "130 Epoch completed with cost: 0.000893811526701676\n",
      "131 Epoch completed with cost: 0.0008357933266919391\n",
      "132 Epoch completed with cost: 0.0007815411460630444\n",
      "133 Epoch completed with cost: 0.0007308105287309486\n",
      "134 Epoch completed with cost: 0.0006833728865004894\n",
      "135 Epoch completed with cost: 0.0006390144690648491\n",
      "136 Epoch completed with cost: 0.0005975354008633759\n",
      "137 Epoch completed with cost: 0.0005587487804579264\n",
      "138 Epoch completed with cost: 0.000522479838369625\n",
      "139 Epoch completed with cost: 0.0004885651495812168\n",
      "140 Epoch completed with cost: 0.00045685189715675425\n",
      "141 Epoch completed with cost: 0.00042719718366041276\n",
      "142 Epoch completed with cost: 0.00039946738727182965\n",
      "143 Epoch completed with cost: 0.00037353755969662803\n",
      "144 Epoch completed with cost: 0.00034929086315915503\n",
      "145 Epoch completed with cost: 0.0003266180439406301\n",
      "146 Epoch completed with cost: 0.0003054169400904012\n",
      "147 Epoch completed with cost: 0.0002855920210921909\n",
      "148 Epoch completed with cost: 0.0002670539574110756\n",
      "149 Epoch completed with cost: 0.00024971921798156414\n",
      "150 Epoch completed with cost: 0.00023350969382316382\n",
      "151 Epoch completed with cost: 0.0002183523460874125\n",
      "152 Epoch completed with cost: 0.00020417887695052807\n",
      "153 Epoch completed with cost: 0.0001909254218687951\n",
      "154 Epoch completed with cost: 0.0001785322618098664\n",
      "155 Epoch completed with cost: 0.0001669435541635259\n",
      "156 Epoch completed with cost: 0.0001561070811192125\n",
      "157 Epoch completed with cost: 0.00014597401437668522\n",
      "158 Epoch completed with cost: 0.00013649869512948255\n",
      "159 Epoch completed with cost: 0.00012763842832993417\n",
      "160 Epoch completed with cost: 0.00011935329030860709\n",
      "161 Epoch completed with cost: 0.0001116059488813823\n",
      "162 Epoch completed with cost: 0.0001043614951335434\n",
      "163 Epoch completed with cost: 9.758728612293337e-05\n",
      "164 Epoch completed with cost: 9.125279779340688e-05\n",
      "165 Epoch completed with cost: 8.532948743583944e-05\n",
      "166 Epoch completed with cost: 7.979066507689146e-05\n",
      "167 Epoch completed with cost: 7.461137321608549e-05\n",
      "168 Epoch completed with cost: 6.97682743692593e-05\n",
      "169 Epoch completed with cost: 6.523954591167497e-05\n",
      "170 Epoch completed with cost: 6.100478174700082e-05\n",
      "171 Epoch completed with cost: 5.704490035901902e-05\n",
      "172 Epoch completed with cost: 5.334205883181346e-05\n",
      "173 Epoch completed with cost: 4.987957245098102e-05\n",
      "174 Epoch completed with cost: 4.664183952361448e-05\n",
      "175 Epoch completed with cost: 4.36142710782956e-05\n",
      "176 Epoch completed with cost: 4.07832251283327e-05\n",
      "177 Epoch completed with cost: 3.813594520202905e-05\n",
      "178 Epoch completed with cost: 3.566050286302207e-05\n",
      "179 Epoch completed with cost: 3.334574396168058e-05\n",
      "180 Epoch completed with cost: 3.1181238375383924e-05\n",
      "181 Epoch completed with cost: 2.915723301119949e-05\n",
      "182 Epoch completed with cost: 2.726460785920996e-05\n",
      "183 Epoch completed with cost: 2.5494834898461472e-05\n",
      "184 Epoch completed with cost: 2.38399396703674e-05\n",
      "185 Epoch completed with cost: 2.229246534642423e-05\n",
      "186 Epoch completed with cost: 2.0845439128322637e-05\n",
      "187 Epoch completed with cost: 1.949234082906554e-05\n",
      "188 Epoch completed with cost: 1.8227073493511183e-05\n",
      "189 Epoch completed with cost: 1.7043935925973735e-05\n",
      "190 Epoch completed with cost: 1.5937597001083545e-05\n",
      "191 Epoch completed with cost: 1.4903071642146076e-05\n",
      "192 Epoch completed with cost: 1.3935698358781014e-05\n",
      "193 Epoch completed with cost: 1.3031118242615202e-05\n",
      "194 Epoch completed with cost: 1.2185255326370084e-05\n",
      "195 Epoch completed with cost: 1.139429821787841e-05\n",
      "196 Epoch completed with cost: 1.0654682926257459e-05\n",
      "197 Epoch completed with cost: 9.96307680283099e-06\n",
      "198 Epoch completed with cost: 9.316363524481105e-06\n",
      "199 Epoch completed with cost: 8.711629051743084e-06\n",
      "200 Epoch completed with cost: 8.146148498364536e-06\n",
      "201 Epoch completed with cost: 7.617373853186598e-06\n",
      "202 Epoch completed with cost: 7.122922499002725e-06\n",
      "203 Epoch completed with cost: 6.660566476669399e-06\n",
      "204 Epoch completed with cost: 6.228222446102334e-06\n",
      "205 Epoch completed with cost: 5.8239422989029636e-06\n",
      "206 Epoch completed with cost: 5.445904380338838e-06\n",
      "207 Epoch completed with cost: 5.092405281106185e-06\n",
      "208 Epoch completed with cost: 4.76185216190461e-06\n",
      "209 Epoch completed with cost: 4.452755576222456e-06\n",
      "210 Epoch completed with cost: 4.163722759015044e-06\n",
      "211 Epoch completed with cost: 3.893451351003917e-06\n",
      "212 Epoch completed with cost: 3.640723530359164e-06\n",
      "213 Epoch completed with cost: 3.404400525280488e-06\n",
      "214 Epoch completed with cost: 3.183417482783765e-06\n",
      "215 Epoch completed with cost: 2.9767786705588426e-06\n",
      "216 Epoch completed with cost: 2.7835529902742454e-06\n",
      "217 Epoch completed with cost: 2.6028697821220235e-06\n",
      "218 Epoch completed with cost: 2.433914901694863e-06\n",
      "219 Epoch completed with cost: 2.2759270515112937e-06\n",
      "220 Epoch completed with cost: 2.1281943506705437e-06\n",
      "221 Epoch completed with cost: 1.9900511271741335e-06\n",
      "222 Epoch completed with cost: 1.8608749184577808e-06\n",
      "223 Epoch completed with cost: 1.7400836666254408e-06\n",
      "224 Epoch completed with cost: 1.6271330957410051e-06\n",
      "225 Epoch completed with cost: 1.5215142593629955e-06\n",
      "226 Epoch completed with cost: 1.4227512472736433e-06\n",
      "227 Epoch completed with cost: 1.3303990410615706e-06\n",
      "228 Epoch completed with cost: 1.2440415089071415e-06\n",
      "229 Epoch completed with cost: 1.1632895305224786e-06\n",
      "230 Epoch completed with cost: 1.0877792438064215e-06\n",
      "231 Epoch completed with cost: 1.0171704053116045e-06\n",
      "232 Epoch completed with cost: 9.511448571322686e-07\n",
      "233 Epoch completed with cost: 8.894050933110367e-07\n",
      "234 Epoch completed with cost: 8.31672919299467e-07\n",
      "235 Epoch completed with cost: 7.776881984344985e-07\n",
      "236 Epoch completed with cost: 7.272076797859964e-07\n",
      "237 Epoch completed with cost: 6.800039020833239e-07\n",
      "238 Epoch completed with cost: 6.358641687955799e-07\n",
      "239 Epoch completed with cost: 5.945895897347308e-07\n",
      "240 Epoch completed with cost: 5.559941848754875e-07\n",
      "241 Epoch completed with cost: 5.199040463408996e-07\n",
      "242 Epoch completed with cost: 4.861565547889079e-07\n",
      "243 Epoch completed with cost: 4.545996466608156e-07\n",
      "244 Epoch completed with cost: 4.2509112899631495e-07\n",
      "245 Epoch completed with cost: 3.9749803872194723e-07\n",
      "246 Epoch completed with cost: 3.716960435306814e-07\n",
      "247 Epoch completed with cost: 3.475688816492723e-07\n",
      "248 Epoch completed with cost: 3.2500783797249516e-07\n",
      "249 Epoch completed with cost: 3.039112542018742e-07\n",
      "250 Epoch completed with cost: 2.84184070780477e-07\n",
      "251 Epoch completed with cost: 2.6573739856173217e-07\n",
      "252 Epoch completed with cost: 2.484881182836023e-07\n",
      "253 Epoch completed with cost: 2.3235850603778866e-07\n",
      "254 Epoch completed with cost: 2.1727588305237453e-07\n",
      "255 Epoch completed with cost: 2.0317228820758062e-07\n",
      "256 Epoch completed with cost: 1.899841718077437e-07\n",
      "257 Epoch completed with cost: 1.776521092314609e-07\n",
      "258 Epoch completed with cost: 1.661205331691242e-07\n",
      "259 Epoch completed with cost: 1.553374832405731e-07\n",
      "260 Epoch completed with cost: 1.452543718659794e-07\n",
      "261 Epoch completed with cost: 1.3582576533386117e-07\n",
      "262 Epoch completed with cost: 1.270091790802208e-07\n",
      "263 Epoch completed with cost: 1.187648862568965e-07\n",
      "264 Epoch completed with cost: 1.1105573872499883e-07\n",
      "265 Epoch completed with cost: 1.038469996686928e-07\n",
      "266 Epoch completed with cost: 9.710618707317375e-08\n",
      "267 Epoch completed with cost: 9.080292736417477e-08\n",
      "268 Epoch completed with cost: 8.490881854592421e-08\n",
      "269 Epoch completed with cost: 7.93973022253325e-08\n",
      "270 Epoch completed with cost: 7.424354394053916e-08\n",
      "271 Epoch completed with cost: 6.94243212598169e-08\n",
      "272 Epoch completed with cost: 6.491791914246202e-08\n",
      "273 Epoch completed with cost: 6.070403209300102e-08\n",
      "274 Epoch completed with cost: 5.67636726658579e-08\n",
      "275 Epoch completed with cost: 5.3079085909395535e-08\n",
      "276 Epoch completed with cost: 4.963366936395106e-08\n",
      "277 Epoch completed with cost: 4.6411898251789166e-08\n",
      "278 Epoch completed with cost: 4.339925552441059e-08\n",
      "279 Epoch completed with cost: 4.0582166449053934e-08\n",
      "280 Epoch completed with cost: 3.7947937442700115e-08\n",
      "281 Epoch completed with cost: 3.548469887537532e-08\n",
      "282 Epoch completed with cost: 3.3181351586690615e-08\n",
      "283 Epoch completed with cost: 3.102751687379492e-08\n",
      "284 Epoch completed with cost: 2.901348972601065e-08\n",
      "285 Epoch completed with cost: 2.713019509435816e-08\n",
      "286 Epoch completed with cost: 2.5369147000569124e-08\n",
      "287 Epoch completed with cost: 2.3722410299601738e-08\n",
      "288 Epoch completed with cost: 2.2182564924677206e-08\n",
      "289 Epoch completed with cost: 2.074267245284246e-08\n",
      "290 Epoch completed with cost: 1.9396244841271617e-08\n",
      "291 Epoch completed with cost: 1.8137215192372612e-08\n",
      "292 Epoch completed with cost: 1.6959910416990706e-08\n",
      "293 Epoch completed with cost: 1.5859025671907113e-08\n",
      "294 Epoch completed with cost: 1.4829600456560242e-08\n",
      "295 Epoch completed with cost: 1.386699626133942e-08\n",
      "296 Epoch completed with cost: 1.2966875666989782e-08\n",
      "297 Epoch completed with cost: 1.2125182800582353e-08\n",
      "298 Epoch completed with cost: 1.1338125059830224e-08\n",
      "299 Epoch completed with cost: 1.0602156024061661e-08\n",
      "300 Epoch completed with cost: 9.913959474383236e-09\n",
      "301 Epoch completed with cost: 9.270434450938104e-09\n",
      "302 Epoch completed with cost: 8.668681280263825e-09\n",
      "303 Epoch completed with cost: 8.105988509694626e-09\n",
      "304 Epoch completed with cost: 7.579820689514149e-09\n",
      "305 Epoch completed with cost: 7.087806948739162e-09\n",
      "306 Epoch completed with cost: 6.627730311894618e-09\n",
      "307 Epoch completed with cost: 6.1975177096203955e-09\n",
      "308 Epoch completed with cost: 5.795230637590254e-09\n",
      "309 Epoch completed with cost: 5.419056421678707e-09\n",
      "310 Epoch completed with cost: 5.067300050298501e-09\n",
      "311 Epoch completed with cost: 4.738376536733613e-09\n",
      "312 Epoch completed with cost: 4.4308037773609885e-09\n",
      "313 Epoch completed with cost: 4.143195873383225e-09\n",
      "314 Epoch completed with cost: 3.874256886017795e-09\n",
      "315 Epoch completed with cost: 3.6227749973021635e-09\n",
      "316 Epoch completed with cost: 3.387617049459524e-09\n",
      "317 Epoch completed with cost: 3.167723439182338e-09\n",
      "318 Epoch completed with cost: 2.9621033430147713e-09\n",
      "319 Epoch completed with cost: 2.76983025292049e-09\n",
      "320 Epoch completed with cost: 2.590037801384722e-09\n",
      "321 Epoch completed with cost: 2.4219158576635523e-09\n",
      "322 Epoch completed with cost: 2.2647068774369725e-09\n",
      "323 Epoch completed with cost: 2.1177024893038584e-09\n",
      "324 Epoch completed with cost: 1.980240303021755e-09\n",
      "325 Epoch completed with cost: 1.8517009247071963e-09\n",
      "326 Epoch completed with cost: 1.731505165997245e-09\n",
      "327 Epoch completed with cost: 1.619111434166429e-09\n",
      "328 Epoch completed with cost: 1.5140132918687813e-09\n",
      "329 Epoch completed with cost: 1.4157371750661017e-09\n",
      "330 Epoch completed with cost: 1.3238402593109846e-09\n",
      "331 Epoch completed with cost: 1.2379084642313904e-09\n",
      "332 Epoch completed with cost: 1.157554587917163e-09\n",
      "333 Epoch completed with cost: 1.082416562064513e-09\n",
      "334 Epoch completed with cost: 1.0121558206067262e-09\n",
      "335 Epoch completed with cost: 9.464557741472307e-10\n",
      "336 Epoch completed with cost: 8.850203833927453e-10\n",
      "337 Epoch completed with cost: 8.275728252943139e-10\n",
      "338 Epoch completed with cost: 7.738542456333601e-10\n",
      "339 Epoch completed with cost: 7.236225926948233e-10\n"
     ]
    },
    {
     "name": "stdout",
     "output_type": "stream",
     "text": [
      "340 Epoch completed with cost: 6.766515265849062e-10\n",
      "341 Epoch completed with cost: 6.327293993503958e-10\n",
      "342 Epoch completed with cost: 5.916583013013617e-10\n",
      "343 Epoch completed with cost: 5.532531693067134e-10\n",
      "344 Epoch completed with cost: 5.173409528369225e-10\n",
      "345 Epoch completed with cost: 4.837598342518565e-10\n",
      "346 Epoch completed with cost: 4.523584996438813e-10\n",
      "347 Epoch completed with cost: 4.2299545707619057e-10\n",
      "348 Epoch completed with cost: 3.9553839896427554e-10\n",
      "349 Epoch completed with cost: 3.698636059449101e-10\n",
      "350 Epoch completed with cost: 3.4585538941739707e-10\n",
      "351 Epoch completed with cost: 3.2340557023626764e-10\n",
      "352 Epoch completed with cost: 3.0241299126120303e-10\n",
      "353 Epoch completed with cost: 2.8278306158743757e-10\n",
      "354 Epoch completed with cost: 2.644273302785645e-10\n",
      "355 Epoch completed with cost: 2.4726308784180445e-10\n",
      "356 Epoch completed with cost: 2.312129935464284e-10\n",
      "357 Epoch completed with cost: 2.1620472692475423e-10\n",
      "358 Epoch completed with cost: 2.0217066189883635e-10\n",
      "359 Epoch completed with cost: 1.8904756206220686e-10\n",
      "360 Epoch completed with cost: 1.7677629575702657e-10\n",
      "361 Epoch completed with cost: 1.6530156962614386e-10\n",
      "362 Epoch completed with cost: 1.545716794439975e-10\n",
      "363 Epoch completed with cost: 1.445382771537802e-10\n",
      "364 Epoch completed with cost: 1.3515615304851897e-10\n",
      "365 Epoch completed with cost: 1.2638303199389267e-10\n",
      "366 Epoch completed with cost: 1.1817938300555753e-10\n",
      "367 Epoch completed with cost: 1.105082410761654e-10\n",
      "368 Epoch completed with cost: 1.033350406409785e-10\n",
      "369 Epoch completed with cost: 9.662745981643994e-11\n",
      "370 Epoch completed with cost: 9.035527477362338e-11\n",
      "371 Epoch completed with cost: 8.449022353072684e-11\n",
      "372 Epoch completed with cost: 7.90058786327314e-11\n",
      "373 Epoch completed with cost: 7.38775280440542e-11\n",
      "374 Epoch completed with cost: 6.908206382122296e-11\n",
      "375 Epoch completed with cost: 6.459787797536854e-11\n",
      "376 Epoch completed with cost: 6.040476511923903e-11\n",
      "377 Epoch completed with cost: 5.648383140831623e-11\n",
      "378 Epoch completed with cost: 5.281740942725358e-11\n",
      "379 Epoch completed with cost: 4.938897856354172e-11\n",
      "380 Epoch completed with cost: 4.6183090574999903e-11\n",
      "381 Epoch completed with cost: 4.3185299983710903e-11\n",
      "382 Epoch completed with cost: 4.038209897581845e-11\n",
      "383 Epoch completed with cost: 3.77608565470353e-11\n",
      "384 Epoch completed with cost: 3.5309761590234445e-11\n",
      "385 Epoch completed with cost: 3.301776965513546e-11\n",
      "386 Epoch completed with cost: 3.0874553209258145e-11\n",
      "387 Epoch completed with cost: 2.8870455086576636e-11\n",
      "388 Epoch completed with cost: 2.6996444976884328e-11\n",
      "389 Epoch completed with cost: 2.524407873745027e-11\n",
      "390 Epoch completed with cost: 2.3605460341918266e-11\n",
      "391 Epoch completed with cost: 2.2073206303472873e-11\n",
      "392 Epoch completed with cost: 2.0640412409758148e-11\n",
      "393 Epoch completed with cost: 1.9300622599973832e-11\n",
      "394 Epoch completed with cost: 1.8047799886271456e-11\n",
      "395 Epoch completed with cost: 1.6876299146450696e-11\n",
      "396 Epoch completed with cost: 1.5780841692640022e-11\n",
      "397 Epoch completed with cost: 1.475649147660169e-11\n",
      "398 Epoch completed with cost: 1.3798632857761248e-11\n",
      "399 Epoch completed with cost: 1.290294980063114e-11\n",
      "400 Epoch completed with cost: 1.2065406426390142e-11\n",
      "401 Epoch completed with cost: 1.1282228829952027e-11\n",
      "402 Epoch completed with cost: 1.0549888075757067e-11\n",
      "403 Epoch completed with cost: 9.865084289603577e-12\n",
      "404 Epoch completed with cost: 9.224731803349876e-12\n",
      "405 Epoch completed with cost: 8.625945237801237e-12\n",
      "406 Epoch completed with cost: 8.066026507079107e-12\n",
      "407 Epoch completed with cost: 7.542452660044373e-12\n",
      "408 Epoch completed with cost: 7.052864515472487e-12\n",
      "409 Epoch completed with cost: 6.595056027443356e-12\n",
      "410 Epoch completed with cost: 6.16696434524345e-12\n",
      "411 Epoch completed with cost: 5.766660523579528e-12\n",
      "412 Epoch completed with cost: 5.392340822972614e-12\n",
      "413 Epoch completed with cost: 5.042318588107352e-12\n",
      "414 Epoch completed with cost: 4.715016646392424e-12\n",
      "415 Epoch completed with cost: 4.40896020093399e-12\n",
      "416 Epoch completed with cost: 4.122770185393875e-12\n",
      "417 Epoch completed with cost: 3.855157049758323e-12\n",
      "418 Epoch completed with cost: 3.60491495040383e-12\n",
      "419 Epoch completed with cost: 3.370916316187186e-12\n",
      "420 Epoch completed with cost: 3.1521067669696088e-12\n",
      "421 Epoch completed with cost: 2.947500364783198e-12\n",
      "422 Epoch completed with cost: 2.7561751687367917e-12\n",
      "423 Epoch completed with cost: 2.577269082000536e-12\n",
      "424 Epoch completed with cost: 2.409975968964634e-12\n",
      "425 Epoch completed with cost: 2.253542018343563e-12\n",
      "426 Epoch completed with cost: 2.1072623523511573e-12\n",
      "427 Epoch completed with cost: 1.9704778459582415e-12\n",
      "428 Epoch completed with cost: 1.84257215832406e-12\n",
      "429 Epoch completed with cost: 1.7229689573080392e-12\n",
      "430 Epoch completed with cost: 1.6111293193354918e-12\n",
      "431 Epoch completed with cost: 1.506549303937135e-12\n",
      "432 Epoch completed with cost: 1.4087576818100065e-12\n",
      "433 Epoch completed with cost: 1.317313811617419e-12\n",
      "434 Epoch completed with cost: 1.2318056550000989e-12\n",
      "435 Epoch completed with cost: 1.1518479178262057e-12\n",
      "436 Epoch completed with cost: 1.077080317811506e-12\n",
      "437 Epoch completed with cost: 1.0071659572432173e-12\n",
      "438 Epoch completed with cost: 9.417898080632723e-13\n",
      "439 Epoch completed with cost: 8.806572895414365e-13\n",
      "440 Epoch completed with cost: 8.234929444130035e-13\n",
      "441 Epoch completed with cost: 7.700391939057052e-13\n",
      "442 Epoch completed with cost: 7.200551802916741e-13\n",
      "443 Epoch completed with cost: 6.733156783896003e-13\n",
      "444 Epoch completed with cost: 6.29610084725154e-13\n",
      "445 Epoch completed with cost: 5.88741464552174e-13\n",
      "446 Epoch completed with cost: 5.505256673604601e-13\n",
      "447 Epoch completed with cost: 5.147904957516026e-13\n",
      "448 Epoch completed with cost: 4.813749301519883e-13\n",
      "449 Epoch completed with cost: 4.5012840210281737e-13\n",
      "450 Epoch completed with cost: 4.209101170924417e-13\n",
      "451 Epoch completed with cost: 3.935884203838338e-13\n",
      "452 Epoch completed with cost: 3.680402024499475e-13\n",
      "453 Epoch completed with cost: 3.4415034505423416e-13\n",
      "454 Epoch completed with cost: 3.2181120183540443e-13\n",
      "455 Epoch completed with cost: 3.0092211478172027e-13\n",
      "456 Epoch completed with cost: 2.8138895949294233e-13\n",
      "457 Epoch completed with cost: 2.631237206107622e-13\n",
      "458 Epoch completed with cost: 2.4604409683273025e-13\n",
      "459 Epoch completed with cost: 2.3007312844709434e-13\n",
      "460 Epoch completed with cost: 2.1513885164444755e-13\n",
      "461 Epoch completed with cost: 2.0117397363321797e-13\n",
      "462 Epoch completed with cost: 1.881155698822897e-13\n",
      "463 Epoch completed with cost: 1.759048003036834e-13\n",
      "464 Epoch completed with cost: 1.6448664364144574e-13\n",
      "465 Epoch completed with cost: 1.5380965109063744e-13\n",
      "466 Epoch completed with cost: 1.4382571266998486e-13\n",
      "467 Epoch completed with cost: 1.3448984190902948e-13\n",
      "468 Epoch completed with cost: 1.257599717762759e-13\n",
      "469 Epoch completed with cost: 1.17596766231322e-13\n",
      "470 Epoch completed with cost: 1.0996344239628847e-13\n",
      "471 Epoch completed with cost: 1.0282560543763849e-13\n",
      "472 Epoch completed with cost: 9.615109270200104e-14\n",
      "473 Epoch completed with cost: 8.99098290930229e-14\n",
      "474 Epoch completed with cost: 8.407369224306731e-14\n",
      "475 Epoch completed with cost: 7.861638478540718e-14\n",
      "476 Epoch completed with cost: 7.3513316574403e-14\n",
      "477 Epoch completed with cost: 6.874149357850077e-14\n",
      "478 Epoch completed with cost: 6.427941451515737e-14\n",
      "479 Epoch completed with cost: 6.010697354675451e-14\n",
      "480 Epoch completed with cost: 5.620536978750985e-14\n",
      "481 Epoch completed with cost: 5.255702307503621e-14\n",
      "482 Epoch completed with cost: 4.9145494183459797e-14\n",
      "483 Epoch completed with cost: 4.5955410977068135e-14\n",
      "484 Epoch completed with cost: 4.297239932049375e-14\n",
      "485 Epoch completed with cost: 4.0183017854410045e-14\n",
      "486 Epoch completed with cost: 3.757469800470625e-14\n",
      "487 Epoch completed with cost: 3.5135686701704955e-14\n",
      "488 Epoch completed with cost: 3.285499417996626e-14\n",
      "489 Epoch completed with cost: 3.0722343649814756e-14\n",
      "490 Epoch completed with cost: 2.8728125574715037e-14\n",
      "491 Epoch completed with cost: 2.68633542343287e-14\n",
      "492 Epoch completed with cost: 2.5119627026542234e-14\n",
      "493 Epoch completed with cost: 2.3489086935705533e-14\n",
      "494 Epoch completed with cost: 2.196438677355929e-14\n",
      "495 Epoch completed with cost: 2.0538656483607728e-14\n",
      "496 Epoch completed with cost: 1.9205471771938194e-14\n",
      "497 Epoch completed with cost: 1.795882538293962e-14\n",
      "498 Epoch completed with cost: 1.6793100057982912e-14\n",
      "499 Epoch completed with cost: 1.5703043182631006e-14\n",
      "500 Epoch completed with cost: 1.4683742941325664e-14\n",
      "501 Epoch completed with cost: 1.3730606542269176e-14\n",
      "502 Epoch completed with cost: 1.283933911582359e-14\n",
      "503 Epoch completed with cost: 1.2005924802726482e-14\n",
      "504 Epoch completed with cost: 1.1226608244831478e-14\n",
      "505 Epoch completed with cost: 1.0497877869738723e-14\n",
      "506 Epoch completed with cost: 9.816450125169044e-15\n",
      "507 Epoch completed with cost: 9.17925453463376e-15\n",
      "508 Epoch completed with cost: 8.583419953972843e-15\n",
      "509 Epoch completed with cost: 8.026261583376273e-15\n",
      "510 Epoch completed with cost: 7.505268922404094e-15\n",
      "511 Epoch completed with cost: 7.018094400379804e-15\n",
      "512 Epoch completed with cost: 6.562542865498303e-15\n",
      "513 Epoch completed with cost: 6.136561636418343e-15\n",
      "514 Epoch completed with cost: 5.738231277438435e-15\n",
      "515 Epoch completed with cost: 5.3657569352476136e-15\n",
      "516 Epoch completed with cost: 5.017460311873488e-15\n",
      "517 Epoch completed with cost: 4.691771975796611e-15\n",
      "518 Epoch completed with cost: 4.3872243386166665e-15\n",
      "519 Epoch completed with cost: 4.102445234393855e-15\n",
      "520 Epoch completed with cost: 3.836151426457448e-15\n",
      "521 Epoch completed with cost: 3.587142995639848e-15\n",
      "522 Epoch completed with cost: 3.3542979603956643e-15\n",
      "523 Epoch completed with cost: 3.1365671469272307e-15\n",
      "524 Epoch completed with cost: 2.932969449512526e-15\n",
      "525 Epoch completed with cost: 2.7425874671664407e-15\n",
      "526 Epoch completed with cost: 2.564563369534395e-15\n",
      "527 Epoch completed with cost: 2.398094981080016e-15\n",
      "528 Epoch completed with cost: 2.242432237543887e-15\n",
      "529 Epoch completed with cost: 2.0968737224092114e-15\n",
      "530 Epoch completed with cost: 1.9607635611615082e-15\n",
      "531 Epoch completed with cost: 1.8334884325635305e-15\n",
      "532 Epoch completed with cost: 1.7144748652745425e-15\n",
      "533 Epoch completed with cost: 1.603186589550716e-15\n",
      "534 Epoch completed with cost: 1.4991221454016673e-15\n",
      "535 Epoch completed with cost: 1.40181263585814e-15\n",
      "536 Epoch completed with cost: 1.3108195722426982e-15\n",
      "537 Epoch completed with cost: 1.225732961898616e-15\n",
      "538 Epoch completed with cost: 1.1461694158115996e-15\n",
      "539 Epoch completed with cost: 1.0717704189247277e-15\n",
      "540 Epoch completed with cost: 1.0022007270918294e-15\n",
      "541 Epoch completed with cost: 9.371468813622908e-16\n",
      "542 Epoch completed with cost: 8.763157358436339e-16\n",
      "543 Epoch completed with cost: 8.194332085785796e-16\n",
      "544 Epoch completed with cost: 7.662429810185271e-16\n",
      "545 Epoch completed with cost: 7.165053759717509e-16\n",
      "546 Epoch completed with cost: 6.699962947550188e-16\n",
      "547 Epoch completed with cost: 6.265061642781837e-16\n",
      "548 Epoch completed with cost: 5.8583901972251645e-16\n",
      "549 Epoch completed with cost: 5.478116276074053e-16\n",
      "550 Epoch completed with cost: 5.122526202038016e-16\n",
      "551 Epoch completed with cost: 4.790017950173005e-16\n",
      "552 Epoch completed with cost: 4.479093083984429e-16\n",
      "553 Epoch completed with cost: 4.188350694606795e-16\n",
      "554 Epoch completed with cost: 3.916480644589558e-16\n",
      "555 Epoch completed with cost: 3.6622580343906634e-16\n",
      "556 Epoch completed with cost: 3.4245372173474136e-16\n",
      "557 Epoch completed with cost: 3.2022470327776355e-16\n",
      "558 Epoch completed with cost: 2.994385966356539e-16\n",
      "559 Epoch completed with cost: 2.8000174349011943e-16\n",
      "560 Epoch completed with cost: 2.6182654475549797e-16\n",
      "561 Epoch completed with cost: 2.448311217219126e-16\n",
      "562 Epoch completed with cost: 2.2893888178625604e-16\n",
      "563 Epoch completed with cost: 2.140782260674118e-16\n",
      "564 Epoch completed with cost: 2.0018219890582801e-16\n",
      "565 Epoch completed with cost: 1.8718817102447576e-16\n",
      "566 Epoch completed with cost: 1.7503760028142353e-16\n",
      "567 Epoch completed with cost: 1.6367573615735273e-16\n",
      "568 Epoch completed with cost: 1.5305137959491804e-16\n",
      "569 Epoch completed with cost: 1.4311665781160396e-16\n",
      "570 Epoch completed with cost: 1.3382681809150406e-16\n",
      "571 Epoch completed with cost: 1.2513998432130973e-16\n",
      "572 Epoch completed with cost: 1.1701702310946326e-16\n",
      "573 Epoch completed with cost: 1.0942132833829629e-16\n",
      "574 Epoch completed with cost: 1.0231868086909153e-16\n",
      "575 Epoch completed with cost: 9.567707203510314e-17\n",
      "576 Epoch completed with cost: 8.946657611290463e-17\n",
      "577 Epoch completed with cost: 8.3659211531869e-17\n",
      "578 Epoch completed with cost: 7.822880718000233e-17\n",
      "579 Epoch completed with cost: 7.315089830550119e-17\n",
      "580 Epoch completed with cost: 6.840259981068434e-17\n",
      "581 Epoch completed with cost: 6.396251772587073e-17\n",
      "582 Epoch completed with cost: 5.981064767143455e-17\n",
      "583 Epoch completed with cost: 5.592828046511217e-17\n",
      "584 Epoch completed with cost: 5.2297919925172777e-17\n",
      "585 Epoch completed with cost: 4.890320609337305e-17\n",
      "586 Epoch completed with cost: 4.572885143486792e-17\n",
      "587 Epoch completed with cost: 4.276054733576285e-17\n",
      "588 Epoch completed with cost: 3.9984917660248416e-17\n",
      "589 Epoch completed with cost: 3.738945537213664e-17\n",
      "590 Epoch completed with cost: 3.496247095770754e-17\n",
      "591 Epoch completed with cost: 3.26930204354269e-17\n",
      "592 Epoch completed with cost: 3.057088575172055e-17\n",
      "593 Epoch completed with cost: 2.858649942452037e-17\n",
      "594 Epoch completed with cost: 2.6730920857953065e-17\n",
      "595 Epoch completed with cost: 2.4995788170166428e-17\n",
      "596 Epoch completed with cost: 2.337328894816222e-17\n",
      "597 Epoch completed with cost: 2.1856104337946862e-17\n",
      "598 Epoch completed with cost: 2.0437402316102507e-17\n",
      "599 Epoch completed with cost: 1.9110790324491848e-17\n",
      "600 Epoch completed with cost: 1.7870290983331387e-17\n",
      "601 Epoch completed with cost: 1.6710312059321234e-17\n",
      "602 Epoch completed with cost: 1.562563004499432e-17\n",
      "603 Epoch completed with cost: 1.4611353913564258e-17\n",
      "604 Epoch completed with cost: 1.3662916121213015e-17\n",
      "605 Epoch completed with cost: 1.2776042967535298e-17\n",
      "606 Epoch completed with cost: 1.1946738386251348e-17\n",
      "607 Epoch completed with cost: 1.1171262125555119e-17\n",
      "608 Epoch completed with cost: 1.0446125177311394e-17\n",
      "609 Epoch completed with cost: 9.768055875027561e-18\n",
      "610 Epoch completed with cost: 9.134001115705146e-18\n",
      "611 Epoch completed with cost: 8.541103561725872e-18\n",
      "612 Epoch completed with cost: 7.986691617868798e-18\n",
      "613 Epoch completed with cost: 7.468268092000013e-18\n",
      "614 Epoch completed with cost: 6.983494368083888e-18\n",
      "615 Epoch completed with cost: 6.5301881786756544e-18\n",
      "616 Epoch completed with cost: 6.1063074009492194e-18\n",
      "617 Epoch completed with cost: 5.7099401601879286e-18\n",
      "618 Epoch completed with cost: 5.339302283455964e-18\n",
      "619 Epoch completed with cost: 4.992723302400925e-18\n",
      "620 Epoch completed with cost: 4.668640567289825e-18\n",
      "621 Epoch completed with cost: 4.365593744052812e-18\n",
      "622 Epoch completed with cost: 4.0822185622769145e-18\n",
      "623 Epoch completed with cost: 3.817237661341995e-18\n"
     ]
    },
    {
     "name": "stdout",
     "output_type": "stream",
     "text": [
      "624 Epoch completed with cost: 3.569457639250587e-18\n",
      "625 Epoch completed with cost: 3.337760453501506e-18\n",
      "626 Epoch completed with cost: 3.1211027565578543e-18\n",
      "627 Epoch completed with cost: 2.918509397205422e-18\n",
      "628 Epoch completed with cost: 2.72906666283777e-18\n",
      "629 Epoch completed with cost: 2.5519201307768853e-18\n",
      "630 Epoch completed with cost: 2.386271967406212e-18\n",
      "631 Epoch completed with cost: 2.231377139982957e-18\n",
      "632 Epoch completed with cost: 2.0865365375063058e-18\n",
      "633 Epoch completed with cost: 1.9510970670204264e-18\n",
      "634 Epoch completed with cost: 1.8244495692280177e-18\n",
      "635 Epoch completed with cost: 1.7060223614170856e-18\n",
      "636 Epoch completed with cost: 1.5952835432232346e-18\n",
      "637 Epoch completed with cost: 1.4917315357691813e-18\n",
      "638 Epoch completed with cost: 1.3949017184944438e-18\n",
      "639 Epoch completed with cost: 1.3043577092680862e-18\n",
      "640 Epoch completed with cost: 1.2196901525156553e-18\n",
      "641 Epoch completed with cost: 1.1405190429861745e-18\n",
      "642 Epoch completed with cost: 1.0664866799746351e-18\n",
      "643 Epoch completed with cost: 9.97260002508837e-19\n",
      "644 Epoch completed with cost: 9.325265791576717e-19\n",
      "645 Epoch completed with cost: 8.71995338597627e-19\n",
      "646 Epoch completed with cost: 8.153931178530868e-19\n",
      "647 Epoch completed with cost: 7.624654605105563e-19\n",
      "648 Epoch completed with cost: 7.129730541307371e-19\n",
      "649 Epoch completed with cost: 6.6669294610579e-19\n",
      "650 Epoch completed with cost: 6.23417026642338e-19\n",
      "651 Epoch completed with cost: 5.829503229967598e-19\n",
      "652 Epoch completed with cost: 5.451107499240493e-19\n",
      "653 Epoch completed with cost: 5.097270870043343e-19\n",
      "654 Epoch completed with cost: 4.766402094603181e-19\n",
      "655 Epoch completed with cost: 4.4570097221093725e-19\n",
      "656 Epoch completed with cost: 4.167701783575159e-19\n",
      "657 Epoch completed with cost: 3.8971715101953576e-19\n",
      "658 Epoch completed with cost: 3.6442030493438795e-19\n",
      "659 Epoch completed with cost: 3.407654394016558e-19\n",
      "660 Epoch completed with cost: 3.186461289318077e-19\n",
      "661 Epoch completed with cost: 2.9796227531268967e-19\n",
      "662 Epoch completed with cost: 2.786211295146395e-19\n",
      "663 Epoch completed with cost: 2.605354312053601e-19\n",
      "664 Epoch completed with cost: 2.4362376662577933e-19\n",
      "665 Epoch completed with cost: 2.278098624731508e-19\n",
      "666 Epoch completed with cost: 2.1302262251812707e-19\n",
      "667 Epoch completed with cost: 1.991951368910874e-19\n",
      "668 Epoch completed with cost: 1.862651644351047e-19\n",
      "669 Epoch completed with cost: 1.7417445083322335e-19\n",
      "670 Epoch completed with cost: 1.628686810346862e-19\n",
      "671 Epoch completed with cost: 1.522968153898138e-19\n",
      "672 Epoch completed with cost: 1.424109753012328e-19\n",
      "673 Epoch completed with cost: 1.3316700188451563e-19\n",
      "674 Epoch completed with cost: 1.2452298312269604e-19\n",
      "675 Epoch completed with cost: 1.1644001919687094e-19\n",
      "676 Epoch completed with cost: 1.0888168088701477e-19\n",
      "677 Epoch completed with cost: 1.0181409046995745e-19\n",
      "678 Epoch completed with cost: 9.520524962499238e-20\n",
      "679 Epoch completed with cost: 8.902535239976781e-20\n",
      "680 Epoch completed with cost: 8.324667519805613e-20\n",
      "681 Epoch completed with cost: 7.784310660719857e-20\n",
      "682 Epoch completed with cost: 7.279019288797517e-20\n",
      "683 Epoch completed with cost: 6.80652630069875e-20\n",
      "684 Epoch completed with cost: 6.364712295730788e-20\n",
      "685 Epoch completed with cost: 5.951568497364304e-20\n",
      "686 Epoch completed with cost: 5.565245008621168e-20\n",
      "687 Epoch completed with cost: 5.2039982475114403e-20\n",
      "688 Epoch completed with cost: 4.8661985662946206e-20\n",
      "689 Epoch completed with cost: 4.5503268482249866e-20\n",
      "690 Epoch completed with cost: 4.254957494651661e-20\n",
      "691 Epoch completed with cost: 3.9787626627895026e-20\n",
      "692 Epoch completed with cost: 3.720502464838495e-20\n",
      "693 Epoch completed with cost: 3.4789957271165823e-20\n",
      "694 Epoch completed with cost: 3.253171576588858e-20\n",
      "695 Epoch completed with cost: 3.042008079247354e-20\n",
      "696 Epoch completed with cost: 2.844547441851542e-20\n",
      "697 Epoch completed with cost: 2.659906074271343e-20\n",
      "698 Epoch completed with cost: 2.4872432920202642e-20\n",
      "699 Epoch completed with cost: 2.3257906340033424e-20\n",
      "700 Epoch completed with cost: 2.1748237247855532e-20\n",
      "701 Epoch completed with cost: 2.033654066032976e-20\n",
      "702 Epoch completed with cost: 1.901644827172227e-20\n",
      "703 Epoch completed with cost: 1.7782104009002492e-20\n",
      "704 Epoch completed with cost: 1.662780747735618e-20\n",
      "705 Epoch completed with cost: 1.5548520856651418e-20\n",
      "706 Epoch completed with cost: 1.4539273388455402e-20\n",
      "707 Epoch completed with cost: 1.359550376042493e-20\n",
      "708 Epoch completed with cost: 1.2713031797932983e-20\n",
      "709 Epoch completed with cost: 1.1887847788879803e-20\n",
      "710 Epoch completed with cost: 1.1116189103655975e-20\n",
      "711 Epoch completed with cost: 1.039461827588608e-20\n",
      "712 Epoch completed with cost: 9.719892209258566e-21\n",
      "713 Epoch completed with cost: 9.089004571981918e-21\n",
      "714 Epoch completed with cost: 8.499034131639336e-21\n",
      "715 Epoch completed with cost: 7.947355934400608e-21\n",
      "716 Epoch completed with cost: 7.431476109848541e-21\n",
      "717 Epoch completed with cost: 6.949077529379165e-21\n",
      "718 Epoch completed with cost: 6.498024275123423e-21\n",
      "719 Epoch completed with cost: 6.0762373618522914e-21\n",
      "720 Epoch completed with cost: 5.681807347256803e-21\n",
      "721 Epoch completed with cost: 5.312990210344569e-21\n",
      "722 Epoch completed with cost: 4.968118889658853e-21\n",
      "723 Epoch completed with cost: 4.645657706269801e-21\n",
      "724 Epoch completed with cost: 4.344077739275952e-21\n",
      "725 Epoch completed with cost: 4.0620868408636515e-21\n",
      "726 Epoch completed with cost: 3.798406279825326e-21\n",
      "727 Epoch completed with cost: 3.551849203910901e-21\n",
      "728 Epoch completed with cost: 3.3212895715406882e-21\n",
      "729 Epoch completed with cost: 3.1057086514702856e-21\n",
      "730 Epoch completed with cost: 2.904123226753842e-21\n",
      "731 Epoch completed with cost: 2.7156156289282052e-21\n",
      "732 Epoch completed with cost: 2.539336749271259e-21\n",
      "733 Epoch completed with cost: 2.3744995643579306e-21\n",
      "734 Epoch completed with cost: 2.2203688157393264e-21\n",
      "735 Epoch completed with cost: 2.076256019344871e-21\n",
      "736 Epoch completed with cost: 1.9414782909440584e-21\n",
      "737 Epoch completed with cost: 1.815454012908336e-21\n",
      "738 Epoch completed with cost: 1.6976011376972153e-21\n",
      "739 Epoch completed with cost: 1.5874180336197959e-21\n",
      "740 Epoch completed with cost: 1.4843629378720168e-21\n",
      "741 Epoch completed with cost: 1.388026101033695e-21\n",
      "742 Epoch completed with cost: 1.2979146798507335e-21\n",
      "743 Epoch completed with cost: 1.213679432255083e-21\n",
      "744 Epoch completed with cost: 1.1348990550095055e-21\n",
      "745 Epoch completed with cost: 1.0612345396340247e-21\n",
      "746 Epoch completed with cost: 9.923407511453323e-22\n",
      "747 Epoch completed with cost: 9.279184041087283e-22\n",
      "748 Epoch completed with cost: 8.676837763870277e-22\n",
      "749 Epoch completed with cost: 8.113678464040659e-22\n",
      "750 Epoch completed with cost: 7.58705060020554e-22\n",
      "751 Epoch completed with cost: 7.094572556967934e-22\n",
      "752 Epoch completed with cost: 6.634039080002836e-22\n",
      "753 Epoch completed with cost: 6.203476656964711e-22\n",
      "754 Epoch completed with cost: 5.800775763833183e-22\n",
      "755 Epoch completed with cost: 5.424220134941094e-22\n",
      "756 Epoch completed with cost: 5.072108386506913e-22\n",
      "757 Epoch completed with cost: 4.742886468969177e-22\n",
      "758 Epoch completed with cost: 4.4350451137252785e-22\n",
      "759 Epoch completed with cost: 4.147180624429154e-22\n",
      "760 Epoch completed with cost: 3.8780156899646067e-22\n",
      "761 Epoch completed with cost: 3.6262798773183253e-22\n",
      "762 Epoch completed with cost: 3.39082163269535e-22\n",
      "763 Epoch completed with cost: 3.1707003029695073e-22\n",
      "764 Epoch completed with cost: 2.964842907677664e-22\n",
      "765 Epoch completed with cost: 2.7724596522730657e-22\n",
      "766 Epoch completed with cost: 2.592519973096933e-22\n",
      "767 Epoch completed with cost: 2.4241876722772457e-22\n",
      "768 Epoch completed with cost: 2.2668791106911727e-22\n",
      "769 Epoch completed with cost: 2.119764127298727e-22\n",
      "770 Epoch completed with cost: 1.982208510669838e-22\n",
      "771 Epoch completed with cost: 1.8535711363644568e-22\n",
      "772 Epoch completed with cost: 1.7332030352508468e-22\n",
      "773 Epoch completed with cost: 1.6206736737572756e-22\n",
      "774 Epoch completed with cost: 1.5154376921007512e-22\n",
      "775 Epoch completed with cost: 1.4170839935519928e-22\n",
      "776 Epoch completed with cost: 1.3250874477168245e-22\n",
      "777 Epoch completed with cost: 1.2390705133711195e-22\n",
      "778 Epoch completed with cost: 1.1586288553712606e-22\n",
      "779 Epoch completed with cost: 1.0834544562838127e-22\n",
      "780 Epoch completed with cost: 1.0131185762711559e-22\n",
      "781 Epoch completed with cost: 9.473487912176171e-23\n",
      "782 Epoch completed with cost: 8.85814854107142e-23\n",
      "783 Epoch completed with cost: 8.283286171395146e-23\n",
      "784 Epoch completed with cost: 7.745521381454397e-23\n",
      "785 Epoch completed with cost: 7.242835716302246e-23\n",
      "786 Epoch completed with cost: 6.772370483424688e-23\n",
      "787 Epoch completed with cost: 6.332762445388878e-23\n",
      "788 Epoch completed with cost: 5.921696501527901e-23\n",
      "789 Epoch completed with cost: 5.537280788362527e-23\n",
      "790 Epoch completed with cost: 5.178020951395813e-23\n",
      "791 Epoch completed with cost: 4.841917607995596e-23\n",
      "792 Epoch completed with cost: 4.527622677335469e-23\n",
      "793 Epoch completed with cost: 4.233681561905741e-23\n",
      "794 Epoch completed with cost: 3.9587259779057037e-23\n",
      "795 Epoch completed with cost: 3.701913247353107e-23\n",
      "796 Epoch completed with cost: 3.461651334556383e-23\n",
      "797 Epoch completed with cost: 3.23688469148557e-23\n",
      "798 Epoch completed with cost: 3.02676813897631e-23\n",
      "799 Epoch completed with cost: 2.830488085703781e-23\n",
      "800 Epoch completed with cost: 2.646663236839239e-23\n",
      "801 Epoch completed with cost: 2.4749692612194474e-23\n",
      "802 Epoch completed with cost: 2.3142813283658863e-23\n",
      "803 Epoch completed with cost: 2.163885480455843e-23\n",
      "804 Epoch completed with cost: 2.0234283126108993e-23\n",
      "805 Epoch completed with cost: 1.8920138977516256e-23\n",
      "806 Epoch completed with cost: 1.76929002489128e-23\n",
      "807 Epoch completed with cost: 1.6544759555569966e-23\n",
      "808 Epoch completed with cost: 1.546955882616187e-23\n",
      "809 Epoch completed with cost: 1.446653990989182e-23\n",
      "810 Epoch completed with cost: 1.352776421843887e-23\n",
      "811 Epoch completed with cost: 1.2650499394007138e-23\n",
      "812 Epoch completed with cost: 1.1828905165281976e-23\n",
      "813 Epoch completed with cost: 1.1060289655357885e-23\n",
      "814 Epoch completed with cost: 1.0341043782452649e-23\n",
      "815 Epoch completed with cost: 9.669103561033085e-24\n",
      "816 Epoch completed with cost: 9.042097320230691e-24\n",
      "817 Epoch completed with cost: 8.455396146280552e-24\n",
      "818 Epoch completed with cost: 7.90540106714599e-24\n",
      "819 Epoch completed with cost: 7.393272774552497e-24\n",
      "820 Epoch completed with cost: 6.912698680276977e-24\n",
      "821 Epoch completed with cost: 6.4643432652792076e-24\n",
      "822 Epoch completed with cost: 6.045141535004062e-24\n",
      "823 Epoch completed with cost: 5.652275137188816e-24\n",
      "824 Epoch completed with cost: 5.2858119816640504e-24\n",
      "825 Epoch completed with cost: 4.943116832969854e-24\n",
      "826 Epoch completed with cost: 4.6223427470925705e-24\n",
      "827 Epoch completed with cost: 4.3228343100424534e-24\n",
      "828 Epoch completed with cost: 4.041727887708221e-24\n",
      "829 Epoch completed with cost: 3.778771753342422e-24\n",
      "830 Epoch completed with cost: 3.5335708034954866e-24\n",
      "831 Epoch completed with cost: 3.304851021642506e-24\n",
      "832 Epoch completed with cost: 3.0906371197983307e-24\n",
      "833 Epoch completed with cost: 2.890147614139798e-24\n",
      "834 Epoch completed with cost: 2.7026032888188483e-24\n",
      "835 Epoch completed with cost: 2.5274723024413482e-24\n",
      "836 Epoch completed with cost: 2.3641285755498687e-24\n",
      "837 Epoch completed with cost: 2.2103773948006865e-24\n",
      "838 Epoch completed with cost: 2.0671144168418518e-24\n",
      "839 Epoch completed with cost: 1.933413788908977e-24\n",
      "840 Epoch completed with cost: 1.8080764128438418e-24\n",
      "841 Epoch completed with cost: 1.6907039927754e-24\n",
      "842 Epoch completed with cost: 1.5808512968413403e-24\n",
      "843 Epoch completed with cost: 1.4785310170740705e-24\n",
      "844 Epoch completed with cost: 1.3823597367322705e-24\n",
      "845 Epoch completed with cost: 1.2926603809578734e-24\n",
      "846 Epoch completed with cost: 1.2088098704300807e-24\n",
      "847 Epoch completed with cost: 1.130517470462273e-24\n",
      "848 Epoch completed with cost: 1.0571811704827971e-24\n",
      "849 Epoch completed with cost: 9.887596551343374e-25\n",
      "850 Epoch completed with cost: 9.245559818308682e-25\n",
      "851 Epoch completed with cost: 8.645133328656907e-25\n",
      "852 Epoch completed with cost: 8.082899145300957e-25\n",
      "853 Epoch completed with cost: 7.558323012192767e-25\n",
      "854 Epoch completed with cost: 7.068210239881421e-25\n",
      "855 Epoch completed with cost: 6.607371393183582e-25\n",
      "856 Epoch completed with cost: 6.179023385240984e-25\n",
      "857 Epoch completed with cost: 5.775026120610024e-25\n",
      "858 Epoch completed with cost: 5.401373475382135e-25\n",
      "859 Epoch completed with cost: 5.052255575272024e-25\n",
      "860 Epoch completed with cost: 4.72488239182125e-25\n",
      "861 Epoch completed with cost: 4.419733897586832e-25\n",
      "862 Epoch completed with cost: 4.1324969216137656e-25\n",
      "863 Epoch completed with cost: 3.8647333098867736e-25\n",
      "864 Epoch completed with cost: 3.6142429170152436e-25\n",
      "865 Epoch completed with cost: 3.381332622217258e-25\n",
      "866 Epoch completed with cost: 3.1590519322942865e-25\n",
      "867 Epoch completed with cost: 2.95558965485083e-25\n",
      "868 Epoch completed with cost: 2.7635761403767495e-25\n",
      "869 Epoch completed with cost: 2.5831092569280987e-25\n",
      "870 Epoch completed with cost: 2.416501833745421e-25\n",
      "871 Epoch completed with cost: 2.260216902026593e-25\n",
      "872 Epoch completed with cost: 2.114464200164791e-25\n",
      "873 Epoch completed with cost: 1.9785353310671253e-25\n",
      "874 Epoch completed with cost: 1.8493199147919236e-25\n",
      "875 Epoch completed with cost: 1.7289132768370174e-25\n",
      "876 Epoch completed with cost: 1.6161353922217608e-25\n",
      "877 Epoch completed with cost: 1.511059674314146e-25\n",
      "878 Epoch completed with cost: 1.4128589531512421e-25\n",
      "879 Epoch completed with cost: 1.3204675639317572e-25\n",
      "880 Epoch completed with cost: 1.2356557968086688e-25\n",
      "881 Epoch completed with cost: 1.1551064053938607e-25\n",
      "882 Epoch completed with cost: 1.0798214525781418e-25\n",
      "883 Epoch completed with cost: 1.0084257442625338e-25\n",
      "884 Epoch completed with cost: 9.445280109396319e-26\n",
      "885 Epoch completed with cost: 8.825244928875369e-26\n",
      "886 Epoch completed with cost: 8.242831880779091e-26\n",
      "887 Epoch completed with cost: 7.718654516858491e-26\n",
      "888 Epoch completed with cost: 7.220088878080572e-26\n",
      "889 Epoch completed with cost: 6.75316851777511e-26\n",
      "890 Epoch completed with cost: 6.312553340651825e-26\n",
      "891 Epoch completed with cost: 5.900823168389822e-26\n",
      "892 Epoch completed with cost: 5.516534385532548e-26\n",
      "893 Epoch completed with cost: 5.1548510282119627e-26\n",
      "894 Epoch completed with cost: 4.8180997430604047e-26\n",
      "895 Epoch completed with cost: 4.499347675316145e-26\n",
      "896 Epoch completed with cost: 4.2056659769183587e-26\n",
      "897 Epoch completed with cost: 3.935594022597222e-26\n",
      "898 Epoch completed with cost: 3.6855627097946757e-26\n",
      "899 Epoch completed with cost: 3.4495374991048116e-26\n",
      "900 Epoch completed with cost: 3.221322011376636e-26\n",
      "901 Epoch completed with cost: 3.006331653464974e-26\n",
      "902 Epoch completed with cost: 2.8084355415909026e-26\n",
      "903 Epoch completed with cost: 2.6284693752758893e-26\n",
      "904 Epoch completed with cost: 2.4562431670362583e-26\n",
      "905 Epoch completed with cost: 2.2968774869635094e-26\n",
      "906 Epoch completed with cost: 2.149097338619579e-26\n",
      "907 Epoch completed with cost: 2.0062310541580772e-26\n",
      "908 Epoch completed with cost: 1.8761819105136701e-26\n",
      "909 Epoch completed with cost: 1.7561302229882584e-26\n",
      "910 Epoch completed with cost: 1.6434457567605123e-26\n",
      "911 Epoch completed with cost: 1.5383694841850736e-26\n",
      "912 Epoch completed with cost: 1.4367641995926072e-26\n",
      "913 Epoch completed with cost: 1.3422464604550022e-26\n",
      "914 Epoch completed with cost: 1.2539126512572316e-26\n",
      "915 Epoch completed with cost: 1.1731939382446888e-26\n",
      "916 Epoch completed with cost: 1.095162282690555e-26\n",
      "917 Epoch completed with cost: 1.0256548855149166e-26\n",
      "918 Epoch completed with cost: 9.584265567982683e-27\n",
      "919 Epoch completed with cost: 9.000232396802307e-27\n",
      "920 Epoch completed with cost: 8.399790918793334e-27\n",
      "921 Epoch completed with cost: 7.820096482591673e-27\n",
      "922 Epoch completed with cost: 7.352564508565632e-27\n",
      "923 Epoch completed with cost: 6.85861802016633e-27\n",
      "924 Epoch completed with cost: 6.415924071298272e-27\n",
      "925 Epoch completed with cost: 6.017337307793383e-27\n",
      "926 Epoch completed with cost: 5.623000532415372e-27\n",
      "927 Epoch completed with cost: 5.242044810142173e-27\n",
      "928 Epoch completed with cost: 4.904226220837754e-27\n",
      "929 Epoch completed with cost: 4.569989553081104e-27\n",
      "930 Epoch completed with cost: 4.272250028142571e-27\n",
      "931 Epoch completed with cost: 4.004293700161624e-27\n",
      "932 Epoch completed with cost: 3.745014842138108e-27\n",
      "933 Epoch completed with cost: 3.494413454072023e-27\n",
      "934 Epoch completed with cost: 3.292034886623065e-27\n",
      "935 Epoch completed with cost: 3.074640844881292e-27\n",
      "936 Epoch completed with cost: 2.8788936394168487e-27\n",
      "937 Epoch completed with cost: 2.6758420750081247e-27\n",
      "938 Epoch completed with cost: 2.4991113477401654e-27\n",
      "939 Epoch completed with cost: 2.343533186088609e-27\n",
      "940 Epoch completed with cost: 2.187629619313649e-27\n",
      "941 Epoch completed with cost: 2.054218449098803e-27\n",
      "942 Epoch completed with cost: 1.913382125613564e-27\n",
      "943 Epoch completed with cost: 1.7775649296377942e-27\n",
      "944 Epoch completed with cost: 1.670251496838955e-27\n",
      "945 Epoch completed with cost: 1.566283327316319e-27\n",
      "946 Epoch completed with cost: 1.4656604210698857e-27\n",
      "947 Epoch completed with cost: 1.3683827780996552e-27\n",
      "948 Epoch completed with cost: 1.2784933105448853e-27\n",
      "949 Epoch completed with cost: 1.1747322170098698e-27\n",
      "950 Epoch completed with cost: 1.1107161545511846e-27\n",
      "951 Epoch completed with cost: 1.048514472174508e-27\n",
      "952 Epoch completed with cost: 9.762153702110021e-28\n",
      "953 Epoch completed with cost: 9.065195092347258e-28\n",
      "954 Epoch completed with cost: 8.503920558282507e-28\n",
      "955 Epoch completed with cost: 7.9607898250378405e-28\n",
      "956 Epoch completed with cost: 7.332462114029305e-28\n",
      "957 Epoch completed with cost: 6.910581767107437e-28\n",
      "958 Epoch completed with cost: 6.50124923895924e-28\n",
      "959 Epoch completed with cost: 6.076262752223064e-28\n",
      "960 Epoch completed with cost: 5.783533726627848e-28\n",
      "961 Epoch completed with cost: 5.409478072085004e-28\n",
      "962 Epoch completed with cost: 5.022529472122453e-28\n",
      "963 Epoch completed with cost: 4.674358316032173e-28\n",
      "964 Epoch completed with cost: 4.338734978715565e-28\n",
      "965 Epoch completed with cost: 4.0156594601726285e-28\n",
      "966 Epoch completed with cost: 3.7051317604033633e-28\n",
      "967 Epoch completed with cost: 3.5143753327596076e-28\n",
      "968 Epoch completed with cost: 3.328845108612941e-28\n",
      "969 Epoch completed with cost: 3.1014066488764077e-28\n",
      "970 Epoch completed with cost: 2.9466420000333607e-28\n",
      "971 Epoch completed with cost: 2.7767903863779616e-28\n",
      "972 Epoch completed with cost: 2.612164976219652e-28\n",
      "973 Epoch completed with cost: 2.4703179246995983e-28\n",
      "974 Epoch completed with cost: 2.2749269392376693e-28\n",
      "975 Epoch completed with cost: 2.125980139570627e-28\n",
      "976 Epoch completed with cost: 1.9822595434006737e-28\n",
      "977 Epoch completed with cost: 1.8076747643139486e-28\n",
      "978 Epoch completed with cost: 1.6899865780162888e-28\n",
      "979 Epoch completed with cost: 1.5619445923376034e-28\n",
      "980 Epoch completed with cost: 1.4391288101560071e-28\n",
      "981 Epoch completed with cost: 1.3343582211813415e-28\n",
      "982 Epoch completed with cost: 1.2556323680306133e-28\n",
      "983 Epoch completed with cost: 1.19182091636922e-28\n",
      "984 Epoch completed with cost: 1.1579122233963605e-28\n",
      "985 Epoch completed with cost: 1.0846837446788912e-28\n",
      "986 Epoch completed with cost: 1.0139451081935259e-28\n",
      "987 Epoch completed with cost: 9.827727764856517e-29\n",
      "988 Epoch completed with cost: 9.262829401008408e-29\n",
      "989 Epoch completed with cost: 8.610416780487344e-29\n",
      "990 Epoch completed with cost: 8.322112771532352e-29\n",
      "991 Epoch completed with cost: 7.804299542964623e-29\n",
      "992 Epoch completed with cost: 7.530293637916762e-29\n",
      "993 Epoch completed with cost: 6.941975965944904e-29\n",
      "994 Epoch completed with cost: 6.378556716294084e-29\n",
      "995 Epoch completed with cost: 6.131914423896078e-29\n",
      "996 Epoch completed with cost: 5.687317348094173e-29\n",
      "997 Epoch completed with cost: 5.454973159603297e-29\n",
      "998 Epoch completed with cost: 4.9556488585016843e-29\n",
      "999 Epoch completed with cost: 4.558136917980159e-29\n"
     ]
    }
   ],
   "source": [
    "x_train = np.array([1, 2, 3, 4, 5])\n",
    "y_train = np.array([1, 2, 3, 4, 5])\n",
    "lin_reg = LinearRegression(no_of_attrs = 1, iteration=1000)\n",
    "lin_reg.fit(x_train, y_train)"
   ]
  },
  {
   "cell_type": "code",
   "execution_count": null,
   "metadata": {},
   "outputs": [],
   "source": [
    "x = np.arange(100)\n",
    "fig = go.Figure(\n",
    "    data=[go.Scatter(x=x[:3], y=lin_reg.t_cost[:3],\n",
    "                     mode=\"lines\",\n",
    "                     line=dict(width=2, color=\"blue\"))],\n",
    "    layout=go.Layout(\n",
    "        xaxis=dict(range=[0, 100], autorange=False, zeroline=False),\n",
    "        yaxis=dict(range=[0, 2], autorange=False, zeroline=False),\n",
    "        title_text=\"The cost of the model per iteration\", hovermode=\"closest\",\n",
    "        updatemenus=[dict(type=\"buttons\",\n",
    "                          buttons=[dict(label=\"Play\",\n",
    "                                        method=\"animate\",\n",
    "                                        args=[None])])]),\n",
    "      frames=[go.Frame(\n",
    "        data=[go.Scatter(\n",
    "            x=x[:k],\n",
    "            y=lin_reg.t_cost[:k],\n",
    "            mode=\"lines\",\n",
    "            line=dict(color=\"red\", width=2))\n",
    "        ]) for k in range(3, 100)]\n",
    ")\n",
    "\n",
    "fig.show()"
   ]
  },
  {
   "cell_type": "markdown",
   "metadata": {},
   "source": [
    "### Making sure the model is working fine:\n",
    "* If $\\ J(\\theta)$ is not converging it means gradient descent is not working. Try changing the $\\alpha$.\n",
    "* If $\\alpha$ is too small, gradient descent can be slow to converge.\n",
    "* I $\\alpha$ is too large $\\ J(\\theta)$ may not decrease and the model will not converge.\n",
    "* Chose alpha between $ 0.001 and 0.3$. It depends on the problem mostly."
   ]
  },
  {
   "cell_type": "code",
   "execution_count": 416,
   "metadata": {},
   "outputs": [],
   "source": [
    "#Lets cheack the model by predicting a value other than the training data\n",
    "x = np.array([6, 7, 8])\n",
    "result = lin_reg.predict(x)"
   ]
  },
  {
   "cell_type": "code",
   "execution_count": 417,
   "metadata": {},
   "outputs": [
    {
     "data": {
      "text/plain": [
       "array([6., 7., 8.])"
      ]
     },
     "execution_count": 417,
     "metadata": {},
     "output_type": "execute_result"
    }
   ],
   "source": [
    "result"
   ]
  },
  {
   "cell_type": "markdown",
   "metadata": {},
   "source": [
    "        The result is not 100% accurate but still it is pretty good.\n",
    "## Performance measure:\n",
    "    The next thing is that we have to select a performance. The typical performance measure for regression problem is Root Mean Square Method RMSE. It measures the standard deviation of the errors the system makes in its predictions. In our example we have used RMSE.\n",
    "    \n",
    "    \n",
    "$$ RMSE(X, H) = \\sqrt{\\frac{1}{m}\\sum_{i=1}^{m}(h(x^{(i)}) - y^{(i)})^2} $$\n",
    "\n",
    "* $ m $ is the number of instances .\n",
    "* $X^{(i)}$ is the vector of all feature values of the $ith$ instance of the dataset.\n",
    "* $y^{(i)} $ is it labels, the desired values for that instance."
   ]
  },
  {
   "cell_type": "code",
   "execution_count": 421,
   "metadata": {},
   "outputs": [
    {
     "data": {
      "text/plain": [
       "2.2741530499570502e-14"
      ]
     },
     "execution_count": 421,
     "metadata": {},
     "output_type": "execute_result"
    }
   ],
   "source": [
    "x_test = np.array([6, 7, 8, 9, 10])\n",
    "y_test = np.array([6, 7, 8, 9, 10])\n",
    "lin_reg.evaluate(x_test, y_test)"
   ]
  },
  {
   "cell_type": "markdown",
   "metadata": {},
   "source": [
    "        The error is very small so our model is working fine"
   ]
  },
  {
   "cell_type": "code",
   "execution_count": null,
   "metadata": {},
   "outputs": [],
   "source": []
  }
 ],
 "metadata": {
  "kernelspec": {
   "display_name": "Python 3",
   "language": "python",
   "name": "python3"
  },
  "language_info": {
   "codemirror_mode": {
    "name": "ipython",
    "version": 3
   },
   "file_extension": ".py",
   "mimetype": "text/x-python",
   "name": "python",
   "nbconvert_exporter": "python",
   "pygments_lexer": "ipython3",
   "version": "3.7.3"
  }
 },
 "nbformat": 4,
 "nbformat_minor": 2
}
