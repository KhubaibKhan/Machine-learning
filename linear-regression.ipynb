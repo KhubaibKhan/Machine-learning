{
 "cells": [
  {
   "cell_type": "markdown",
   "metadata": {},
   "source": [
    "# Linear Regression:\n",
    "                Linear regression is one of the easiest algorithms in Machine learning. Linear regression is a way to express relationship between an independent variable and a dependent variable. We have to find a linear model that is as accurate as possible which will predict the dependent variable value as a function of independent variable value."
   ]
  },
  {
   "cell_type": "markdown",
   "metadata": {},
   "source": [
    "# Hypothesis:\n",
    "    Our hypothesis in the linear regression case will be a function that will mape the independent values to the dependent values.\n",
    "\\begin{align}\n",
    "\\dot h_x & = \\theta_0 + \\theta_1X\n",
    "\\end{align}\n",
    "\n",
    "    This is for univariable we can extend it to multiple variable\n",
    "In this the X is the independent variable which is also called feature and output $ h_x $ is the dependent variable which is also called the prediction."
   ]
  },
  {
   "cell_type": "code",
   "execution_count": 96,
   "metadata": {},
   "outputs": [],
   "source": [
    "#first i imported my dependencies\n",
    "import numpy as np\n",
    "import matplotlib.pyplot as plt\n",
    "import pandas as pd"
   ]
  },
  {
   "cell_type": "code",
   "execution_count": 105,
   "metadata": {},
   "outputs": [],
   "source": [
    "def hypothesis(x, theta):\n",
    "    return np.dot(x, np.transpose(theta))"
   ]
  },
  {
   "cell_type": "markdown",
   "metadata": {},
   "source": [
    "Now that we have implemented the hypothesis function using python lets test it using arbitraru data."
   ]
  },
  {
   "cell_type": "code",
   "execution_count": 106,
   "metadata": {},
   "outputs": [
    {
     "data": {
      "text/plain": [
       "array([0.5, 1. , 1.5, 2. , 1.5, 1. , 2. ])"
      ]
     },
     "execution_count": 106,
     "metadata": {},
     "output_type": "execute_result"
    }
   ],
   "source": [
    "theta = [0, 0.5]\n",
    "df = pd.DataFrame({'a': [1, 1, 1, 1 ,1, 1, 1],'x':[1, 2, 3, 4, 3, 2, 4], 'y':[1, 2, 1, 4, 4, 3, 5]})\n",
    "hy_result = hypothesis(df[['a', 'x']], theta)\n",
    "hy_result"
   ]
  },
  {
   "cell_type": "code",
   "execution_count": 107,
   "metadata": {},
   "outputs": [
    {
     "data": {
      "text/plain": [
       "[<matplotlib.lines.Line2D at 0x7f9c6ec174e0>]"
      ]
     },
     "execution_count": 107,
     "metadata": {},
     "output_type": "execute_result"
    },
    {
     "data": {
      "image/png": "[encoded data removed]",
      "text/plain": [
       "<Figure size 432x288 with 1 Axes>"
      ]
     },
     "metadata": {
      "needs_background": "light"
     },
     "output_type": "display_data"
    }
   ],
   "source": [
    "plt.scatter(df['x'], df['y'])\n",
    "plt.plot(df['x'], hy_result)"
   ]
  },
  {
   "cell_type": "markdown",
   "metadata": {},
   "source": [
    "# Cost: \n",
    "As we chose just random values for the $ \\theta_0 and \\theta_1 $ it does fit well through the data. To make the model work fine we have to chose those values for $ \\theta_0 and \\theta_1 $ that will reduce this cost function.\n",
    "$$ \\ J(\\theta_0, \\theta_1) = \\frac{1}{2m} \\sum_{i=1}^{m} (h_\\theta (x^{(i)}) - y^{(i)}) $$\n",
    "Now we have to find $ \\theta_0 and \\theta_1 $ which give small cost."
   ]
  },
  {
   "cell_type": "markdown",
   "metadata": {},
   "source": [
    "### Hypothesis:\n",
    "\n",
    "\\begin{align}\n",
    "\\dot h_x & = \\theta_0 + \\theta_1X\n",
    "\\end{align}\n",
    "### Parameter:\n",
    "\n",
    "$$ \\theta_0 and \\theta_1 $$\n",
    "### Cost Function:\n",
    "\n",
    "$$ \\ J(\\theta_0, \\theta_1) = \\frac{1}{2m} \\sum_{i=1}^{m} (h_\\theta (x^{(i)}) - y^{(i)}) $$\n",
    "\n",
    "### Goal: \n",
    "\n",
    "$$ Minimize  \\ J(\\theta_0, \\theta_1)  using  \\theta_0 and \\theta_1 $$"
   ]
  },
  {
   "cell_type": "code",
   "execution_count": null,
   "metadata": {},
   "outputs": [],
   "source": []
  }
 ],
 "metadata": {
  "kernelspec": {
   "display_name": "Python 3",
   "language": "python",
   "name": "python3"
  },
  "language_info": {
   "codemirror_mode": {
    "name": "ipython",
    "version": 3
   },
   "file_extension": ".py",
   "mimetype": "text/x-python",
   "name": "python",
   "nbconvert_exporter": "python",
   "pygments_lexer": "ipython3",
   "version": "3.7.3"
  }
 },
 "nbformat": 4,
 "nbformat_minor": 2
}
