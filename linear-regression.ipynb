{
 "cells": [
  {
   "cell_type": "markdown",
   "metadata": {},
   "source": [
    "# Linear Regression:\n",
    "                Linear regression is one of the easiest algorithms in Machine learning. Linear regression is a way to express relationship between an independent variable and a dependent variable. We have to find a linear model that is as accurate as possible which will predict the dependent variable as a function of independent variable."
   ]
  },
  {
   "cell_type": "markdown",
   "metadata": {},
   "source": [
    "# Hypothesis:\n",
    "    Our hypothesis in the linear regression case will be a function that will mape the independent values to the dependent values.\n",
    "\\begin{align}\n",
    "\\dot h_x & = \\theta_0 + \\theta_1X\n",
    "\\end{align}\n",
    "\n",
    "    This is for univariable we can extend it to multiple variable\n",
    "In this the X is the independent variable which is also called feature and output $ h_x $ is the dependent variable which is also called the prediction."
   ]
  },
  {
   "cell_type": "code",
   "execution_count": 1,
   "metadata": {},
   "outputs": [],
   "source": [
    "#first i imported my dependencies\n",
    "import numpy as np\n",
    "import matplotlib.pyplot as plt\n",
    "import pandas as pd\n",
    "import plotly.graph_objects as go"
   ]
  },
  {
   "cell_type": "code",
   "execution_count": 2,
   "metadata": {},
   "outputs": [],
   "source": [
    "def hypothesis(x, theta):\n",
    "    return np.dot(x, theta[1:]) + theta[0]"
   ]
  },
  {
   "cell_type": "markdown",
   "metadata": {},
   "source": [
    "Now that we have implemented the hypothesis function using python lets test it using arbitrary data.\n",
    "\n",
    "We have one column only containing one because we of $\\theta_0$"
   ]
  },
  {
   "cell_type": "code",
   "execution_count": 3,
   "metadata": {},
   "outputs": [
    {
     "data": {
      "text/plain": [
       "array([0.5, 1. , 1.5, 2. , 2.5])"
      ]
     },
     "execution_count": 3,
     "metadata": {},
     "output_type": "execute_result"
    }
   ],
   "source": [
    "theta = [0, 0.5]\n",
    "x = np.array([1, 2, 3, 4, 5])\n",
    "x = x.reshape(len(x), 1)\n",
    "y = [1, 2, 3, 4, 5]\n",
    "y_predicted = hypothesis(x, theta)\n",
    "y_predicted"
   ]
  },
  {
   "cell_type": "code",
   "execution_count": 4,
   "metadata": {},
   "outputs": [
    {
     "data": {
      "text/plain": [
       "[<matplotlib.lines.Line2D at 0x7fb99f4b7198>]"
      ]
     },
     "execution_count": 4,
     "metadata": {},
     "output_type": "execute_result"
    },
    {
     "data": {
      "image/png": "[encoded data removed]",
      "text/plain": [
       "<Figure size 432x288 with 1 Axes>"
      ]
     },
     "metadata": {
      "needs_background": "light"
     },
     "output_type": "display_data"
    }
   ],
   "source": [
    "plt.scatter(x, y)\n",
    "plt.plot(x, y_predicted)"
   ]
  },
  {
   "cell_type": "markdown",
   "metadata": {},
   "source": [
    "# Cost: \n",
    "    Cost is the difference between the actual value and the predicted. The total cost is equal to the sum of all the costs.\n",
    "As we chose just random values for the $ \\theta_0 and \\theta_1 $ it does fit well through the data. To make the model work fine we have to chose those values for $ \\theta_0 and \\theta_1 $ that will reduce this cost function.\n",
    "$$ \\ J(\\theta_0, \\theta_1) = \\frac{1}{2m} \\sum_{i=1}^{m} (h_\\theta (x^{(i)}) - y^{(i)})^2 $$\n",
    "Now we have to find $ \\theta_0 and \\theta_1 $ which give small cost."
   ]
  },
  {
   "cell_type": "markdown",
   "metadata": {},
   "source": [
    "### Hypothesis:\n",
    "\n",
    "\\begin{align}\n",
    "\\dot h_x & = \\theta_0 + \\theta_1X\n",
    "\\end{align}\n",
    "### Parameter:\n",
    "\n",
    "$$ \\theta_0 and \\theta_1 $$\n",
    "### Cost Function:\n",
    "\n",
    "$$ \\ J(\\theta_0, \\theta_1) = \\frac{1}{2m} \\sum_{i=1}^{m} (h_\\theta (x^{(i)}) - y^{(i)}) $$\n",
    "\n",
    "### Goal: \n",
    "\n",
    "$$ Minimize  \\ J(\\theta_0, \\theta_1)  using  \\theta_0 and \\theta_1 $$"
   ]
  },
  {
   "cell_type": "markdown",
   "metadata": {},
   "source": [
    "![title](image/cost.jpeg)"
   ]
  },
  {
   "cell_type": "markdown",
   "metadata": {},
   "source": [
    "Lets try some arbitrary values for $$\\theta_0 and \\theta_1 $$ and find out the cost.\n",
    "\n",
    "For this we have to implement the cost function first."
   ]
  },
  {
   "cell_type": "code",
   "execution_count": 5,
   "metadata": {},
   "outputs": [],
   "source": [
    "def cost(y_given, y_predicted):\n",
    "    return ((y_predicted - y_given)**2).mean()/2"
   ]
  },
  {
   "cell_type": "code",
   "execution_count": 6,
   "metadata": {},
   "outputs": [],
   "source": [
    "y_predicted = []\n",
    "t_cost = []\n",
    "theta = []"
   ]
  },
  {
   "cell_type": "code",
   "execution_count": 7,
   "metadata": {},
   "outputs": [],
   "source": [
    "for i in range(20):\n",
    "    Q_theta = [0, i/10]\n",
    "    Q_predicted = hypothesis(x, Q_theta)\n",
    "    Q_cost = cost(y, Q_predicted)\n",
    "    \n",
    "    y_predicted.append(Q_predicted)\n",
    "    theta.append(Q_theta[1])\n",
    "    t_cost.append(Q_cost)"
   ]
  },
  {
   "cell_type": "markdown",
   "metadata": {},
   "source": [
    "    The below graph shows different linear model on the data."
   ]
  },
  {
   "cell_type": "code",
   "execution_count": 9,
   "metadata": {},
   "outputs": [
    {
     "data": {
      "application/vnd.plotly.v1+json": {
       "config": {
        "plotlyServerURL": "https://plot.ly"
       },
       "data": [
        {
         "line": {
          "color": "blue",
          "width": 2
         },
         "mode": "markers",
         "name": "Linar-model",
         "type": "scatter",
         "x": [
          1,
          2,
          3,
          4,
          5
         ],
         "y": [
          1,
          2,
          3,
          4,
          5
         ]
        },
        {
         "line": {
          "color": "blue",
          "width": 2
         },
         "mode": "markers",
         "name": "Data",
         "type": "scatter",
         "x": [
          1,
          2,
          3,
          4,
          5
         ],
         "y": [
          1,
          2,
          3,
          4,
          5
         ]
        }
       ],
       "frames": [
        {
         "data": [
          {
           "line": {
            "color": "red",
            "width": 2
           },
           "mode": "lines",
           "type": "scatter",
           "x": [
            1,
            2,
            3,
            4,
            5
           ],
           "y": [
            0,
            0,
            0,
            0,
            0
           ]
          }
         ]
        },
        {
         "data": [
          {
           "line": {
            "color": "red",
            "width": 2
           },
           "mode": "lines",
           "type": "scatter",
           "x": [
            1,
            2,
            3,
            4,
            5
           ],
           "y": [
            0.1,
            0.2,
            0.30000000000000004,
            0.4,
            0.5
           ]
          }
         ]
        },
        {
         "data": [
          {
           "line": {
            "color": "red",
            "width": 2
           },
           "mode": "lines",
           "type": "scatter",
           "x": [
            1,
            2,
            3,
            4,
            5
           ],
           "y": [
            0.2,
            0.4,
            0.6000000000000001,
            0.8,
            1
           ]
          }
         ]
        },
        {
         "data": [
          {
           "line": {
            "color": "red",
            "width": 2
           },
           "mode": "lines",
           "type": "scatter",
           "x": [
            1,
            2,
            3,
            4,
            5
           ],
           "y": [
            0.3,
            0.6,
            0.8999999999999999,
            1.2,
            1.5
           ]
          }
         ]
        },
        {
         "data": [
          {
           "line": {
            "color": "red",
            "width": 2
           },
           "mode": "lines",
           "type": "scatter",
           "x": [
            1,
            2,
            3,
            4,
            5
           ],
           "y": [
            0.4,
            0.8,
            1.2000000000000002,
            1.6,
            2
           ]
          }
         ]
        },
        {
         "data": [
          {
           "line": {
            "color": "red",
            "width": 2
           },
           "mode": "lines",
           "type": "scatter",
           "x": [
            1,
            2,
            3,
            4,
            5
           ],
           "y": [
            0.5,
            1,
            1.5,
            2,
            2.5
           ]
          }
         ]
        },
        {
         "data": [
          {
           "line": {
            "color": "red",
            "width": 2
           },
           "mode": "lines",
           "type": "scatter",
           "x": [
            1,
            2,
            3,
            4,
            5
           ],
           "y": [
            0.6,
            1.2,
            1.7999999999999998,
            2.4,
            3
           ]
          }
         ]
        },
        {
         "data": [
          {
           "line": {
            "color": "red",
            "width": 2
           },
           "mode": "lines",
           "type": "scatter",
           "x": [
            1,
            2,
            3,
            4,
            5
           ],
           "y": [
            0.7,
            1.4,
            2.0999999999999996,
            2.8,
            3.5
           ]
          }
         ]
        },
        {
         "data": [
          {
           "line": {
            "color": "red",
            "width": 2
           },
           "mode": "lines",
           "type": "scatter",
           "x": [
            1,
            2,
            3,
            4,
            5
           ],
           "y": [
            0.8,
            1.6,
            2.4000000000000004,
            3.2,
            4
           ]
          }
         ]
        },
        {
         "data": [
          {
           "line": {
            "color": "red",
            "width": 2
           },
           "mode": "lines",
           "type": "scatter",
           "x": [
            1,
            2,
            3,
            4,
            5
           ],
           "y": [
            0.9,
            1.8,
            2.7,
            3.6,
            4.5
           ]
          }
         ]
        },
        {
         "data": [
          {
           "line": {
            "color": "red",
            "width": 2
           },
           "mode": "lines",
           "type": "scatter",
           "x": [
            1,
            2,
            3,
            4,
            5
           ],
           "y": [
            1,
            2,
            3,
            4,
            5
           ]
          }
         ]
        },
        {
         "data": [
          {
           "line": {
            "color": "red",
            "width": 2
           },
           "mode": "lines",
           "type": "scatter",
           "x": [
            1,
            2,
            3,
            4,
            5
           ],
           "y": [
            1.1,
            2.2,
            3.3000000000000003,
            4.4,
            5.5
           ]
          }
         ]
        },
        {
         "data": [
          {
           "line": {
            "color": "red",
            "width": 2
           },
           "mode": "lines",
           "type": "scatter",
           "x": [
            1,
            2,
            3,
            4,
            5
           ],
           "y": [
            1.2,
            2.4,
            3.5999999999999996,
            4.8,
            6
           ]
          }
         ]
        },
        {
         "data": [
          {
           "line": {
            "color": "red",
            "width": 2
           },
           "mode": "lines",
           "type": "scatter",
           "x": [
            1,
            2,
            3,
            4,
            5
           ],
           "y": [
            1.3,
            2.6,
            3.9000000000000004,
            5.2,
            6.5
           ]
          }
         ]
        },
        {
         "data": [
          {
           "line": {
            "color": "red",
            "width": 2
           },
           "mode": "lines",
           "type": "scatter",
           "x": [
            1,
            2,
            3,
            4,
            5
           ],
           "y": [
            1.4,
            2.8,
            4.199999999999999,
            5.6,
            7
           ]
          }
         ]
        },
        {
         "data": [
          {
           "line": {
            "color": "red",
            "width": 2
           },
           "mode": "lines",
           "type": "scatter",
           "x": [
            1,
            2,
            3,
            4,
            5
           ],
           "y": [
            1.5,
            3,
            4.5,
            6,
            7.5
           ]
          }
         ]
        },
        {
         "data": [
          {
           "line": {
            "color": "red",
            "width": 2
           },
           "mode": "lines",
           "type": "scatter",
           "x": [
            1,
            2,
            3,
            4,
            5
           ],
           "y": [
            1.6,
            3.2,
            4.800000000000001,
            6.4,
            8
           ]
          }
         ]
        },
        {
         "data": [
          {
           "line": {
            "color": "red",
            "width": 2
           },
           "mode": "lines",
           "type": "scatter",
           "x": [
            1,
            2,
            3,
            4,
            5
           ],
           "y": [
            1.7,
            3.4,
            5.1,
            6.8,
            8.5
           ]
          }
         ]
        },
        {
         "data": [
          {
           "line": {
            "color": "red",
            "width": 2
           },
           "mode": "lines",
           "type": "scatter",
           "x": [
            1,
            2,
            3,
            4,
            5
           ],
           "y": [
            1.8,
            3.6,
            5.4,
            7.2,
            9
           ]
          }
         ]
        },
        {
         "data": [
          {
           "line": {
            "color": "red",
            "width": 2
           },
           "mode": "lines",
           "type": "scatter",
           "x": [
            1,
            2,
            3,
            4,
            5
           ],
           "y": [
            1.9,
            3.8,
            5.699999999999999,
            7.6,
            9.5
           ]
          }
         ]
        }
       ],
       "layout": {
        "hovermode": "closest",
        "template": {
         "data": {
          "bar": [
           {
            "error_x": {
             "color": "#2a3f5f"
            },
            "error_y": {
             "color": "#2a3f5f"
            },
            "marker": {
             "line": {
              "color": "#E5ECF6",
              "width": 0.5
             }
            },
            "type": "bar"
           }
          ],
          "barpolar": [
           {
            "marker": {
             "line": {
              "color": "#E5ECF6",
              "width": 0.5
             }
            },
            "type": "barpolar"
           }
          ],
          "carpet": [
           {
            "aaxis": {
             "endlinecolor": "#2a3f5f",
             "gridcolor": "white",
             "linecolor": "white",
             "minorgridcolor": "white",
             "startlinecolor": "#2a3f5f"
            },
            "baxis": {
             "endlinecolor": "#2a3f5f",
             "gridcolor": "white",
             "linecolor": "white",
             "minorgridcolor": "white",
             "startlinecolor": "#2a3f5f"
            },
            "type": "carpet"
           }
          ],
          "choropleth": [
           {
            "colorbar": {
             "outlinewidth": 0,
             "ticks": ""
            },
            "type": "choropleth"
           }
          ],
          "contour": [
           {
            "colorbar": {
             "outlinewidth": 0,
             "ticks": ""
            },
            "colorscale": [
             [
              0,
              "#0d0887"
             ],
             [
              0.1111111111111111,
              "#46039f"
             ],
             [
              0.2222222222222222,
              "#7201a8"
             ],
             [
              0.3333333333333333,
              "#9c179e"
             ],
             [
              0.4444444444444444,
              "#bd3786"
             ],
             [
              0.5555555555555556,
              "#d8576b"
             ],
             [
              0.6666666666666666,
              "#ed7953"
             ],
             [
              0.7777777777777778,
              "#fb9f3a"
             ],
             [
              0.8888888888888888,
              "#fdca26"
             ],
             [
              1,
              "#f0f921"
             ]
            ],
            "type": "contour"
           }
          ],
          "contourcarpet": [
           {
            "colorbar": {
             "outlinewidth": 0,
             "ticks": ""
            },
            "type": "contourcarpet"
           }
          ],
          "heatmap": [
           {
            "colorbar": {
             "outlinewidth": 0,
             "ticks": ""
            },
            "colorscale": [
             [
              0,
              "#0d0887"
             ],
             [
              0.1111111111111111,
              "#46039f"
             ],
             [
              0.2222222222222222,
              "#7201a8"
             ],
             [
              0.3333333333333333,
              "#9c179e"
             ],
             [
              0.4444444444444444,
              "#bd3786"
             ],
             [
              0.5555555555555556,
              "#d8576b"
             ],
             [
              0.6666666666666666,
              "#ed7953"
             ],
             [
              0.7777777777777778,
              "#fb9f3a"
             ],
             [
              0.8888888888888888,
              "#fdca26"
             ],
             [
              1,
              "#f0f921"
             ]
            ],
            "type": "heatmap"
           }
          ],
          "heatmapgl": [
           {
            "colorbar": {
             "outlinewidth": 0,
             "ticks": ""
            },
            "colorscale": [
             [
              0,
              "#0d0887"
             ],
             [
              0.1111111111111111,
              "#46039f"
             ],
             [
              0.2222222222222222,
              "#7201a8"
             ],
             [
              0.3333333333333333,
              "#9c179e"
             ],
             [
              0.4444444444444444,
              "#bd3786"
             ],
             [
              0.5555555555555556,
              "#d8576b"
             ],
             [
              0.6666666666666666,
              "#ed7953"
             ],
             [
              0.7777777777777778,
              "#fb9f3a"
             ],
             [
              0.8888888888888888,
              "#fdca26"
             ],
             [
              1,
              "#f0f921"
             ]
            ],
            "type": "heatmapgl"
           }
          ],
          "histogram": [
           {
            "marker": {
             "colorbar": {
              "outlinewidth": 0,
              "ticks": ""
             }
            },
            "type": "histogram"
           }
          ],
          "histogram2d": [
           {
            "colorbar": {
             "outlinewidth": 0,
             "ticks": ""
            },
            "colorscale": [
             [
              0,
              "#0d0887"
             ],
             [
              0.1111111111111111,
              "#46039f"
             ],
             [
              0.2222222222222222,
              "#7201a8"
             ],
             [
              0.3333333333333333,
              "#9c179e"
             ],
             [
              0.4444444444444444,
              "#bd3786"
             ],
             [
              0.5555555555555556,
              "#d8576b"
             ],
             [
              0.6666666666666666,
              "#ed7953"
             ],
             [
              0.7777777777777778,
              "#fb9f3a"
             ],
             [
              0.8888888888888888,
              "#fdca26"
             ],
             [
              1,
              "#f0f921"
             ]
            ],
            "type": "histogram2d"
           }
          ],
          "histogram2dcontour": [
           {
            "colorbar": {
             "outlinewidth": 0,
             "ticks": ""
            },
            "colorscale": [
             [
              0,
              "#0d0887"
             ],
             [
              0.1111111111111111,
              "#46039f"
             ],
             [
              0.2222222222222222,
              "#7201a8"
             ],
             [
              0.3333333333333333,
              "#9c179e"
             ],
             [
              0.4444444444444444,
              "#bd3786"
             ],
             [
              0.5555555555555556,
              "#d8576b"
             ],
             [
              0.6666666666666666,
              "#ed7953"
             ],
             [
              0.7777777777777778,
              "#fb9f3a"
             ],
             [
              0.8888888888888888,
              "#fdca26"
             ],
             [
              1,
              "#f0f921"
             ]
            ],
            "type": "histogram2dcontour"
           }
          ],
          "mesh3d": [
           {
            "colorbar": {
             "outlinewidth": 0,
             "ticks": ""
            },
            "type": "mesh3d"
           }
          ],
          "parcoords": [
           {
            "line": {
             "colorbar": {
              "outlinewidth": 0,
              "ticks": ""
             }
            },
            "type": "parcoords"
           }
          ],
          "scatter": [
           {
            "marker": {
             "colorbar": {
              "outlinewidth": 0,
              "ticks": ""
             }
            },
            "type": "scatter"
           }
          ],
          "scatter3d": [
           {
            "line": {
             "colorbar": {
              "outlinewidth": 0,
              "ticks": ""
             }
            },
            "marker": {
             "colorbar": {
              "outlinewidth": 0,
              "ticks": ""
             }
            },
            "type": "scatter3d"
           }
          ],
          "scattercarpet": [
           {
            "marker": {
             "colorbar": {
              "outlinewidth": 0,
              "ticks": ""
             }
            },
            "type": "scattercarpet"
           }
          ],
          "scattergeo": [
           {
            "marker": {
             "colorbar": {
              "outlinewidth": 0,
              "ticks": ""
             }
            },
            "type": "scattergeo"
           }
          ],
          "scattergl": [
           {
            "marker": {
             "colorbar": {
              "outlinewidth": 0,
              "ticks": ""
             }
            },
            "type": "scattergl"
           }
          ],
          "scattermapbox": [
           {
            "marker": {
             "colorbar": {
              "outlinewidth": 0,
              "ticks": ""
             }
            },
            "type": "scattermapbox"
           }
          ],
          "scatterpolar": [
           {
            "marker": {
             "colorbar": {
              "outlinewidth": 0,
              "ticks": ""
             }
            },
            "type": "scatterpolar"
           }
          ],
          "scatterpolargl": [
           {
            "marker": {
             "colorbar": {
              "outlinewidth": 0,
              "ticks": ""
             }
            },
            "type": "scatterpolargl"
           }
          ],
          "scatterternary": [
           {
            "marker": {
             "colorbar": {
              "outlinewidth": 0,
              "ticks": ""
             }
            },
            "type": "scatterternary"
           }
          ],
          "surface": [
           {
            "colorbar": {
             "outlinewidth": 0,
             "ticks": ""
            },
            "colorscale": [
             [
              0,
              "#0d0887"
             ],
             [
              0.1111111111111111,
              "#46039f"
             ],
             [
              0.2222222222222222,
              "#7201a8"
             ],
             [
              0.3333333333333333,
              "#9c179e"
             ],
             [
              0.4444444444444444,
              "#bd3786"
             ],
             [
              0.5555555555555556,
              "#d8576b"
             ],
             [
              0.6666666666666666,
              "#ed7953"
             ],
             [
              0.7777777777777778,
              "#fb9f3a"
             ],
             [
              0.8888888888888888,
              "#fdca26"
             ],
             [
              1,
              "#f0f921"
             ]
            ],
            "type": "surface"
           }
          ],
          "table": [
           {
            "cells": {
             "fill": {
              "color": "#EBF0F8"
             },
             "line": {
              "color": "white"
             }
            },
            "header": {
             "fill": {
              "color": "#C8D4E3"
             },
             "line": {
              "color": "white"
             }
            },
            "type": "table"
           }
          ]
         },
         "layout": {
          "annotationdefaults": {
           "arrowcolor": "#2a3f5f",
           "arrowhead": 0,
           "arrowwidth": 1
          },
          "colorscale": {
           "diverging": [
            [
             0,
             "#8e0152"
            ],
            [
             0.1,
             "#c51b7d"
            ],
            [
             0.2,
             "#de77ae"
            ],
            [
             0.3,
             "#f1b6da"
            ],
            [
             0.4,
             "#fde0ef"
            ],
            [
             0.5,
             "#f7f7f7"
            ],
            [
             0.6,
             "#e6f5d0"
            ],
            [
             0.7,
             "#b8e186"
            ],
            [
             0.8,
             "#7fbc41"
            ],
            [
             0.9,
             "#4d9221"
            ],
            [
             1,
             "#276419"
            ]
           ],
           "sequential": [
            [
             0,
             "#0d0887"
            ],
            [
             0.1111111111111111,
             "#46039f"
            ],
            [
             0.2222222222222222,
             "#7201a8"
            ],
            [
             0.3333333333333333,
             "#9c179e"
            ],
            [
             0.4444444444444444,
             "#bd3786"
            ],
            [
             0.5555555555555556,
             "#d8576b"
            ],
            [
             0.6666666666666666,
             "#ed7953"
            ],
            [
             0.7777777777777778,
             "#fb9f3a"
            ],
            [
             0.8888888888888888,
             "#fdca26"
            ],
            [
             1,
             "#f0f921"
            ]
           ],
           "sequentialminus": [
            [
             0,
             "#0d0887"
            ],
            [
             0.1111111111111111,
             "#46039f"
            ],
            [
             0.2222222222222222,
             "#7201a8"
            ],
            [
             0.3333333333333333,
             "#9c179e"
            ],
            [
             0.4444444444444444,
             "#bd3786"
            ],
            [
             0.5555555555555556,
             "#d8576b"
            ],
            [
             0.6666666666666666,
             "#ed7953"
            ],
            [
             0.7777777777777778,
             "#fb9f3a"
            ],
            [
             0.8888888888888888,
             "#fdca26"
            ],
            [
             1,
             "#f0f921"
            ]
           ]
          },
          "colorway": [
           "#636efa",
           "#EF553B",
           "#00cc96",
           "#ab63fa",
           "#FFA15A",
           "#19d3f3",
           "#FF6692",
           "#B6E880",
           "#FF97FF",
           "#FECB52"
          ],
          "font": {
           "color": "#2a3f5f"
          },
          "geo": {
           "bgcolor": "white",
           "lakecolor": "white",
           "landcolor": "#E5ECF6",
           "showlakes": true,
           "showland": true,
           "subunitcolor": "white"
          },
          "hoverlabel": {
           "align": "left"
          },
          "hovermode": "closest",
          "mapbox": {
           "style": "light"
          },
          "paper_bgcolor": "white",
          "plot_bgcolor": "#E5ECF6",
          "polar": {
           "angularaxis": {
            "gridcolor": "white",
            "linecolor": "white",
            "ticks": ""
           },
           "bgcolor": "#E5ECF6",
           "radialaxis": {
            "gridcolor": "white",
            "linecolor": "white",
            "ticks": ""
           }
          },
          "scene": {
           "xaxis": {
            "backgroundcolor": "#E5ECF6",
            "gridcolor": "white",
            "gridwidth": 2,
            "linecolor": "white",
            "showbackground": true,
            "ticks": "",
            "zerolinecolor": "white"
           },
           "yaxis": {
            "backgroundcolor": "#E5ECF6",
            "gridcolor": "white",
            "gridwidth": 2,
            "linecolor": "white",
            "showbackground": true,
            "ticks": "",
            "zerolinecolor": "white"
           },
           "zaxis": {
            "backgroundcolor": "#E5ECF6",
            "gridcolor": "white",
            "gridwidth": 2,
            "linecolor": "white",
            "showbackground": true,
            "ticks": "",
            "zerolinecolor": "white"
           }
          },
          "shapedefaults": {
           "line": {
            "color": "#2a3f5f"
           }
          },
          "ternary": {
           "aaxis": {
            "gridcolor": "white",
            "linecolor": "white",
            "ticks": ""
           },
           "baxis": {
            "gridcolor": "white",
            "linecolor": "white",
            "ticks": ""
           },
           "bgcolor": "#E5ECF6",
           "caxis": {
            "gridcolor": "white",
            "linecolor": "white",
            "ticks": ""
           }
          },
          "title": {
           "x": 0.05
          },
          "xaxis": {
           "automargin": true,
           "gridcolor": "white",
           "linecolor": "white",
           "ticks": "",
           "zerolinecolor": "white",
           "zerolinewidth": 2
          },
          "yaxis": {
           "automargin": true,
           "gridcolor": "white",
           "linecolor": "white",
           "ticks": "",
           "zerolinecolor": "white",
           "zerolinewidth": 2
          }
         }
        },
        "title": {
         "text": "Fitting the line through the data"
        },
        "updatemenus": [
         {
          "buttons": [
           {
            "args": [
             null
            ],
            "label": "Play",
            "method": "animate"
           }
          ],
          "type": "buttons"
         }
        ],
        "xaxis": {
         "autorange": false,
         "range": [
          0,
          6
         ],
         "zeroline": false
        },
        "yaxis": {
         "autorange": false,
         "range": [
          0,
          6
         ],
         "zeroline": false
        }
       }
      },
      "text/html": [
       "<div>\n",
       "        \n",
       "        \n",
       "            <div id=\"abefe3d4-ee1f-4595-a3c8-4bbbafd9736a\" class=\"plotly-graph-div\" style=\"height:525px; width:100%;\"></div>\n",
       "            <script type=\"text/javascript\">\n",
       "                require([\"plotly\"], function(Plotly) {\n",
       "                    window.PLOTLYENV=window.PLOTLYENV || {};\n",
       "                    \n",
       "                if (document.getElementById(\"abefe3d4-ee1f-4595-a3c8-4bbbafd9736a\")) {\n",
       "                    Plotly.newPlot(\n",
       "                        'abefe3d4-ee1f-4595-a3c8-4bbbafd9736a',\n",
       "                        [{\"line\": {\"color\": \"blue\", \"width\": 2}, \"mode\": \"markers\", \"name\": \"Linar-model\", \"type\": \"scatter\", \"x\": [1, 2, 3, 4, 5], \"y\": [1, 2, 3, 4, 5]}, {\"line\": {\"color\": \"blue\", \"width\": 2}, \"mode\": \"markers\", \"name\": \"Data\", \"type\": \"scatter\", \"x\": [1, 2, 3, 4, 5], \"y\": [1, 2, 3, 4, 5]}],\n",
       "                        {\"hovermode\": \"closest\", \"template\": {\"data\": {\"bar\": [{\"error_x\": {\"color\": \"#2a3f5f\"}, \"error_y\": {\"color\": \"#2a3f5f\"}, \"marker\": {\"line\": {\"color\": \"#E5ECF6\", \"width\": 0.5}}, \"type\": \"bar\"}], \"barpolar\": [{\"marker\": {\"line\": {\"color\": \"#E5ECF6\", \"width\": 0.5}}, \"type\": \"barpolar\"}], \"carpet\": [{\"aaxis\": {\"endlinecolor\": \"#2a3f5f\", \"gridcolor\": \"white\", \"linecolor\": \"white\", \"minorgridcolor\": \"white\", \"startlinecolor\": \"#2a3f5f\"}, \"baxis\": {\"endlinecolor\": \"#2a3f5f\", \"gridcolor\": \"white\", \"linecolor\": \"white\", \"minorgridcolor\": \"white\", \"startlinecolor\": \"#2a3f5f\"}, \"type\": \"carpet\"}], \"choropleth\": [{\"colorbar\": {\"outlinewidth\": 0, \"ticks\": \"\"}, \"type\": \"choropleth\"}], \"contour\": [{\"colorbar\": {\"outlinewidth\": 0, \"ticks\": \"\"}, \"colorscale\": [[0.0, \"#0d0887\"], [0.1111111111111111, \"#46039f\"], [0.2222222222222222, \"#7201a8\"], [0.3333333333333333, \"#9c179e\"], [0.4444444444444444, \"#bd3786\"], [0.5555555555555556, \"#d8576b\"], [0.6666666666666666, \"#ed7953\"], [0.7777777777777778, \"#fb9f3a\"], [0.8888888888888888, \"#fdca26\"], [1.0, \"#f0f921\"]], \"type\": \"contour\"}], \"contourcarpet\": [{\"colorbar\": {\"outlinewidth\": 0, \"ticks\": \"\"}, \"type\": \"contourcarpet\"}], \"heatmap\": [{\"colorbar\": {\"outlinewidth\": 0, \"ticks\": \"\"}, \"colorscale\": [[0.0, \"#0d0887\"], [0.1111111111111111, \"#46039f\"], [0.2222222222222222, \"#7201a8\"], [0.3333333333333333, \"#9c179e\"], [0.4444444444444444, \"#bd3786\"], [0.5555555555555556, \"#d8576b\"], [0.6666666666666666, \"#ed7953\"], [0.7777777777777778, \"#fb9f3a\"], [0.8888888888888888, \"#fdca26\"], [1.0, \"#f0f921\"]], \"type\": \"heatmap\"}], \"heatmapgl\": [{\"colorbar\": {\"outlinewidth\": 0, \"ticks\": \"\"}, \"colorscale\": [[0.0, \"#0d0887\"], [0.1111111111111111, \"#46039f\"], [0.2222222222222222, \"#7201a8\"], [0.3333333333333333, \"#9c179e\"], [0.4444444444444444, \"#bd3786\"], [0.5555555555555556, \"#d8576b\"], [0.6666666666666666, \"#ed7953\"], [0.7777777777777778, \"#fb9f3a\"], [0.8888888888888888, \"#fdca26\"], [1.0, \"#f0f921\"]], \"type\": \"heatmapgl\"}], \"histogram\": [{\"marker\": {\"colorbar\": {\"outlinewidth\": 0, \"ticks\": \"\"}}, \"type\": \"histogram\"}], \"histogram2d\": [{\"colorbar\": {\"outlinewidth\": 0, \"ticks\": \"\"}, \"colorscale\": [[0.0, \"#0d0887\"], [0.1111111111111111, \"#46039f\"], [0.2222222222222222, \"#7201a8\"], [0.3333333333333333, \"#9c179e\"], [0.4444444444444444, \"#bd3786\"], [0.5555555555555556, \"#d8576b\"], [0.6666666666666666, \"#ed7953\"], [0.7777777777777778, \"#fb9f3a\"], [0.8888888888888888, \"#fdca26\"], [1.0, \"#f0f921\"]], \"type\": \"histogram2d\"}], \"histogram2dcontour\": [{\"colorbar\": {\"outlinewidth\": 0, \"ticks\": \"\"}, \"colorscale\": [[0.0, \"#0d0887\"], [0.1111111111111111, \"#46039f\"], [0.2222222222222222, \"#7201a8\"], [0.3333333333333333, \"#9c179e\"], [0.4444444444444444, \"#bd3786\"], [0.5555555555555556, \"#d8576b\"], [0.6666666666666666, \"#ed7953\"], [0.7777777777777778, \"#fb9f3a\"], [0.8888888888888888, \"#fdca26\"], [1.0, \"#f0f921\"]], \"type\": \"histogram2dcontour\"}], \"mesh3d\": [{\"colorbar\": {\"outlinewidth\": 0, \"ticks\": \"\"}, \"type\": \"mesh3d\"}], \"parcoords\": [{\"line\": {\"colorbar\": {\"outlinewidth\": 0, \"ticks\": \"\"}}, \"type\": \"parcoords\"}], \"scatter\": [{\"marker\": {\"colorbar\": {\"outlinewidth\": 0, \"ticks\": \"\"}}, \"type\": \"scatter\"}], \"scatter3d\": [{\"line\": {\"colorbar\": {\"outlinewidth\": 0, \"ticks\": \"\"}}, \"marker\": {\"colorbar\": {\"outlinewidth\": 0, \"ticks\": \"\"}}, \"type\": \"scatter3d\"}], \"scattercarpet\": [{\"marker\": {\"colorbar\": {\"outlinewidth\": 0, \"ticks\": \"\"}}, \"type\": \"scattercarpet\"}], \"scattergeo\": [{\"marker\": {\"colorbar\": {\"outlinewidth\": 0, \"ticks\": \"\"}}, \"type\": \"scattergeo\"}], \"scattergl\": [{\"marker\": {\"colorbar\": {\"outlinewidth\": 0, \"ticks\": \"\"}}, \"type\": \"scattergl\"}], \"scattermapbox\": [{\"marker\": {\"colorbar\": {\"outlinewidth\": 0, \"ticks\": \"\"}}, \"type\": \"scattermapbox\"}], \"scatterpolar\": [{\"marker\": {\"colorbar\": {\"outlinewidth\": 0, \"ticks\": \"\"}}, \"type\": \"scatterpolar\"}], \"scatterpolargl\": [{\"marker\": {\"colorbar\": {\"outlinewidth\": 0, \"ticks\": \"\"}}, \"type\": \"scatterpolargl\"}], \"scatterternary\": [{\"marker\": {\"colorbar\": {\"outlinewidth\": 0, \"ticks\": \"\"}}, \"type\": \"scatterternary\"}], \"surface\": [{\"colorbar\": {\"outlinewidth\": 0, \"ticks\": \"\"}, \"colorscale\": [[0.0, \"#0d0887\"], [0.1111111111111111, \"#46039f\"], [0.2222222222222222, \"#7201a8\"], [0.3333333333333333, \"#9c179e\"], [0.4444444444444444, \"#bd3786\"], [0.5555555555555556, \"#d8576b\"], [0.6666666666666666, \"#ed7953\"], [0.7777777777777778, \"#fb9f3a\"], [0.8888888888888888, \"#fdca26\"], [1.0, \"#f0f921\"]], \"type\": \"surface\"}], \"table\": [{\"cells\": {\"fill\": {\"color\": \"#EBF0F8\"}, \"line\": {\"color\": \"white\"}}, \"header\": {\"fill\": {\"color\": \"#C8D4E3\"}, \"line\": {\"color\": \"white\"}}, \"type\": \"table\"}]}, \"layout\": {\"annotationdefaults\": {\"arrowcolor\": \"#2a3f5f\", \"arrowhead\": 0, \"arrowwidth\": 1}, \"colorscale\": {\"diverging\": [[0, \"#8e0152\"], [0.1, \"#c51b7d\"], [0.2, \"#de77ae\"], [0.3, \"#f1b6da\"], [0.4, \"#fde0ef\"], [0.5, \"#f7f7f7\"], [0.6, \"#e6f5d0\"], [0.7, \"#b8e186\"], [0.8, \"#7fbc41\"], [0.9, \"#4d9221\"], [1, \"#276419\"]], \"sequential\": [[0.0, \"#0d0887\"], [0.1111111111111111, \"#46039f\"], [0.2222222222222222, \"#7201a8\"], [0.3333333333333333, \"#9c179e\"], [0.4444444444444444, \"#bd3786\"], [0.5555555555555556, \"#d8576b\"], [0.6666666666666666, \"#ed7953\"], [0.7777777777777778, \"#fb9f3a\"], [0.8888888888888888, \"#fdca26\"], [1.0, \"#f0f921\"]], \"sequentialminus\": [[0.0, \"#0d0887\"], [0.1111111111111111, \"#46039f\"], [0.2222222222222222, \"#7201a8\"], [0.3333333333333333, \"#9c179e\"], [0.4444444444444444, \"#bd3786\"], [0.5555555555555556, \"#d8576b\"], [0.6666666666666666, \"#ed7953\"], [0.7777777777777778, \"#fb9f3a\"], [0.8888888888888888, \"#fdca26\"], [1.0, \"#f0f921\"]]}, \"colorway\": [\"#636efa\", \"#EF553B\", \"#00cc96\", \"#ab63fa\", \"#FFA15A\", \"#19d3f3\", \"#FF6692\", \"#B6E880\", \"#FF97FF\", \"#FECB52\"], \"font\": {\"color\": \"#2a3f5f\"}, \"geo\": {\"bgcolor\": \"white\", \"lakecolor\": \"white\", \"landcolor\": \"#E5ECF6\", \"showlakes\": true, \"showland\": true, \"subunitcolor\": \"white\"}, \"hoverlabel\": {\"align\": \"left\"}, \"hovermode\": \"closest\", \"mapbox\": {\"style\": \"light\"}, \"paper_bgcolor\": \"white\", \"plot_bgcolor\": \"#E5ECF6\", \"polar\": {\"angularaxis\": {\"gridcolor\": \"white\", \"linecolor\": \"white\", \"ticks\": \"\"}, \"bgcolor\": \"#E5ECF6\", \"radialaxis\": {\"gridcolor\": \"white\", \"linecolor\": \"white\", \"ticks\": \"\"}}, \"scene\": {\"xaxis\": {\"backgroundcolor\": \"#E5ECF6\", \"gridcolor\": \"white\", \"gridwidth\": 2, \"linecolor\": \"white\", \"showbackground\": true, \"ticks\": \"\", \"zerolinecolor\": \"white\"}, \"yaxis\": {\"backgroundcolor\": \"#E5ECF6\", \"gridcolor\": \"white\", \"gridwidth\": 2, \"linecolor\": \"white\", \"showbackground\": true, \"ticks\": \"\", \"zerolinecolor\": \"white\"}, \"zaxis\": {\"backgroundcolor\": \"#E5ECF6\", \"gridcolor\": \"white\", \"gridwidth\": 2, \"linecolor\": \"white\", \"showbackground\": true, \"ticks\": \"\", \"zerolinecolor\": \"white\"}}, \"shapedefaults\": {\"line\": {\"color\": \"#2a3f5f\"}}, \"ternary\": {\"aaxis\": {\"gridcolor\": \"white\", \"linecolor\": \"white\", \"ticks\": \"\"}, \"baxis\": {\"gridcolor\": \"white\", \"linecolor\": \"white\", \"ticks\": \"\"}, \"bgcolor\": \"#E5ECF6\", \"caxis\": {\"gridcolor\": \"white\", \"linecolor\": \"white\", \"ticks\": \"\"}}, \"title\": {\"x\": 0.05}, \"xaxis\": {\"automargin\": true, \"gridcolor\": \"white\", \"linecolor\": \"white\", \"ticks\": \"\", \"zerolinecolor\": \"white\", \"zerolinewidth\": 2}, \"yaxis\": {\"automargin\": true, \"gridcolor\": \"white\", \"linecolor\": \"white\", \"ticks\": \"\", \"zerolinecolor\": \"white\", \"zerolinewidth\": 2}}}, \"title\": {\"text\": \"Fitting the line through the data\"}, \"updatemenus\": [{\"buttons\": [{\"args\": [null], \"label\": \"Play\", \"method\": \"animate\"}], \"type\": \"buttons\"}], \"xaxis\": {\"autorange\": false, \"range\": [0, 6], \"zeroline\": false}, \"yaxis\": {\"autorange\": false, \"range\": [0, 6], \"zeroline\": false}},\n",
       "                        {\"responsive\": true}\n",
       "                    ).then(function(){\n",
       "                            Plotly.addFrames('abefe3d4-ee1f-4595-a3c8-4bbbafd9736a', [{\"data\": [{\"line\": {\"color\": \"red\", \"width\": 2}, \"mode\": \"lines\", \"x\": [1, 2, 3, 4, 5], \"y\": [0.0, 0.0, 0.0, 0.0, 0.0], \"type\": \"scatter\"}]}, {\"data\": [{\"line\": {\"color\": \"red\", \"width\": 2}, \"mode\": \"lines\", \"x\": [1, 2, 3, 4, 5], \"y\": [0.1, 0.2, 0.30000000000000004, 0.4, 0.5], \"type\": \"scatter\"}]}, {\"data\": [{\"line\": {\"color\": \"red\", \"width\": 2}, \"mode\": \"lines\", \"x\": [1, 2, 3, 4, 5], \"y\": [0.2, 0.4, 0.6000000000000001, 0.8, 1.0], \"type\": \"scatter\"}]}, {\"data\": [{\"line\": {\"color\": \"red\", \"width\": 2}, \"mode\": \"lines\", \"x\": [1, 2, 3, 4, 5], \"y\": [0.3, 0.6, 0.8999999999999999, 1.2, 1.5], \"type\": \"scatter\"}]}, {\"data\": [{\"line\": {\"color\": \"red\", \"width\": 2}, \"mode\": \"lines\", \"x\": [1, 2, 3, 4, 5], \"y\": [0.4, 0.8, 1.2000000000000002, 1.6, 2.0], \"type\": \"scatter\"}]}, {\"data\": [{\"line\": {\"color\": \"red\", \"width\": 2}, \"mode\": \"lines\", \"x\": [1, 2, 3, 4, 5], \"y\": [0.5, 1.0, 1.5, 2.0, 2.5], \"type\": \"scatter\"}]}, {\"data\": [{\"line\": {\"color\": \"red\", \"width\": 2}, \"mode\": \"lines\", \"x\": [1, 2, 3, 4, 5], \"y\": [0.6, 1.2, 1.7999999999999998, 2.4, 3.0], \"type\": \"scatter\"}]}, {\"data\": [{\"line\": {\"color\": \"red\", \"width\": 2}, \"mode\": \"lines\", \"x\": [1, 2, 3, 4, 5], \"y\": [0.7, 1.4, 2.0999999999999996, 2.8, 3.5], \"type\": \"scatter\"}]}, {\"data\": [{\"line\": {\"color\": \"red\", \"width\": 2}, \"mode\": \"lines\", \"x\": [1, 2, 3, 4, 5], \"y\": [0.8, 1.6, 2.4000000000000004, 3.2, 4.0], \"type\": \"scatter\"}]}, {\"data\": [{\"line\": {\"color\": \"red\", \"width\": 2}, \"mode\": \"lines\", \"x\": [1, 2, 3, 4, 5], \"y\": [0.9, 1.8, 2.7, 3.6, 4.5], \"type\": \"scatter\"}]}, {\"data\": [{\"line\": {\"color\": \"red\", \"width\": 2}, \"mode\": \"lines\", \"x\": [1, 2, 3, 4, 5], \"y\": [1.0, 2.0, 3.0, 4.0, 5.0], \"type\": \"scatter\"}]}, {\"data\": [{\"line\": {\"color\": \"red\", \"width\": 2}, \"mode\": \"lines\", \"x\": [1, 2, 3, 4, 5], \"y\": [1.1, 2.2, 3.3000000000000003, 4.4, 5.5], \"type\": \"scatter\"}]}, {\"data\": [{\"line\": {\"color\": \"red\", \"width\": 2}, \"mode\": \"lines\", \"x\": [1, 2, 3, 4, 5], \"y\": [1.2, 2.4, 3.5999999999999996, 4.8, 6.0], \"type\": \"scatter\"}]}, {\"data\": [{\"line\": {\"color\": \"red\", \"width\": 2}, \"mode\": \"lines\", \"x\": [1, 2, 3, 4, 5], \"y\": [1.3, 2.6, 3.9000000000000004, 5.2, 6.5], \"type\": \"scatter\"}]}, {\"data\": [{\"line\": {\"color\": \"red\", \"width\": 2}, \"mode\": \"lines\", \"x\": [1, 2, 3, 4, 5], \"y\": [1.4, 2.8, 4.199999999999999, 5.6, 7.0], \"type\": \"scatter\"}]}, {\"data\": [{\"line\": {\"color\": \"red\", \"width\": 2}, \"mode\": \"lines\", \"x\": [1, 2, 3, 4, 5], \"y\": [1.5, 3.0, 4.5, 6.0, 7.5], \"type\": \"scatter\"}]}, {\"data\": [{\"line\": {\"color\": \"red\", \"width\": 2}, \"mode\": \"lines\", \"x\": [1, 2, 3, 4, 5], \"y\": [1.6, 3.2, 4.800000000000001, 6.4, 8.0], \"type\": \"scatter\"}]}, {\"data\": [{\"line\": {\"color\": \"red\", \"width\": 2}, \"mode\": \"lines\", \"x\": [1, 2, 3, 4, 5], \"y\": [1.7, 3.4, 5.1, 6.8, 8.5], \"type\": \"scatter\"}]}, {\"data\": [{\"line\": {\"color\": \"red\", \"width\": 2}, \"mode\": \"lines\", \"x\": [1, 2, 3, 4, 5], \"y\": [1.8, 3.6, 5.4, 7.2, 9.0], \"type\": \"scatter\"}]}, {\"data\": [{\"line\": {\"color\": \"red\", \"width\": 2}, \"mode\": \"lines\", \"x\": [1, 2, 3, 4, 5], \"y\": [1.9, 3.8, 5.699999999999999, 7.6, 9.5], \"type\": \"scatter\"}]}]);\n",
       "                        }).then(function(){\n",
       "                            \n",
       "var gd = document.getElementById('abefe3d4-ee1f-4595-a3c8-4bbbafd9736a');\n",
       "var x = new MutationObserver(function (mutations, observer) {{\n",
       "        var display = window.getComputedStyle(gd).display;\n",
       "        if (!display || display === 'none') {{\n",
       "            console.log([gd, 'removed!']);\n",
       "            Plotly.purge(gd);\n",
       "            observer.disconnect();\n",
       "        }}\n",
       "}});\n",
       "\n",
       "// Listen for the removal of the full notebook cells\n",
       "var notebookContainer = gd.closest('#notebook-container');\n",
       "if (notebookContainer) {{\n",
       "    x.observe(notebookContainer, {childList: true});\n",
       "}}\n",
       "\n",
       "// Listen for the clearing of the current output cell\n",
       "var outputEl = gd.closest('.output');\n",
       "if (outputEl) {{\n",
       "    x.observe(outputEl, {childList: true});\n",
       "}}\n",
       "\n",
       "                        })\n",
       "                };\n",
       "                });\n",
       "            </script>\n",
       "        </div>"
      ]
     },
     "metadata": {},
     "output_type": "display_data"
    }
   ],
   "source": [
    "fig = go.Figure(\n",
    "    data=[go.Scatter(x=x.reshape(len(x)), y=y,\n",
    "                     mode=\"markers\",\n",
    "                     name='Linar-model',\n",
    "                     line=dict(width=2, color=\"blue\")),\n",
    "          go.Scatter(x=x.reshape(len(x)), y=y,\n",
    "                     mode=\"markers\",\n",
    "                     name='Data',\n",
    "                     line=dict(width=2, color=\"blue\"))],\n",
    "    layout=go.Layout(\n",
    "        xaxis=dict(range=[0, 6], autorange=False, zeroline=False),\n",
    "        yaxis=dict(range=[0, 6], autorange=False, zeroline=False),\n",
    "        title_text=\"Fitting the line through the data\", hovermode=\"closest\",\n",
    "        updatemenus=[dict(type=\"buttons\",\n",
    "                          buttons=[dict(label=\"Play\",\n",
    "                                        method=\"animate\",\n",
    "                                        args=[None])])]),\n",
    "      frames=[go.Frame(\n",
    "        data=[go.Scatter(\n",
    "            x=x.reshape(len(x)),\n",
    "            y=y_predicted[k],\n",
    "            mode=\"lines\",\n",
    "            line=dict(color=\"red\", width=2))\n",
    "        ]) for k in range(20)]\n",
    ")\n",
    "\n",
    "fig.show()"
   ]
  },
  {
   "cell_type": "markdown",
   "metadata": {},
   "source": [
    "    The above graph show how a line is fitted through the data. The below graph show the error in the original and the predicted data as the line changes its possitions."
   ]
  },
  {
   "cell_type": "code",
   "execution_count": 10,
   "metadata": {},
   "outputs": [
    {
     "data": {
      "application/vnd.plotly.v1+json": {
       "config": {
        "plotlyServerURL": "https://plot.ly"
       },
       "data": [
        {
         "line": {
          "color": "blue",
          "width": 2
         },
         "mode": "markers",
         "type": "scatter",
         "x": [
          0,
          0.1,
          0.2
         ],
         "y": [
          5.5,
          4.455,
          3.5200000000000005
         ]
        }
       ],
       "frames": [
        {
         "data": [
          {
           "line": {
            "color": "red",
            "width": 2
           },
           "mode": "lines",
           "type": "scatter",
           "x": [
            0,
            0.1,
            0.2
           ],
           "y": [
            5.5,
            4.455,
            3.5200000000000005
           ]
          }
         ]
        },
        {
         "data": [
          {
           "line": {
            "color": "red",
            "width": 2
           },
           "mode": "lines",
           "type": "scatter",
           "x": [
            0,
            0.1,
            0.2,
            0.3
           ],
           "y": [
            5.5,
            4.455,
            3.5200000000000005,
            2.695
           ]
          }
         ]
        },
        {
         "data": [
          {
           "line": {
            "color": "red",
            "width": 2
           },
           "mode": "lines",
           "type": "scatter",
           "x": [
            0,
            0.1,
            0.2,
            0.3,
            0.4
           ],
           "y": [
            5.5,
            4.455,
            3.5200000000000005,
            2.695,
            1.9799999999999998
           ]
          }
         ]
        },
        {
         "data": [
          {
           "line": {
            "color": "red",
            "width": 2
           },
           "mode": "lines",
           "type": "scatter",
           "x": [
            0,
            0.1,
            0.2,
            0.3,
            0.4,
            0.5
           ],
           "y": [
            5.5,
            4.455,
            3.5200000000000005,
            2.695,
            1.9799999999999998,
            1.375
           ]
          }
         ]
        },
        {
         "data": [
          {
           "line": {
            "color": "red",
            "width": 2
           },
           "mode": "lines",
           "type": "scatter",
           "x": [
            0,
            0.1,
            0.2,
            0.3,
            0.4,
            0.5,
            0.6
           ],
           "y": [
            5.5,
            4.455,
            3.5200000000000005,
            2.695,
            1.9799999999999998,
            1.375,
            0.8800000000000001
           ]
          }
         ]
        },
        {
         "data": [
          {
           "line": {
            "color": "red",
            "width": 2
           },
           "mode": "lines",
           "type": "scatter",
           "x": [
            0,
            0.1,
            0.2,
            0.3,
            0.4,
            0.5,
            0.6,
            0.7
           ],
           "y": [
            5.5,
            4.455,
            3.5200000000000005,
            2.695,
            1.9799999999999998,
            1.375,
            0.8800000000000001,
            0.4950000000000001
           ]
          }
         ]
        },
        {
         "data": [
          {
           "line": {
            "color": "red",
            "width": 2
           },
           "mode": "lines",
           "type": "scatter",
           "x": [
            0,
            0.1,
            0.2,
            0.3,
            0.4,
            0.5,
            0.6,
            0.7,
            0.8
           ],
           "y": [
            5.5,
            4.455,
            3.5200000000000005,
            2.695,
            1.9799999999999998,
            1.375,
            0.8800000000000001,
            0.4950000000000001,
            0.21999999999999992
           ]
          }
         ]
        },
        {
         "data": [
          {
           "line": {
            "color": "red",
            "width": 2
           },
           "mode": "lines",
           "type": "scatter",
           "x": [
            0,
            0.1,
            0.2,
            0.3,
            0.4,
            0.5,
            0.6,
            0.7,
            0.8,
            0.9
           ],
           "y": [
            5.5,
            4.455,
            3.5200000000000005,
            2.695,
            1.9799999999999998,
            1.375,
            0.8800000000000001,
            0.4950000000000001,
            0.21999999999999992,
            0.05499999999999998
           ]
          }
         ]
        },
        {
         "data": [
          {
           "line": {
            "color": "red",
            "width": 2
           },
           "mode": "lines",
           "type": "scatter",
           "x": [
            0,
            0.1,
            0.2,
            0.3,
            0.4,
            0.5,
            0.6,
            0.7,
            0.8,
            0.9,
            1
           ],
           "y": [
            5.5,
            4.455,
            3.5200000000000005,
            2.695,
            1.9799999999999998,
            1.375,
            0.8800000000000001,
            0.4950000000000001,
            0.21999999999999992,
            0.05499999999999998,
            0
           ]
          }
         ]
        },
        {
         "data": [
          {
           "line": {
            "color": "red",
            "width": 2
           },
           "mode": "lines",
           "type": "scatter",
           "x": [
            0,
            0.1,
            0.2,
            0.3,
            0.4,
            0.5,
            0.6,
            0.7,
            0.8,
            0.9,
            1,
            1.1
           ],
           "y": [
            5.5,
            4.455,
            3.5200000000000005,
            2.695,
            1.9799999999999998,
            1.375,
            0.8800000000000001,
            0.4950000000000001,
            0.21999999999999992,
            0.05499999999999998,
            0,
            0.05500000000000005
           ]
          }
         ]
        },
        {
         "data": [
          {
           "line": {
            "color": "red",
            "width": 2
           },
           "mode": "lines",
           "type": "scatter",
           "x": [
            0,
            0.1,
            0.2,
            0.3,
            0.4,
            0.5,
            0.6,
            0.7,
            0.8,
            0.9,
            1,
            1.1,
            1.2
           ],
           "y": [
            5.5,
            4.455,
            3.5200000000000005,
            2.695,
            1.9799999999999998,
            1.375,
            0.8800000000000001,
            0.4950000000000001,
            0.21999999999999992,
            0.05499999999999998,
            0,
            0.05500000000000005,
            0.21999999999999992
           ]
          }
         ]
        },
        {
         "data": [
          {
           "line": {
            "color": "red",
            "width": 2
           },
           "mode": "lines",
           "type": "scatter",
           "x": [
            0,
            0.1,
            0.2,
            0.3,
            0.4,
            0.5,
            0.6,
            0.7,
            0.8,
            0.9,
            1,
            1.1,
            1.2,
            1.3
           ],
           "y": [
            5.5,
            4.455,
            3.5200000000000005,
            2.695,
            1.9799999999999998,
            1.375,
            0.8800000000000001,
            0.4950000000000001,
            0.21999999999999992,
            0.05499999999999998,
            0,
            0.05500000000000005,
            0.21999999999999992,
            0.4950000000000001
           ]
          }
         ]
        },
        {
         "data": [
          {
           "line": {
            "color": "red",
            "width": 2
           },
           "mode": "lines",
           "type": "scatter",
           "x": [
            0,
            0.1,
            0.2,
            0.3,
            0.4,
            0.5,
            0.6,
            0.7,
            0.8,
            0.9,
            1,
            1.1,
            1.2,
            1.3,
            1.4
           ],
           "y": [
            5.5,
            4.455,
            3.5200000000000005,
            2.695,
            1.9799999999999998,
            1.375,
            0.8800000000000001,
            0.4950000000000001,
            0.21999999999999992,
            0.05499999999999998,
            0,
            0.05500000000000005,
            0.21999999999999992,
            0.4950000000000001,
            0.8799999999999997
           ]
          }
         ]
        },
        {
         "data": [
          {
           "line": {
            "color": "red",
            "width": 2
           },
           "mode": "lines",
           "type": "scatter",
           "x": [
            0,
            0.1,
            0.2,
            0.3,
            0.4,
            0.5,
            0.6,
            0.7,
            0.8,
            0.9,
            1,
            1.1,
            1.2,
            1.3,
            1.4,
            1.5
           ],
           "y": [
            5.5,
            4.455,
            3.5200000000000005,
            2.695,
            1.9799999999999998,
            1.375,
            0.8800000000000001,
            0.4950000000000001,
            0.21999999999999992,
            0.05499999999999998,
            0,
            0.05500000000000005,
            0.21999999999999992,
            0.4950000000000001,
            0.8799999999999997,
            1.375
           ]
          }
         ]
        },
        {
         "data": [
          {
           "line": {
            "color": "red",
            "width": 2
           },
           "mode": "lines",
           "type": "scatter",
           "x": [
            0,
            0.1,
            0.2,
            0.3,
            0.4,
            0.5,
            0.6,
            0.7,
            0.8,
            0.9,
            1,
            1.1,
            1.2,
            1.3,
            1.4,
            1.5,
            1.6
           ],
           "y": [
            5.5,
            4.455,
            3.5200000000000005,
            2.695,
            1.9799999999999998,
            1.375,
            0.8800000000000001,
            0.4950000000000001,
            0.21999999999999992,
            0.05499999999999998,
            0,
            0.05500000000000005,
            0.21999999999999992,
            0.4950000000000001,
            0.8799999999999997,
            1.375,
            1.9800000000000004
           ]
          }
         ]
        },
        {
         "data": [
          {
           "line": {
            "color": "red",
            "width": 2
           },
           "mode": "lines",
           "type": "scatter",
           "x": [
            0,
            0.1,
            0.2,
            0.3,
            0.4,
            0.5,
            0.6,
            0.7,
            0.8,
            0.9,
            1,
            1.1,
            1.2,
            1.3,
            1.4,
            1.5,
            1.6,
            1.7
           ],
           "y": [
            5.5,
            4.455,
            3.5200000000000005,
            2.695,
            1.9799999999999998,
            1.375,
            0.8800000000000001,
            0.4950000000000001,
            0.21999999999999992,
            0.05499999999999998,
            0,
            0.05500000000000005,
            0.21999999999999992,
            0.4950000000000001,
            0.8799999999999997,
            1.375,
            1.9800000000000004,
            2.6949999999999994
           ]
          }
         ]
        },
        {
         "data": [
          {
           "line": {
            "color": "red",
            "width": 2
           },
           "mode": "lines",
           "type": "scatter",
           "x": [
            0,
            0.1,
            0.2,
            0.3,
            0.4,
            0.5,
            0.6,
            0.7,
            0.8,
            0.9,
            1,
            1.1,
            1.2,
            1.3,
            1.4,
            1.5,
            1.6,
            1.7,
            1.8
           ],
           "y": [
            5.5,
            4.455,
            3.5200000000000005,
            2.695,
            1.9799999999999998,
            1.375,
            0.8800000000000001,
            0.4950000000000001,
            0.21999999999999992,
            0.05499999999999998,
            0,
            0.05500000000000005,
            0.21999999999999992,
            0.4950000000000001,
            0.8799999999999997,
            1.375,
            1.9800000000000004,
            2.6949999999999994,
            3.5200000000000005
           ]
          }
         ]
        }
       ],
       "layout": {
        "hovermode": "closest",
        "template": {
         "data": {
          "bar": [
           {
            "error_x": {
             "color": "#2a3f5f"
            },
            "error_y": {
             "color": "#2a3f5f"
            },
            "marker": {
             "line": {
              "color": "#E5ECF6",
              "width": 0.5
             }
            },
            "type": "bar"
           }
          ],
          "barpolar": [
           {
            "marker": {
             "line": {
              "color": "#E5ECF6",
              "width": 0.5
             }
            },
            "type": "barpolar"
           }
          ],
          "carpet": [
           {
            "aaxis": {
             "endlinecolor": "#2a3f5f",
             "gridcolor": "white",
             "linecolor": "white",
             "minorgridcolor": "white",
             "startlinecolor": "#2a3f5f"
            },
            "baxis": {
             "endlinecolor": "#2a3f5f",
             "gridcolor": "white",
             "linecolor": "white",
             "minorgridcolor": "white",
             "startlinecolor": "#2a3f5f"
            },
            "type": "carpet"
           }
          ],
          "choropleth": [
           {
            "colorbar": {
             "outlinewidth": 0,
             "ticks": ""
            },
            "type": "choropleth"
           }
          ],
          "contour": [
           {
            "colorbar": {
             "outlinewidth": 0,
             "ticks": ""
            },
            "colorscale": [
             [
              0,
              "#0d0887"
             ],
             [
              0.1111111111111111,
              "#46039f"
             ],
             [
              0.2222222222222222,
              "#7201a8"
             ],
             [
              0.3333333333333333,
              "#9c179e"
             ],
             [
              0.4444444444444444,
              "#bd3786"
             ],
             [
              0.5555555555555556,
              "#d8576b"
             ],
             [
              0.6666666666666666,
              "#ed7953"
             ],
             [
              0.7777777777777778,
              "#fb9f3a"
             ],
             [
              0.8888888888888888,
              "#fdca26"
             ],
             [
              1,
              "#f0f921"
             ]
            ],
            "type": "contour"
           }
          ],
          "contourcarpet": [
           {
            "colorbar": {
             "outlinewidth": 0,
             "ticks": ""
            },
            "type": "contourcarpet"
           }
          ],
          "heatmap": [
           {
            "colorbar": {
             "outlinewidth": 0,
             "ticks": ""
            },
            "colorscale": [
             [
              0,
              "#0d0887"
             ],
             [
              0.1111111111111111,
              "#46039f"
             ],
             [
              0.2222222222222222,
              "#7201a8"
             ],
             [
              0.3333333333333333,
              "#9c179e"
             ],
             [
              0.4444444444444444,
              "#bd3786"
             ],
             [
              0.5555555555555556,
              "#d8576b"
             ],
             [
              0.6666666666666666,
              "#ed7953"
             ],
             [
              0.7777777777777778,
              "#fb9f3a"
             ],
             [
              0.8888888888888888,
              "#fdca26"
             ],
             [
              1,
              "#f0f921"
             ]
            ],
            "type": "heatmap"
           }
          ],
          "heatmapgl": [
           {
            "colorbar": {
             "outlinewidth": 0,
             "ticks": ""
            },
            "colorscale": [
             [
              0,
              "#0d0887"
             ],
             [
              0.1111111111111111,
              "#46039f"
             ],
             [
              0.2222222222222222,
              "#7201a8"
             ],
             [
              0.3333333333333333,
              "#9c179e"
             ],
             [
              0.4444444444444444,
              "#bd3786"
             ],
             [
              0.5555555555555556,
              "#d8576b"
             ],
             [
              0.6666666666666666,
              "#ed7953"
             ],
             [
              0.7777777777777778,
              "#fb9f3a"
             ],
             [
              0.8888888888888888,
              "#fdca26"
             ],
             [
              1,
              "#f0f921"
             ]
            ],
            "type": "heatmapgl"
           }
          ],
          "histogram": [
           {
            "marker": {
             "colorbar": {
              "outlinewidth": 0,
              "ticks": ""
             }
            },
            "type": "histogram"
           }
          ],
          "histogram2d": [
           {
            "colorbar": {
             "outlinewidth": 0,
             "ticks": ""
            },
            "colorscale": [
             [
              0,
              "#0d0887"
             ],
             [
              0.1111111111111111,
              "#46039f"
             ],
             [
              0.2222222222222222,
              "#7201a8"
             ],
             [
              0.3333333333333333,
              "#9c179e"
             ],
             [
              0.4444444444444444,
              "#bd3786"
             ],
             [
              0.5555555555555556,
              "#d8576b"
             ],
             [
              0.6666666666666666,
              "#ed7953"
             ],
             [
              0.7777777777777778,
              "#fb9f3a"
             ],
             [
              0.8888888888888888,
              "#fdca26"
             ],
             [
              1,
              "#f0f921"
             ]
            ],
            "type": "histogram2d"
           }
          ],
          "histogram2dcontour": [
           {
            "colorbar": {
             "outlinewidth": 0,
             "ticks": ""
            },
            "colorscale": [
             [
              0,
              "#0d0887"
             ],
             [
              0.1111111111111111,
              "#46039f"
             ],
             [
              0.2222222222222222,
              "#7201a8"
             ],
             [
              0.3333333333333333,
              "#9c179e"
             ],
             [
              0.4444444444444444,
              "#bd3786"
             ],
             [
              0.5555555555555556,
              "#d8576b"
             ],
             [
              0.6666666666666666,
              "#ed7953"
             ],
             [
              0.7777777777777778,
              "#fb9f3a"
             ],
             [
              0.8888888888888888,
              "#fdca26"
             ],
             [
              1,
              "#f0f921"
             ]
            ],
            "type": "histogram2dcontour"
           }
          ],
          "mesh3d": [
           {
            "colorbar": {
             "outlinewidth": 0,
             "ticks": ""
            },
            "type": "mesh3d"
           }
          ],
          "parcoords": [
           {
            "line": {
             "colorbar": {
              "outlinewidth": 0,
              "ticks": ""
             }
            },
            "type": "parcoords"
           }
          ],
          "scatter": [
           {
            "marker": {
             "colorbar": {
              "outlinewidth": 0,
              "ticks": ""
             }
            },
            "type": "scatter"
           }
          ],
          "scatter3d": [
           {
            "line": {
             "colorbar": {
              "outlinewidth": 0,
              "ticks": ""
             }
            },
            "marker": {
             "colorbar": {
              "outlinewidth": 0,
              "ticks": ""
             }
            },
            "type": "scatter3d"
           }
          ],
          "scattercarpet": [
           {
            "marker": {
             "colorbar": {
              "outlinewidth": 0,
              "ticks": ""
             }
            },
            "type": "scattercarpet"
           }
          ],
          "scattergeo": [
           {
            "marker": {
             "colorbar": {
              "outlinewidth": 0,
              "ticks": ""
             }
            },
            "type": "scattergeo"
           }
          ],
          "scattergl": [
           {
            "marker": {
             "colorbar": {
              "outlinewidth": 0,
              "ticks": ""
             }
            },
            "type": "scattergl"
           }
          ],
          "scattermapbox": [
           {
            "marker": {
             "colorbar": {
              "outlinewidth": 0,
              "ticks": ""
             }
            },
            "type": "scattermapbox"
           }
          ],
          "scatterpolar": [
           {
            "marker": {
             "colorbar": {
              "outlinewidth": 0,
              "ticks": ""
             }
            },
            "type": "scatterpolar"
           }
          ],
          "scatterpolargl": [
           {
            "marker": {
             "colorbar": {
              "outlinewidth": 0,
              "ticks": ""
             }
            },
            "type": "scatterpolargl"
           }
          ],
          "scatterternary": [
           {
            "marker": {
             "colorbar": {
              "outlinewidth": 0,
              "ticks": ""
             }
            },
            "type": "scatterternary"
           }
          ],
          "surface": [
           {
            "colorbar": {
             "outlinewidth": 0,
             "ticks": ""
            },
            "colorscale": [
             [
              0,
              "#0d0887"
             ],
             [
              0.1111111111111111,
              "#46039f"
             ],
             [
              0.2222222222222222,
              "#7201a8"
             ],
             [
              0.3333333333333333,
              "#9c179e"
             ],
             [
              0.4444444444444444,
              "#bd3786"
             ],
             [
              0.5555555555555556,
              "#d8576b"
             ],
             [
              0.6666666666666666,
              "#ed7953"
             ],
             [
              0.7777777777777778,
              "#fb9f3a"
             ],
             [
              0.8888888888888888,
              "#fdca26"
             ],
             [
              1,
              "#f0f921"
             ]
            ],
            "type": "surface"
           }
          ],
          "table": [
           {
            "cells": {
             "fill": {
              "color": "#EBF0F8"
             },
             "line": {
              "color": "white"
             }
            },
            "header": {
             "fill": {
              "color": "#C8D4E3"
             },
             "line": {
              "color": "white"
             }
            },
            "type": "table"
           }
          ]
         },
         "layout": {
          "annotationdefaults": {
           "arrowcolor": "#2a3f5f",
           "arrowhead": 0,
           "arrowwidth": 1
          },
          "colorscale": {
           "diverging": [
            [
             0,
             "#8e0152"
            ],
            [
             0.1,
             "#c51b7d"
            ],
            [
             0.2,
             "#de77ae"
            ],
            [
             0.3,
             "#f1b6da"
            ],
            [
             0.4,
             "#fde0ef"
            ],
            [
             0.5,
             "#f7f7f7"
            ],
            [
             0.6,
             "#e6f5d0"
            ],
            [
             0.7,
             "#b8e186"
            ],
            [
             0.8,
             "#7fbc41"
            ],
            [
             0.9,
             "#4d9221"
            ],
            [
             1,
             "#276419"
            ]
           ],
           "sequential": [
            [
             0,
             "#0d0887"
            ],
            [
             0.1111111111111111,
             "#46039f"
            ],
            [
             0.2222222222222222,
             "#7201a8"
            ],
            [
             0.3333333333333333,
             "#9c179e"
            ],
            [
             0.4444444444444444,
             "#bd3786"
            ],
            [
             0.5555555555555556,
             "#d8576b"
            ],
            [
             0.6666666666666666,
             "#ed7953"
            ],
            [
             0.7777777777777778,
             "#fb9f3a"
            ],
            [
             0.8888888888888888,
             "#fdca26"
            ],
            [
             1,
             "#f0f921"
            ]
           ],
           "sequentialminus": [
            [
             0,
             "#0d0887"
            ],
            [
             0.1111111111111111,
             "#46039f"
            ],
            [
             0.2222222222222222,
             "#7201a8"
            ],
            [
             0.3333333333333333,
             "#9c179e"
            ],
            [
             0.4444444444444444,
             "#bd3786"
            ],
            [
             0.5555555555555556,
             "#d8576b"
            ],
            [
             0.6666666666666666,
             "#ed7953"
            ],
            [
             0.7777777777777778,
             "#fb9f3a"
            ],
            [
             0.8888888888888888,
             "#fdca26"
            ],
            [
             1,
             "#f0f921"
            ]
           ]
          },
          "colorway": [
           "#636efa",
           "#EF553B",
           "#00cc96",
           "#ab63fa",
           "#FFA15A",
           "#19d3f3",
           "#FF6692",
           "#B6E880",
           "#FF97FF",
           "#FECB52"
          ],
          "font": {
           "color": "#2a3f5f"
          },
          "geo": {
           "bgcolor": "white",
           "lakecolor": "white",
           "landcolor": "#E5ECF6",
           "showlakes": true,
           "showland": true,
           "subunitcolor": "white"
          },
          "hoverlabel": {
           "align": "left"
          },
          "hovermode": "closest",
          "mapbox": {
           "style": "light"
          },
          "paper_bgcolor": "white",
          "plot_bgcolor": "#E5ECF6",
          "polar": {
           "angularaxis": {
            "gridcolor": "white",
            "linecolor": "white",
            "ticks": ""
           },
           "bgcolor": "#E5ECF6",
           "radialaxis": {
            "gridcolor": "white",
            "linecolor": "white",
            "ticks": ""
           }
          },
          "scene": {
           "xaxis": {
            "backgroundcolor": "#E5ECF6",
            "gridcolor": "white",
            "gridwidth": 2,
            "linecolor": "white",
            "showbackground": true,
            "ticks": "",
            "zerolinecolor": "white"
           },
           "yaxis": {
            "backgroundcolor": "#E5ECF6",
            "gridcolor": "white",
            "gridwidth": 2,
            "linecolor": "white",
            "showbackground": true,
            "ticks": "",
            "zerolinecolor": "white"
           },
           "zaxis": {
            "backgroundcolor": "#E5ECF6",
            "gridcolor": "white",
            "gridwidth": 2,
            "linecolor": "white",
            "showbackground": true,
            "ticks": "",
            "zerolinecolor": "white"
           }
          },
          "shapedefaults": {
           "line": {
            "color": "#2a3f5f"
           }
          },
          "ternary": {
           "aaxis": {
            "gridcolor": "white",
            "linecolor": "white",
            "ticks": ""
           },
           "baxis": {
            "gridcolor": "white",
            "linecolor": "white",
            "ticks": ""
           },
           "bgcolor": "#E5ECF6",
           "caxis": {
            "gridcolor": "white",
            "linecolor": "white",
            "ticks": ""
           }
          },
          "title": {
           "x": 0.05
          },
          "xaxis": {
           "automargin": true,
           "gridcolor": "white",
           "linecolor": "white",
           "ticks": "",
           "zerolinecolor": "white",
           "zerolinewidth": 2
          },
          "yaxis": {
           "automargin": true,
           "gridcolor": "white",
           "linecolor": "white",
           "ticks": "",
           "zerolinecolor": "white",
           "zerolinewidth": 2
          }
         }
        },
        "title": {
         "text": "The cost "
        },
        "updatemenus": [
         {
          "buttons": [
           {
            "args": [
             null
            ],
            "label": "Play",
            "method": "animate"
           }
          ],
          "type": "buttons"
         }
        ],
        "xaxis": {
         "autorange": false,
         "range": [
          0,
          2
         ],
         "zeroline": false
        },
        "yaxis": {
         "autorange": false,
         "range": [
          0,
          3
         ],
         "zeroline": false
        }
       }
      },
      "text/html": [
       "<div>\n",
       "        \n",
       "        \n",
       "            <div id=\"16a7f826-1011-4008-9601-3322eaffc8c4\" class=\"plotly-graph-div\" style=\"height:525px; width:100%;\"></div>\n",
       "            <script type=\"text/javascript\">\n",
       "                require([\"plotly\"], function(Plotly) {\n",
       "                    window.PLOTLYENV=window.PLOTLYENV || {};\n",
       "                    \n",
       "                if (document.getElementById(\"16a7f826-1011-4008-9601-3322eaffc8c4\")) {\n",
       "                    Plotly.newPlot(\n",
       "                        '16a7f826-1011-4008-9601-3322eaffc8c4',\n",
       "                        [{\"line\": {\"color\": \"blue\", \"width\": 2}, \"mode\": \"markers\", \"type\": \"scatter\", \"x\": [0.0, 0.1, 0.2], \"y\": [5.5, 4.455, 3.5200000000000005]}],\n",
       "                        {\"hovermode\": \"closest\", \"template\": {\"data\": {\"bar\": [{\"error_x\": {\"color\": \"#2a3f5f\"}, \"error_y\": {\"color\": \"#2a3f5f\"}, \"marker\": {\"line\": {\"color\": \"#E5ECF6\", \"width\": 0.5}}, \"type\": \"bar\"}], \"barpolar\": [{\"marker\": {\"line\": {\"color\": \"#E5ECF6\", \"width\": 0.5}}, \"type\": \"barpolar\"}], \"carpet\": [{\"aaxis\": {\"endlinecolor\": \"#2a3f5f\", \"gridcolor\": \"white\", \"linecolor\": \"white\", \"minorgridcolor\": \"white\", \"startlinecolor\": \"#2a3f5f\"}, \"baxis\": {\"endlinecolor\": \"#2a3f5f\", \"gridcolor\": \"white\", \"linecolor\": \"white\", \"minorgridcolor\": \"white\", \"startlinecolor\": \"#2a3f5f\"}, \"type\": \"carpet\"}], \"choropleth\": [{\"colorbar\": {\"outlinewidth\": 0, \"ticks\": \"\"}, \"type\": \"choropleth\"}], \"contour\": [{\"colorbar\": {\"outlinewidth\": 0, \"ticks\": \"\"}, \"colorscale\": [[0.0, \"#0d0887\"], [0.1111111111111111, \"#46039f\"], [0.2222222222222222, \"#7201a8\"], [0.3333333333333333, \"#9c179e\"], [0.4444444444444444, \"#bd3786\"], [0.5555555555555556, \"#d8576b\"], [0.6666666666666666, \"#ed7953\"], [0.7777777777777778, \"#fb9f3a\"], [0.8888888888888888, \"#fdca26\"], [1.0, \"#f0f921\"]], \"type\": \"contour\"}], \"contourcarpet\": [{\"colorbar\": {\"outlinewidth\": 0, \"ticks\": \"\"}, \"type\": \"contourcarpet\"}], \"heatmap\": [{\"colorbar\": {\"outlinewidth\": 0, \"ticks\": \"\"}, \"colorscale\": [[0.0, \"#0d0887\"], [0.1111111111111111, \"#46039f\"], [0.2222222222222222, \"#7201a8\"], [0.3333333333333333, \"#9c179e\"], [0.4444444444444444, \"#bd3786\"], [0.5555555555555556, \"#d8576b\"], [0.6666666666666666, \"#ed7953\"], [0.7777777777777778, \"#fb9f3a\"], [0.8888888888888888, \"#fdca26\"], [1.0, \"#f0f921\"]], \"type\": \"heatmap\"}], \"heatmapgl\": [{\"colorbar\": {\"outlinewidth\": 0, \"ticks\": \"\"}, \"colorscale\": [[0.0, \"#0d0887\"], [0.1111111111111111, \"#46039f\"], [0.2222222222222222, \"#7201a8\"], [0.3333333333333333, \"#9c179e\"], [0.4444444444444444, \"#bd3786\"], [0.5555555555555556, \"#d8576b\"], [0.6666666666666666, \"#ed7953\"], [0.7777777777777778, \"#fb9f3a\"], [0.8888888888888888, \"#fdca26\"], [1.0, \"#f0f921\"]], \"type\": \"heatmapgl\"}], \"histogram\": [{\"marker\": {\"colorbar\": {\"outlinewidth\": 0, \"ticks\": \"\"}}, \"type\": \"histogram\"}], \"histogram2d\": [{\"colorbar\": {\"outlinewidth\": 0, \"ticks\": \"\"}, \"colorscale\": [[0.0, \"#0d0887\"], [0.1111111111111111, \"#46039f\"], [0.2222222222222222, \"#7201a8\"], [0.3333333333333333, \"#9c179e\"], [0.4444444444444444, \"#bd3786\"], [0.5555555555555556, \"#d8576b\"], [0.6666666666666666, \"#ed7953\"], [0.7777777777777778, \"#fb9f3a\"], [0.8888888888888888, \"#fdca26\"], [1.0, \"#f0f921\"]], \"type\": \"histogram2d\"}], \"histogram2dcontour\": [{\"colorbar\": {\"outlinewidth\": 0, \"ticks\": \"\"}, \"colorscale\": [[0.0, \"#0d0887\"], [0.1111111111111111, \"#46039f\"], [0.2222222222222222, \"#7201a8\"], [0.3333333333333333, \"#9c179e\"], [0.4444444444444444, \"#bd3786\"], [0.5555555555555556, \"#d8576b\"], [0.6666666666666666, \"#ed7953\"], [0.7777777777777778, \"#fb9f3a\"], [0.8888888888888888, \"#fdca26\"], [1.0, \"#f0f921\"]], \"type\": \"histogram2dcontour\"}], \"mesh3d\": [{\"colorbar\": {\"outlinewidth\": 0, \"ticks\": \"\"}, \"type\": \"mesh3d\"}], \"parcoords\": [{\"line\": {\"colorbar\": {\"outlinewidth\": 0, \"ticks\": \"\"}}, \"type\": \"parcoords\"}], \"scatter\": [{\"marker\": {\"colorbar\": {\"outlinewidth\": 0, \"ticks\": \"\"}}, \"type\": \"scatter\"}], \"scatter3d\": [{\"line\": {\"colorbar\": {\"outlinewidth\": 0, \"ticks\": \"\"}}, \"marker\": {\"colorbar\": {\"outlinewidth\": 0, \"ticks\": \"\"}}, \"type\": \"scatter3d\"}], \"scattercarpet\": [{\"marker\": {\"colorbar\": {\"outlinewidth\": 0, \"ticks\": \"\"}}, \"type\": \"scattercarpet\"}], \"scattergeo\": [{\"marker\": {\"colorbar\": {\"outlinewidth\": 0, \"ticks\": \"\"}}, \"type\": \"scattergeo\"}], \"scattergl\": [{\"marker\": {\"colorbar\": {\"outlinewidth\": 0, \"ticks\": \"\"}}, \"type\": \"scattergl\"}], \"scattermapbox\": [{\"marker\": {\"colorbar\": {\"outlinewidth\": 0, \"ticks\": \"\"}}, \"type\": \"scattermapbox\"}], \"scatterpolar\": [{\"marker\": {\"colorbar\": {\"outlinewidth\": 0, \"ticks\": \"\"}}, \"type\": \"scatterpolar\"}], \"scatterpolargl\": [{\"marker\": {\"colorbar\": {\"outlinewidth\": 0, \"ticks\": \"\"}}, \"type\": \"scatterpolargl\"}], \"scatterternary\": [{\"marker\": {\"colorbar\": {\"outlinewidth\": 0, \"ticks\": \"\"}}, \"type\": \"scatterternary\"}], \"surface\": [{\"colorbar\": {\"outlinewidth\": 0, \"ticks\": \"\"}, \"colorscale\": [[0.0, \"#0d0887\"], [0.1111111111111111, \"#46039f\"], [0.2222222222222222, \"#7201a8\"], [0.3333333333333333, \"#9c179e\"], [0.4444444444444444, \"#bd3786\"], [0.5555555555555556, \"#d8576b\"], [0.6666666666666666, \"#ed7953\"], [0.7777777777777778, \"#fb9f3a\"], [0.8888888888888888, \"#fdca26\"], [1.0, \"#f0f921\"]], \"type\": \"surface\"}], \"table\": [{\"cells\": {\"fill\": {\"color\": \"#EBF0F8\"}, \"line\": {\"color\": \"white\"}}, \"header\": {\"fill\": {\"color\": \"#C8D4E3\"}, \"line\": {\"color\": \"white\"}}, \"type\": \"table\"}]}, \"layout\": {\"annotationdefaults\": {\"arrowcolor\": \"#2a3f5f\", \"arrowhead\": 0, \"arrowwidth\": 1}, \"colorscale\": {\"diverging\": [[0, \"#8e0152\"], [0.1, \"#c51b7d\"], [0.2, \"#de77ae\"], [0.3, \"#f1b6da\"], [0.4, \"#fde0ef\"], [0.5, \"#f7f7f7\"], [0.6, \"#e6f5d0\"], [0.7, \"#b8e186\"], [0.8, \"#7fbc41\"], [0.9, \"#4d9221\"], [1, \"#276419\"]], \"sequential\": [[0.0, \"#0d0887\"], [0.1111111111111111, \"#46039f\"], [0.2222222222222222, \"#7201a8\"], [0.3333333333333333, \"#9c179e\"], [0.4444444444444444, \"#bd3786\"], [0.5555555555555556, \"#d8576b\"], [0.6666666666666666, \"#ed7953\"], [0.7777777777777778, \"#fb9f3a\"], [0.8888888888888888, \"#fdca26\"], [1.0, \"#f0f921\"]], \"sequentialminus\": [[0.0, \"#0d0887\"], [0.1111111111111111, \"#46039f\"], [0.2222222222222222, \"#7201a8\"], [0.3333333333333333, \"#9c179e\"], [0.4444444444444444, \"#bd3786\"], [0.5555555555555556, \"#d8576b\"], [0.6666666666666666, \"#ed7953\"], [0.7777777777777778, \"#fb9f3a\"], [0.8888888888888888, \"#fdca26\"], [1.0, \"#f0f921\"]]}, \"colorway\": [\"#636efa\", \"#EF553B\", \"#00cc96\", \"#ab63fa\", \"#FFA15A\", \"#19d3f3\", \"#FF6692\", \"#B6E880\", \"#FF97FF\", \"#FECB52\"], \"font\": {\"color\": \"#2a3f5f\"}, \"geo\": {\"bgcolor\": \"white\", \"lakecolor\": \"white\", \"landcolor\": \"#E5ECF6\", \"showlakes\": true, \"showland\": true, \"subunitcolor\": \"white\"}, \"hoverlabel\": {\"align\": \"left\"}, \"hovermode\": \"closest\", \"mapbox\": {\"style\": \"light\"}, \"paper_bgcolor\": \"white\", \"plot_bgcolor\": \"#E5ECF6\", \"polar\": {\"angularaxis\": {\"gridcolor\": \"white\", \"linecolor\": \"white\", \"ticks\": \"\"}, \"bgcolor\": \"#E5ECF6\", \"radialaxis\": {\"gridcolor\": \"white\", \"linecolor\": \"white\", \"ticks\": \"\"}}, \"scene\": {\"xaxis\": {\"backgroundcolor\": \"#E5ECF6\", \"gridcolor\": \"white\", \"gridwidth\": 2, \"linecolor\": \"white\", \"showbackground\": true, \"ticks\": \"\", \"zerolinecolor\": \"white\"}, \"yaxis\": {\"backgroundcolor\": \"#E5ECF6\", \"gridcolor\": \"white\", \"gridwidth\": 2, \"linecolor\": \"white\", \"showbackground\": true, \"ticks\": \"\", \"zerolinecolor\": \"white\"}, \"zaxis\": {\"backgroundcolor\": \"#E5ECF6\", \"gridcolor\": \"white\", \"gridwidth\": 2, \"linecolor\": \"white\", \"showbackground\": true, \"ticks\": \"\", \"zerolinecolor\": \"white\"}}, \"shapedefaults\": {\"line\": {\"color\": \"#2a3f5f\"}}, \"ternary\": {\"aaxis\": {\"gridcolor\": \"white\", \"linecolor\": \"white\", \"ticks\": \"\"}, \"baxis\": {\"gridcolor\": \"white\", \"linecolor\": \"white\", \"ticks\": \"\"}, \"bgcolor\": \"#E5ECF6\", \"caxis\": {\"gridcolor\": \"white\", \"linecolor\": \"white\", \"ticks\": \"\"}}, \"title\": {\"x\": 0.05}, \"xaxis\": {\"automargin\": true, \"gridcolor\": \"white\", \"linecolor\": \"white\", \"ticks\": \"\", \"zerolinecolor\": \"white\", \"zerolinewidth\": 2}, \"yaxis\": {\"automargin\": true, \"gridcolor\": \"white\", \"linecolor\": \"white\", \"ticks\": \"\", \"zerolinecolor\": \"white\", \"zerolinewidth\": 2}}}, \"title\": {\"text\": \"The cost \"}, \"updatemenus\": [{\"buttons\": [{\"args\": [null], \"label\": \"Play\", \"method\": \"animate\"}], \"type\": \"buttons\"}], \"xaxis\": {\"autorange\": false, \"range\": [0, 2], \"zeroline\": false}, \"yaxis\": {\"autorange\": false, \"range\": [0, 3], \"zeroline\": false}},\n",
       "                        {\"responsive\": true}\n",
       "                    ).then(function(){\n",
       "                            Plotly.addFrames('16a7f826-1011-4008-9601-3322eaffc8c4', [{\"data\": [{\"line\": {\"color\": \"red\", \"width\": 2}, \"mode\": \"lines\", \"x\": [0.0, 0.1, 0.2], \"y\": [5.5, 4.455, 3.5200000000000005], \"type\": \"scatter\"}]}, {\"data\": [{\"line\": {\"color\": \"red\", \"width\": 2}, \"mode\": \"lines\", \"x\": [0.0, 0.1, 0.2, 0.3], \"y\": [5.5, 4.455, 3.5200000000000005, 2.695], \"type\": \"scatter\"}]}, {\"data\": [{\"line\": {\"color\": \"red\", \"width\": 2}, \"mode\": \"lines\", \"x\": [0.0, 0.1, 0.2, 0.3, 0.4], \"y\": [5.5, 4.455, 3.5200000000000005, 2.695, 1.9799999999999998], \"type\": \"scatter\"}]}, {\"data\": [{\"line\": {\"color\": \"red\", \"width\": 2}, \"mode\": \"lines\", \"x\": [0.0, 0.1, 0.2, 0.3, 0.4, 0.5], \"y\": [5.5, 4.455, 3.5200000000000005, 2.695, 1.9799999999999998, 1.375], \"type\": \"scatter\"}]}, {\"data\": [{\"line\": {\"color\": \"red\", \"width\": 2}, \"mode\": \"lines\", \"x\": [0.0, 0.1, 0.2, 0.3, 0.4, 0.5, 0.6], \"y\": [5.5, 4.455, 3.5200000000000005, 2.695, 1.9799999999999998, 1.375, 0.8800000000000001], \"type\": \"scatter\"}]}, {\"data\": [{\"line\": {\"color\": \"red\", \"width\": 2}, \"mode\": \"lines\", \"x\": [0.0, 0.1, 0.2, 0.3, 0.4, 0.5, 0.6, 0.7], \"y\": [5.5, 4.455, 3.5200000000000005, 2.695, 1.9799999999999998, 1.375, 0.8800000000000001, 0.4950000000000001], \"type\": \"scatter\"}]}, {\"data\": [{\"line\": {\"color\": \"red\", \"width\": 2}, \"mode\": \"lines\", \"x\": [0.0, 0.1, 0.2, 0.3, 0.4, 0.5, 0.6, 0.7, 0.8], \"y\": [5.5, 4.455, 3.5200000000000005, 2.695, 1.9799999999999998, 1.375, 0.8800000000000001, 0.4950000000000001, 0.21999999999999992], \"type\": \"scatter\"}]}, {\"data\": [{\"line\": {\"color\": \"red\", \"width\": 2}, \"mode\": \"lines\", \"x\": [0.0, 0.1, 0.2, 0.3, 0.4, 0.5, 0.6, 0.7, 0.8, 0.9], \"y\": [5.5, 4.455, 3.5200000000000005, 2.695, 1.9799999999999998, 1.375, 0.8800000000000001, 0.4950000000000001, 0.21999999999999992, 0.05499999999999998], \"type\": \"scatter\"}]}, {\"data\": [{\"line\": {\"color\": \"red\", \"width\": 2}, \"mode\": \"lines\", \"x\": [0.0, 0.1, 0.2, 0.3, 0.4, 0.5, 0.6, 0.7, 0.8, 0.9, 1.0], \"y\": [5.5, 4.455, 3.5200000000000005, 2.695, 1.9799999999999998, 1.375, 0.8800000000000001, 0.4950000000000001, 0.21999999999999992, 0.05499999999999998, 0.0], \"type\": \"scatter\"}]}, {\"data\": [{\"line\": {\"color\": \"red\", \"width\": 2}, \"mode\": \"lines\", \"x\": [0.0, 0.1, 0.2, 0.3, 0.4, 0.5, 0.6, 0.7, 0.8, 0.9, 1.0, 1.1], \"y\": [5.5, 4.455, 3.5200000000000005, 2.695, 1.9799999999999998, 1.375, 0.8800000000000001, 0.4950000000000001, 0.21999999999999992, 0.05499999999999998, 0.0, 0.05500000000000005], \"type\": \"scatter\"}]}, {\"data\": [{\"line\": {\"color\": \"red\", \"width\": 2}, \"mode\": \"lines\", \"x\": [0.0, 0.1, 0.2, 0.3, 0.4, 0.5, 0.6, 0.7, 0.8, 0.9, 1.0, 1.1, 1.2], \"y\": [5.5, 4.455, 3.5200000000000005, 2.695, 1.9799999999999998, 1.375, 0.8800000000000001, 0.4950000000000001, 0.21999999999999992, 0.05499999999999998, 0.0, 0.05500000000000005, 0.21999999999999992], \"type\": \"scatter\"}]}, {\"data\": [{\"line\": {\"color\": \"red\", \"width\": 2}, \"mode\": \"lines\", \"x\": [0.0, 0.1, 0.2, 0.3, 0.4, 0.5, 0.6, 0.7, 0.8, 0.9, 1.0, 1.1, 1.2, 1.3], \"y\": [5.5, 4.455, 3.5200000000000005, 2.695, 1.9799999999999998, 1.375, 0.8800000000000001, 0.4950000000000001, 0.21999999999999992, 0.05499999999999998, 0.0, 0.05500000000000005, 0.21999999999999992, 0.4950000000000001], \"type\": \"scatter\"}]}, {\"data\": [{\"line\": {\"color\": \"red\", \"width\": 2}, \"mode\": \"lines\", \"x\": [0.0, 0.1, 0.2, 0.3, 0.4, 0.5, 0.6, 0.7, 0.8, 0.9, 1.0, 1.1, 1.2, 1.3, 1.4], \"y\": [5.5, 4.455, 3.5200000000000005, 2.695, 1.9799999999999998, 1.375, 0.8800000000000001, 0.4950000000000001, 0.21999999999999992, 0.05499999999999998, 0.0, 0.05500000000000005, 0.21999999999999992, 0.4950000000000001, 0.8799999999999997], \"type\": \"scatter\"}]}, {\"data\": [{\"line\": {\"color\": \"red\", \"width\": 2}, \"mode\": \"lines\", \"x\": [0.0, 0.1, 0.2, 0.3, 0.4, 0.5, 0.6, 0.7, 0.8, 0.9, 1.0, 1.1, 1.2, 1.3, 1.4, 1.5], \"y\": [5.5, 4.455, 3.5200000000000005, 2.695, 1.9799999999999998, 1.375, 0.8800000000000001, 0.4950000000000001, 0.21999999999999992, 0.05499999999999998, 0.0, 0.05500000000000005, 0.21999999999999992, 0.4950000000000001, 0.8799999999999997, 1.375], \"type\": \"scatter\"}]}, {\"data\": [{\"line\": {\"color\": \"red\", \"width\": 2}, \"mode\": \"lines\", \"x\": [0.0, 0.1, 0.2, 0.3, 0.4, 0.5, 0.6, 0.7, 0.8, 0.9, 1.0, 1.1, 1.2, 1.3, 1.4, 1.5, 1.6], \"y\": [5.5, 4.455, 3.5200000000000005, 2.695, 1.9799999999999998, 1.375, 0.8800000000000001, 0.4950000000000001, 0.21999999999999992, 0.05499999999999998, 0.0, 0.05500000000000005, 0.21999999999999992, 0.4950000000000001, 0.8799999999999997, 1.375, 1.9800000000000004], \"type\": \"scatter\"}]}, {\"data\": [{\"line\": {\"color\": \"red\", \"width\": 2}, \"mode\": \"lines\", \"x\": [0.0, 0.1, 0.2, 0.3, 0.4, 0.5, 0.6, 0.7, 0.8, 0.9, 1.0, 1.1, 1.2, 1.3, 1.4, 1.5, 1.6, 1.7], \"y\": [5.5, 4.455, 3.5200000000000005, 2.695, 1.9799999999999998, 1.375, 0.8800000000000001, 0.4950000000000001, 0.21999999999999992, 0.05499999999999998, 0.0, 0.05500000000000005, 0.21999999999999992, 0.4950000000000001, 0.8799999999999997, 1.375, 1.9800000000000004, 2.6949999999999994], \"type\": \"scatter\"}]}, {\"data\": [{\"line\": {\"color\": \"red\", \"width\": 2}, \"mode\": \"lines\", \"x\": [0.0, 0.1, 0.2, 0.3, 0.4, 0.5, 0.6, 0.7, 0.8, 0.9, 1.0, 1.1, 1.2, 1.3, 1.4, 1.5, 1.6, 1.7, 1.8], \"y\": [5.5, 4.455, 3.5200000000000005, 2.695, 1.9799999999999998, 1.375, 0.8800000000000001, 0.4950000000000001, 0.21999999999999992, 0.05499999999999998, 0.0, 0.05500000000000005, 0.21999999999999992, 0.4950000000000001, 0.8799999999999997, 1.375, 1.9800000000000004, 2.6949999999999994, 3.5200000000000005], \"type\": \"scatter\"}]}]);\n",
       "                        }).then(function(){\n",
       "                            \n",
       "var gd = document.getElementById('16a7f826-1011-4008-9601-3322eaffc8c4');\n",
       "var x = new MutationObserver(function (mutations, observer) {{\n",
       "        var display = window.getComputedStyle(gd).display;\n",
       "        if (!display || display === 'none') {{\n",
       "            console.log([gd, 'removed!']);\n",
       "            Plotly.purge(gd);\n",
       "            observer.disconnect();\n",
       "        }}\n",
       "}});\n",
       "\n",
       "// Listen for the removal of the full notebook cells\n",
       "var notebookContainer = gd.closest('#notebook-container');\n",
       "if (notebookContainer) {{\n",
       "    x.observe(notebookContainer, {childList: true});\n",
       "}}\n",
       "\n",
       "// Listen for the clearing of the current output cell\n",
       "var outputEl = gd.closest('.output');\n",
       "if (outputEl) {{\n",
       "    x.observe(outputEl, {childList: true});\n",
       "}}\n",
       "\n",
       "                        })\n",
       "                };\n",
       "                });\n",
       "            </script>\n",
       "        </div>"
      ]
     },
     "metadata": {},
     "output_type": "display_data"
    }
   ],
   "source": [
    "fig = go.Figure(\n",
    "    data=[go.Scatter(x=theta[:3], y=t_cost[:3],\n",
    "                     mode=\"markers\",\n",
    "                     line=dict(width=2, color=\"blue\"))],\n",
    "    layout=go.Layout(\n",
    "        xaxis=dict(range=[0, 2], autorange=False, zeroline=False),\n",
    "        yaxis=dict(range=[0, 3], autorange=False, zeroline=False),\n",
    "        title_text=\"The cost \", hovermode=\"closest\",\n",
    "        updatemenus=[dict(type=\"buttons\",\n",
    "                          buttons=[dict(label=\"Play\",\n",
    "                                        method=\"animate\",\n",
    "                                        args=[None])])]),\n",
    "      frames=[go.Frame(\n",
    "        data=[go.Scatter(\n",
    "            x=theta[:k],\n",
    "            y=t_cost[:k],\n",
    "            mode=\"lines\",\n",
    "            line=dict(color=\"red\", width=2))\n",
    "        ]) for k in range(3, 20)]\n",
    ")\n",
    "\n",
    "fig.show()"
   ]
  },
  {
   "cell_type": "markdown",
   "metadata": {},
   "source": [
    "     As the graph above show the cost become very low at a certain point, we have to find that point, In this case we can find it just by looking at the graph but in high dimentional figure it become hard for us to find it manually just by looking at the figure. So we need an algorithm to find this.\n",
    "## Gradient Descent:\n",
    "Gradient descent is just an algorithm that minimize some arbitrary function $ \\ J(\\theta_0, \\theta_1) $. There could be many $\\theta $ not just two like $ J(\\theta_0, \\theta_1, \\theta_2, \\theta3, ....) $\n",
    "\n",
    "Now we have some function $ \\ J(\\theta_0, \\theta_1) $ and what we want is to minimize it.\n",
    "### Outline:\n",
    "* Start with some $\\theta_0 and \\theta_1 $.\n",
    "* keep changing $\\theta_0 and \\theta_1 $ to reduce $ J(\\theta_0, \\theta_1)$ untill hopefully we endup at a minimum.\n",
    "### Algorithm:\n",
    "    The algrithm of Gradient Desent.\n",
    "Repeat until convergence {\n",
    "\n",
    "$$ \\theta_j := \\theta_j - \\alpha \\frac{\\mathrm{d}}{\\mathrm{d}\\theta_j}J(\\theta_0, \\theta_j) $$\n",
    "}\n",
    "\n",
    "$$ \\theta_j := \\theta_j - \\alpha \\frac{\\mathrm{d}}{\\mathrm{d}\\theta_j}\\frac{1}{2m} \\sum_{i=1}^{m} (h_\\theta (x^{(i)}) - y^{(i)})^2 $$\n",
    "\n",
    "$$ \\theta_j := \\theta_j - \\alpha \\frac{1}{m} \\sum_{i=1}^{m} (h_\\theta (x^{(i)}) - y^{(i)}) x^{i}_j $$\n",
    "\n",
    "* := is the assignment operator.\n",
    "* $\\alpha$ is the learning rate\n",
    "* $\\frac{\\mathrm{d}}{\\mathrm{d}\\theta_j}J(\\theta_0, \\theta_j) $ is the derivative of the cost function which means we are taking small steps towards the local minimum. Local minimum is the point where the cost is low.\n",
    "* Gradient descent can converge to local minimum even with the learing rate $\\alpha$ fixed.\n",
    "* As we approach the local minimum , gradient descent will automatically take smaller steps. So no need to decrease $\\alpha$ over time.\n",
    "\n",
    "        Lets give it a shape of a class to make things simple"
   ]
  },
  {
   "cell_type": "code",
   "execution_count": 11,
   "metadata": {},
   "outputs": [],
   "source": [
    "class MyLinearRegression():\n",
    "    def __init__(self, no_of_attrs, alpha = 0.003, iteration=100):\n",
    "        self.alpha = alpha\n",
    "        self.theta = np.zeros(no_of_attrs)\n",
    "        self.t_cost = []\n",
    "        self.iter = iteration\n",
    "        pass\n",
    "    def fit(self, x_train, y_train):\n",
    "        if len(self.theta) == 1:\n",
    "            self.x = x_train.reshape(len(x_train), 1)\n",
    "        else:\n",
    "            self.x =  x_train\n",
    "        for i in range(self.iter):\n",
    "            Q_cost = self.cost(y_train)\n",
    "            self.t_cost.append(Q_cost)\n",
    "            self.GradientDescent(y_train)\n",
    "            if i%100 == 0:\n",
    "                print(i, \"Epoch completed with cost:\", Q_cost)\n",
    "    def hypothesis(self, x_value):\n",
    "        return np.dot(x_value, self.theta)\n",
    "    def cost(self, y_train):\n",
    "        return ((self.hypothesis(self.x) - y_train)**2).mean()/2\n",
    "    def cost_der(self, y_given):\n",
    "        cost = (self.hypothesis(self.x) - y_given)\n",
    "        cost = cost*self.x.T\n",
    "        cost = np.mean(cost)\n",
    "        return cost\n",
    "    def GradientDescent(self, y_given):\n",
    "        gr = self.cost_der(y_given)\n",
    "        self.theta = self.theta - self.alpha*gr\n",
    "    def predict(self, x_test):\n",
    "        return np.dot(x_test.reshape(len(x_test), len(self.theta)), self.theta)\n",
    "    def evaluate(self, x_test, y_test):\n",
    "        rmse = np.sqrt(((self.hypothesis(x_test.reshape(len(x_test), len(self.theta))) - y_test)**2).mean())\n",
    "        return rmse"
   ]
  },
  {
   "cell_type": "code",
   "execution_count": 12,
   "metadata": {},
   "outputs": [
    {
     "name": "stdout",
     "output_type": "stream",
     "text": [
      "0 Epoch completed with cost: 5.5\n",
      "100 Epoch completed with cost: 0.006693565323578855\n",
      "200 Epoch completed with cost: 8.146148498364536e-06\n",
      "300 Epoch completed with cost: 9.913959474383236e-09\n",
      "400 Epoch completed with cost: 1.2065406426390142e-11\n",
      "500 Epoch completed with cost: 1.4683742941325664e-14\n",
      "600 Epoch completed with cost: 1.7870290983331387e-17\n",
      "700 Epoch completed with cost: 2.1748237247855532e-20\n",
      "800 Epoch completed with cost: 2.646663236839239e-23\n",
      "900 Epoch completed with cost: 3.221322011376636e-26\n"
     ]
    }
   ],
   "source": [
    "x_train = np.array([1, 2, 3, 4, 5])\n",
    "y_train = np.array([1, 2, 3, 4, 5])\n",
    "lin_reg = MyLinearRegression(no_of_attrs = 1, iteration=1000)\n",
    "lin_reg.fit(x_train, y_train)"
   ]
  },
  {
   "cell_type": "code",
   "execution_count": 13,
   "metadata": {},
   "outputs": [
    {
     "data": {
      "application/vnd.plotly.v1+json": {
       "config": {
        "plotlyServerURL": "https://plot.ly"
       },
       "data": [
        {
         "line": {
          "color": "blue",
          "width": 2
         },
         "mode": "lines",
         "type": "scatter",
         "x": [
          0,
          1,
          2
         ],
         "y": [
          5.5,
          5.1429895000000005,
          4.8091529085655
         ]
        }
       ],
       "frames": [
        {
         "data": [
          {
           "line": {
            "color": "red",
            "width": 2
           },
           "mode": "lines",
           "type": "scatter",
           "x": [
            0,
            1,
            2
           ],
           "y": [
            5.5,
            5.1429895000000005,
            4.8091529085655
           ]
          }
         ]
        },
        {
         "data": [
          {
           "line": {
            "color": "red",
            "width": 2
           },
           "mode": "lines",
           "type": "scatter",
           "x": [
            0,
            1,
            2,
            3
           ],
           "y": [
            5.5,
            5.1429895000000005,
            4.8091529085655,
            4.496985984117605
           ]
          }
         ]
        },
        {
         "data": [
          {
           "line": {
            "color": "red",
            "width": 2
           },
           "mode": "lines",
           "type": "scatter",
           "x": [
            0,
            1,
            2,
            3,
            4
           ],
           "y": [
            5.5,
            5.1429895000000005,
            4.8091529085655,
            4.496985984117605,
            4.205082126902548
           ]
          }
         ]
        },
        {
         "data": [
          {
           "line": {
            "color": "red",
            "width": 2
           },
           "mode": "lines",
           "type": "scatter",
           "x": [
            0,
            1,
            2,
            3,
            4,
            5
           ],
           "y": [
            5.5,
            5.1429895000000005,
            4.8091529085655,
            4.496985984117605,
            4.205082126902548,
            3.932126040963176
           ]
          }
         ]
        },
        {
         "data": [
          {
           "line": {
            "color": "red",
            "width": 2
           },
           "mode": "lines",
           "type": "scatter",
           "x": [
            0,
            1,
            2,
            3,
            4,
            5,
            6
           ],
           "y": [
            5.5,
            5.1429895000000005,
            4.8091529085655,
            4.496985984117605,
            4.205082126902548,
            3.932126040963176,
            3.6768878075182143
           ]
          }
         ]
        },
        {
         "data": [
          {
           "line": {
            "color": "red",
            "width": 2
           },
           "mode": "lines",
           "type": "scatter",
           "x": [
            0,
            1,
            2,
            3,
            4,
            5,
            6,
            7
           ],
           "y": [
            5.5,
            5.1429895000000005,
            4.8091529085655,
            4.496985984117605,
            4.205082126902548,
            3.932126040963176,
            3.6768878075182143,
            3.4382173430444
           ]
          }
         ]
        },
        {
         "data": [
          {
           "line": {
            "color": "red",
            "width": 2
           },
           "mode": "lines",
           "type": "scatter",
           "x": [
            0,
            1,
            2,
            3,
            4,
            5,
            6,
            7,
            8
           ],
           "y": [
            5.5,
            5.1429895000000005,
            4.8091529085655,
            4.496985984117605,
            4.205082126902548,
            3.932126040963176,
            3.6768878075182143,
            3.4382173430444,
            3.2150392170900446
           ]
          }
         ]
        },
        {
         "data": [
          {
           "line": {
            "color": "red",
            "width": 2
           },
           "mode": "lines",
           "type": "scatter",
           "x": [
            0,
            1,
            2,
            3,
            4,
            5,
            6,
            7,
            8,
            9
           ],
           "y": [
            5.5,
            5.1429895000000005,
            4.8091529085655,
            4.496985984117605,
            4.205082126902548,
            3.932126040963176,
            3.6768878075182143,
            3.4382173430444,
            3.2150392170900446,
            3.006347806469513
           ]
          }
         ]
        },
        {
         "data": [
          {
           "line": {
            "color": "red",
            "width": 2
           },
           "mode": "lines",
           "type": "scatter",
           "x": [
            0,
            1,
            2,
            3,
            4,
            5,
            6,
            7,
            8,
            9,
            10
           ],
           "y": [
            5.5,
            5.1429895000000005,
            4.8091529085655,
            4.496985984117605,
            4.205082126902548,
            3.932126040963176,
            3.6768878075182143,
            3.4382173430444,
            3.2150392170900446,
            3.006347806469513,
            2.8112027640037702
           ]
          }
         ]
        },
        {
         "data": [
          {
           "line": {
            "color": "red",
            "width": 2
           },
           "mode": "lines",
           "type": "scatter",
           "x": [
            0,
            1,
            2,
            3,
            4,
            5,
            6,
            7,
            8,
            9,
            10,
            11
           ],
           "y": [
            5.5,
            5.1429895000000005,
            4.8091529085655,
            4.496985984117605,
            4.205082126902548,
            3.932126040963176,
            3.6768878075182143,
            3.4382173430444,
            3.2150392170900446,
            3.006347806469513,
            2.8112027640037702,
            2.6287247813895216
           ]
          }
         ]
        },
        {
         "data": [
          {
           "line": {
            "color": "red",
            "width": 2
           },
           "mode": "lines",
           "type": "scatter",
           "x": [
            0,
            1,
            2,
            3,
            4,
            5,
            6,
            7,
            8,
            9,
            10,
            11,
            12
           ],
           "y": [
            5.5,
            5.1429895000000005,
            4.8091529085655,
            4.496985984117605,
            4.205082126902548,
            3.932126040963176,
            3.6768878075182143,
            3.4382173430444,
            3.2150392170900446,
            3.006347806469513,
            2.8112027640037702,
            2.6287247813895216,
            2.458091627104747
           ]
          }
         ]
        },
        {
         "data": [
          {
           "line": {
            "color": "red",
            "width": 2
           },
           "mode": "lines",
           "type": "scatter",
           "x": [
            0,
            1,
            2,
            3,
            4,
            5,
            6,
            7,
            8,
            9,
            10,
            11,
            12,
            13
           ],
           "y": [
            5.5,
            5.1429895000000005,
            4.8091529085655,
            4.496985984117605,
            4.205082126902548,
            3.932126040963176,
            3.6768878075182143,
            3.4382173430444,
            3.2150392170900446,
            3.006347806469513,
            2.8112027640037702,
            2.6287247813895216,
            2.458091627104747,
            2.2985344414977504
           ]
          }
         ]
        },
        {
         "data": [
          {
           "line": {
            "color": "red",
            "width": 2
           },
           "mode": "lines",
           "type": "scatter",
           "x": [
            0,
            1,
            2,
            3,
            4,
            5,
            6,
            7,
            8,
            9,
            10,
            11,
            12,
            13,
            14
           ],
           "y": [
            5.5,
            5.1429895000000005,
            4.8091529085655,
            4.496985984117605,
            4.205082126902548,
            3.932126040963176,
            3.6768878075182143,
            3.4382173430444,
            3.2150392170900446,
            3.006347806469513,
            2.8112027640037702,
            2.6287247813895216,
            2.458091627104747,
            2.2985344414977504,
            2.14933427236569
           ]
          }
         ]
        },
        {
         "data": [
          {
           "line": {
            "color": "red",
            "width": 2
           },
           "mode": "lines",
           "type": "scatter",
           "x": [
            0,
            1,
            2,
            3,
            4,
            5,
            6,
            7,
            8,
            9,
            10,
            11,
            12,
            13,
            14,
            15
           ],
           "y": [
            5.5,
            5.1429895000000005,
            4.8091529085655,
            4.496985984117605,
            4.205082126902548,
            3.932126040963176,
            3.6768878075182143,
            3.4382173430444,
            3.2150392170900446,
            3.006347806469513,
            2.8112027640037702,
            2.6287247813895216,
            2.458091627104747,
            2.2985344414977504,
            2.14933427236569,
            2.0098188354121604
           ]
          }
         ]
        },
        {
         "data": [
          {
           "line": {
            "color": "red",
            "width": 2
           },
           "mode": "lines",
           "type": "scatter",
           "x": [
            0,
            1,
            2,
            3,
            4,
            5,
            6,
            7,
            8,
            9,
            10,
            11,
            12,
            13,
            14,
            15,
            16
           ],
           "y": [
            5.5,
            5.1429895000000005,
            4.8091529085655,
            4.496985984117605,
            4.205082126902548,
            3.932126040963176,
            3.6768878075182143,
            3.4382173430444,
            3.2150392170900446,
            3.006347806469513,
            2.8112027640037702,
            2.6287247813895216,
            2.458091627104747,
            2.2985344414977504,
            2.14933427236569,
            2.0098188354121604,
            1.8793594849867215
           ]
          }
         ]
        },
        {
         "data": [
          {
           "line": {
            "color": "red",
            "width": 2
           },
           "mode": "lines",
           "type": "scatter",
           "x": [
            0,
            1,
            2,
            3,
            4,
            5,
            6,
            7,
            8,
            9,
            10,
            11,
            12,
            13,
            14,
            15,
            16,
            17
           ],
           "y": [
            5.5,
            5.1429895000000005,
            4.8091529085655,
            4.496985984117605,
            4.205082126902548,
            3.932126040963176,
            3.6768878075182143,
            3.4382173430444,
            3.2150392170900446,
            3.006347806469513,
            2.8112027640037702,
            2.6287247813895216,
            2.458091627104747,
            2.2985344414977504,
            2.14933427236569,
            2.0098188354121604,
            1.8793594849867215,
            1.757368381456749
           ]
          }
         ]
        },
        {
         "data": [
          {
           "line": {
            "color": "red",
            "width": 2
           },
           "mode": "lines",
           "type": "scatter",
           "x": [
            0,
            1,
            2,
            3,
            4,
            5,
            6,
            7,
            8,
            9,
            10,
            11,
            12,
            13,
            14,
            15,
            16,
            17,
            18
           ],
           "y": [
            5.5,
            5.1429895000000005,
            4.8091529085655,
            4.496985984117605,
            4.205082126902548,
            3.932126040963176,
            3.6768878075182143,
            3.4382173430444,
            3.2150392170900446,
            3.006347806469513,
            2.8112027640037702,
            2.6287247813895216,
            2.458091627104747,
            2.2985344414977504,
            2.14933427236569,
            2.0098188354121604,
            1.8793594849867215,
            1.757368381456749,
            1.6432958424480095
           ]
          }
         ]
        },
        {
         "data": [
          {
           "line": {
            "color": "red",
            "width": 2
           },
           "mode": "lines",
           "type": "scatter",
           "x": [
            0,
            1,
            2,
            3,
            4,
            5,
            6,
            7,
            8,
            9,
            10,
            11,
            12,
            13,
            14,
            15,
            16,
            17,
            18,
            19
           ],
           "y": [
            5.5,
            5.1429895000000005,
            4.8091529085655,
            4.496985984117605,
            4.205082126902548,
            3.932126040963176,
            3.6768878075182143,
            3.4382173430444,
            3.2150392170900446,
            3.006347806469513,
            2.8112027640037702,
            2.6287247813895216,
            2.458091627104747,
            2.2985344414977504,
            2.14933427236569,
            2.0098188354121604,
            1.8793594849867215,
            1.757368381456749,
            1.6432958424480095,
            1.5366278660188666
           ]
          }
         ]
        },
        {
         "data": [
          {
           "line": {
            "color": "red",
            "width": 2
           },
           "mode": "lines",
           "type": "scatter",
           "x": [
            0,
            1,
            2,
            3,
            4,
            5,
            6,
            7,
            8,
            9,
            10,
            11,
            12,
            13,
            14,
            15,
            16,
            17,
            18,
            19,
            20
           ],
           "y": [
            5.5,
            5.1429895000000005,
            4.8091529085655,
            4.496985984117605,
            4.205082126902548,
            3.932126040963176,
            3.6768878075182143,
            3.4382173430444,
            3.2150392170900446,
            3.006347806469513,
            2.8112027640037702,
            2.6287247813895216,
            2.458091627104747,
            2.2985344414977504,
            2.14933427236569,
            2.0098188354121604,
            1.8793594849867215,
            1.757368381456749,
            1.6432958424480095,
            1.5366278660188666,
            1.436883814607716
           ]
          }
         ]
        },
        {
         "data": [
          {
           "line": {
            "color": "red",
            "width": 2
           },
           "mode": "lines",
           "type": "scatter",
           "x": [
            0,
            1,
            2,
            3,
            4,
            5,
            6,
            7,
            8,
            9,
            10,
            11,
            12,
            13,
            14,
            15,
            16,
            17,
            18,
            19,
            20,
            21
           ],
           "y": [
            5.5,
            5.1429895000000005,
            4.8091529085655,
            4.496985984117605,
            4.205082126902548,
            3.932126040963176,
            3.6768878075182143,
            3.4382173430444,
            3.2150392170900446,
            3.006347806469513,
            2.8112027640037702,
            2.6287247813895216,
            2.458091627104747,
            2.2985344414977504,
            2.14933427236569,
            2.0098188354121604,
            1.8793594849867215,
            1.757368381456749,
            1.6432958424480095,
            1.5366278660188666,
            1.436883814607716,
            1.343614249317715
           ]
          }
         ]
        },
        {
         "data": [
          {
           "line": {
            "color": "red",
            "width": 2
           },
           "mode": "lines",
           "type": "scatter",
           "x": [
            0,
            1,
            2,
            3,
            4,
            5,
            6,
            7,
            8,
            9,
            10,
            11,
            12,
            13,
            14,
            15,
            16,
            17,
            18,
            19,
            20,
            21,
            22
           ],
           "y": [
            5.5,
            5.1429895000000005,
            4.8091529085655,
            4.496985984117605,
            4.205082126902548,
            3.932126040963176,
            3.6768878075182143,
            3.4382173430444,
            3.2150392170900446,
            3.006347806469513,
            2.8112027640037702,
            2.6287247813895216,
            2.458091627104747,
            2.2985344414977504,
            2.14933427236569,
            2.0098188354121604,
            1.8793594849867215,
            1.757368381456749,
            1.6432958424480095,
            1.5366278660188666,
            1.436883814607716,
            1.343614249317715,
            1.2563989047802526
           ]
          }
         ]
        },
        {
         "data": [
          {
           "line": {
            "color": "red",
            "width": 2
           },
           "mode": "lines",
           "type": "scatter",
           "x": [
            0,
            1,
            2,
            3,
            4,
            5,
            6,
            7,
            8,
            9,
            10,
            11,
            12,
            13,
            14,
            15,
            16,
            17,
            18,
            19,
            20,
            21,
            22,
            23
           ],
           "y": [
            5.5,
            5.1429895000000005,
            4.8091529085655,
            4.496985984117605,
            4.205082126902548,
            3.932126040963176,
            3.6768878075182143,
            3.4382173430444,
            3.2150392170900446,
            3.006347806469513,
            2.8112027640037702,
            2.6287247813895216,
            2.458091627104747,
            2.2985344414977504,
            2.14933427236569,
            2.0098188354121604,
            1.8793594849867215,
            1.757368381456749,
            1.6432958424480095,
            1.5366278660188666,
            1.436883814607716,
            1.343614249317715,
            1.2563989047802526,
            1.174844795472062
           ]
          }
         ]
        },
        {
         "data": [
          {
           "line": {
            "color": "red",
            "width": 2
           },
           "mode": "lines",
           "type": "scatter",
           "x": [
            0,
            1,
            2,
            3,
            4,
            5,
            6,
            7,
            8,
            9,
            10,
            11,
            12,
            13,
            14,
            15,
            16,
            17,
            18,
            19,
            20,
            21,
            22,
            23,
            24
           ],
           "y": [
            5.5,
            5.1429895000000005,
            4.8091529085655,
            4.496985984117605,
            4.205082126902548,
            3.932126040963176,
            3.6768878075182143,
            3.4382173430444,
            3.2150392170900446,
            3.006347806469513,
            2.8112027640037702,
            2.6287247813895216,
            2.458091627104747,
            2.2985344414977504,
            2.14933427236569,
            2.0098188354121604,
            1.8793594849867215,
            1.757368381456749,
            1.6432958424480095,
            1.5366278660188666,
            1.436883814607716,
            1.343614249317715,
            1.2563989047802526,
            1.174844795472062,
            1.0985844449531748
           ]
          }
         ]
        },
        {
         "data": [
          {
           "line": {
            "color": "red",
            "width": 2
           },
           "mode": "lines",
           "type": "scatter",
           "x": [
            0,
            1,
            2,
            3,
            4,
            5,
            6,
            7,
            8,
            9,
            10,
            11,
            12,
            13,
            14,
            15,
            16,
            17,
            18,
            19,
            20,
            21,
            22,
            23,
            24,
            25
           ],
           "y": [
            5.5,
            5.1429895000000005,
            4.8091529085655,
            4.496985984117605,
            4.205082126902548,
            3.932126040963176,
            3.6768878075182143,
            3.4382173430444,
            3.2150392170900446,
            3.006347806469513,
            2.8112027640037702,
            2.6287247813895216,
            2.458091627104747,
            2.2985344414977504,
            2.14933427236569,
            2.0098188354121604,
            1.8793594849867215,
            1.757368381456749,
            1.6432958424480095,
            1.5366278660188666,
            1.436883814607716,
            1.343614249317715,
            1.2563989047802526,
            1.174844795472062,
            1.0985844449531748,
            1.0272742300468192
           ]
          }
         ]
        },
        {
         "data": [
          {
           "line": {
            "color": "red",
            "width": 2
           },
           "mode": "lines",
           "type": "scatter",
           "x": [
            0,
            1,
            2,
            3,
            4,
            5,
            6,
            7,
            8,
            9,
            10,
            11,
            12,
            13,
            14,
            15,
            16,
            17,
            18,
            19,
            20,
            21,
            22,
            23,
            24,
            25,
            26
           ],
           "y": [
            5.5,
            5.1429895000000005,
            4.8091529085655,
            4.496985984117605,
            4.205082126902548,
            3.932126040963176,
            3.6768878075182143,
            3.4382173430444,
            3.2150392170900446,
            3.006347806469513,
            2.8112027640037702,
            2.6287247813895216,
            2.458091627104747,
            2.2985344414977504,
            2.14933427236569,
            2.0098188354121604,
            1.8793594849867215,
            1.757368381456749,
            1.6432958424480095,
            1.5366278660188666,
            1.436883814607716,
            1.343614249317715,
            1.2563989047802526,
            1.174844795472062,
            1.0985844449531748,
            1.0272742300468192,
            0.9605928325002498
           ]
          }
         ]
        },
        {
         "data": [
          {
           "line": {
            "color": "red",
            "width": 2
           },
           "mode": "lines",
           "type": "scatter",
           "x": [
            0,
            1,
            2,
            3,
            4,
            5,
            6,
            7,
            8,
            9,
            10,
            11,
            12,
            13,
            14,
            15,
            16,
            17,
            18,
            19,
            20,
            21,
            22,
            23,
            24,
            25,
            26,
            27
           ],
           "y": [
            5.5,
            5.1429895000000005,
            4.8091529085655,
            4.496985984117605,
            4.205082126902548,
            3.932126040963176,
            3.6768878075182143,
            3.4382173430444,
            3.2150392170900446,
            3.006347806469513,
            2.8112027640037702,
            2.6287247813895216,
            2.458091627104747,
            2.2985344414977504,
            2.14933427236569,
            2.0098188354121604,
            1.8793594849867215,
            1.757368381456749,
            1.6432958424480095,
            1.5366278660188666,
            1.436883814607716,
            1.343614249317715,
            1.2563989047802526,
            1.174844795472062,
            1.0985844449531748,
            1.0272742300468192,
            0.9605928325002498,
            0.8982397911498262
           ]
          }
         ]
        },
        {
         "data": [
          {
           "line": {
            "color": "red",
            "width": 2
           },
           "mode": "lines",
           "type": "scatter",
           "x": [
            0,
            1,
            2,
            3,
            4,
            5,
            6,
            7,
            8,
            9,
            10,
            11,
            12,
            13,
            14,
            15,
            16,
            17,
            18,
            19,
            20,
            21,
            22,
            23,
            24,
            25,
            26,
            27,
            28
           ],
           "y": [
            5.5,
            5.1429895000000005,
            4.8091529085655,
            4.496985984117605,
            4.205082126902548,
            3.932126040963176,
            3.6768878075182143,
            3.4382173430444,
            3.2150392170900446,
            3.006347806469513,
            2.8112027640037702,
            2.6287247813895216,
            2.458091627104747,
            2.2985344414977504,
            2.14933427236569,
            2.0098188354121604,
            1.8793594849867215,
            1.757368381456749,
            1.6432958424480095,
            1.5366278660188666,
            1.436883814607716,
            1.343614249317715,
            1.2563989047802526,
            1.174844795472062,
            1.0985844449531748,
            1.0272742300468192,
            0.9605928325002498,
            0.8982397911498262,
            0.8399341480664999
           ]
          }
         ]
        },
        {
         "data": [
          {
           "line": {
            "color": "red",
            "width": 2
           },
           "mode": "lines",
           "type": "scatter",
           "x": [
            0,
            1,
            2,
            3,
            4,
            5,
            6,
            7,
            8,
            9,
            10,
            11,
            12,
            13,
            14,
            15,
            16,
            17,
            18,
            19,
            20,
            21,
            22,
            23,
            24,
            25,
            26,
            27,
            28,
            29
           ],
           "y": [
            5.5,
            5.1429895000000005,
            4.8091529085655,
            4.496985984117605,
            4.205082126902548,
            3.932126040963176,
            3.6768878075182143,
            3.4382173430444,
            3.2150392170900446,
            3.006347806469513,
            2.8112027640037702,
            2.6287247813895216,
            2.458091627104747,
            2.2985344414977504,
            2.14933427236569,
            2.0098188354121604,
            1.8793594849867215,
            1.757368381456749,
            1.6432958424480095,
            1.5366278660188666,
            1.436883814607716,
            1.343614249317715,
            1.2563989047802526,
            1.174844795472062,
            1.0985844449531748,
            1.0272742300468192,
            0.9605928325002498,
            0.8982397911498262,
            0.8399341480664999,
            0.7854131825813555
           ]
          }
         ]
        },
        {
         "data": [
          {
           "line": {
            "color": "red",
            "width": 2
           },
           "mode": "lines",
           "type": "scatter",
           "x": [
            0,
            1,
            2,
            3,
            4,
            5,
            6,
            7,
            8,
            9,
            10,
            11,
            12,
            13,
            14,
            15,
            16,
            17,
            18,
            19,
            20,
            21,
            22,
            23,
            24,
            25,
            26,
            27,
            28,
            29,
            30
           ],
           "y": [
            5.5,
            5.1429895000000005,
            4.8091529085655,
            4.496985984117605,
            4.205082126902548,
            3.932126040963176,
            3.6768878075182143,
            3.4382173430444,
            3.2150392170900446,
            3.006347806469513,
            2.8112027640037702,
            2.6287247813895216,
            2.458091627104747,
            2.2985344414977504,
            2.14933427236569,
            2.0098188354121604,
            1.8793594849867215,
            1.757368381456749,
            1.6432958424480095,
            1.5366278660188666,
            1.436883814607716,
            1.343614249317715,
            1.2563989047802526,
            1.174844795472062,
            1.0985844449531748,
            1.0272742300468192,
            0.9605928325002498,
            0.8982397911498262,
            0.8399341480664999,
            0.7854131825813555,
            0.734431227486817
           ]
          }
         ]
        },
        {
         "data": [
          {
           "line": {
            "color": "red",
            "width": 2
           },
           "mode": "lines",
           "type": "scatter",
           "x": [
            0,
            1,
            2,
            3,
            4,
            5,
            6,
            7,
            8,
            9,
            10,
            11,
            12,
            13,
            14,
            15,
            16,
            17,
            18,
            19,
            20,
            21,
            22,
            23,
            24,
            25,
            26,
            27,
            28,
            29,
            30,
            31
           ],
           "y": [
            5.5,
            5.1429895000000005,
            4.8091529085655,
            4.496985984117605,
            4.205082126902548,
            3.932126040963176,
            3.6768878075182143,
            3.4382173430444,
            3.2150392170900446,
            3.006347806469513,
            2.8112027640037702,
            2.6287247813895216,
            2.458091627104747,
            2.2985344414977504,
            2.14933427236569,
            2.0098188354121604,
            1.8793594849867215,
            1.757368381456749,
            1.6432958424480095,
            1.5366278660188666,
            1.436883814607716,
            1.343614249317715,
            1.2563989047802526,
            1.174844795472062,
            1.0985844449531748,
            1.0272742300468192,
            0.9605928325002498,
            0.8982397911498262,
            0.8399341480664999,
            0.7854131825813555,
            0.734431227486817,
            0.6867585620794203
           ]
          }
         ]
        },
        {
         "data": [
          {
           "line": {
            "color": "red",
            "width": 2
           },
           "mode": "lines",
           "type": "scatter",
           "x": [
            0,
            1,
            2,
            3,
            4,
            5,
            6,
            7,
            8,
            9,
            10,
            11,
            12,
            13,
            14,
            15,
            16,
            17,
            18,
            19,
            20,
            21,
            22,
            23,
            24,
            25,
            26,
            27,
            28,
            29,
            30,
            31,
            32
           ],
           "y": [
            5.5,
            5.1429895000000005,
            4.8091529085655,
            4.496985984117605,
            4.205082126902548,
            3.932126040963176,
            3.6768878075182143,
            3.4382173430444,
            3.2150392170900446,
            3.006347806469513,
            2.8112027640037702,
            2.6287247813895216,
            2.458091627104747,
            2.2985344414977504,
            2.14933427236569,
            2.0098188354121604,
            1.8793594849867215,
            1.757368381456749,
            1.6432958424480095,
            1.5366278660188666,
            1.436883814607716,
            1.343614249317715,
            1.2563989047802526,
            1.174844795472062,
            1.0985844449531748,
            1.0272742300468192,
            0.9605928325002498,
            0.8982397911498262,
            0.8399341480664999,
            0.7854131825813555,
            0.734431227486817,
            0.6867585620794203,
            0.6421803770562831
           ]
          }
         ]
        },
        {
         "data": [
          {
           "line": {
            "color": "red",
            "width": 2
           },
           "mode": "lines",
           "type": "scatter",
           "x": [
            0,
            1,
            2,
            3,
            4,
            5,
            6,
            7,
            8,
            9,
            10,
            11,
            12,
            13,
            14,
            15,
            16,
            17,
            18,
            19,
            20,
            21,
            22,
            23,
            24,
            25,
            26,
            27,
            28,
            29,
            30,
            31,
            32,
            33
           ],
           "y": [
            5.5,
            5.1429895000000005,
            4.8091529085655,
            4.496985984117605,
            4.205082126902548,
            3.932126040963176,
            3.6768878075182143,
            3.4382173430444,
            3.2150392170900446,
            3.006347806469513,
            2.8112027640037702,
            2.6287247813895216,
            2.458091627104747,
            2.2985344414977504,
            2.14933427236569,
            2.0098188354121604,
            1.8793594849867215,
            1.757368381456749,
            1.6432958424480095,
            1.5366278660188666,
            1.436883814607716,
            1.343614249317715,
            1.2563989047802526,
            1.174844795472062,
            1.0985844449531748,
            1.0272742300468192,
            0.9605928325002498,
            0.8982397911498262,
            0.8399341480664999,
            0.7854131825813555,
            0.734431227486817,
            0.6867585620794203,
            0.6421803770562831,
            0.6004958066011827
           ]
          }
         ]
        },
        {
         "data": [
          {
           "line": {
            "color": "red",
            "width": 2
           },
           "mode": "lines",
           "type": "scatter",
           "x": [
            0,
            1,
            2,
            3,
            4,
            5,
            6,
            7,
            8,
            9,
            10,
            11,
            12,
            13,
            14,
            15,
            16,
            17,
            18,
            19,
            20,
            21,
            22,
            23,
            24,
            25,
            26,
            27,
            28,
            29,
            30,
            31,
            32,
            33,
            34
           ],
           "y": [
            5.5,
            5.1429895000000005,
            4.8091529085655,
            4.496985984117605,
            4.205082126902548,
            3.932126040963176,
            3.6768878075182143,
            3.4382173430444,
            3.2150392170900446,
            3.006347806469513,
            2.8112027640037702,
            2.6287247813895216,
            2.458091627104747,
            2.2985344414977504,
            2.14933427236569,
            2.0098188354121604,
            1.8793594849867215,
            1.757368381456749,
            1.6432958424480095,
            1.5366278660188666,
            1.436883814607716,
            1.343614249317715,
            1.2563989047802526,
            1.174844795472062,
            1.0985844449531748,
            1.0272742300468192,
            0.9605928325002498,
            0.8982397911498262,
            0.8399341480664999,
            0.7854131825813555,
            0.734431227486817,
            0.6867585620794203,
            0.6421803770562831,
            0.6004958066011827,
            0.5615170232988935
           ]
          }
         ]
        },
        {
         "data": [
          {
           "line": {
            "color": "red",
            "width": 2
           },
           "mode": "lines",
           "type": "scatter",
           "x": [
            0,
            1,
            2,
            3,
            4,
            5,
            6,
            7,
            8,
            9,
            10,
            11,
            12,
            13,
            14,
            15,
            16,
            17,
            18,
            19,
            20,
            21,
            22,
            23,
            24,
            25,
            26,
            27,
            28,
            29,
            30,
            31,
            32,
            33,
            34,
            35
           ],
           "y": [
            5.5,
            5.1429895000000005,
            4.8091529085655,
            4.496985984117605,
            4.205082126902548,
            3.932126040963176,
            3.6768878075182143,
            3.4382173430444,
            3.2150392170900446,
            3.006347806469513,
            2.8112027640037702,
            2.6287247813895216,
            2.458091627104747,
            2.2985344414977504,
            2.14933427236569,
            2.0098188354121604,
            1.8793594849867215,
            1.757368381456749,
            1.6432958424480095,
            1.5366278660188666,
            1.436883814607716,
            1.343614249317715,
            1.2563989047802526,
            1.174844795472062,
            1.0985844449531748,
            1.0272742300468192,
            0.9605928325002498,
            0.8982397911498262,
            0.8399341480664999,
            0.7854131825813555,
            0.734431227486817,
            0.6867585620794203,
            0.6421803770562831,
            0.6004958066011827,
            0.5615170232988935,
            0.5250683917995389
           ]
          }
         ]
        },
        {
         "data": [
          {
           "line": {
            "color": "red",
            "width": 2
           },
           "mode": "lines",
           "type": "scatter",
           "x": [
            0,
            1,
            2,
            3,
            4,
            5,
            6,
            7,
            8,
            9,
            10,
            11,
            12,
            13,
            14,
            15,
            16,
            17,
            18,
            19,
            20,
            21,
            22,
            23,
            24,
            25,
            26,
            27,
            28,
            29,
            30,
            31,
            32,
            33,
            34,
            35,
            36
           ],
           "y": [
            5.5,
            5.1429895000000005,
            4.8091529085655,
            4.496985984117605,
            4.205082126902548,
            3.932126040963176,
            3.6768878075182143,
            3.4382173430444,
            3.2150392170900446,
            3.006347806469513,
            2.8112027640037702,
            2.6287247813895216,
            2.458091627104747,
            2.2985344414977504,
            2.14933427236569,
            2.0098188354121604,
            1.8793594849867215,
            1.757368381456749,
            1.6432958424480095,
            1.5366278660188666,
            1.436883814607716,
            1.343614249317715,
            1.2563989047802526,
            1.174844795472062,
            1.0985844449531748,
            1.0272742300468192,
            0.9605928325002498,
            0.8982397911498262,
            0.8399341480664999,
            0.7854131825813555,
            0.734431227486817,
            0.6867585620794203,
            0.6421803770562831,
            0.6004958066011827,
            0.5615170232988935,
            0.5250683917995389,
            0.4909856774194389
           ]
          }
         ]
        },
        {
         "data": [
          {
           "line": {
            "color": "red",
            "width": 2
           },
           "mode": "lines",
           "type": "scatter",
           "x": [
            0,
            1,
            2,
            3,
            4,
            5,
            6,
            7,
            8,
            9,
            10,
            11,
            12,
            13,
            14,
            15,
            16,
            17,
            18,
            19,
            20,
            21,
            22,
            23,
            24,
            25,
            26,
            27,
            28,
            29,
            30,
            31,
            32,
            33,
            34,
            35,
            36,
            37
           ],
           "y": [
            5.5,
            5.1429895000000005,
            4.8091529085655,
            4.496985984117605,
            4.205082126902548,
            3.932126040963176,
            3.6768878075182143,
            3.4382173430444,
            3.2150392170900446,
            3.006347806469513,
            2.8112027640037702,
            2.6287247813895216,
            2.458091627104747,
            2.2985344414977504,
            2.14933427236569,
            2.0098188354121604,
            1.8793594849867215,
            1.757368381456749,
            1.6432958424480095,
            1.5366278660188666,
            1.436883814607716,
            1.343614249317715,
            1.2563989047802526,
            1.174844795472062,
            1.0985844449531748,
            1.0272742300468192,
            0.9605928325002498,
            0.8982397911498262,
            0.8399341480664999,
            0.7854131825813555,
            0.734431227486817,
            0.6867585620794203,
            0.6421803770562831,
            0.6004958066011827,
            0.5615170232988935,
            0.5250683917995389,
            0.4909856774194389,
            0.45911530611246576
           ]
          }
         ]
        },
        {
         "data": [
          {
           "line": {
            "color": "red",
            "width": 2
           },
           "mode": "lines",
           "type": "scatter",
           "x": [
            0,
            1,
            2,
            3,
            4,
            5,
            6,
            7,
            8,
            9,
            10,
            11,
            12,
            13,
            14,
            15,
            16,
            17,
            18,
            19,
            20,
            21,
            22,
            23,
            24,
            25,
            26,
            27,
            28,
            29,
            30,
            31,
            32,
            33,
            34,
            35,
            36,
            37,
            38
           ],
           "y": [
            5.5,
            5.1429895000000005,
            4.8091529085655,
            4.496985984117605,
            4.205082126902548,
            3.932126040963176,
            3.6768878075182143,
            3.4382173430444,
            3.2150392170900446,
            3.006347806469513,
            2.8112027640037702,
            2.6287247813895216,
            2.458091627104747,
            2.2985344414977504,
            2.14933427236569,
            2.0098188354121604,
            1.8793594849867215,
            1.757368381456749,
            1.6432958424480095,
            1.5366278660188666,
            1.436883814607716,
            1.343614249317715,
            1.2563989047802526,
            1.174844795472062,
            1.0985844449531748,
            1.0272742300468192,
            0.9605928325002498,
            0.8982397911498262,
            0.8399341480664999,
            0.7854131825813555,
            0.734431227486817,
            0.6867585620794203,
            0.6421803770562831,
            0.6004958066011827,
            0.5615170232988935,
            0.5250683917995389,
            0.4909856774194389,
            0.45911530611246576,
            0.4293136724773993
           ]
          }
         ]
        },
        {
         "data": [
          {
           "line": {
            "color": "red",
            "width": 2
           },
           "mode": "lines",
           "type": "scatter",
           "x": [
            0,
            1,
            2,
            3,
            4,
            5,
            6,
            7,
            8,
            9,
            10,
            11,
            12,
            13,
            14,
            15,
            16,
            17,
            18,
            19,
            20,
            21,
            22,
            23,
            24,
            25,
            26,
            27,
            28,
            29,
            30,
            31,
            32,
            33,
            34,
            35,
            36,
            37,
            38,
            39
           ],
           "y": [
            5.5,
            5.1429895000000005,
            4.8091529085655,
            4.496985984117605,
            4.205082126902548,
            3.932126040963176,
            3.6768878075182143,
            3.4382173430444,
            3.2150392170900446,
            3.006347806469513,
            2.8112027640037702,
            2.6287247813895216,
            2.458091627104747,
            2.2985344414977504,
            2.14933427236569,
            2.0098188354121604,
            1.8793594849867215,
            1.757368381456749,
            1.6432958424480095,
            1.5366278660188666,
            1.436883814607716,
            1.343614249317715,
            1.2563989047802526,
            1.174844795472062,
            1.0985844449531748,
            1.0272742300468192,
            0.9605928325002498,
            0.8982397911498262,
            0.8399341480664999,
            0.7854131825813555,
            0.734431227486817,
            0.6867585620794203,
            0.6421803770562831,
            0.6004958066011827,
            0.5615170232988935,
            0.5250683917995389,
            0.4909856774194389,
            0.45911530611246576,
            0.4293136724773993,
            0.40144649268321897
           ]
          }
         ]
        },
        {
         "data": [
          {
           "line": {
            "color": "red",
            "width": 2
           },
           "mode": "lines",
           "type": "scatter",
           "x": [
            0,
            1,
            2,
            3,
            4,
            5,
            6,
            7,
            8,
            9,
            10,
            11,
            12,
            13,
            14,
            15,
            16,
            17,
            18,
            19,
            20,
            21,
            22,
            23,
            24,
            25,
            26,
            27,
            28,
            29,
            30,
            31,
            32,
            33,
            34,
            35,
            36,
            37,
            38,
            39,
            40
           ],
           "y": [
            5.5,
            5.1429895000000005,
            4.8091529085655,
            4.496985984117605,
            4.205082126902548,
            3.932126040963176,
            3.6768878075182143,
            3.4382173430444,
            3.2150392170900446,
            3.006347806469513,
            2.8112027640037702,
            2.6287247813895216,
            2.458091627104747,
            2.2985344414977504,
            2.14933427236569,
            2.0098188354121604,
            1.8793594849867215,
            1.757368381456749,
            1.6432958424480095,
            1.5366278660188666,
            1.436883814607716,
            1.343614249317715,
            1.2563989047802526,
            1.174844795472062,
            1.0985844449531748,
            1.0272742300468192,
            0.9605928325002498,
            0.8982397911498262,
            0.8399341480664999,
            0.7854131825813555,
            0.734431227486817,
            0.6867585620794203,
            0.6421803770562831,
            0.6004958066011827,
            0.5615170232988935,
            0.5250683917995389,
            0.4909856774194389,
            0.45911530611246576,
            0.4293136724773993,
            0.40144649268321897,
            0.37538819939665846
           ]
          }
         ]
        },
        {
         "data": [
          {
           "line": {
            "color": "red",
            "width": 2
           },
           "mode": "lines",
           "type": "scatter",
           "x": [
            0,
            1,
            2,
            3,
            4,
            5,
            6,
            7,
            8,
            9,
            10,
            11,
            12,
            13,
            14,
            15,
            16,
            17,
            18,
            19,
            20,
            21,
            22,
            23,
            24,
            25,
            26,
            27,
            28,
            29,
            30,
            31,
            32,
            33,
            34,
            35,
            36,
            37,
            38,
            39,
            40,
            41
           ],
           "y": [
            5.5,
            5.1429895000000005,
            4.8091529085655,
            4.496985984117605,
            4.205082126902548,
            3.932126040963176,
            3.6768878075182143,
            3.4382173430444,
            3.2150392170900446,
            3.006347806469513,
            2.8112027640037702,
            2.6287247813895216,
            2.458091627104747,
            2.2985344414977504,
            2.14933427236569,
            2.0098188354121604,
            1.8793594849867215,
            1.757368381456749,
            1.6432958424480095,
            1.5366278660188666,
            1.436883814607716,
            1.343614249317715,
            1.2563989047802526,
            1.174844795472062,
            1.0985844449531748,
            1.0272742300468192,
            0.9605928325002498,
            0.8982397911498262,
            0.8399341480664999,
            0.7854131825813555,
            0.734431227486817,
            0.6867585620794203,
            0.6421803770562831,
            0.6004958066011827,
            0.5615170232988935,
            0.5250683917995389,
            0.4909856774194389,
            0.45911530611246576,
            0.4293136724773993,
            0.40144649268321897,
            0.37538819939665846,
            0.351021375985622
           ]
          }
         ]
        },
        {
         "data": [
          {
           "line": {
            "color": "red",
            "width": 2
           },
           "mode": "lines",
           "type": "scatter",
           "x": [
            0,
            1,
            2,
            3,
            4,
            5,
            6,
            7,
            8,
            9,
            10,
            11,
            12,
            13,
            14,
            15,
            16,
            17,
            18,
            19,
            20,
            21,
            22,
            23,
            24,
            25,
            26,
            27,
            28,
            29,
            30,
            31,
            32,
            33,
            34,
            35,
            36,
            37,
            38,
            39,
            40,
            41,
            42
           ],
           "y": [
            5.5,
            5.1429895000000005,
            4.8091529085655,
            4.496985984117605,
            4.205082126902548,
            3.932126040963176,
            3.6768878075182143,
            3.4382173430444,
            3.2150392170900446,
            3.006347806469513,
            2.8112027640037702,
            2.6287247813895216,
            2.458091627104747,
            2.2985344414977504,
            2.14933427236569,
            2.0098188354121604,
            1.8793594849867215,
            1.757368381456749,
            1.6432958424480095,
            1.5366278660188666,
            1.436883814607716,
            1.343614249317715,
            1.2563989047802526,
            1.174844795472062,
            1.0985844449531748,
            1.0272742300468192,
            0.9605928325002498,
            0.8982397911498262,
            0.8399341480664999,
            0.7854131825813555,
            0.734431227486817,
            0.6867585620794203,
            0.6421803770562831,
            0.6004958066011827,
            0.5615170232988935,
            0.5250683917995389,
            0.4909856774194389,
            0.45911530611246576,
            0.4293136724773993,
            0.40144649268321897,
            0.37538819939665846,
            0.351021375985622,
            0.32823622744901937
           ]
          }
         ]
        },
        {
         "data": [
          {
           "line": {
            "color": "red",
            "width": 2
           },
           "mode": "lines",
           "type": "scatter",
           "x": [
            0,
            1,
            2,
            3,
            4,
            5,
            6,
            7,
            8,
            9,
            10,
            11,
            12,
            13,
            14,
            15,
            16,
            17,
            18,
            19,
            20,
            21,
            22,
            23,
            24,
            25,
            26,
            27,
            28,
            29,
            30,
            31,
            32,
            33,
            34,
            35,
            36,
            37,
            38,
            39,
            40,
            41,
            42,
            43
           ],
           "y": [
            5.5,
            5.1429895000000005,
            4.8091529085655,
            4.496985984117605,
            4.205082126902548,
            3.932126040963176,
            3.6768878075182143,
            3.4382173430444,
            3.2150392170900446,
            3.006347806469513,
            2.8112027640037702,
            2.6287247813895216,
            2.458091627104747,
            2.2985344414977504,
            2.14933427236569,
            2.0098188354121604,
            1.8793594849867215,
            1.757368381456749,
            1.6432958424480095,
            1.5366278660188666,
            1.436883814607716,
            1.343614249317715,
            1.2563989047802526,
            1.174844795472062,
            1.0985844449531748,
            1.0272742300468192,
            0.9605928325002498,
            0.8982397911498262,
            0.8399341480664999,
            0.7854131825813555,
            0.734431227486817,
            0.6867585620794203,
            0.6421803770562831,
            0.6004958066011827,
            0.5615170232988935,
            0.5250683917995389,
            0.4909856774194389,
            0.45911530611246576,
            0.4293136724773993,
            0.40144649268321897,
            0.37538819939665846,
            0.351021375985622,
            0.32823622744901937,
            0.3069300856890762
           ]
          }
         ]
        },
        {
         "data": [
          {
           "line": {
            "color": "red",
            "width": 2
           },
           "mode": "lines",
           "type": "scatter",
           "x": [
            0,
            1,
            2,
            3,
            4,
            5,
            6,
            7,
            8,
            9,
            10,
            11,
            12,
            13,
            14,
            15,
            16,
            17,
            18,
            19,
            20,
            21,
            22,
            23,
            24,
            25,
            26,
            27,
            28,
            29,
            30,
            31,
            32,
            33,
            34,
            35,
            36,
            37,
            38,
            39,
            40,
            41,
            42,
            43,
            44
           ],
           "y": [
            5.5,
            5.1429895000000005,
            4.8091529085655,
            4.496985984117605,
            4.205082126902548,
            3.932126040963176,
            3.6768878075182143,
            3.4382173430444,
            3.2150392170900446,
            3.006347806469513,
            2.8112027640037702,
            2.6287247813895216,
            2.458091627104747,
            2.2985344414977504,
            2.14933427236569,
            2.0098188354121604,
            1.8793594849867215,
            1.757368381456749,
            1.6432958424480095,
            1.5366278660188666,
            1.436883814607716,
            1.343614249317715,
            1.2563989047802526,
            1.174844795472062,
            1.0985844449531748,
            1.0272742300468192,
            0.9605928325002498,
            0.8982397911498262,
            0.8399341480664999,
            0.7854131825813555,
            0.734431227486817,
            0.6867585620794203,
            0.6421803770562831,
            0.6004958066011827,
            0.5615170232988935,
            0.5250683917995389,
            0.4909856774194389,
            0.45911530611246576,
            0.4293136724773993,
            0.40144649268321897,
            0.37538819939665846,
            0.351021375985622,
            0.32823622744901937,
            0.3069300856890762,
            0.2870069468969126
           ]
          }
         ]
        },
        {
         "data": [
          {
           "line": {
            "color": "red",
            "width": 2
           },
           "mode": "lines",
           "type": "scatter",
           "x": [
            0,
            1,
            2,
            3,
            4,
            5,
            6,
            7,
            8,
            9,
            10,
            11,
            12,
            13,
            14,
            15,
            16,
            17,
            18,
            19,
            20,
            21,
            22,
            23,
            24,
            25,
            26,
            27,
            28,
            29,
            30,
            31,
            32,
            33,
            34,
            35,
            36,
            37,
            38,
            39,
            40,
            41,
            42,
            43,
            44,
            45
           ],
           "y": [
            5.5,
            5.1429895000000005,
            4.8091529085655,
            4.496985984117605,
            4.205082126902548,
            3.932126040963176,
            3.6768878075182143,
            3.4382173430444,
            3.2150392170900446,
            3.006347806469513,
            2.8112027640037702,
            2.6287247813895216,
            2.458091627104747,
            2.2985344414977504,
            2.14933427236569,
            2.0098188354121604,
            1.8793594849867215,
            1.757368381456749,
            1.6432958424480095,
            1.5366278660188666,
            1.436883814607716,
            1.343614249317715,
            1.2563989047802526,
            1.174844795472062,
            1.0985844449531748,
            1.0272742300468192,
            0.9605928325002498,
            0.8982397911498262,
            0.8399341480664999,
            0.7854131825813555,
            0.734431227486817,
            0.6867585620794203,
            0.6421803770562831,
            0.6004958066011827,
            0.5615170232988935,
            0.5250683917995389,
            0.4909856774194389,
            0.45911530611246576,
            0.4293136724773993,
            0.40144649268321897,
            0.37538819939665846,
            0.351021375985622,
            0.32823622744901937,
            0.3069300856890762,
            0.2870069468969126,
            0.26837703896688697
           ]
          }
         ]
        },
        {
         "data": [
          {
           "line": {
            "color": "red",
            "width": 2
           },
           "mode": "lines",
           "type": "scatter",
           "x": [
            0,
            1,
            2,
            3,
            4,
            5,
            6,
            7,
            8,
            9,
            10,
            11,
            12,
            13,
            14,
            15,
            16,
            17,
            18,
            19,
            20,
            21,
            22,
            23,
            24,
            25,
            26,
            27,
            28,
            29,
            30,
            31,
            32,
            33,
            34,
            35,
            36,
            37,
            38,
            39,
            40,
            41,
            42,
            43,
            44,
            45,
            46
           ],
           "y": [
            5.5,
            5.1429895000000005,
            4.8091529085655,
            4.496985984117605,
            4.205082126902548,
            3.932126040963176,
            3.6768878075182143,
            3.4382173430444,
            3.2150392170900446,
            3.006347806469513,
            2.8112027640037702,
            2.6287247813895216,
            2.458091627104747,
            2.2985344414977504,
            2.14933427236569,
            2.0098188354121604,
            1.8793594849867215,
            1.757368381456749,
            1.6432958424480095,
            1.5366278660188666,
            1.436883814607716,
            1.343614249317715,
            1.2563989047802526,
            1.174844795472062,
            1.0985844449531748,
            1.0272742300468192,
            0.9605928325002498,
            0.8982397911498262,
            0.8399341480664999,
            0.7854131825813555,
            0.734431227486817,
            0.6867585620794203,
            0.6421803770562831,
            0.6004958066011827,
            0.5615170232988935,
            0.5250683917995389,
            0.4909856774194389,
            0.45911530611246576,
            0.4293136724773993,
            0.40144649268321897,
            0.37538819939665846,
            0.351021375985622,
            0.32823622744901937,
            0.3069300856890762,
            0.2870069468969126,
            0.26837703896688697,
            0.2509564169905074
           ]
          }
         ]
        },
        {
         "data": [
          {
           "line": {
            "color": "red",
            "width": 2
           },
           "mode": "lines",
           "type": "scatter",
           "x": [
            0,
            1,
            2,
            3,
            4,
            5,
            6,
            7,
            8,
            9,
            10,
            11,
            12,
            13,
            14,
            15,
            16,
            17,
            18,
            19,
            20,
            21,
            22,
            23,
            24,
            25,
            26,
            27,
            28,
            29,
            30,
            31,
            32,
            33,
            34,
            35,
            36,
            37,
            38,
            39,
            40,
            41,
            42,
            43,
            44,
            45,
            46,
            47
           ],
           "y": [
            5.5,
            5.1429895000000005,
            4.8091529085655,
            4.496985984117605,
            4.205082126902548,
            3.932126040963176,
            3.6768878075182143,
            3.4382173430444,
            3.2150392170900446,
            3.006347806469513,
            2.8112027640037702,
            2.6287247813895216,
            2.458091627104747,
            2.2985344414977504,
            2.14933427236569,
            2.0098188354121604,
            1.8793594849867215,
            1.757368381456749,
            1.6432958424480095,
            1.5366278660188666,
            1.436883814607716,
            1.343614249317715,
            1.2563989047802526,
            1.174844795472062,
            1.0985844449531748,
            1.0272742300468192,
            0.9605928325002498,
            0.8982397911498262,
            0.8399341480664999,
            0.7854131825813555,
            0.734431227486817,
            0.6867585620794203,
            0.6421803770562831,
            0.6004958066011827,
            0.5615170232988935,
            0.5250683917995389,
            0.4909856774194389,
            0.45911530611246576,
            0.4293136724773993,
            0.40144649268321897,
            0.37538819939665846,
            0.351021375985622,
            0.32823622744901937,
            0.3069300856890762,
            0.2870069468969126,
            0.26837703896688697,
            0.2509564169905074,
            0.23466658500723653
           ]
          }
         ]
        },
        {
         "data": [
          {
           "line": {
            "color": "red",
            "width": 2
           },
           "mode": "lines",
           "type": "scatter",
           "x": [
            0,
            1,
            2,
            3,
            4,
            5,
            6,
            7,
            8,
            9,
            10,
            11,
            12,
            13,
            14,
            15,
            16,
            17,
            18,
            19,
            20,
            21,
            22,
            23,
            24,
            25,
            26,
            27,
            28,
            29,
            30,
            31,
            32,
            33,
            34,
            35,
            36,
            37,
            38,
            39,
            40,
            41,
            42,
            43,
            44,
            45,
            46,
            47,
            48
           ],
           "y": [
            5.5,
            5.1429895000000005,
            4.8091529085655,
            4.496985984117605,
            4.205082126902548,
            3.932126040963176,
            3.6768878075182143,
            3.4382173430444,
            3.2150392170900446,
            3.006347806469513,
            2.8112027640037702,
            2.6287247813895216,
            2.458091627104747,
            2.2985344414977504,
            2.14933427236569,
            2.0098188354121604,
            1.8793594849867215,
            1.757368381456749,
            1.6432958424480095,
            1.5366278660188666,
            1.436883814607716,
            1.343614249317715,
            1.2563989047802526,
            1.174844795472062,
            1.0985844449531748,
            1.0272742300468192,
            0.9605928325002498,
            0.8982397911498262,
            0.8399341480664999,
            0.7854131825813555,
            0.734431227486817,
            0.6867585620794203,
            0.6421803770562831,
            0.6004958066011827,
            0.5615170232988935,
            0.5250683917995389,
            0.4909856774194389,
            0.45911530611246576,
            0.4293136724773993,
            0.40144649268321897,
            0.37538819939665846,
            0.351021375985622,
            0.32823622744901937,
            0.3069300856890762,
            0.2870069468969126,
            0.26837703896688697,
            0.2509564169905074,
            0.23466658500723653,
            0.2194341423078317
           ]
          }
         ]
        },
        {
         "data": [
          {
           "line": {
            "color": "red",
            "width": 2
           },
           "mode": "lines",
           "type": "scatter",
           "x": [
            0,
            1,
            2,
            3,
            4,
            5,
            6,
            7,
            8,
            9,
            10,
            11,
            12,
            13,
            14,
            15,
            16,
            17,
            18,
            19,
            20,
            21,
            22,
            23,
            24,
            25,
            26,
            27,
            28,
            29,
            30,
            31,
            32,
            33,
            34,
            35,
            36,
            37,
            38,
            39,
            40,
            41,
            42,
            43,
            44,
            45,
            46,
            47,
            48,
            49
           ],
           "y": [
            5.5,
            5.1429895000000005,
            4.8091529085655,
            4.496985984117605,
            4.205082126902548,
            3.932126040963176,
            3.6768878075182143,
            3.4382173430444,
            3.2150392170900446,
            3.006347806469513,
            2.8112027640037702,
            2.6287247813895216,
            2.458091627104747,
            2.2985344414977504,
            2.14933427236569,
            2.0098188354121604,
            1.8793594849867215,
            1.757368381456749,
            1.6432958424480095,
            1.5366278660188666,
            1.436883814607716,
            1.343614249317715,
            1.2563989047802526,
            1.174844795472062,
            1.0985844449531748,
            1.0272742300468192,
            0.9605928325002498,
            0.8982397911498262,
            0.8399341480664999,
            0.7854131825813555,
            0.734431227486817,
            0.6867585620794203,
            0.6421803770562831,
            0.6004958066011827,
            0.5615170232988935,
            0.5250683917995389,
            0.4909856774194389,
            0.45911530611246576,
            0.4293136724773993,
            0.40144649268321897,
            0.37538819939665846,
            0.351021375985622,
            0.32823622744901937,
            0.3069300856890762,
            0.2870069468969126,
            0.26837703896688697,
            0.2509564169905074,
            0.23466658500723653,
            0.2194341423078317,
            0.20519045269648797
           ]
          }
         ]
        },
        {
         "data": [
          {
           "line": {
            "color": "red",
            "width": 2
           },
           "mode": "lines",
           "type": "scatter",
           "x": [
            0,
            1,
            2,
            3,
            4,
            5,
            6,
            7,
            8,
            9,
            10,
            11,
            12,
            13,
            14,
            15,
            16,
            17,
            18,
            19,
            20,
            21,
            22,
            23,
            24,
            25,
            26,
            27,
            28,
            29,
            30,
            31,
            32,
            33,
            34,
            35,
            36,
            37,
            38,
            39,
            40,
            41,
            42,
            43,
            44,
            45,
            46,
            47,
            48,
            49,
            50
           ],
           "y": [
            5.5,
            5.1429895000000005,
            4.8091529085655,
            4.496985984117605,
            4.205082126902548,
            3.932126040963176,
            3.6768878075182143,
            3.4382173430444,
            3.2150392170900446,
            3.006347806469513,
            2.8112027640037702,
            2.6287247813895216,
            2.458091627104747,
            2.2985344414977504,
            2.14933427236569,
            2.0098188354121604,
            1.8793594849867215,
            1.757368381456749,
            1.6432958424480095,
            1.5366278660188666,
            1.436883814607716,
            1.343614249317715,
            1.2563989047802526,
            1.174844795472062,
            1.0985844449531748,
            1.0272742300468192,
            0.9605928325002498,
            0.8982397911498262,
            0.8399341480664999,
            0.7854131825813555,
            0.734431227486817,
            0.6867585620794203,
            0.6421803770562831,
            0.6004958066011827,
            0.5615170232988935,
            0.5250683917995389,
            0.4909856774194389,
            0.45911530611246576,
            0.4293136724773993,
            0.40144649268321897,
            0.37538819939665846,
            0.351021375985622,
            0.32823622744901937,
            0.3069300856890762,
            0.2870069468969126,
            0.26837703896688697,
            0.2509564169905074,
            0.23466658500723653,
            0.2194341423078317,
            0.20519045269648797,
            0.19187133522150623
           ]
          }
         ]
        },
        {
         "data": [
          {
           "line": {
            "color": "red",
            "width": 2
           },
           "mode": "lines",
           "type": "scatter",
           "x": [
            0,
            1,
            2,
            3,
            4,
            5,
            6,
            7,
            8,
            9,
            10,
            11,
            12,
            13,
            14,
            15,
            16,
            17,
            18,
            19,
            20,
            21,
            22,
            23,
            24,
            25,
            26,
            27,
            28,
            29,
            30,
            31,
            32,
            33,
            34,
            35,
            36,
            37,
            38,
            39,
            40,
            41,
            42,
            43,
            44,
            45,
            46,
            47,
            48,
            49,
            50,
            51
           ],
           "y": [
            5.5,
            5.1429895000000005,
            4.8091529085655,
            4.496985984117605,
            4.205082126902548,
            3.932126040963176,
            3.6768878075182143,
            3.4382173430444,
            3.2150392170900446,
            3.006347806469513,
            2.8112027640037702,
            2.6287247813895216,
            2.458091627104747,
            2.2985344414977504,
            2.14933427236569,
            2.0098188354121604,
            1.8793594849867215,
            1.757368381456749,
            1.6432958424480095,
            1.5366278660188666,
            1.436883814607716,
            1.343614249317715,
            1.2563989047802526,
            1.174844795472062,
            1.0985844449531748,
            1.0272742300468192,
            0.9605928325002498,
            0.8982397911498262,
            0.8399341480664999,
            0.7854131825813555,
            0.734431227486817,
            0.6867585620794203,
            0.6421803770562831,
            0.6004958066011827,
            0.5615170232988935,
            0.5250683917995389,
            0.4909856774194389,
            0.45911530611246576,
            0.4293136724773993,
            0.40144649268321897,
            0.37538819939665846,
            0.351021375985622,
            0.32823622744901937,
            0.3069300856890762,
            0.2870069468969126,
            0.26837703896688697,
            0.2509564169905074,
            0.23466658500723653,
            0.2194341423078317,
            0.20519045269648797,
            0.19187133522150623,
            0.17941677498094305
           ]
          }
         ]
        },
        {
         "data": [
          {
           "line": {
            "color": "red",
            "width": 2
           },
           "mode": "lines",
           "type": "scatter",
           "x": [
            0,
            1,
            2,
            3,
            4,
            5,
            6,
            7,
            8,
            9,
            10,
            11,
            12,
            13,
            14,
            15,
            16,
            17,
            18,
            19,
            20,
            21,
            22,
            23,
            24,
            25,
            26,
            27,
            28,
            29,
            30,
            31,
            32,
            33,
            34,
            35,
            36,
            37,
            38,
            39,
            40,
            41,
            42,
            43,
            44,
            45,
            46,
            47,
            48,
            49,
            50,
            51,
            52
           ],
           "y": [
            5.5,
            5.1429895000000005,
            4.8091529085655,
            4.496985984117605,
            4.205082126902548,
            3.932126040963176,
            3.6768878075182143,
            3.4382173430444,
            3.2150392170900446,
            3.006347806469513,
            2.8112027640037702,
            2.6287247813895216,
            2.458091627104747,
            2.2985344414977504,
            2.14933427236569,
            2.0098188354121604,
            1.8793594849867215,
            1.757368381456749,
            1.6432958424480095,
            1.5366278660188666,
            1.436883814607716,
            1.343614249317715,
            1.2563989047802526,
            1.174844795472062,
            1.0985844449531748,
            1.0272742300468192,
            0.9605928325002498,
            0.8982397911498262,
            0.8399341480664999,
            0.7854131825813555,
            0.734431227486817,
            0.6867585620794203,
            0.6421803770562831,
            0.6004958066011827,
            0.5615170232988935,
            0.5250683917995389,
            0.4909856774194389,
            0.45911530611246576,
            0.4293136724773993,
            0.40144649268321897,
            0.37538819939665846,
            0.351021375985622,
            0.32823622744901937,
            0.3069300856890762,
            0.2870069468969126,
            0.26837703896688697,
            0.2509564169905074,
            0.23466658500723653,
            0.2194341423078317,
            0.20519045269648797,
            0.19187133522150623,
            0.17941677498094305,
            0.16777065270015507
           ]
          }
         ]
        },
        {
         "data": [
          {
           "line": {
            "color": "red",
            "width": 2
           },
           "mode": "lines",
           "type": "scatter",
           "x": [
            0,
            1,
            2,
            3,
            4,
            5,
            6,
            7,
            8,
            9,
            10,
            11,
            12,
            13,
            14,
            15,
            16,
            17,
            18,
            19,
            20,
            21,
            22,
            23,
            24,
            25,
            26,
            27,
            28,
            29,
            30,
            31,
            32,
            33,
            34,
            35,
            36,
            37,
            38,
            39,
            40,
            41,
            42,
            43,
            44,
            45,
            46,
            47,
            48,
            49,
            50,
            51,
            52,
            53
           ],
           "y": [
            5.5,
            5.1429895000000005,
            4.8091529085655,
            4.496985984117605,
            4.205082126902548,
            3.932126040963176,
            3.6768878075182143,
            3.4382173430444,
            3.2150392170900446,
            3.006347806469513,
            2.8112027640037702,
            2.6287247813895216,
            2.458091627104747,
            2.2985344414977504,
            2.14933427236569,
            2.0098188354121604,
            1.8793594849867215,
            1.757368381456749,
            1.6432958424480095,
            1.5366278660188666,
            1.436883814607716,
            1.343614249317715,
            1.2563989047802526,
            1.174844795472062,
            1.0985844449531748,
            1.0272742300468192,
            0.9605928325002498,
            0.8982397911498262,
            0.8399341480664999,
            0.7854131825813555,
            0.734431227486817,
            0.6867585620794203,
            0.6421803770562831,
            0.6004958066011827,
            0.5615170232988935,
            0.5250683917995389,
            0.4909856774194389,
            0.45911530611246576,
            0.4293136724773993,
            0.40144649268321897,
            0.37538819939665846,
            0.351021375985622,
            0.32823622744901937,
            0.3069300856890762,
            0.2870069468969126,
            0.26837703896688697,
            0.2509564169905074,
            0.23466658500723653,
            0.2194341423078317,
            0.20519045269648797,
            0.19187133522150623,
            0.17941677498094305,
            0.16777065270015507,
            0.15688049186273526
           ]
          }
         ]
        },
        {
         "data": [
          {
           "line": {
            "color": "red",
            "width": 2
           },
           "mode": "lines",
           "type": "scatter",
           "x": [
            0,
            1,
            2,
            3,
            4,
            5,
            6,
            7,
            8,
            9,
            10,
            11,
            12,
            13,
            14,
            15,
            16,
            17,
            18,
            19,
            20,
            21,
            22,
            23,
            24,
            25,
            26,
            27,
            28,
            29,
            30,
            31,
            32,
            33,
            34,
            35,
            36,
            37,
            38,
            39,
            40,
            41,
            42,
            43,
            44,
            45,
            46,
            47,
            48,
            49,
            50,
            51,
            52,
            53,
            54
           ],
           "y": [
            5.5,
            5.1429895000000005,
            4.8091529085655,
            4.496985984117605,
            4.205082126902548,
            3.932126040963176,
            3.6768878075182143,
            3.4382173430444,
            3.2150392170900446,
            3.006347806469513,
            2.8112027640037702,
            2.6287247813895216,
            2.458091627104747,
            2.2985344414977504,
            2.14933427236569,
            2.0098188354121604,
            1.8793594849867215,
            1.757368381456749,
            1.6432958424480095,
            1.5366278660188666,
            1.436883814607716,
            1.343614249317715,
            1.2563989047802526,
            1.174844795472062,
            1.0985844449531748,
            1.0272742300468192,
            0.9605928325002498,
            0.8982397911498262,
            0.8399341480664999,
            0.7854131825813555,
            0.734431227486817,
            0.6867585620794203,
            0.6421803770562831,
            0.6004958066011827,
            0.5615170232988935,
            0.5250683917995389,
            0.4909856774194389,
            0.45911530611246576,
            0.4293136724773993,
            0.40144649268321897,
            0.37538819939665846,
            0.351021375985622,
            0.32823622744901937,
            0.3069300856890762,
            0.2870069468969126,
            0.26837703896688697,
            0.2509564169905074,
            0.23466658500723653,
            0.2194341423078317,
            0.20519045269648797,
            0.19187133522150623,
            0.17941677498094305,
            0.16777065270015507,
            0.15688049186273526,
            0.14669722225543322
           ]
          }
         ]
        },
        {
         "data": [
          {
           "line": {
            "color": "red",
            "width": 2
           },
           "mode": "lines",
           "type": "scatter",
           "x": [
            0,
            1,
            2,
            3,
            4,
            5,
            6,
            7,
            8,
            9,
            10,
            11,
            12,
            13,
            14,
            15,
            16,
            17,
            18,
            19,
            20,
            21,
            22,
            23,
            24,
            25,
            26,
            27,
            28,
            29,
            30,
            31,
            32,
            33,
            34,
            35,
            36,
            37,
            38,
            39,
            40,
            41,
            42,
            43,
            44,
            45,
            46,
            47,
            48,
            49,
            50,
            51,
            52,
            53,
            54,
            55
           ],
           "y": [
            5.5,
            5.1429895000000005,
            4.8091529085655,
            4.496985984117605,
            4.205082126902548,
            3.932126040963176,
            3.6768878075182143,
            3.4382173430444,
            3.2150392170900446,
            3.006347806469513,
            2.8112027640037702,
            2.6287247813895216,
            2.458091627104747,
            2.2985344414977504,
            2.14933427236569,
            2.0098188354121604,
            1.8793594849867215,
            1.757368381456749,
            1.6432958424480095,
            1.5366278660188666,
            1.436883814607716,
            1.343614249317715,
            1.2563989047802526,
            1.174844795472062,
            1.0985844449531748,
            1.0272742300468192,
            0.9605928325002498,
            0.8982397911498262,
            0.8399341480664999,
            0.7854131825813555,
            0.734431227486817,
            0.6867585620794203,
            0.6421803770562831,
            0.6004958066011827,
            0.5615170232988935,
            0.5250683917995389,
            0.4909856774194389,
            0.45911530611246576,
            0.4293136724773993,
            0.40144649268321897,
            0.37538819939665846,
            0.351021375985622,
            0.32823622744901937,
            0.3069300856890762,
            0.2870069468969126,
            0.26837703896688697,
            0.2509564169905074,
            0.23466658500723653,
            0.2194341423078317,
            0.20519045269648797,
            0.19187133522150623,
            0.17941677498094305,
            0.16777065270015507,
            0.15688049186273526,
            0.14669722225543322,
            0.13717495886161082
           ]
          }
         ]
        },
        {
         "data": [
          {
           "line": {
            "color": "red",
            "width": 2
           },
           "mode": "lines",
           "type": "scatter",
           "x": [
            0,
            1,
            2,
            3,
            4,
            5,
            6,
            7,
            8,
            9,
            10,
            11,
            12,
            13,
            14,
            15,
            16,
            17,
            18,
            19,
            20,
            21,
            22,
            23,
            24,
            25,
            26,
            27,
            28,
            29,
            30,
            31,
            32,
            33,
            34,
            35,
            36,
            37,
            38,
            39,
            40,
            41,
            42,
            43,
            44,
            45,
            46,
            47,
            48,
            49,
            50,
            51,
            52,
            53,
            54,
            55,
            56
           ],
           "y": [
            5.5,
            5.1429895000000005,
            4.8091529085655,
            4.496985984117605,
            4.205082126902548,
            3.932126040963176,
            3.6768878075182143,
            3.4382173430444,
            3.2150392170900446,
            3.006347806469513,
            2.8112027640037702,
            2.6287247813895216,
            2.458091627104747,
            2.2985344414977504,
            2.14933427236569,
            2.0098188354121604,
            1.8793594849867215,
            1.757368381456749,
            1.6432958424480095,
            1.5366278660188666,
            1.436883814607716,
            1.343614249317715,
            1.2563989047802526,
            1.174844795472062,
            1.0985844449531748,
            1.0272742300468192,
            0.9605928325002498,
            0.8982397911498262,
            0.8399341480664999,
            0.7854131825813555,
            0.734431227486817,
            0.6867585620794203,
            0.6421803770562831,
            0.6004958066011827,
            0.5615170232988935,
            0.5250683917995389,
            0.4909856774194389,
            0.45911530611246576,
            0.4293136724773993,
            0.40144649268321897,
            0.37538819939665846,
            0.351021375985622,
            0.32823622744901937,
            0.3069300856890762,
            0.2870069468969126,
            0.26837703896688697,
            0.2509564169905074,
            0.23466658500723653,
            0.2194341423078317,
            0.20519045269648797,
            0.19187133522150623,
            0.17941677498094305,
            0.16777065270015507,
            0.15688049186273526,
            0.14669722225543322,
            0.13717495886161082,
            0.12827079510694472
           ]
          }
         ]
        },
        {
         "data": [
          {
           "line": {
            "color": "red",
            "width": 2
           },
           "mode": "lines",
           "type": "scatter",
           "x": [
            0,
            1,
            2,
            3,
            4,
            5,
            6,
            7,
            8,
            9,
            10,
            11,
            12,
            13,
            14,
            15,
            16,
            17,
            18,
            19,
            20,
            21,
            22,
            23,
            24,
            25,
            26,
            27,
            28,
            29,
            30,
            31,
            32,
            33,
            34,
            35,
            36,
            37,
            38,
            39,
            40,
            41,
            42,
            43,
            44,
            45,
            46,
            47,
            48,
            49,
            50,
            51,
            52,
            53,
            54,
            55,
            56,
            57
           ],
           "y": [
            5.5,
            5.1429895000000005,
            4.8091529085655,
            4.496985984117605,
            4.205082126902548,
            3.932126040963176,
            3.6768878075182143,
            3.4382173430444,
            3.2150392170900446,
            3.006347806469513,
            2.8112027640037702,
            2.6287247813895216,
            2.458091627104747,
            2.2985344414977504,
            2.14933427236569,
            2.0098188354121604,
            1.8793594849867215,
            1.757368381456749,
            1.6432958424480095,
            1.5366278660188666,
            1.436883814607716,
            1.343614249317715,
            1.2563989047802526,
            1.174844795472062,
            1.0985844449531748,
            1.0272742300468192,
            0.9605928325002498,
            0.8982397911498262,
            0.8399341480664999,
            0.7854131825813555,
            0.734431227486817,
            0.6867585620794203,
            0.6421803770562831,
            0.6004958066011827,
            0.5615170232988935,
            0.5250683917995389,
            0.4909856774194389,
            0.45911530611246576,
            0.4293136724773993,
            0.40144649268321897,
            0.37538819939665846,
            0.351021375985622,
            0.32823622744901937,
            0.3069300856890762,
            0.2870069468969126,
            0.26837703896688697,
            0.2509564169905074,
            0.23466658500723653,
            0.2194341423078317,
            0.20519045269648797,
            0.19187133522150623,
            0.17941677498094305,
            0.16777065270015507,
            0.15688049186273526,
            0.14669722225543322,
            0.13717495886161082,
            0.12827079510694472,
            0.11994460952575792
           ]
          }
         ]
        },
        {
         "data": [
          {
           "line": {
            "color": "red",
            "width": 2
           },
           "mode": "lines",
           "type": "scatter",
           "x": [
            0,
            1,
            2,
            3,
            4,
            5,
            6,
            7,
            8,
            9,
            10,
            11,
            12,
            13,
            14,
            15,
            16,
            17,
            18,
            19,
            20,
            21,
            22,
            23,
            24,
            25,
            26,
            27,
            28,
            29,
            30,
            31,
            32,
            33,
            34,
            35,
            36,
            37,
            38,
            39,
            40,
            41,
            42,
            43,
            44,
            45,
            46,
            47,
            48,
            49,
            50,
            51,
            52,
            53,
            54,
            55,
            56,
            57,
            58
           ],
           "y": [
            5.5,
            5.1429895000000005,
            4.8091529085655,
            4.496985984117605,
            4.205082126902548,
            3.932126040963176,
            3.6768878075182143,
            3.4382173430444,
            3.2150392170900446,
            3.006347806469513,
            2.8112027640037702,
            2.6287247813895216,
            2.458091627104747,
            2.2985344414977504,
            2.14933427236569,
            2.0098188354121604,
            1.8793594849867215,
            1.757368381456749,
            1.6432958424480095,
            1.5366278660188666,
            1.436883814607716,
            1.343614249317715,
            1.2563989047802526,
            1.174844795472062,
            1.0985844449531748,
            1.0272742300468192,
            0.9605928325002498,
            0.8982397911498262,
            0.8399341480664999,
            0.7854131825813555,
            0.734431227486817,
            0.6867585620794203,
            0.6421803770562831,
            0.6004958066011827,
            0.5615170232988935,
            0.5250683917995389,
            0.4909856774194389,
            0.45911530611246576,
            0.4293136724773993,
            0.40144649268321897,
            0.37538819939665846,
            0.351021375985622,
            0.32823622744901937,
            0.3069300856890762,
            0.2870069468969126,
            0.26837703896688697,
            0.2509564169905074,
            0.23466658500723653,
            0.2194341423078317,
            0.20519045269648797,
            0.19187133522150623,
            0.17941677498094305,
            0.16777065270015507,
            0.15688049186273526,
            0.14669722225543322,
            0.13717495886161082,
            0.12827079510694472,
            0.11994460952575792,
            0.11215888497683146
           ]
          }
         ]
        },
        {
         "data": [
          {
           "line": {
            "color": "red",
            "width": 2
           },
           "mode": "lines",
           "type": "scatter",
           "x": [
            0,
            1,
            2,
            3,
            4,
            5,
            6,
            7,
            8,
            9,
            10,
            11,
            12,
            13,
            14,
            15,
            16,
            17,
            18,
            19,
            20,
            21,
            22,
            23,
            24,
            25,
            26,
            27,
            28,
            29,
            30,
            31,
            32,
            33,
            34,
            35,
            36,
            37,
            38,
            39,
            40,
            41,
            42,
            43,
            44,
            45,
            46,
            47,
            48,
            49,
            50,
            51,
            52,
            53,
            54,
            55,
            56,
            57,
            58,
            59
           ],
           "y": [
            5.5,
            5.1429895000000005,
            4.8091529085655,
            4.496985984117605,
            4.205082126902548,
            3.932126040963176,
            3.6768878075182143,
            3.4382173430444,
            3.2150392170900446,
            3.006347806469513,
            2.8112027640037702,
            2.6287247813895216,
            2.458091627104747,
            2.2985344414977504,
            2.14933427236569,
            2.0098188354121604,
            1.8793594849867215,
            1.757368381456749,
            1.6432958424480095,
            1.5366278660188666,
            1.436883814607716,
            1.343614249317715,
            1.2563989047802526,
            1.174844795472062,
            1.0985844449531748,
            1.0272742300468192,
            0.9605928325002498,
            0.8982397911498262,
            0.8399341480664999,
            0.7854131825813555,
            0.734431227486817,
            0.6867585620794203,
            0.6421803770562831,
            0.6004958066011827,
            0.5615170232988935,
            0.5250683917995389,
            0.4909856774194389,
            0.45911530611246576,
            0.4293136724773993,
            0.40144649268321897,
            0.37538819939665846,
            0.351021375985622,
            0.32823622744901937,
            0.3069300856890762,
            0.2870069468969126,
            0.26837703896688697,
            0.2509564169905074,
            0.23466658500723653,
            0.2194341423078317,
            0.20519045269648797,
            0.19187133522150623,
            0.17941677498094305,
            0.16777065270015507,
            0.15688049186273526,
            0.14669722225543322,
            0.13717495886161082,
            0.12827079510694472,
            0.11994460952575792,
            0.11215888497683146,
            0.10487853959410046
           ]
          }
         ]
        },
        {
         "data": [
          {
           "line": {
            "color": "red",
            "width": 2
           },
           "mode": "lines",
           "type": "scatter",
           "x": [
            0,
            1,
            2,
            3,
            4,
            5,
            6,
            7,
            8,
            9,
            10,
            11,
            12,
            13,
            14,
            15,
            16,
            17,
            18,
            19,
            20,
            21,
            22,
            23,
            24,
            25,
            26,
            27,
            28,
            29,
            30,
            31,
            32,
            33,
            34,
            35,
            36,
            37,
            38,
            39,
            40,
            41,
            42,
            43,
            44,
            45,
            46,
            47,
            48,
            49,
            50,
            51,
            52,
            53,
            54,
            55,
            56,
            57,
            58,
            59,
            60
           ],
           "y": [
            5.5,
            5.1429895000000005,
            4.8091529085655,
            4.496985984117605,
            4.205082126902548,
            3.932126040963176,
            3.6768878075182143,
            3.4382173430444,
            3.2150392170900446,
            3.006347806469513,
            2.8112027640037702,
            2.6287247813895216,
            2.458091627104747,
            2.2985344414977504,
            2.14933427236569,
            2.0098188354121604,
            1.8793594849867215,
            1.757368381456749,
            1.6432958424480095,
            1.5366278660188666,
            1.436883814607716,
            1.343614249317715,
            1.2563989047802526,
            1.174844795472062,
            1.0985844449531748,
            1.0272742300468192,
            0.9605928325002498,
            0.8982397911498262,
            0.8399341480664999,
            0.7854131825813555,
            0.734431227486817,
            0.6867585620794203,
            0.6421803770562831,
            0.6004958066011827,
            0.5615170232988935,
            0.5250683917995389,
            0.4909856774194389,
            0.45911530611246576,
            0.4293136724773993,
            0.40144649268321897,
            0.37538819939665846,
            0.351021375985622,
            0.32823622744901937,
            0.3069300856890762,
            0.2870069468969126,
            0.26837703896688697,
            0.2509564169905074,
            0.23466658500723653,
            0.2194341423078317,
            0.20519045269648797,
            0.19187133522150623,
            0.17941677498094305,
            0.16777065270015507,
            0.15688049186273526,
            0.14669722225543322,
            0.13717495886161082,
            0.12827079510694472,
            0.11994460952575792,
            0.11215888497683146,
            0.10487853959410046,
            0.09807076871050775
           ]
          }
         ]
        },
        {
         "data": [
          {
           "line": {
            "color": "red",
            "width": 2
           },
           "mode": "lines",
           "type": "scatter",
           "x": [
            0,
            1,
            2,
            3,
            4,
            5,
            6,
            7,
            8,
            9,
            10,
            11,
            12,
            13,
            14,
            15,
            16,
            17,
            18,
            19,
            20,
            21,
            22,
            23,
            24,
            25,
            26,
            27,
            28,
            29,
            30,
            31,
            32,
            33,
            34,
            35,
            36,
            37,
            38,
            39,
            40,
            41,
            42,
            43,
            44,
            45,
            46,
            47,
            48,
            49,
            50,
            51,
            52,
            53,
            54,
            55,
            56,
            57,
            58,
            59,
            60,
            61
           ],
           "y": [
            5.5,
            5.1429895000000005,
            4.8091529085655,
            4.496985984117605,
            4.205082126902548,
            3.932126040963176,
            3.6768878075182143,
            3.4382173430444,
            3.2150392170900446,
            3.006347806469513,
            2.8112027640037702,
            2.6287247813895216,
            2.458091627104747,
            2.2985344414977504,
            2.14933427236569,
            2.0098188354121604,
            1.8793594849867215,
            1.757368381456749,
            1.6432958424480095,
            1.5366278660188666,
            1.436883814607716,
            1.343614249317715,
            1.2563989047802526,
            1.174844795472062,
            1.0985844449531748,
            1.0272742300468192,
            0.9605928325002498,
            0.8982397911498262,
            0.8399341480664999,
            0.7854131825813555,
            0.734431227486817,
            0.6867585620794203,
            0.6421803770562831,
            0.6004958066011827,
            0.5615170232988935,
            0.5250683917995389,
            0.4909856774194389,
            0.45911530611246576,
            0.4293136724773993,
            0.40144649268321897,
            0.37538819939665846,
            0.351021375985622,
            0.32823622744901937,
            0.3069300856890762,
            0.2870069468969126,
            0.26837703896688697,
            0.2509564169905074,
            0.23466658500723653,
            0.2194341423078317,
            0.20519045269648797,
            0.19187133522150623,
            0.17941677498094305,
            0.16777065270015507,
            0.15688049186273526,
            0.14669722225543322,
            0.13717495886161082,
            0.12827079510694472,
            0.11994460952575792,
            0.11215888497683146,
            0.10487853959410046,
            0.09807076871050775,
            0.0917048970427399
           ]
          }
         ]
        },
        {
         "data": [
          {
           "line": {
            "color": "red",
            "width": 2
           },
           "mode": "lines",
           "type": "scatter",
           "x": [
            0,
            1,
            2,
            3,
            4,
            5,
            6,
            7,
            8,
            9,
            10,
            11,
            12,
            13,
            14,
            15,
            16,
            17,
            18,
            19,
            20,
            21,
            22,
            23,
            24,
            25,
            26,
            27,
            28,
            29,
            30,
            31,
            32,
            33,
            34,
            35,
            36,
            37,
            38,
            39,
            40,
            41,
            42,
            43,
            44,
            45,
            46,
            47,
            48,
            49,
            50,
            51,
            52,
            53,
            54,
            55,
            56,
            57,
            58,
            59,
            60,
            61,
            62
           ],
           "y": [
            5.5,
            5.1429895000000005,
            4.8091529085655,
            4.496985984117605,
            4.205082126902548,
            3.932126040963176,
            3.6768878075182143,
            3.4382173430444,
            3.2150392170900446,
            3.006347806469513,
            2.8112027640037702,
            2.6287247813895216,
            2.458091627104747,
            2.2985344414977504,
            2.14933427236569,
            2.0098188354121604,
            1.8793594849867215,
            1.757368381456749,
            1.6432958424480095,
            1.5366278660188666,
            1.436883814607716,
            1.343614249317715,
            1.2563989047802526,
            1.174844795472062,
            1.0985844449531748,
            1.0272742300468192,
            0.9605928325002498,
            0.8982397911498262,
            0.8399341480664999,
            0.7854131825813555,
            0.734431227486817,
            0.6867585620794203,
            0.6421803770562831,
            0.6004958066011827,
            0.5615170232988935,
            0.5250683917995389,
            0.4909856774194389,
            0.45911530611246576,
            0.4293136724773993,
            0.40144649268321897,
            0.37538819939665846,
            0.351021375985622,
            0.32823622744901937,
            0.3069300856890762,
            0.2870069468969126,
            0.26837703896688697,
            0.2509564169905074,
            0.23466658500723653,
            0.2194341423078317,
            0.20519045269648797,
            0.19187133522150623,
            0.17941677498094305,
            0.16777065270015507,
            0.15688049186273526,
            0.14669722225543322,
            0.13717495886161082,
            0.12827079510694472,
            0.11994460952575792,
            0.11215888497683146,
            0.10487853959410046,
            0.09807076871050775,
            0.0917048970427399,
            0.08575224047079862
           ]
          }
         ]
        },
        {
         "data": [
          {
           "line": {
            "color": "red",
            "width": 2
           },
           "mode": "lines",
           "type": "scatter",
           "x": [
            0,
            1,
            2,
            3,
            4,
            5,
            6,
            7,
            8,
            9,
            10,
            11,
            12,
            13,
            14,
            15,
            16,
            17,
            18,
            19,
            20,
            21,
            22,
            23,
            24,
            25,
            26,
            27,
            28,
            29,
            30,
            31,
            32,
            33,
            34,
            35,
            36,
            37,
            38,
            39,
            40,
            41,
            42,
            43,
            44,
            45,
            46,
            47,
            48,
            49,
            50,
            51,
            52,
            53,
            54,
            55,
            56,
            57,
            58,
            59,
            60,
            61,
            62,
            63
           ],
           "y": [
            5.5,
            5.1429895000000005,
            4.8091529085655,
            4.496985984117605,
            4.205082126902548,
            3.932126040963176,
            3.6768878075182143,
            3.4382173430444,
            3.2150392170900446,
            3.006347806469513,
            2.8112027640037702,
            2.6287247813895216,
            2.458091627104747,
            2.2985344414977504,
            2.14933427236569,
            2.0098188354121604,
            1.8793594849867215,
            1.757368381456749,
            1.6432958424480095,
            1.5366278660188666,
            1.436883814607716,
            1.343614249317715,
            1.2563989047802526,
            1.174844795472062,
            1.0985844449531748,
            1.0272742300468192,
            0.9605928325002498,
            0.8982397911498262,
            0.8399341480664999,
            0.7854131825813555,
            0.734431227486817,
            0.6867585620794203,
            0.6421803770562831,
            0.6004958066011827,
            0.5615170232988935,
            0.5250683917995389,
            0.4909856774194389,
            0.45911530611246576,
            0.4293136724773993,
            0.40144649268321897,
            0.37538819939665846,
            0.351021375985622,
            0.32823622744901937,
            0.3069300856890762,
            0.2870069468969126,
            0.26837703896688697,
            0.2509564169905074,
            0.23466658500723653,
            0.2194341423078317,
            0.20519045269648797,
            0.19187133522150623,
            0.17941677498094305,
            0.16777065270015507,
            0.15688049186273526,
            0.14669722225543322,
            0.13717495886161082,
            0.12827079510694472,
            0.11994460952575792,
            0.11215888497683146,
            0.10487853959410046,
            0.09807076871050775,
            0.0917048970427399,
            0.08575224047079862,
            0.08018597678959864
           ]
          }
         ]
        },
        {
         "data": [
          {
           "line": {
            "color": "red",
            "width": 2
           },
           "mode": "lines",
           "type": "scatter",
           "x": [
            0,
            1,
            2,
            3,
            4,
            5,
            6,
            7,
            8,
            9,
            10,
            11,
            12,
            13,
            14,
            15,
            16,
            17,
            18,
            19,
            20,
            21,
            22,
            23,
            24,
            25,
            26,
            27,
            28,
            29,
            30,
            31,
            32,
            33,
            34,
            35,
            36,
            37,
            38,
            39,
            40,
            41,
            42,
            43,
            44,
            45,
            46,
            47,
            48,
            49,
            50,
            51,
            52,
            53,
            54,
            55,
            56,
            57,
            58,
            59,
            60,
            61,
            62,
            63,
            64
           ],
           "y": [
            5.5,
            5.1429895000000005,
            4.8091529085655,
            4.496985984117605,
            4.205082126902548,
            3.932126040963176,
            3.6768878075182143,
            3.4382173430444,
            3.2150392170900446,
            3.006347806469513,
            2.8112027640037702,
            2.6287247813895216,
            2.458091627104747,
            2.2985344414977504,
            2.14933427236569,
            2.0098188354121604,
            1.8793594849867215,
            1.757368381456749,
            1.6432958424480095,
            1.5366278660188666,
            1.436883814607716,
            1.343614249317715,
            1.2563989047802526,
            1.174844795472062,
            1.0985844449531748,
            1.0272742300468192,
            0.9605928325002498,
            0.8982397911498262,
            0.8399341480664999,
            0.7854131825813555,
            0.734431227486817,
            0.6867585620794203,
            0.6421803770562831,
            0.6004958066011827,
            0.5615170232988935,
            0.5250683917995389,
            0.4909856774194389,
            0.45911530611246576,
            0.4293136724773993,
            0.40144649268321897,
            0.37538819939665846,
            0.351021375985622,
            0.32823622744901937,
            0.3069300856890762,
            0.2870069468969126,
            0.26837703896688697,
            0.2509564169905074,
            0.23466658500723653,
            0.2194341423078317,
            0.20519045269648797,
            0.19187133522150623,
            0.17941677498094305,
            0.16777065270015507,
            0.15688049186273526,
            0.14669722225543322,
            0.13717495886161082,
            0.12827079510694472,
            0.11994460952575792,
            0.11215888497683146,
            0.10487853959410046,
            0.09807076871050775,
            0.0917048970427399,
            0.08575224047079862,
            0.08018597678959864,
            0.07498102485020898
           ]
          }
         ]
        },
        {
         "data": [
          {
           "line": {
            "color": "red",
            "width": 2
           },
           "mode": "lines",
           "type": "scatter",
           "x": [
            0,
            1,
            2,
            3,
            4,
            5,
            6,
            7,
            8,
            9,
            10,
            11,
            12,
            13,
            14,
            15,
            16,
            17,
            18,
            19,
            20,
            21,
            22,
            23,
            24,
            25,
            26,
            27,
            28,
            29,
            30,
            31,
            32,
            33,
            34,
            35,
            36,
            37,
            38,
            39,
            40,
            41,
            42,
            43,
            44,
            45,
            46,
            47,
            48,
            49,
            50,
            51,
            52,
            53,
            54,
            55,
            56,
            57,
            58,
            59,
            60,
            61,
            62,
            63,
            64,
            65
           ],
           "y": [
            5.5,
            5.1429895000000005,
            4.8091529085655,
            4.496985984117605,
            4.205082126902548,
            3.932126040963176,
            3.6768878075182143,
            3.4382173430444,
            3.2150392170900446,
            3.006347806469513,
            2.8112027640037702,
            2.6287247813895216,
            2.458091627104747,
            2.2985344414977504,
            2.14933427236569,
            2.0098188354121604,
            1.8793594849867215,
            1.757368381456749,
            1.6432958424480095,
            1.5366278660188666,
            1.436883814607716,
            1.343614249317715,
            1.2563989047802526,
            1.174844795472062,
            1.0985844449531748,
            1.0272742300468192,
            0.9605928325002498,
            0.8982397911498262,
            0.8399341480664999,
            0.7854131825813555,
            0.734431227486817,
            0.6867585620794203,
            0.6421803770562831,
            0.6004958066011827,
            0.5615170232988935,
            0.5250683917995389,
            0.4909856774194389,
            0.45911530611246576,
            0.4293136724773993,
            0.40144649268321897,
            0.37538819939665846,
            0.351021375985622,
            0.32823622744901937,
            0.3069300856890762,
            0.2870069468969126,
            0.26837703896688697,
            0.2509564169905074,
            0.23466658500723653,
            0.2194341423078317,
            0.20519045269648797,
            0.19187133522150623,
            0.17941677498094305,
            0.16777065270015507,
            0.15688049186273526,
            0.14669722225543322,
            0.13717495886161082,
            0.12827079510694472,
            0.11994460952575792,
            0.11215888497683146,
            0.10487853959410046,
            0.09807076871050775,
            0.0917048970427399,
            0.08575224047079862,
            0.08018597678959864,
            0.07498102485020898,
            0.07011393154615704
           ]
          }
         ]
        },
        {
         "data": [
          {
           "line": {
            "color": "red",
            "width": 2
           },
           "mode": "lines",
           "type": "scatter",
           "x": [
            0,
            1,
            2,
            3,
            4,
            5,
            6,
            7,
            8,
            9,
            10,
            11,
            12,
            13,
            14,
            15,
            16,
            17,
            18,
            19,
            20,
            21,
            22,
            23,
            24,
            25,
            26,
            27,
            28,
            29,
            30,
            31,
            32,
            33,
            34,
            35,
            36,
            37,
            38,
            39,
            40,
            41,
            42,
            43,
            44,
            45,
            46,
            47,
            48,
            49,
            50,
            51,
            52,
            53,
            54,
            55,
            56,
            57,
            58,
            59,
            60,
            61,
            62,
            63,
            64,
            65,
            66
           ],
           "y": [
            5.5,
            5.1429895000000005,
            4.8091529085655,
            4.496985984117605,
            4.205082126902548,
            3.932126040963176,
            3.6768878075182143,
            3.4382173430444,
            3.2150392170900446,
            3.006347806469513,
            2.8112027640037702,
            2.6287247813895216,
            2.458091627104747,
            2.2985344414977504,
            2.14933427236569,
            2.0098188354121604,
            1.8793594849867215,
            1.757368381456749,
            1.6432958424480095,
            1.5366278660188666,
            1.436883814607716,
            1.343614249317715,
            1.2563989047802526,
            1.174844795472062,
            1.0985844449531748,
            1.0272742300468192,
            0.9605928325002498,
            0.8982397911498262,
            0.8399341480664999,
            0.7854131825813555,
            0.734431227486817,
            0.6867585620794203,
            0.6421803770562831,
            0.6004958066011827,
            0.5615170232988935,
            0.5250683917995389,
            0.4909856774194389,
            0.45911530611246576,
            0.4293136724773993,
            0.40144649268321897,
            0.37538819939665846,
            0.351021375985622,
            0.32823622744901937,
            0.3069300856890762,
            0.2870069468969126,
            0.26837703896688697,
            0.2509564169905074,
            0.23466658500723653,
            0.2194341423078317,
            0.20519045269648797,
            0.19187133522150623,
            0.17941677498094305,
            0.16777065270015507,
            0.15688049186273526,
            0.14669722225543322,
            0.13717495886161082,
            0.12827079510694472,
            0.11994460952575792,
            0.11215888497683146,
            0.10487853959410046,
            0.09807076871050775,
            0.0917048970427399,
            0.08575224047079862,
            0.08018597678959864,
            0.07498102485020898,
            0.07011393154615704,
            0.06556276613556444
           ]
          }
         ]
        },
        {
         "data": [
          {
           "line": {
            "color": "red",
            "width": 2
           },
           "mode": "lines",
           "type": "scatter",
           "x": [
            0,
            1,
            2,
            3,
            4,
            5,
            6,
            7,
            8,
            9,
            10,
            11,
            12,
            13,
            14,
            15,
            16,
            17,
            18,
            19,
            20,
            21,
            22,
            23,
            24,
            25,
            26,
            27,
            28,
            29,
            30,
            31,
            32,
            33,
            34,
            35,
            36,
            37,
            38,
            39,
            40,
            41,
            42,
            43,
            44,
            45,
            46,
            47,
            48,
            49,
            50,
            51,
            52,
            53,
            54,
            55,
            56,
            57,
            58,
            59,
            60,
            61,
            62,
            63,
            64,
            65,
            66,
            67
           ],
           "y": [
            5.5,
            5.1429895000000005,
            4.8091529085655,
            4.496985984117605,
            4.205082126902548,
            3.932126040963176,
            3.6768878075182143,
            3.4382173430444,
            3.2150392170900446,
            3.006347806469513,
            2.8112027640037702,
            2.6287247813895216,
            2.458091627104747,
            2.2985344414977504,
            2.14933427236569,
            2.0098188354121604,
            1.8793594849867215,
            1.757368381456749,
            1.6432958424480095,
            1.5366278660188666,
            1.436883814607716,
            1.343614249317715,
            1.2563989047802526,
            1.174844795472062,
            1.0985844449531748,
            1.0272742300468192,
            0.9605928325002498,
            0.8982397911498262,
            0.8399341480664999,
            0.7854131825813555,
            0.734431227486817,
            0.6867585620794203,
            0.6421803770562831,
            0.6004958066011827,
            0.5615170232988935,
            0.5250683917995389,
            0.4909856774194389,
            0.45911530611246576,
            0.4293136724773993,
            0.40144649268321897,
            0.37538819939665846,
            0.351021375985622,
            0.32823622744901937,
            0.3069300856890762,
            0.2870069468969126,
            0.26837703896688697,
            0.2509564169905074,
            0.23466658500723653,
            0.2194341423078317,
            0.20519045269648797,
            0.19187133522150623,
            0.17941677498094305,
            0.16777065270015507,
            0.15688049186273526,
            0.14669722225543322,
            0.13717495886161082,
            0.12827079510694472,
            0.11994460952575792,
            0.11215888497683146,
            0.10487853959410046,
            0.09807076871050775,
            0.0917048970427399,
            0.08575224047079862,
            0.08018597678959864,
            0.07498102485020898,
            0.07011393154615704,
            0.06556276613556444,
            0.06130702142293876
           ]
          }
         ]
        },
        {
         "data": [
          {
           "line": {
            "color": "red",
            "width": 2
           },
           "mode": "lines",
           "type": "scatter",
           "x": [
            0,
            1,
            2,
            3,
            4,
            5,
            6,
            7,
            8,
            9,
            10,
            11,
            12,
            13,
            14,
            15,
            16,
            17,
            18,
            19,
            20,
            21,
            22,
            23,
            24,
            25,
            26,
            27,
            28,
            29,
            30,
            31,
            32,
            33,
            34,
            35,
            36,
            37,
            38,
            39,
            40,
            41,
            42,
            43,
            44,
            45,
            46,
            47,
            48,
            49,
            50,
            51,
            52,
            53,
            54,
            55,
            56,
            57,
            58,
            59,
            60,
            61,
            62,
            63,
            64,
            65,
            66,
            67,
            68
           ],
           "y": [
            5.5,
            5.1429895000000005,
            4.8091529085655,
            4.496985984117605,
            4.205082126902548,
            3.932126040963176,
            3.6768878075182143,
            3.4382173430444,
            3.2150392170900446,
            3.006347806469513,
            2.8112027640037702,
            2.6287247813895216,
            2.458091627104747,
            2.2985344414977504,
            2.14933427236569,
            2.0098188354121604,
            1.8793594849867215,
            1.757368381456749,
            1.6432958424480095,
            1.5366278660188666,
            1.436883814607716,
            1.343614249317715,
            1.2563989047802526,
            1.174844795472062,
            1.0985844449531748,
            1.0272742300468192,
            0.9605928325002498,
            0.8982397911498262,
            0.8399341480664999,
            0.7854131825813555,
            0.734431227486817,
            0.6867585620794203,
            0.6421803770562831,
            0.6004958066011827,
            0.5615170232988935,
            0.5250683917995389,
            0.4909856774194389,
            0.45911530611246576,
            0.4293136724773993,
            0.40144649268321897,
            0.37538819939665846,
            0.351021375985622,
            0.32823622744901937,
            0.3069300856890762,
            0.2870069468969126,
            0.26837703896688697,
            0.2509564169905074,
            0.23466658500723653,
            0.2194341423078317,
            0.20519045269648797,
            0.19187133522150623,
            0.17941677498094305,
            0.16777065270015507,
            0.15688049186273526,
            0.14669722225543322,
            0.13717495886161082,
            0.12827079510694472,
            0.11994460952575792,
            0.11215888497683146,
            0.10487853959410046,
            0.09807076871050775,
            0.0917048970427399,
            0.08575224047079862,
            0.08018597678959864,
            0.07498102485020898,
            0.07011393154615704,
            0.06556276613556444,
            0.06130702142293876,
            0.05732752135535442
           ]
          }
         ]
        },
        {
         "data": [
          {
           "line": {
            "color": "red",
            "width": 2
           },
           "mode": "lines",
           "type": "scatter",
           "x": [
            0,
            1,
            2,
            3,
            4,
            5,
            6,
            7,
            8,
            9,
            10,
            11,
            12,
            13,
            14,
            15,
            16,
            17,
            18,
            19,
            20,
            21,
            22,
            23,
            24,
            25,
            26,
            27,
            28,
            29,
            30,
            31,
            32,
            33,
            34,
            35,
            36,
            37,
            38,
            39,
            40,
            41,
            42,
            43,
            44,
            45,
            46,
            47,
            48,
            49,
            50,
            51,
            52,
            53,
            54,
            55,
            56,
            57,
            58,
            59,
            60,
            61,
            62,
            63,
            64,
            65,
            66,
            67,
            68,
            69
           ],
           "y": [
            5.5,
            5.1429895000000005,
            4.8091529085655,
            4.496985984117605,
            4.205082126902548,
            3.932126040963176,
            3.6768878075182143,
            3.4382173430444,
            3.2150392170900446,
            3.006347806469513,
            2.8112027640037702,
            2.6287247813895216,
            2.458091627104747,
            2.2985344414977504,
            2.14933427236569,
            2.0098188354121604,
            1.8793594849867215,
            1.757368381456749,
            1.6432958424480095,
            1.5366278660188666,
            1.436883814607716,
            1.343614249317715,
            1.2563989047802526,
            1.174844795472062,
            1.0985844449531748,
            1.0272742300468192,
            0.9605928325002498,
            0.8982397911498262,
            0.8399341480664999,
            0.7854131825813555,
            0.734431227486817,
            0.6867585620794203,
            0.6421803770562831,
            0.6004958066011827,
            0.5615170232988935,
            0.5250683917995389,
            0.4909856774194389,
            0.45911530611246576,
            0.4293136724773993,
            0.40144649268321897,
            0.37538819939665846,
            0.351021375985622,
            0.32823622744901937,
            0.3069300856890762,
            0.2870069468969126,
            0.26837703896688697,
            0.2509564169905074,
            0.23466658500723653,
            0.2194341423078317,
            0.20519045269648797,
            0.19187133522150623,
            0.17941677498094305,
            0.16777065270015507,
            0.15688049186273526,
            0.14669722225543322,
            0.13717495886161082,
            0.12827079510694472,
            0.11994460952575792,
            0.11215888497683146,
            0.10487853959410046,
            0.09807076871050775,
            0.0917048970427399,
            0.08575224047079862,
            0.08018597678959864,
            0.07498102485020898,
            0.07011393154615704,
            0.06556276613556444,
            0.06130702142293876,
            0.05732752135535442,
            0.053606334616657016
           ]
          }
         ]
        },
        {
         "data": [
          {
           "line": {
            "color": "red",
            "width": 2
           },
           "mode": "lines",
           "type": "scatter",
           "x": [
            0,
            1,
            2,
            3,
            4,
            5,
            6,
            7,
            8,
            9,
            10,
            11,
            12,
            13,
            14,
            15,
            16,
            17,
            18,
            19,
            20,
            21,
            22,
            23,
            24,
            25,
            26,
            27,
            28,
            29,
            30,
            31,
            32,
            33,
            34,
            35,
            36,
            37,
            38,
            39,
            40,
            41,
            42,
            43,
            44,
            45,
            46,
            47,
            48,
            49,
            50,
            51,
            52,
            53,
            54,
            55,
            56,
            57,
            58,
            59,
            60,
            61,
            62,
            63,
            64,
            65,
            66,
            67,
            68,
            69,
            70
           ],
           "y": [
            5.5,
            5.1429895000000005,
            4.8091529085655,
            4.496985984117605,
            4.205082126902548,
            3.932126040963176,
            3.6768878075182143,
            3.4382173430444,
            3.2150392170900446,
            3.006347806469513,
            2.8112027640037702,
            2.6287247813895216,
            2.458091627104747,
            2.2985344414977504,
            2.14933427236569,
            2.0098188354121604,
            1.8793594849867215,
            1.757368381456749,
            1.6432958424480095,
            1.5366278660188666,
            1.436883814607716,
            1.343614249317715,
            1.2563989047802526,
            1.174844795472062,
            1.0985844449531748,
            1.0272742300468192,
            0.9605928325002498,
            0.8982397911498262,
            0.8399341480664999,
            0.7854131825813555,
            0.734431227486817,
            0.6867585620794203,
            0.6421803770562831,
            0.6004958066011827,
            0.5615170232988935,
            0.5250683917995389,
            0.4909856774194389,
            0.45911530611246576,
            0.4293136724773993,
            0.40144649268321897,
            0.37538819939665846,
            0.351021375985622,
            0.32823622744901937,
            0.3069300856890762,
            0.2870069468969126,
            0.26837703896688697,
            0.2509564169905074,
            0.23466658500723653,
            0.2194341423078317,
            0.20519045269648797,
            0.19187133522150623,
            0.17941677498094305,
            0.16777065270015507,
            0.15688049186273526,
            0.14669722225543322,
            0.13717495886161082,
            0.12827079510694472,
            0.11994460952575792,
            0.11215888497683146,
            0.10487853959410046,
            0.09807076871050775,
            0.0917048970427399,
            0.08575224047079862,
            0.08018597678959864,
            0.07498102485020898,
            0.07011393154615704,
            0.06556276613556444,
            0.06130702142293876,
            0.05732752135535442,
            0.053606334616657016,
            0.05012669383035516
           ]
          }
         ]
        },
        {
         "data": [
          {
           "line": {
            "color": "red",
            "width": 2
           },
           "mode": "lines",
           "type": "scatter",
           "x": [
            0,
            1,
            2,
            3,
            4,
            5,
            6,
            7,
            8,
            9,
            10,
            11,
            12,
            13,
            14,
            15,
            16,
            17,
            18,
            19,
            20,
            21,
            22,
            23,
            24,
            25,
            26,
            27,
            28,
            29,
            30,
            31,
            32,
            33,
            34,
            35,
            36,
            37,
            38,
            39,
            40,
            41,
            42,
            43,
            44,
            45,
            46,
            47,
            48,
            49,
            50,
            51,
            52,
            53,
            54,
            55,
            56,
            57,
            58,
            59,
            60,
            61,
            62,
            63,
            64,
            65,
            66,
            67,
            68,
            69,
            70,
            71
           ],
           "y": [
            5.5,
            5.1429895000000005,
            4.8091529085655,
            4.496985984117605,
            4.205082126902548,
            3.932126040963176,
            3.6768878075182143,
            3.4382173430444,
            3.2150392170900446,
            3.006347806469513,
            2.8112027640037702,
            2.6287247813895216,
            2.458091627104747,
            2.2985344414977504,
            2.14933427236569,
            2.0098188354121604,
            1.8793594849867215,
            1.757368381456749,
            1.6432958424480095,
            1.5366278660188666,
            1.436883814607716,
            1.343614249317715,
            1.2563989047802526,
            1.174844795472062,
            1.0985844449531748,
            1.0272742300468192,
            0.9605928325002498,
            0.8982397911498262,
            0.8399341480664999,
            0.7854131825813555,
            0.734431227486817,
            0.6867585620794203,
            0.6421803770562831,
            0.6004958066011827,
            0.5615170232988935,
            0.5250683917995389,
            0.4909856774194389,
            0.45911530611246576,
            0.4293136724773993,
            0.40144649268321897,
            0.37538819939665846,
            0.351021375985622,
            0.32823622744901937,
            0.3069300856890762,
            0.2870069468969126,
            0.26837703896688697,
            0.2509564169905074,
            0.23466658500723653,
            0.2194341423078317,
            0.20519045269648797,
            0.19187133522150623,
            0.17941677498094305,
            0.16777065270015507,
            0.15688049186273526,
            0.14669722225543322,
            0.13717495886161082,
            0.12827079510694472,
            0.11994460952575792,
            0.11215888497683146,
            0.10487853959410046,
            0.09807076871050775,
            0.0917048970427399,
            0.08575224047079862,
            0.08018597678959864,
            0.07498102485020898,
            0.07011393154615704,
            0.06556276613556444,
            0.06130702142293876,
            0.05732752135535442,
            0.053606334616657016,
            0.05012669383035516,
            0.04687292000713299
           ]
          }
         ]
        },
        {
         "data": [
          {
           "line": {
            "color": "red",
            "width": 2
           },
           "mode": "lines",
           "type": "scatter",
           "x": [
            0,
            1,
            2,
            3,
            4,
            5,
            6,
            7,
            8,
            9,
            10,
            11,
            12,
            13,
            14,
            15,
            16,
            17,
            18,
            19,
            20,
            21,
            22,
            23,
            24,
            25,
            26,
            27,
            28,
            29,
            30,
            31,
            32,
            33,
            34,
            35,
            36,
            37,
            38,
            39,
            40,
            41,
            42,
            43,
            44,
            45,
            46,
            47,
            48,
            49,
            50,
            51,
            52,
            53,
            54,
            55,
            56,
            57,
            58,
            59,
            60,
            61,
            62,
            63,
            64,
            65,
            66,
            67,
            68,
            69,
            70,
            71,
            72
           ],
           "y": [
            5.5,
            5.1429895000000005,
            4.8091529085655,
            4.496985984117605,
            4.205082126902548,
            3.932126040963176,
            3.6768878075182143,
            3.4382173430444,
            3.2150392170900446,
            3.006347806469513,
            2.8112027640037702,
            2.6287247813895216,
            2.458091627104747,
            2.2985344414977504,
            2.14933427236569,
            2.0098188354121604,
            1.8793594849867215,
            1.757368381456749,
            1.6432958424480095,
            1.5366278660188666,
            1.436883814607716,
            1.343614249317715,
            1.2563989047802526,
            1.174844795472062,
            1.0985844449531748,
            1.0272742300468192,
            0.9605928325002498,
            0.8982397911498262,
            0.8399341480664999,
            0.7854131825813555,
            0.734431227486817,
            0.6867585620794203,
            0.6421803770562831,
            0.6004958066011827,
            0.5615170232988935,
            0.5250683917995389,
            0.4909856774194389,
            0.45911530611246576,
            0.4293136724773993,
            0.40144649268321897,
            0.37538819939665846,
            0.351021375985622,
            0.32823622744901937,
            0.3069300856890762,
            0.2870069468969126,
            0.26837703896688697,
            0.2509564169905074,
            0.23466658500723653,
            0.2194341423078317,
            0.20519045269648797,
            0.19187133522150623,
            0.17941677498094305,
            0.16777065270015507,
            0.15688049186273526,
            0.14669722225543322,
            0.13717495886161082,
            0.12827079510694472,
            0.11994460952575792,
            0.11215888497683146,
            0.10487853959410046,
            0.09807076871050775,
            0.0917048970427399,
            0.08575224047079862,
            0.08018597678959864,
            0.07498102485020898,
            0.07011393154615704,
            0.06556276613556444,
            0.06130702142293876,
            0.05732752135535442,
            0.053606334616657016,
            0.05012669383035516,
            0.04687292000713299,
            0.04383035189655
           ]
          }
         ]
        },
        {
         "data": [
          {
           "line": {
            "color": "red",
            "width": 2
           },
           "mode": "lines",
           "type": "scatter",
           "x": [
            0,
            1,
            2,
            3,
            4,
            5,
            6,
            7,
            8,
            9,
            10,
            11,
            12,
            13,
            14,
            15,
            16,
            17,
            18,
            19,
            20,
            21,
            22,
            23,
            24,
            25,
            26,
            27,
            28,
            29,
            30,
            31,
            32,
            33,
            34,
            35,
            36,
            37,
            38,
            39,
            40,
            41,
            42,
            43,
            44,
            45,
            46,
            47,
            48,
            49,
            50,
            51,
            52,
            53,
            54,
            55,
            56,
            57,
            58,
            59,
            60,
            61,
            62,
            63,
            64,
            65,
            66,
            67,
            68,
            69,
            70,
            71,
            72,
            73
           ],
           "y": [
            5.5,
            5.1429895000000005,
            4.8091529085655,
            4.496985984117605,
            4.205082126902548,
            3.932126040963176,
            3.6768878075182143,
            3.4382173430444,
            3.2150392170900446,
            3.006347806469513,
            2.8112027640037702,
            2.6287247813895216,
            2.458091627104747,
            2.2985344414977504,
            2.14933427236569,
            2.0098188354121604,
            1.8793594849867215,
            1.757368381456749,
            1.6432958424480095,
            1.5366278660188666,
            1.436883814607716,
            1.343614249317715,
            1.2563989047802526,
            1.174844795472062,
            1.0985844449531748,
            1.0272742300468192,
            0.9605928325002498,
            0.8982397911498262,
            0.8399341480664999,
            0.7854131825813555,
            0.734431227486817,
            0.6867585620794203,
            0.6421803770562831,
            0.6004958066011827,
            0.5615170232988935,
            0.5250683917995389,
            0.4909856774194389,
            0.45911530611246576,
            0.4293136724773993,
            0.40144649268321897,
            0.37538819939665846,
            0.351021375985622,
            0.32823622744901937,
            0.3069300856890762,
            0.2870069468969126,
            0.26837703896688697,
            0.2509564169905074,
            0.23466658500723653,
            0.2194341423078317,
            0.20519045269648797,
            0.19187133522150623,
            0.17941677498094305,
            0.16777065270015507,
            0.15688049186273526,
            0.14669722225543322,
            0.13717495886161082,
            0.12827079510694472,
            0.11994460952575792,
            0.11215888497683146,
            0.10487853959410046,
            0.09807076871050775,
            0.0917048970427399,
            0.08575224047079862,
            0.08018597678959864,
            0.07498102485020898,
            0.07011393154615704,
            0.06556276613556444,
            0.06130702142293876,
            0.05732752135535442,
            0.053606334616657016,
            0.05012669383035516,
            0.04687292000713299,
            0.04383035189655,
            0.04098527992459307
           ]
          }
         ]
        },
        {
         "data": [
          {
           "line": {
            "color": "red",
            "width": 2
           },
           "mode": "lines",
           "type": "scatter",
           "x": [
            0,
            1,
            2,
            3,
            4,
            5,
            6,
            7,
            8,
            9,
            10,
            11,
            12,
            13,
            14,
            15,
            16,
            17,
            18,
            19,
            20,
            21,
            22,
            23,
            24,
            25,
            26,
            27,
            28,
            29,
            30,
            31,
            32,
            33,
            34,
            35,
            36,
            37,
            38,
            39,
            40,
            41,
            42,
            43,
            44,
            45,
            46,
            47,
            48,
            49,
            50,
            51,
            52,
            53,
            54,
            55,
            56,
            57,
            58,
            59,
            60,
            61,
            62,
            63,
            64,
            65,
            66,
            67,
            68,
            69,
            70,
            71,
            72,
            73,
            74
           ],
           "y": [
            5.5,
            5.1429895000000005,
            4.8091529085655,
            4.496985984117605,
            4.205082126902548,
            3.932126040963176,
            3.6768878075182143,
            3.4382173430444,
            3.2150392170900446,
            3.006347806469513,
            2.8112027640037702,
            2.6287247813895216,
            2.458091627104747,
            2.2985344414977504,
            2.14933427236569,
            2.0098188354121604,
            1.8793594849867215,
            1.757368381456749,
            1.6432958424480095,
            1.5366278660188666,
            1.436883814607716,
            1.343614249317715,
            1.2563989047802526,
            1.174844795472062,
            1.0985844449531748,
            1.0272742300468192,
            0.9605928325002498,
            0.8982397911498262,
            0.8399341480664999,
            0.7854131825813555,
            0.734431227486817,
            0.6867585620794203,
            0.6421803770562831,
            0.6004958066011827,
            0.5615170232988935,
            0.5250683917995389,
            0.4909856774194389,
            0.45911530611246576,
            0.4293136724773993,
            0.40144649268321897,
            0.37538819939665846,
            0.351021375985622,
            0.32823622744901937,
            0.3069300856890762,
            0.2870069468969126,
            0.26837703896688697,
            0.2509564169905074,
            0.23466658500723653,
            0.2194341423078317,
            0.20519045269648797,
            0.19187133522150623,
            0.17941677498094305,
            0.16777065270015507,
            0.15688049186273526,
            0.14669722225543322,
            0.13717495886161082,
            0.12827079510694472,
            0.11994460952575792,
            0.11215888497683146,
            0.10487853959410046,
            0.09807076871050775,
            0.0917048970427399,
            0.08575224047079862,
            0.08018597678959864,
            0.07498102485020898,
            0.07011393154615704,
            0.06556276613556444,
            0.06130702142293876,
            0.05732752135535442,
            0.053606334616657016,
            0.05012669383035516,
            0.04687292000713299,
            0.04383035189655,
            0.04098527992459307,
            0.03832488441940775
           ]
          }
         ]
        },
        {
         "data": [
          {
           "line": {
            "color": "red",
            "width": 2
           },
           "mode": "lines",
           "type": "scatter",
           "x": [
            0,
            1,
            2,
            3,
            4,
            5,
            6,
            7,
            8,
            9,
            10,
            11,
            12,
            13,
            14,
            15,
            16,
            17,
            18,
            19,
            20,
            21,
            22,
            23,
            24,
            25,
            26,
            27,
            28,
            29,
            30,
            31,
            32,
            33,
            34,
            35,
            36,
            37,
            38,
            39,
            40,
            41,
            42,
            43,
            44,
            45,
            46,
            47,
            48,
            49,
            50,
            51,
            52,
            53,
            54,
            55,
            56,
            57,
            58,
            59,
            60,
            61,
            62,
            63,
            64,
            65,
            66,
            67,
            68,
            69,
            70,
            71,
            72,
            73,
            74,
            75
           ],
           "y": [
            5.5,
            5.1429895000000005,
            4.8091529085655,
            4.496985984117605,
            4.205082126902548,
            3.932126040963176,
            3.6768878075182143,
            3.4382173430444,
            3.2150392170900446,
            3.006347806469513,
            2.8112027640037702,
            2.6287247813895216,
            2.458091627104747,
            2.2985344414977504,
            2.14933427236569,
            2.0098188354121604,
            1.8793594849867215,
            1.757368381456749,
            1.6432958424480095,
            1.5366278660188666,
            1.436883814607716,
            1.343614249317715,
            1.2563989047802526,
            1.174844795472062,
            1.0985844449531748,
            1.0272742300468192,
            0.9605928325002498,
            0.8982397911498262,
            0.8399341480664999,
            0.7854131825813555,
            0.734431227486817,
            0.6867585620794203,
            0.6421803770562831,
            0.6004958066011827,
            0.5615170232988935,
            0.5250683917995389,
            0.4909856774194389,
            0.45911530611246576,
            0.4293136724773993,
            0.40144649268321897,
            0.37538819939665846,
            0.351021375985622,
            0.32823622744901937,
            0.3069300856890762,
            0.2870069468969126,
            0.26837703896688697,
            0.2509564169905074,
            0.23466658500723653,
            0.2194341423078317,
            0.20519045269648797,
            0.19187133522150623,
            0.17941677498094305,
            0.16777065270015507,
            0.15688049186273526,
            0.14669722225543322,
            0.13717495886161082,
            0.12827079510694472,
            0.11994460952575792,
            0.11215888497683146,
            0.10487853959410046,
            0.09807076871050775,
            0.0917048970427399,
            0.08575224047079862,
            0.08018597678959864,
            0.07498102485020898,
            0.07011393154615704,
            0.06556276613556444,
            0.06130702142293876,
            0.05732752135535442,
            0.053606334616657016,
            0.05012669383035516,
            0.04687292000713299,
            0.04383035189655,
            0.04098527992459307,
            0.03832488441940775,
            0.0358371778468596
           ]
          }
         ]
        },
        {
         "data": [
          {
           "line": {
            "color": "red",
            "width": 2
           },
           "mode": "lines",
           "type": "scatter",
           "x": [
            0,
            1,
            2,
            3,
            4,
            5,
            6,
            7,
            8,
            9,
            10,
            11,
            12,
            13,
            14,
            15,
            16,
            17,
            18,
            19,
            20,
            21,
            22,
            23,
            24,
            25,
            26,
            27,
            28,
            29,
            30,
            31,
            32,
            33,
            34,
            35,
            36,
            37,
            38,
            39,
            40,
            41,
            42,
            43,
            44,
            45,
            46,
            47,
            48,
            49,
            50,
            51,
            52,
            53,
            54,
            55,
            56,
            57,
            58,
            59,
            60,
            61,
            62,
            63,
            64,
            65,
            66,
            67,
            68,
            69,
            70,
            71,
            72,
            73,
            74,
            75,
            76
           ],
           "y": [
            5.5,
            5.1429895000000005,
            4.8091529085655,
            4.496985984117605,
            4.205082126902548,
            3.932126040963176,
            3.6768878075182143,
            3.4382173430444,
            3.2150392170900446,
            3.006347806469513,
            2.8112027640037702,
            2.6287247813895216,
            2.458091627104747,
            2.2985344414977504,
            2.14933427236569,
            2.0098188354121604,
            1.8793594849867215,
            1.757368381456749,
            1.6432958424480095,
            1.5366278660188666,
            1.436883814607716,
            1.343614249317715,
            1.2563989047802526,
            1.174844795472062,
            1.0985844449531748,
            1.0272742300468192,
            0.9605928325002498,
            0.8982397911498262,
            0.8399341480664999,
            0.7854131825813555,
            0.734431227486817,
            0.6867585620794203,
            0.6421803770562831,
            0.6004958066011827,
            0.5615170232988935,
            0.5250683917995389,
            0.4909856774194389,
            0.45911530611246576,
            0.4293136724773993,
            0.40144649268321897,
            0.37538819939665846,
            0.351021375985622,
            0.32823622744901937,
            0.3069300856890762,
            0.2870069468969126,
            0.26837703896688697,
            0.2509564169905074,
            0.23466658500723653,
            0.2194341423078317,
            0.20519045269648797,
            0.19187133522150623,
            0.17941677498094305,
            0.16777065270015507,
            0.15688049186273526,
            0.14669722225543322,
            0.13717495886161082,
            0.12827079510694472,
            0.11994460952575792,
            0.11215888497683146,
            0.10487853959410046,
            0.09807076871050775,
            0.0917048970427399,
            0.08575224047079862,
            0.08018597678959864,
            0.07498102485020898,
            0.07011393154615704,
            0.06556276613556444,
            0.06130702142293876,
            0.05732752135535442,
            0.053606334616657016,
            0.05012669383035516,
            0.04687292000713299,
            0.04383035189655,
            0.04098527992459307,
            0.03832488441940775,
            0.0358371778468596,
            0.03351095079564211
           ]
          }
         ]
        },
        {
         "data": [
          {
           "line": {
            "color": "red",
            "width": 2
           },
           "mode": "lines",
           "type": "scatter",
           "x": [
            0,
            1,
            2,
            3,
            4,
            5,
            6,
            7,
            8,
            9,
            10,
            11,
            12,
            13,
            14,
            15,
            16,
            17,
            18,
            19,
            20,
            21,
            22,
            23,
            24,
            25,
            26,
            27,
            28,
            29,
            30,
            31,
            32,
            33,
            34,
            35,
            36,
            37,
            38,
            39,
            40,
            41,
            42,
            43,
            44,
            45,
            46,
            47,
            48,
            49,
            50,
            51,
            52,
            53,
            54,
            55,
            56,
            57,
            58,
            59,
            60,
            61,
            62,
            63,
            64,
            65,
            66,
            67,
            68,
            69,
            70,
            71,
            72,
            73,
            74,
            75,
            76,
            77
           ],
           "y": [
            5.5,
            5.1429895000000005,
            4.8091529085655,
            4.496985984117605,
            4.205082126902548,
            3.932126040963176,
            3.6768878075182143,
            3.4382173430444,
            3.2150392170900446,
            3.006347806469513,
            2.8112027640037702,
            2.6287247813895216,
            2.458091627104747,
            2.2985344414977504,
            2.14933427236569,
            2.0098188354121604,
            1.8793594849867215,
            1.757368381456749,
            1.6432958424480095,
            1.5366278660188666,
            1.436883814607716,
            1.343614249317715,
            1.2563989047802526,
            1.174844795472062,
            1.0985844449531748,
            1.0272742300468192,
            0.9605928325002498,
            0.8982397911498262,
            0.8399341480664999,
            0.7854131825813555,
            0.734431227486817,
            0.6867585620794203,
            0.6421803770562831,
            0.6004958066011827,
            0.5615170232988935,
            0.5250683917995389,
            0.4909856774194389,
            0.45911530611246576,
            0.4293136724773993,
            0.40144649268321897,
            0.37538819939665846,
            0.351021375985622,
            0.32823622744901937,
            0.3069300856890762,
            0.2870069468969126,
            0.26837703896688697,
            0.2509564169905074,
            0.23466658500723653,
            0.2194341423078317,
            0.20519045269648797,
            0.19187133522150623,
            0.17941677498094305,
            0.16777065270015507,
            0.15688049186273526,
            0.14669722225543322,
            0.13717495886161082,
            0.12827079510694472,
            0.11994460952575792,
            0.11215888497683146,
            0.10487853959410046,
            0.09807076871050775,
            0.0917048970427399,
            0.08575224047079862,
            0.08018597678959864,
            0.07498102485020898,
            0.07011393154615704,
            0.06556276613556444,
            0.06130702142293876,
            0.05732752135535442,
            0.053606334616657016,
            0.05012669383035516,
            0.04687292000713299,
            0.04383035189655,
            0.04098527992459307,
            0.03832488441940775,
            0.0358371778468596,
            0.03351095079564211,
            0.031335721468546206
           ]
          }
         ]
        },
        {
         "data": [
          {
           "line": {
            "color": "red",
            "width": 2
           },
           "mode": "lines",
           "type": "scatter",
           "x": [
            0,
            1,
            2,
            3,
            4,
            5,
            6,
            7,
            8,
            9,
            10,
            11,
            12,
            13,
            14,
            15,
            16,
            17,
            18,
            19,
            20,
            21,
            22,
            23,
            24,
            25,
            26,
            27,
            28,
            29,
            30,
            31,
            32,
            33,
            34,
            35,
            36,
            37,
            38,
            39,
            40,
            41,
            42,
            43,
            44,
            45,
            46,
            47,
            48,
            49,
            50,
            51,
            52,
            53,
            54,
            55,
            56,
            57,
            58,
            59,
            60,
            61,
            62,
            63,
            64,
            65,
            66,
            67,
            68,
            69,
            70,
            71,
            72,
            73,
            74,
            75,
            76,
            77,
            78
           ],
           "y": [
            5.5,
            5.1429895000000005,
            4.8091529085655,
            4.496985984117605,
            4.205082126902548,
            3.932126040963176,
            3.6768878075182143,
            3.4382173430444,
            3.2150392170900446,
            3.006347806469513,
            2.8112027640037702,
            2.6287247813895216,
            2.458091627104747,
            2.2985344414977504,
            2.14933427236569,
            2.0098188354121604,
            1.8793594849867215,
            1.757368381456749,
            1.6432958424480095,
            1.5366278660188666,
            1.436883814607716,
            1.343614249317715,
            1.2563989047802526,
            1.174844795472062,
            1.0985844449531748,
            1.0272742300468192,
            0.9605928325002498,
            0.8982397911498262,
            0.8399341480664999,
            0.7854131825813555,
            0.734431227486817,
            0.6867585620794203,
            0.6421803770562831,
            0.6004958066011827,
            0.5615170232988935,
            0.5250683917995389,
            0.4909856774194389,
            0.45911530611246576,
            0.4293136724773993,
            0.40144649268321897,
            0.37538819939665846,
            0.351021375985622,
            0.32823622744901937,
            0.3069300856890762,
            0.2870069468969126,
            0.26837703896688697,
            0.2509564169905074,
            0.23466658500723653,
            0.2194341423078317,
            0.20519045269648797,
            0.19187133522150623,
            0.17941677498094305,
            0.16777065270015507,
            0.15688049186273526,
            0.14669722225543322,
            0.13717495886161082,
            0.12827079510694472,
            0.11994460952575792,
            0.11215888497683146,
            0.10487853959410046,
            0.09807076871050775,
            0.0917048970427399,
            0.08575224047079862,
            0.08018597678959864,
            0.07498102485020898,
            0.07011393154615704,
            0.06556276613556444,
            0.06130702142293876,
            0.05732752135535442,
            0.053606334616657016,
            0.05012669383035516,
            0.04687292000713299,
            0.04383035189655,
            0.04098527992459307,
            0.03832488441940775,
            0.0358371778468596,
            0.03351095079564211,
            0.031335721468546206,
            0.029301688452301418
           ]
          }
         ]
        },
        {
         "data": [
          {
           "line": {
            "color": "red",
            "width": 2
           },
           "mode": "lines",
           "type": "scatter",
           "x": [
            0,
            1,
            2,
            3,
            4,
            5,
            6,
            7,
            8,
            9,
            10,
            11,
            12,
            13,
            14,
            15,
            16,
            17,
            18,
            19,
            20,
            21,
            22,
            23,
            24,
            25,
            26,
            27,
            28,
            29,
            30,
            31,
            32,
            33,
            34,
            35,
            36,
            37,
            38,
            39,
            40,
            41,
            42,
            43,
            44,
            45,
            46,
            47,
            48,
            49,
            50,
            51,
            52,
            53,
            54,
            55,
            56,
            57,
            58,
            59,
            60,
            61,
            62,
            63,
            64,
            65,
            66,
            67,
            68,
            69,
            70,
            71,
            72,
            73,
            74,
            75,
            76,
            77,
            78,
            79
           ],
           "y": [
            5.5,
            5.1429895000000005,
            4.8091529085655,
            4.496985984117605,
            4.205082126902548,
            3.932126040963176,
            3.6768878075182143,
            3.4382173430444,
            3.2150392170900446,
            3.006347806469513,
            2.8112027640037702,
            2.6287247813895216,
            2.458091627104747,
            2.2985344414977504,
            2.14933427236569,
            2.0098188354121604,
            1.8793594849867215,
            1.757368381456749,
            1.6432958424480095,
            1.5366278660188666,
            1.436883814607716,
            1.343614249317715,
            1.2563989047802526,
            1.174844795472062,
            1.0985844449531748,
            1.0272742300468192,
            0.9605928325002498,
            0.8982397911498262,
            0.8399341480664999,
            0.7854131825813555,
            0.734431227486817,
            0.6867585620794203,
            0.6421803770562831,
            0.6004958066011827,
            0.5615170232988935,
            0.5250683917995389,
            0.4909856774194389,
            0.45911530611246576,
            0.4293136724773993,
            0.40144649268321897,
            0.37538819939665846,
            0.351021375985622,
            0.32823622744901937,
            0.3069300856890762,
            0.2870069468969126,
            0.26837703896688697,
            0.2509564169905074,
            0.23466658500723653,
            0.2194341423078317,
            0.20519045269648797,
            0.19187133522150623,
            0.17941677498094305,
            0.16777065270015507,
            0.15688049186273526,
            0.14669722225543322,
            0.13717495886161082,
            0.12827079510694472,
            0.11994460952575792,
            0.11215888497683146,
            0.10487853959410046,
            0.09807076871050775,
            0.0917048970427399,
            0.08575224047079862,
            0.08018597678959864,
            0.07498102485020898,
            0.07011393154615704,
            0.06556276613556444,
            0.06130702142293876,
            0.05732752135535442,
            0.053606334616657016,
            0.05012669383035516,
            0.04687292000713299,
            0.04383035189655,
            0.04098527992459307,
            0.03832488441940775,
            0.0358371778468596,
            0.03351095079564211,
            0.031335721468546206,
            0.029301688452301418,
            0.027399686553174086
           ]
          }
         ]
        },
        {
         "data": [
          {
           "line": {
            "color": "red",
            "width": 2
           },
           "mode": "lines",
           "type": "scatter",
           "x": [
            0,
            1,
            2,
            3,
            4,
            5,
            6,
            7,
            8,
            9,
            10,
            11,
            12,
            13,
            14,
            15,
            16,
            17,
            18,
            19,
            20,
            21,
            22,
            23,
            24,
            25,
            26,
            27,
            28,
            29,
            30,
            31,
            32,
            33,
            34,
            35,
            36,
            37,
            38,
            39,
            40,
            41,
            42,
            43,
            44,
            45,
            46,
            47,
            48,
            49,
            50,
            51,
            52,
            53,
            54,
            55,
            56,
            57,
            58,
            59,
            60,
            61,
            62,
            63,
            64,
            65,
            66,
            67,
            68,
            69,
            70,
            71,
            72,
            73,
            74,
            75,
            76,
            77,
            78,
            79,
            80
           ],
           "y": [
            5.5,
            5.1429895000000005,
            4.8091529085655,
            4.496985984117605,
            4.205082126902548,
            3.932126040963176,
            3.6768878075182143,
            3.4382173430444,
            3.2150392170900446,
            3.006347806469513,
            2.8112027640037702,
            2.6287247813895216,
            2.458091627104747,
            2.2985344414977504,
            2.14933427236569,
            2.0098188354121604,
            1.8793594849867215,
            1.757368381456749,
            1.6432958424480095,
            1.5366278660188666,
            1.436883814607716,
            1.343614249317715,
            1.2563989047802526,
            1.174844795472062,
            1.0985844449531748,
            1.0272742300468192,
            0.9605928325002498,
            0.8982397911498262,
            0.8399341480664999,
            0.7854131825813555,
            0.734431227486817,
            0.6867585620794203,
            0.6421803770562831,
            0.6004958066011827,
            0.5615170232988935,
            0.5250683917995389,
            0.4909856774194389,
            0.45911530611246576,
            0.4293136724773993,
            0.40144649268321897,
            0.37538819939665846,
            0.351021375985622,
            0.32823622744901937,
            0.3069300856890762,
            0.2870069468969126,
            0.26837703896688697,
            0.2509564169905074,
            0.23466658500723653,
            0.2194341423078317,
            0.20519045269648797,
            0.19187133522150623,
            0.17941677498094305,
            0.16777065270015507,
            0.15688049186273526,
            0.14669722225543322,
            0.13717495886161082,
            0.12827079510694472,
            0.11994460952575792,
            0.11215888497683146,
            0.10487853959410046,
            0.09807076871050775,
            0.0917048970427399,
            0.08575224047079862,
            0.08018597678959864,
            0.07498102485020898,
            0.07011393154615704,
            0.06556276613556444,
            0.06130702142293876,
            0.05732752135535442,
            0.053606334616657016,
            0.05012669383035516,
            0.04687292000713299,
            0.04383035189655,
            0.04098527992459307,
            0.03832488441940775,
            0.0358371778468596,
            0.03351095079564211,
            0.031335721468546206,
            0.029301688452301418,
            0.027399686553174086,
            0.025621145499320968
           ]
          }
         ]
        },
        {
         "data": [
          {
           "line": {
            "color": "red",
            "width": 2
           },
           "mode": "lines",
           "type": "scatter",
           "x": [
            0,
            1,
            2,
            3,
            4,
            5,
            6,
            7,
            8,
            9,
            10,
            11,
            12,
            13,
            14,
            15,
            16,
            17,
            18,
            19,
            20,
            21,
            22,
            23,
            24,
            25,
            26,
            27,
            28,
            29,
            30,
            31,
            32,
            33,
            34,
            35,
            36,
            37,
            38,
            39,
            40,
            41,
            42,
            43,
            44,
            45,
            46,
            47,
            48,
            49,
            50,
            51,
            52,
            53,
            54,
            55,
            56,
            57,
            58,
            59,
            60,
            61,
            62,
            63,
            64,
            65,
            66,
            67,
            68,
            69,
            70,
            71,
            72,
            73,
            74,
            75,
            76,
            77,
            78,
            79,
            80,
            81
           ],
           "y": [
            5.5,
            5.1429895000000005,
            4.8091529085655,
            4.496985984117605,
            4.205082126902548,
            3.932126040963176,
            3.6768878075182143,
            3.4382173430444,
            3.2150392170900446,
            3.006347806469513,
            2.8112027640037702,
            2.6287247813895216,
            2.458091627104747,
            2.2985344414977504,
            2.14933427236569,
            2.0098188354121604,
            1.8793594849867215,
            1.757368381456749,
            1.6432958424480095,
            1.5366278660188666,
            1.436883814607716,
            1.343614249317715,
            1.2563989047802526,
            1.174844795472062,
            1.0985844449531748,
            1.0272742300468192,
            0.9605928325002498,
            0.8982397911498262,
            0.8399341480664999,
            0.7854131825813555,
            0.734431227486817,
            0.6867585620794203,
            0.6421803770562831,
            0.6004958066011827,
            0.5615170232988935,
            0.5250683917995389,
            0.4909856774194389,
            0.45911530611246576,
            0.4293136724773993,
            0.40144649268321897,
            0.37538819939665846,
            0.351021375985622,
            0.32823622744901937,
            0.3069300856890762,
            0.2870069468969126,
            0.26837703896688697,
            0.2509564169905074,
            0.23466658500723653,
            0.2194341423078317,
            0.20519045269648797,
            0.19187133522150623,
            0.17941677498094305,
            0.16777065270015507,
            0.15688049186273526,
            0.14669722225543322,
            0.13717495886161082,
            0.12827079510694472,
            0.11994460952575792,
            0.11215888497683146,
            0.10487853959410046,
            0.09807076871050775,
            0.0917048970427399,
            0.08575224047079862,
            0.08018597678959864,
            0.07498102485020898,
            0.07011393154615704,
            0.06556276613556444,
            0.06130702142293876,
            0.05732752135535442,
            0.053606334616657016,
            0.05012669383035516,
            0.04687292000713299,
            0.04383035189655,
            0.04098527992459307,
            0.03832488441940775,
            0.0358371778468596,
            0.03351095079564211,
            0.031335721468546206,
            0.029301688452301418,
            0.027399686553174086,
            0.025621145499320968,
            0.023958051323814507
           ]
          }
         ]
        },
        {
         "data": [
          {
           "line": {
            "color": "red",
            "width": 2
           },
           "mode": "lines",
           "type": "scatter",
           "x": [
            0,
            1,
            2,
            3,
            4,
            5,
            6,
            7,
            8,
            9,
            10,
            11,
            12,
            13,
            14,
            15,
            16,
            17,
            18,
            19,
            20,
            21,
            22,
            23,
            24,
            25,
            26,
            27,
            28,
            29,
            30,
            31,
            32,
            33,
            34,
            35,
            36,
            37,
            38,
            39,
            40,
            41,
            42,
            43,
            44,
            45,
            46,
            47,
            48,
            49,
            50,
            51,
            52,
            53,
            54,
            55,
            56,
            57,
            58,
            59,
            60,
            61,
            62,
            63,
            64,
            65,
            66,
            67,
            68,
            69,
            70,
            71,
            72,
            73,
            74,
            75,
            76,
            77,
            78,
            79,
            80,
            81,
            82
           ],
           "y": [
            5.5,
            5.1429895000000005,
            4.8091529085655,
            4.496985984117605,
            4.205082126902548,
            3.932126040963176,
            3.6768878075182143,
            3.4382173430444,
            3.2150392170900446,
            3.006347806469513,
            2.8112027640037702,
            2.6287247813895216,
            2.458091627104747,
            2.2985344414977504,
            2.14933427236569,
            2.0098188354121604,
            1.8793594849867215,
            1.757368381456749,
            1.6432958424480095,
            1.5366278660188666,
            1.436883814607716,
            1.343614249317715,
            1.2563989047802526,
            1.174844795472062,
            1.0985844449531748,
            1.0272742300468192,
            0.9605928325002498,
            0.8982397911498262,
            0.8399341480664999,
            0.7854131825813555,
            0.734431227486817,
            0.6867585620794203,
            0.6421803770562831,
            0.6004958066011827,
            0.5615170232988935,
            0.5250683917995389,
            0.4909856774194389,
            0.45911530611246576,
            0.4293136724773993,
            0.40144649268321897,
            0.37538819939665846,
            0.351021375985622,
            0.32823622744901937,
            0.3069300856890762,
            0.2870069468969126,
            0.26837703896688697,
            0.2509564169905074,
            0.23466658500723653,
            0.2194341423078317,
            0.20519045269648797,
            0.19187133522150623,
            0.17941677498094305,
            0.16777065270015507,
            0.15688049186273526,
            0.14669722225543322,
            0.13717495886161082,
            0.12827079510694472,
            0.11994460952575792,
            0.11215888497683146,
            0.10487853959410046,
            0.09807076871050775,
            0.0917048970427399,
            0.08575224047079862,
            0.08018597678959864,
            0.07498102485020898,
            0.07011393154615704,
            0.06556276613556444,
            0.06130702142293876,
            0.05732752135535442,
            0.053606334616657016,
            0.05012669383035516,
            0.04687292000713299,
            0.04383035189655,
            0.04098527992459307,
            0.03832488441940775,
            0.0358371778468596,
            0.03351095079564211,
            0.031335721468546206,
            0.029301688452301418,
            0.027399686553174086,
            0.025621145499320968,
            0.023958051323814507,
            0.022402910254334392
           ]
          }
         ]
        },
        {
         "data": [
          {
           "line": {
            "color": "red",
            "width": 2
           },
           "mode": "lines",
           "type": "scatter",
           "x": [
            0,
            1,
            2,
            3,
            4,
            5,
            6,
            7,
            8,
            9,
            10,
            11,
            12,
            13,
            14,
            15,
            16,
            17,
            18,
            19,
            20,
            21,
            22,
            23,
            24,
            25,
            26,
            27,
            28,
            29,
            30,
            31,
            32,
            33,
            34,
            35,
            36,
            37,
            38,
            39,
            40,
            41,
            42,
            43,
            44,
            45,
            46,
            47,
            48,
            49,
            50,
            51,
            52,
            53,
            54,
            55,
            56,
            57,
            58,
            59,
            60,
            61,
            62,
            63,
            64,
            65,
            66,
            67,
            68,
            69,
            70,
            71,
            72,
            73,
            74,
            75,
            76,
            77,
            78,
            79,
            80,
            81,
            82,
            83
           ],
           "y": [
            5.5,
            5.1429895000000005,
            4.8091529085655,
            4.496985984117605,
            4.205082126902548,
            3.932126040963176,
            3.6768878075182143,
            3.4382173430444,
            3.2150392170900446,
            3.006347806469513,
            2.8112027640037702,
            2.6287247813895216,
            2.458091627104747,
            2.2985344414977504,
            2.14933427236569,
            2.0098188354121604,
            1.8793594849867215,
            1.757368381456749,
            1.6432958424480095,
            1.5366278660188666,
            1.436883814607716,
            1.343614249317715,
            1.2563989047802526,
            1.174844795472062,
            1.0985844449531748,
            1.0272742300468192,
            0.9605928325002498,
            0.8982397911498262,
            0.8399341480664999,
            0.7854131825813555,
            0.734431227486817,
            0.6867585620794203,
            0.6421803770562831,
            0.6004958066011827,
            0.5615170232988935,
            0.5250683917995389,
            0.4909856774194389,
            0.45911530611246576,
            0.4293136724773993,
            0.40144649268321897,
            0.37538819939665846,
            0.351021375985622,
            0.32823622744901937,
            0.3069300856890762,
            0.2870069468969126,
            0.26837703896688697,
            0.2509564169905074,
            0.23466658500723653,
            0.2194341423078317,
            0.20519045269648797,
            0.19187133522150623,
            0.17941677498094305,
            0.16777065270015507,
            0.15688049186273526,
            0.14669722225543322,
            0.13717495886161082,
            0.12827079510694472,
            0.11994460952575792,
            0.11215888497683146,
            0.10487853959410046,
            0.09807076871050775,
            0.0917048970427399,
            0.08575224047079862,
            0.08018597678959864,
            0.07498102485020898,
            0.07011393154615704,
            0.06556276613556444,
            0.06130702142293876,
            0.05732752135535442,
            0.053606334616657016,
            0.05012669383035516,
            0.04687292000713299,
            0.04383035189655,
            0.04098527992459307,
            0.03832488441940775,
            0.0358371778468596,
            0.03351095079564211,
            0.031335721468546206,
            0.029301688452301418,
            0.027399686553174086,
            0.025621145499320968,
            0.023958051323814507,
            0.022402910254334392,
            0.020948714946815265
           ]
          }
         ]
        },
        {
         "data": [
          {
           "line": {
            "color": "red",
            "width": 2
           },
           "mode": "lines",
           "type": "scatter",
           "x": [
            0,
            1,
            2,
            3,
            4,
            5,
            6,
            7,
            8,
            9,
            10,
            11,
            12,
            13,
            14,
            15,
            16,
            17,
            18,
            19,
            20,
            21,
            22,
            23,
            24,
            25,
            26,
            27,
            28,
            29,
            30,
            31,
            32,
            33,
            34,
            35,
            36,
            37,
            38,
            39,
            40,
            41,
            42,
            43,
            44,
            45,
            46,
            47,
            48,
            49,
            50,
            51,
            52,
            53,
            54,
            55,
            56,
            57,
            58,
            59,
            60,
            61,
            62,
            63,
            64,
            65,
            66,
            67,
            68,
            69,
            70,
            71,
            72,
            73,
            74,
            75,
            76,
            77,
            78,
            79,
            80,
            81,
            82,
            83,
            84
           ],
           "y": [
            5.5,
            5.1429895000000005,
            4.8091529085655,
            4.496985984117605,
            4.205082126902548,
            3.932126040963176,
            3.6768878075182143,
            3.4382173430444,
            3.2150392170900446,
            3.006347806469513,
            2.8112027640037702,
            2.6287247813895216,
            2.458091627104747,
            2.2985344414977504,
            2.14933427236569,
            2.0098188354121604,
            1.8793594849867215,
            1.757368381456749,
            1.6432958424480095,
            1.5366278660188666,
            1.436883814607716,
            1.343614249317715,
            1.2563989047802526,
            1.174844795472062,
            1.0985844449531748,
            1.0272742300468192,
            0.9605928325002498,
            0.8982397911498262,
            0.8399341480664999,
            0.7854131825813555,
            0.734431227486817,
            0.6867585620794203,
            0.6421803770562831,
            0.6004958066011827,
            0.5615170232988935,
            0.5250683917995389,
            0.4909856774194389,
            0.45911530611246576,
            0.4293136724773993,
            0.40144649268321897,
            0.37538819939665846,
            0.351021375985622,
            0.32823622744901937,
            0.3069300856890762,
            0.2870069468969126,
            0.26837703896688697,
            0.2509564169905074,
            0.23466658500723653,
            0.2194341423078317,
            0.20519045269648797,
            0.19187133522150623,
            0.17941677498094305,
            0.16777065270015507,
            0.15688049186273526,
            0.14669722225543322,
            0.13717495886161082,
            0.12827079510694472,
            0.11994460952575792,
            0.11215888497683146,
            0.10487853959410046,
            0.09807076871050775,
            0.0917048970427399,
            0.08575224047079862,
            0.08018597678959864,
            0.07498102485020898,
            0.07011393154615704,
            0.06556276613556444,
            0.06130702142293876,
            0.05732752135535442,
            0.053606334616657016,
            0.05012669383035516,
            0.04687292000713299,
            0.04383035189655,
            0.04098527992459307,
            0.03832488441940775,
            0.0358371778468596,
            0.03351095079564211,
            0.031335721468546206,
            0.029301688452301418,
            0.027399686553174086,
            0.025621145499320968,
            0.023958051323814507,
            0.022402910254334392,
            0.020948714946815265,
            0.019588912910902583
           ]
          }
         ]
        },
        {
         "data": [
          {
           "line": {
            "color": "red",
            "width": 2
           },
           "mode": "lines",
           "type": "scatter",
           "x": [
            0,
            1,
            2,
            3,
            4,
            5,
            6,
            7,
            8,
            9,
            10,
            11,
            12,
            13,
            14,
            15,
            16,
            17,
            18,
            19,
            20,
            21,
            22,
            23,
            24,
            25,
            26,
            27,
            28,
            29,
            30,
            31,
            32,
            33,
            34,
            35,
            36,
            37,
            38,
            39,
            40,
            41,
            42,
            43,
            44,
            45,
            46,
            47,
            48,
            49,
            50,
            51,
            52,
            53,
            54,
            55,
            56,
            57,
            58,
            59,
            60,
            61,
            62,
            63,
            64,
            65,
            66,
            67,
            68,
            69,
            70,
            71,
            72,
            73,
            74,
            75,
            76,
            77,
            78,
            79,
            80,
            81,
            82,
            83,
            84,
            85
           ],
           "y": [
            5.5,
            5.1429895000000005,
            4.8091529085655,
            4.496985984117605,
            4.205082126902548,
            3.932126040963176,
            3.6768878075182143,
            3.4382173430444,
            3.2150392170900446,
            3.006347806469513,
            2.8112027640037702,
            2.6287247813895216,
            2.458091627104747,
            2.2985344414977504,
            2.14933427236569,
            2.0098188354121604,
            1.8793594849867215,
            1.757368381456749,
            1.6432958424480095,
            1.5366278660188666,
            1.436883814607716,
            1.343614249317715,
            1.2563989047802526,
            1.174844795472062,
            1.0985844449531748,
            1.0272742300468192,
            0.9605928325002498,
            0.8982397911498262,
            0.8399341480664999,
            0.7854131825813555,
            0.734431227486817,
            0.6867585620794203,
            0.6421803770562831,
            0.6004958066011827,
            0.5615170232988935,
            0.5250683917995389,
            0.4909856774194389,
            0.45911530611246576,
            0.4293136724773993,
            0.40144649268321897,
            0.37538819939665846,
            0.351021375985622,
            0.32823622744901937,
            0.3069300856890762,
            0.2870069468969126,
            0.26837703896688697,
            0.2509564169905074,
            0.23466658500723653,
            0.2194341423078317,
            0.20519045269648797,
            0.19187133522150623,
            0.17941677498094305,
            0.16777065270015507,
            0.15688049186273526,
            0.14669722225543322,
            0.13717495886161082,
            0.12827079510694472,
            0.11994460952575792,
            0.11215888497683146,
            0.10487853959410046,
            0.09807076871050775,
            0.0917048970427399,
            0.08575224047079862,
            0.08018597678959864,
            0.07498102485020898,
            0.07011393154615704,
            0.06556276613556444,
            0.06130702142293876,
            0.05732752135535442,
            0.053606334616657016,
            0.05012669383035516,
            0.04687292000713299,
            0.04383035189655,
            0.04098527992459307,
            0.03832488441940775,
            0.0358371778468596,
            0.03351095079564211,
            0.031335721468546206,
            0.029301688452301418,
            0.027399686553174086,
            0.025621145499320968,
            0.023958051323814507,
            0.022402910254334392,
            0.020948714946815265,
            0.019588912910902583,
            0.018317376984942974
           ]
          }
         ]
        },
        {
         "data": [
          {
           "line": {
            "color": "red",
            "width": 2
           },
           "mode": "lines",
           "type": "scatter",
           "x": [
            0,
            1,
            2,
            3,
            4,
            5,
            6,
            7,
            8,
            9,
            10,
            11,
            12,
            13,
            14,
            15,
            16,
            17,
            18,
            19,
            20,
            21,
            22,
            23,
            24,
            25,
            26,
            27,
            28,
            29,
            30,
            31,
            32,
            33,
            34,
            35,
            36,
            37,
            38,
            39,
            40,
            41,
            42,
            43,
            44,
            45,
            46,
            47,
            48,
            49,
            50,
            51,
            52,
            53,
            54,
            55,
            56,
            57,
            58,
            59,
            60,
            61,
            62,
            63,
            64,
            65,
            66,
            67,
            68,
            69,
            70,
            71,
            72,
            73,
            74,
            75,
            76,
            77,
            78,
            79,
            80,
            81,
            82,
            83,
            84,
            85,
            86
           ],
           "y": [
            5.5,
            5.1429895000000005,
            4.8091529085655,
            4.496985984117605,
            4.205082126902548,
            3.932126040963176,
            3.6768878075182143,
            3.4382173430444,
            3.2150392170900446,
            3.006347806469513,
            2.8112027640037702,
            2.6287247813895216,
            2.458091627104747,
            2.2985344414977504,
            2.14933427236569,
            2.0098188354121604,
            1.8793594849867215,
            1.757368381456749,
            1.6432958424480095,
            1.5366278660188666,
            1.436883814607716,
            1.343614249317715,
            1.2563989047802526,
            1.174844795472062,
            1.0985844449531748,
            1.0272742300468192,
            0.9605928325002498,
            0.8982397911498262,
            0.8399341480664999,
            0.7854131825813555,
            0.734431227486817,
            0.6867585620794203,
            0.6421803770562831,
            0.6004958066011827,
            0.5615170232988935,
            0.5250683917995389,
            0.4909856774194389,
            0.45911530611246576,
            0.4293136724773993,
            0.40144649268321897,
            0.37538819939665846,
            0.351021375985622,
            0.32823622744901937,
            0.3069300856890762,
            0.2870069468969126,
            0.26837703896688697,
            0.2509564169905074,
            0.23466658500723653,
            0.2194341423078317,
            0.20519045269648797,
            0.19187133522150623,
            0.17941677498094305,
            0.16777065270015507,
            0.15688049186273526,
            0.14669722225543322,
            0.13717495886161082,
            0.12827079510694472,
            0.11994460952575792,
            0.11215888497683146,
            0.10487853959410046,
            0.09807076871050775,
            0.0917048970427399,
            0.08575224047079862,
            0.08018597678959864,
            0.07498102485020898,
            0.07011393154615704,
            0.06556276613556444,
            0.06130702142293876,
            0.05732752135535442,
            0.053606334616657016,
            0.05012669383035516,
            0.04687292000713299,
            0.04383035189655,
            0.04098527992459307,
            0.03832488441940775,
            0.0358371778468596,
            0.03351095079564211,
            0.031335721468546206,
            0.029301688452301418,
            0.027399686553174086,
            0.025621145499320968,
            0.023958051323814507,
            0.022402910254334392,
            0.020948714946815265,
            0.019588912910902583,
            0.018317376984942974,
            0.017128377727473304
           ]
          }
         ]
        },
        {
         "data": [
          {
           "line": {
            "color": "red",
            "width": 2
           },
           "mode": "lines",
           "type": "scatter",
           "x": [
            0,
            1,
            2,
            3,
            4,
            5,
            6,
            7,
            8,
            9,
            10,
            11,
            12,
            13,
            14,
            15,
            16,
            17,
            18,
            19,
            20,
            21,
            22,
            23,
            24,
            25,
            26,
            27,
            28,
            29,
            30,
            31,
            32,
            33,
            34,
            35,
            36,
            37,
            38,
            39,
            40,
            41,
            42,
            43,
            44,
            45,
            46,
            47,
            48,
            49,
            50,
            51,
            52,
            53,
            54,
            55,
            56,
            57,
            58,
            59,
            60,
            61,
            62,
            63,
            64,
            65,
            66,
            67,
            68,
            69,
            70,
            71,
            72,
            73,
            74,
            75,
            76,
            77,
            78,
            79,
            80,
            81,
            82,
            83,
            84,
            85,
            86,
            87
           ],
           "y": [
            5.5,
            5.1429895000000005,
            4.8091529085655,
            4.496985984117605,
            4.205082126902548,
            3.932126040963176,
            3.6768878075182143,
            3.4382173430444,
            3.2150392170900446,
            3.006347806469513,
            2.8112027640037702,
            2.6287247813895216,
            2.458091627104747,
            2.2985344414977504,
            2.14933427236569,
            2.0098188354121604,
            1.8793594849867215,
            1.757368381456749,
            1.6432958424480095,
            1.5366278660188666,
            1.436883814607716,
            1.343614249317715,
            1.2563989047802526,
            1.174844795472062,
            1.0985844449531748,
            1.0272742300468192,
            0.9605928325002498,
            0.8982397911498262,
            0.8399341480664999,
            0.7854131825813555,
            0.734431227486817,
            0.6867585620794203,
            0.6421803770562831,
            0.6004958066011827,
            0.5615170232988935,
            0.5250683917995389,
            0.4909856774194389,
            0.45911530611246576,
            0.4293136724773993,
            0.40144649268321897,
            0.37538819939665846,
            0.351021375985622,
            0.32823622744901937,
            0.3069300856890762,
            0.2870069468969126,
            0.26837703896688697,
            0.2509564169905074,
            0.23466658500723653,
            0.2194341423078317,
            0.20519045269648797,
            0.19187133522150623,
            0.17941677498094305,
            0.16777065270015507,
            0.15688049186273526,
            0.14669722225543322,
            0.13717495886161082,
            0.12827079510694472,
            0.11994460952575792,
            0.11215888497683146,
            0.10487853959410046,
            0.09807076871050775,
            0.0917048970427399,
            0.08575224047079862,
            0.08018597678959864,
            0.07498102485020898,
            0.07011393154615704,
            0.06556276613556444,
            0.06130702142293876,
            0.05732752135535442,
            0.053606334616657016,
            0.05012669383035516,
            0.04687292000713299,
            0.04383035189655,
            0.04098527992459307,
            0.03832488441940775,
            0.0358371778468596,
            0.03351095079564211,
            0.031335721468546206,
            0.029301688452301418,
            0.027399686553174086,
            0.025621145499320968,
            0.023958051323814507,
            0.022402910254334392,
            0.020948714946815265,
            0.019588912910902583,
            0.018317376984942974,
            0.017128377727473304,
            0.016016557600805333
           ]
          }
         ]
        },
        {
         "data": [
          {
           "line": {
            "color": "red",
            "width": 2
           },
           "mode": "lines",
           "type": "scatter",
           "x": [
            0,
            1,
            2,
            3,
            4,
            5,
            6,
            7,
            8,
            9,
            10,
            11,
            12,
            13,
            14,
            15,
            16,
            17,
            18,
            19,
            20,
            21,
            22,
            23,
            24,
            25,
            26,
            27,
            28,
            29,
            30,
            31,
            32,
            33,
            34,
            35,
            36,
            37,
            38,
            39,
            40,
            41,
            42,
            43,
            44,
            45,
            46,
            47,
            48,
            49,
            50,
            51,
            52,
            53,
            54,
            55,
            56,
            57,
            58,
            59,
            60,
            61,
            62,
            63,
            64,
            65,
            66,
            67,
            68,
            69,
            70,
            71,
            72,
            73,
            74,
            75,
            76,
            77,
            78,
            79,
            80,
            81,
            82,
            83,
            84,
            85,
            86,
            87,
            88
           ],
           "y": [
            5.5,
            5.1429895000000005,
            4.8091529085655,
            4.496985984117605,
            4.205082126902548,
            3.932126040963176,
            3.6768878075182143,
            3.4382173430444,
            3.2150392170900446,
            3.006347806469513,
            2.8112027640037702,
            2.6287247813895216,
            2.458091627104747,
            2.2985344414977504,
            2.14933427236569,
            2.0098188354121604,
            1.8793594849867215,
            1.757368381456749,
            1.6432958424480095,
            1.5366278660188666,
            1.436883814607716,
            1.343614249317715,
            1.2563989047802526,
            1.174844795472062,
            1.0985844449531748,
            1.0272742300468192,
            0.9605928325002498,
            0.8982397911498262,
            0.8399341480664999,
            0.7854131825813555,
            0.734431227486817,
            0.6867585620794203,
            0.6421803770562831,
            0.6004958066011827,
            0.5615170232988935,
            0.5250683917995389,
            0.4909856774194389,
            0.45911530611246576,
            0.4293136724773993,
            0.40144649268321897,
            0.37538819939665846,
            0.351021375985622,
            0.32823622744901937,
            0.3069300856890762,
            0.2870069468969126,
            0.26837703896688697,
            0.2509564169905074,
            0.23466658500723653,
            0.2194341423078317,
            0.20519045269648797,
            0.19187133522150623,
            0.17941677498094305,
            0.16777065270015507,
            0.15688049186273526,
            0.14669722225543322,
            0.13717495886161082,
            0.12827079510694472,
            0.11994460952575792,
            0.11215888497683146,
            0.10487853959410046,
            0.09807076871050775,
            0.0917048970427399,
            0.08575224047079862,
            0.08018597678959864,
            0.07498102485020898,
            0.07011393154615704,
            0.06556276613556444,
            0.06130702142293876,
            0.05732752135535442,
            0.053606334616657016,
            0.05012669383035516,
            0.04687292000713299,
            0.04383035189655,
            0.04098527992459307,
            0.03832488441940775,
            0.0358371778468596,
            0.03351095079564211,
            0.031335721468546206,
            0.029301688452301418,
            0.027399686553174086,
            0.025621145499320968,
            0.023958051323814507,
            0.022402910254334392,
            0.020948714946815265,
            0.019588912910902583,
            0.018317376984942974,
            0.017128377727473304,
            0.016016557600805333,
            0.014976906830379477
           ]
          }
         ]
        },
        {
         "data": [
          {
           "line": {
            "color": "red",
            "width": 2
           },
           "mode": "lines",
           "type": "scatter",
           "x": [
            0,
            1,
            2,
            3,
            4,
            5,
            6,
            7,
            8,
            9,
            10,
            11,
            12,
            13,
            14,
            15,
            16,
            17,
            18,
            19,
            20,
            21,
            22,
            23,
            24,
            25,
            26,
            27,
            28,
            29,
            30,
            31,
            32,
            33,
            34,
            35,
            36,
            37,
            38,
            39,
            40,
            41,
            42,
            43,
            44,
            45,
            46,
            47,
            48,
            49,
            50,
            51,
            52,
            53,
            54,
            55,
            56,
            57,
            58,
            59,
            60,
            61,
            62,
            63,
            64,
            65,
            66,
            67,
            68,
            69,
            70,
            71,
            72,
            73,
            74,
            75,
            76,
            77,
            78,
            79,
            80,
            81,
            82,
            83,
            84,
            85,
            86,
            87,
            88,
            89
           ],
           "y": [
            5.5,
            5.1429895000000005,
            4.8091529085655,
            4.496985984117605,
            4.205082126902548,
            3.932126040963176,
            3.6768878075182143,
            3.4382173430444,
            3.2150392170900446,
            3.006347806469513,
            2.8112027640037702,
            2.6287247813895216,
            2.458091627104747,
            2.2985344414977504,
            2.14933427236569,
            2.0098188354121604,
            1.8793594849867215,
            1.757368381456749,
            1.6432958424480095,
            1.5366278660188666,
            1.436883814607716,
            1.343614249317715,
            1.2563989047802526,
            1.174844795472062,
            1.0985844449531748,
            1.0272742300468192,
            0.9605928325002498,
            0.8982397911498262,
            0.8399341480664999,
            0.7854131825813555,
            0.734431227486817,
            0.6867585620794203,
            0.6421803770562831,
            0.6004958066011827,
            0.5615170232988935,
            0.5250683917995389,
            0.4909856774194389,
            0.45911530611246576,
            0.4293136724773993,
            0.40144649268321897,
            0.37538819939665846,
            0.351021375985622,
            0.32823622744901937,
            0.3069300856890762,
            0.2870069468969126,
            0.26837703896688697,
            0.2509564169905074,
            0.23466658500723653,
            0.2194341423078317,
            0.20519045269648797,
            0.19187133522150623,
            0.17941677498094305,
            0.16777065270015507,
            0.15688049186273526,
            0.14669722225543322,
            0.13717495886161082,
            0.12827079510694472,
            0.11994460952575792,
            0.11215888497683146,
            0.10487853959410046,
            0.09807076871050775,
            0.0917048970427399,
            0.08575224047079862,
            0.08018597678959864,
            0.07498102485020898,
            0.07011393154615704,
            0.06556276613556444,
            0.06130702142293876,
            0.05732752135535442,
            0.053606334616657016,
            0.05012669383035516,
            0.04687292000713299,
            0.04383035189655,
            0.04098527992459307,
            0.03832488441940775,
            0.0358371778468596,
            0.03351095079564211,
            0.031335721468546206,
            0.029301688452301418,
            0.027399686553174086,
            0.025621145499320968,
            0.023958051323814507,
            0.022402910254334392,
            0.020948714946815265,
            0.019588912910902583,
            0.018317376984942974,
            0.017128377727473304,
            0.016016557600805333,
            0.014976906830379477,
            0.014004740831112717
           ]
          }
         ]
        },
        {
         "data": [
          {
           "line": {
            "color": "red",
            "width": 2
           },
           "mode": "lines",
           "type": "scatter",
           "x": [
            0,
            1,
            2,
            3,
            4,
            5,
            6,
            7,
            8,
            9,
            10,
            11,
            12,
            13,
            14,
            15,
            16,
            17,
            18,
            19,
            20,
            21,
            22,
            23,
            24,
            25,
            26,
            27,
            28,
            29,
            30,
            31,
            32,
            33,
            34,
            35,
            36,
            37,
            38,
            39,
            40,
            41,
            42,
            43,
            44,
            45,
            46,
            47,
            48,
            49,
            50,
            51,
            52,
            53,
            54,
            55,
            56,
            57,
            58,
            59,
            60,
            61,
            62,
            63,
            64,
            65,
            66,
            67,
            68,
            69,
            70,
            71,
            72,
            73,
            74,
            75,
            76,
            77,
            78,
            79,
            80,
            81,
            82,
            83,
            84,
            85,
            86,
            87,
            88,
            89,
            90
           ],
           "y": [
            5.5,
            5.1429895000000005,
            4.8091529085655,
            4.496985984117605,
            4.205082126902548,
            3.932126040963176,
            3.6768878075182143,
            3.4382173430444,
            3.2150392170900446,
            3.006347806469513,
            2.8112027640037702,
            2.6287247813895216,
            2.458091627104747,
            2.2985344414977504,
            2.14933427236569,
            2.0098188354121604,
            1.8793594849867215,
            1.757368381456749,
            1.6432958424480095,
            1.5366278660188666,
            1.436883814607716,
            1.343614249317715,
            1.2563989047802526,
            1.174844795472062,
            1.0985844449531748,
            1.0272742300468192,
            0.9605928325002498,
            0.8982397911498262,
            0.8399341480664999,
            0.7854131825813555,
            0.734431227486817,
            0.6867585620794203,
            0.6421803770562831,
            0.6004958066011827,
            0.5615170232988935,
            0.5250683917995389,
            0.4909856774194389,
            0.45911530611246576,
            0.4293136724773993,
            0.40144649268321897,
            0.37538819939665846,
            0.351021375985622,
            0.32823622744901937,
            0.3069300856890762,
            0.2870069468969126,
            0.26837703896688697,
            0.2509564169905074,
            0.23466658500723653,
            0.2194341423078317,
            0.20519045269648797,
            0.19187133522150623,
            0.17941677498094305,
            0.16777065270015507,
            0.15688049186273526,
            0.14669722225543322,
            0.13717495886161082,
            0.12827079510694472,
            0.11994460952575792,
            0.11215888497683146,
            0.10487853959410046,
            0.09807076871050775,
            0.0917048970427399,
            0.08575224047079862,
            0.08018597678959864,
            0.07498102485020898,
            0.07011393154615704,
            0.06556276613556444,
            0.06130702142293876,
            0.05732752135535442,
            0.053606334616657016,
            0.05012669383035516,
            0.04687292000713299,
            0.04383035189655,
            0.04098527992459307,
            0.03832488441940775,
            0.0358371778468596,
            0.03351095079564211,
            0.031335721468546206,
            0.029301688452301418,
            0.027399686553174086,
            0.025621145499320968,
            0.023958051323814507,
            0.022402910254334392,
            0.020948714946815265,
            0.019588912910902583,
            0.018317376984942974,
            0.017128377727473304,
            0.016016557600805333,
            0.014976906830379477,
            0.014004740831112717,
            0.01309567909902441
           ]
          }
         ]
        },
        {
         "data": [
          {
           "line": {
            "color": "red",
            "width": 2
           },
           "mode": "lines",
           "type": "scatter",
           "x": [
            0,
            1,
            2,
            3,
            4,
            5,
            6,
            7,
            8,
            9,
            10,
            11,
            12,
            13,
            14,
            15,
            16,
            17,
            18,
            19,
            20,
            21,
            22,
            23,
            24,
            25,
            26,
            27,
            28,
            29,
            30,
            31,
            32,
            33,
            34,
            35,
            36,
            37,
            38,
            39,
            40,
            41,
            42,
            43,
            44,
            45,
            46,
            47,
            48,
            49,
            50,
            51,
            52,
            53,
            54,
            55,
            56,
            57,
            58,
            59,
            60,
            61,
            62,
            63,
            64,
            65,
            66,
            67,
            68,
            69,
            70,
            71,
            72,
            73,
            74,
            75,
            76,
            77,
            78,
            79,
            80,
            81,
            82,
            83,
            84,
            85,
            86,
            87,
            88,
            89,
            90,
            91
           ],
           "y": [
            5.5,
            5.1429895000000005,
            4.8091529085655,
            4.496985984117605,
            4.205082126902548,
            3.932126040963176,
            3.6768878075182143,
            3.4382173430444,
            3.2150392170900446,
            3.006347806469513,
            2.8112027640037702,
            2.6287247813895216,
            2.458091627104747,
            2.2985344414977504,
            2.14933427236569,
            2.0098188354121604,
            1.8793594849867215,
            1.757368381456749,
            1.6432958424480095,
            1.5366278660188666,
            1.436883814607716,
            1.343614249317715,
            1.2563989047802526,
            1.174844795472062,
            1.0985844449531748,
            1.0272742300468192,
            0.9605928325002498,
            0.8982397911498262,
            0.8399341480664999,
            0.7854131825813555,
            0.734431227486817,
            0.6867585620794203,
            0.6421803770562831,
            0.6004958066011827,
            0.5615170232988935,
            0.5250683917995389,
            0.4909856774194389,
            0.45911530611246576,
            0.4293136724773993,
            0.40144649268321897,
            0.37538819939665846,
            0.351021375985622,
            0.32823622744901937,
            0.3069300856890762,
            0.2870069468969126,
            0.26837703896688697,
            0.2509564169905074,
            0.23466658500723653,
            0.2194341423078317,
            0.20519045269648797,
            0.19187133522150623,
            0.17941677498094305,
            0.16777065270015507,
            0.15688049186273526,
            0.14669722225543322,
            0.13717495886161082,
            0.12827079510694472,
            0.11994460952575792,
            0.11215888497683146,
            0.10487853959410046,
            0.09807076871050775,
            0.0917048970427399,
            0.08575224047079862,
            0.08018597678959864,
            0.07498102485020898,
            0.07011393154615704,
            0.06556276613556444,
            0.06130702142293876,
            0.05732752135535442,
            0.053606334616657016,
            0.05012669383035516,
            0.04687292000713299,
            0.04383035189655,
            0.04098527992459307,
            0.03832488441940775,
            0.0358371778468596,
            0.03351095079564211,
            0.031335721468546206,
            0.029301688452301418,
            0.027399686553174086,
            0.025621145499320968,
            0.023958051323814507,
            0.022402910254334392,
            0.020948714946815265,
            0.019588912910902583,
            0.018317376984942974,
            0.017128377727473304,
            0.016016557600805333,
            0.014976906830379477,
            0.014004740831112717,
            0.01309567909902441,
            0.01224562547302761
           ]
          }
         ]
        },
        {
         "data": [
          {
           "line": {
            "color": "red",
            "width": 2
           },
           "mode": "lines",
           "type": "scatter",
           "x": [
            0,
            1,
            2,
            3,
            4,
            5,
            6,
            7,
            8,
            9,
            10,
            11,
            12,
            13,
            14,
            15,
            16,
            17,
            18,
            19,
            20,
            21,
            22,
            23,
            24,
            25,
            26,
            27,
            28,
            29,
            30,
            31,
            32,
            33,
            34,
            35,
            36,
            37,
            38,
            39,
            40,
            41,
            42,
            43,
            44,
            45,
            46,
            47,
            48,
            49,
            50,
            51,
            52,
            53,
            54,
            55,
            56,
            57,
            58,
            59,
            60,
            61,
            62,
            63,
            64,
            65,
            66,
            67,
            68,
            69,
            70,
            71,
            72,
            73,
            74,
            75,
            76,
            77,
            78,
            79,
            80,
            81,
            82,
            83,
            84,
            85,
            86,
            87,
            88,
            89,
            90,
            91,
            92
           ],
           "y": [
            5.5,
            5.1429895000000005,
            4.8091529085655,
            4.496985984117605,
            4.205082126902548,
            3.932126040963176,
            3.6768878075182143,
            3.4382173430444,
            3.2150392170900446,
            3.006347806469513,
            2.8112027640037702,
            2.6287247813895216,
            2.458091627104747,
            2.2985344414977504,
            2.14933427236569,
            2.0098188354121604,
            1.8793594849867215,
            1.757368381456749,
            1.6432958424480095,
            1.5366278660188666,
            1.436883814607716,
            1.343614249317715,
            1.2563989047802526,
            1.174844795472062,
            1.0985844449531748,
            1.0272742300468192,
            0.9605928325002498,
            0.8982397911498262,
            0.8399341480664999,
            0.7854131825813555,
            0.734431227486817,
            0.6867585620794203,
            0.6421803770562831,
            0.6004958066011827,
            0.5615170232988935,
            0.5250683917995389,
            0.4909856774194389,
            0.45911530611246576,
            0.4293136724773993,
            0.40144649268321897,
            0.37538819939665846,
            0.351021375985622,
            0.32823622744901937,
            0.3069300856890762,
            0.2870069468969126,
            0.26837703896688697,
            0.2509564169905074,
            0.23466658500723653,
            0.2194341423078317,
            0.20519045269648797,
            0.19187133522150623,
            0.17941677498094305,
            0.16777065270015507,
            0.15688049186273526,
            0.14669722225543322,
            0.13717495886161082,
            0.12827079510694472,
            0.11994460952575792,
            0.11215888497683146,
            0.10487853959410046,
            0.09807076871050775,
            0.0917048970427399,
            0.08575224047079862,
            0.08018597678959864,
            0.07498102485020898,
            0.07011393154615704,
            0.06556276613556444,
            0.06130702142293876,
            0.05732752135535442,
            0.053606334616657016,
            0.05012669383035516,
            0.04687292000713299,
            0.04383035189655,
            0.04098527992459307,
            0.03832488441940775,
            0.0358371778468596,
            0.03351095079564211,
            0.031335721468546206,
            0.029301688452301418,
            0.027399686553174086,
            0.025621145499320968,
            0.023958051323814507,
            0.022402910254334392,
            0.020948714946815265,
            0.019588912910902583,
            0.018317376984942974,
            0.017128377727473304,
            0.016016557600805333,
            0.014976906830379477,
            0.014004740831112717,
            0.01309567909902441,
            0.01224562547302761,
            0.011450749677947906
           ]
          }
         ]
        },
        {
         "data": [
          {
           "line": {
            "color": "red",
            "width": 2
           },
           "mode": "lines",
           "type": "scatter",
           "x": [
            0,
            1,
            2,
            3,
            4,
            5,
            6,
            7,
            8,
            9,
            10,
            11,
            12,
            13,
            14,
            15,
            16,
            17,
            18,
            19,
            20,
            21,
            22,
            23,
            24,
            25,
            26,
            27,
            28,
            29,
            30,
            31,
            32,
            33,
            34,
            35,
            36,
            37,
            38,
            39,
            40,
            41,
            42,
            43,
            44,
            45,
            46,
            47,
            48,
            49,
            50,
            51,
            52,
            53,
            54,
            55,
            56,
            57,
            58,
            59,
            60,
            61,
            62,
            63,
            64,
            65,
            66,
            67,
            68,
            69,
            70,
            71,
            72,
            73,
            74,
            75,
            76,
            77,
            78,
            79,
            80,
            81,
            82,
            83,
            84,
            85,
            86,
            87,
            88,
            89,
            90,
            91,
            92,
            93
           ],
           "y": [
            5.5,
            5.1429895000000005,
            4.8091529085655,
            4.496985984117605,
            4.205082126902548,
            3.932126040963176,
            3.6768878075182143,
            3.4382173430444,
            3.2150392170900446,
            3.006347806469513,
            2.8112027640037702,
            2.6287247813895216,
            2.458091627104747,
            2.2985344414977504,
            2.14933427236569,
            2.0098188354121604,
            1.8793594849867215,
            1.757368381456749,
            1.6432958424480095,
            1.5366278660188666,
            1.436883814607716,
            1.343614249317715,
            1.2563989047802526,
            1.174844795472062,
            1.0985844449531748,
            1.0272742300468192,
            0.9605928325002498,
            0.8982397911498262,
            0.8399341480664999,
            0.7854131825813555,
            0.734431227486817,
            0.6867585620794203,
            0.6421803770562831,
            0.6004958066011827,
            0.5615170232988935,
            0.5250683917995389,
            0.4909856774194389,
            0.45911530611246576,
            0.4293136724773993,
            0.40144649268321897,
            0.37538819939665846,
            0.351021375985622,
            0.32823622744901937,
            0.3069300856890762,
            0.2870069468969126,
            0.26837703896688697,
            0.2509564169905074,
            0.23466658500723653,
            0.2194341423078317,
            0.20519045269648797,
            0.19187133522150623,
            0.17941677498094305,
            0.16777065270015507,
            0.15688049186273526,
            0.14669722225543322,
            0.13717495886161082,
            0.12827079510694472,
            0.11994460952575792,
            0.11215888497683146,
            0.10487853959410046,
            0.09807076871050775,
            0.0917048970427399,
            0.08575224047079862,
            0.08018597678959864,
            0.07498102485020898,
            0.07011393154615704,
            0.06556276613556444,
            0.06130702142293876,
            0.05732752135535442,
            0.053606334616657016,
            0.05012669383035516,
            0.04687292000713299,
            0.04383035189655,
            0.04098527992459307,
            0.03832488441940775,
            0.0358371778468596,
            0.03351095079564211,
            0.031335721468546206,
            0.029301688452301418,
            0.027399686553174086,
            0.025621145499320968,
            0.023958051323814507,
            0.022402910254334392,
            0.020948714946815265,
            0.019588912910902583,
            0.018317376984942974,
            0.017128377727473304,
            0.016016557600805333,
            0.014976906830379477,
            0.014004740831112717,
            0.01309567909902441,
            0.01224562547302761,
            0.011450749677947906,
            0.01070747006560264
           ]
          }
         ]
        },
        {
         "data": [
          {
           "line": {
            "color": "red",
            "width": 2
           },
           "mode": "lines",
           "type": "scatter",
           "x": [
            0,
            1,
            2,
            3,
            4,
            5,
            6,
            7,
            8,
            9,
            10,
            11,
            12,
            13,
            14,
            15,
            16,
            17,
            18,
            19,
            20,
            21,
            22,
            23,
            24,
            25,
            26,
            27,
            28,
            29,
            30,
            31,
            32,
            33,
            34,
            35,
            36,
            37,
            38,
            39,
            40,
            41,
            42,
            43,
            44,
            45,
            46,
            47,
            48,
            49,
            50,
            51,
            52,
            53,
            54,
            55,
            56,
            57,
            58,
            59,
            60,
            61,
            62,
            63,
            64,
            65,
            66,
            67,
            68,
            69,
            70,
            71,
            72,
            73,
            74,
            75,
            76,
            77,
            78,
            79,
            80,
            81,
            82,
            83,
            84,
            85,
            86,
            87,
            88,
            89,
            90,
            91,
            92,
            93,
            94
           ],
           "y": [
            5.5,
            5.1429895000000005,
            4.8091529085655,
            4.496985984117605,
            4.205082126902548,
            3.932126040963176,
            3.6768878075182143,
            3.4382173430444,
            3.2150392170900446,
            3.006347806469513,
            2.8112027640037702,
            2.6287247813895216,
            2.458091627104747,
            2.2985344414977504,
            2.14933427236569,
            2.0098188354121604,
            1.8793594849867215,
            1.757368381456749,
            1.6432958424480095,
            1.5366278660188666,
            1.436883814607716,
            1.343614249317715,
            1.2563989047802526,
            1.174844795472062,
            1.0985844449531748,
            1.0272742300468192,
            0.9605928325002498,
            0.8982397911498262,
            0.8399341480664999,
            0.7854131825813555,
            0.734431227486817,
            0.6867585620794203,
            0.6421803770562831,
            0.6004958066011827,
            0.5615170232988935,
            0.5250683917995389,
            0.4909856774194389,
            0.45911530611246576,
            0.4293136724773993,
            0.40144649268321897,
            0.37538819939665846,
            0.351021375985622,
            0.32823622744901937,
            0.3069300856890762,
            0.2870069468969126,
            0.26837703896688697,
            0.2509564169905074,
            0.23466658500723653,
            0.2194341423078317,
            0.20519045269648797,
            0.19187133522150623,
            0.17941677498094305,
            0.16777065270015507,
            0.15688049186273526,
            0.14669722225543322,
            0.13717495886161082,
            0.12827079510694472,
            0.11994460952575792,
            0.11215888497683146,
            0.10487853959410046,
            0.09807076871050775,
            0.0917048970427399,
            0.08575224047079862,
            0.08018597678959864,
            0.07498102485020898,
            0.07011393154615704,
            0.06556276613556444,
            0.06130702142293876,
            0.05732752135535442,
            0.053606334616657016,
            0.05012669383035516,
            0.04687292000713299,
            0.04383035189655,
            0.04098527992459307,
            0.03832488441940775,
            0.0358371778468596,
            0.03351095079564211,
            0.031335721468546206,
            0.029301688452301418,
            0.027399686553174086,
            0.025621145499320968,
            0.023958051323814507,
            0.022402910254334392,
            0.020948714946815265,
            0.019588912910902583,
            0.018317376984942974,
            0.017128377727473304,
            0.016016557600805333,
            0.014976906830379477,
            0.014004740831112717,
            0.01309567909902441,
            0.01224562547302761,
            0.011450749677947906,
            0.01070747006560264,
            0.010012437476174299
           ]
          }
         ]
        },
        {
         "data": [
          {
           "line": {
            "color": "red",
            "width": 2
           },
           "mode": "lines",
           "type": "scatter",
           "x": [
            0,
            1,
            2,
            3,
            4,
            5,
            6,
            7,
            8,
            9,
            10,
            11,
            12,
            13,
            14,
            15,
            16,
            17,
            18,
            19,
            20,
            21,
            22,
            23,
            24,
            25,
            26,
            27,
            28,
            29,
            30,
            31,
            32,
            33,
            34,
            35,
            36,
            37,
            38,
            39,
            40,
            41,
            42,
            43,
            44,
            45,
            46,
            47,
            48,
            49,
            50,
            51,
            52,
            53,
            54,
            55,
            56,
            57,
            58,
            59,
            60,
            61,
            62,
            63,
            64,
            65,
            66,
            67,
            68,
            69,
            70,
            71,
            72,
            73,
            74,
            75,
            76,
            77,
            78,
            79,
            80,
            81,
            82,
            83,
            84,
            85,
            86,
            87,
            88,
            89,
            90,
            91,
            92,
            93,
            94,
            95
           ],
           "y": [
            5.5,
            5.1429895000000005,
            4.8091529085655,
            4.496985984117605,
            4.205082126902548,
            3.932126040963176,
            3.6768878075182143,
            3.4382173430444,
            3.2150392170900446,
            3.006347806469513,
            2.8112027640037702,
            2.6287247813895216,
            2.458091627104747,
            2.2985344414977504,
            2.14933427236569,
            2.0098188354121604,
            1.8793594849867215,
            1.757368381456749,
            1.6432958424480095,
            1.5366278660188666,
            1.436883814607716,
            1.343614249317715,
            1.2563989047802526,
            1.174844795472062,
            1.0985844449531748,
            1.0272742300468192,
            0.9605928325002498,
            0.8982397911498262,
            0.8399341480664999,
            0.7854131825813555,
            0.734431227486817,
            0.6867585620794203,
            0.6421803770562831,
            0.6004958066011827,
            0.5615170232988935,
            0.5250683917995389,
            0.4909856774194389,
            0.45911530611246576,
            0.4293136724773993,
            0.40144649268321897,
            0.37538819939665846,
            0.351021375985622,
            0.32823622744901937,
            0.3069300856890762,
            0.2870069468969126,
            0.26837703896688697,
            0.2509564169905074,
            0.23466658500723653,
            0.2194341423078317,
            0.20519045269648797,
            0.19187133522150623,
            0.17941677498094305,
            0.16777065270015507,
            0.15688049186273526,
            0.14669722225543322,
            0.13717495886161082,
            0.12827079510694472,
            0.11994460952575792,
            0.11215888497683146,
            0.10487853959410046,
            0.09807076871050775,
            0.0917048970427399,
            0.08575224047079862,
            0.08018597678959864,
            0.07498102485020898,
            0.07011393154615704,
            0.06556276613556444,
            0.06130702142293876,
            0.05732752135535442,
            0.053606334616657016,
            0.05012669383035516,
            0.04687292000713299,
            0.04383035189655,
            0.04098527992459307,
            0.03832488441940775,
            0.0358371778468596,
            0.03351095079564211,
            0.031335721468546206,
            0.029301688452301418,
            0.027399686553174086,
            0.025621145499320968,
            0.023958051323814507,
            0.022402910254334392,
            0.020948714946815265,
            0.019588912910902583,
            0.018317376984942974,
            0.017128377727473304,
            0.016016557600805333,
            0.014976906830379477,
            0.014004740831112717,
            0.01309567909902441,
            0.01224562547302761,
            0.011450749677947906,
            0.01070747006560264,
            0.010012437476174299,
            0.009362520147158337
           ]
          }
         ]
        },
        {
         "data": [
          {
           "line": {
            "color": "red",
            "width": 2
           },
           "mode": "lines",
           "type": "scatter",
           "x": [
            0,
            1,
            2,
            3,
            4,
            5,
            6,
            7,
            8,
            9,
            10,
            11,
            12,
            13,
            14,
            15,
            16,
            17,
            18,
            19,
            20,
            21,
            22,
            23,
            24,
            25,
            26,
            27,
            28,
            29,
            30,
            31,
            32,
            33,
            34,
            35,
            36,
            37,
            38,
            39,
            40,
            41,
            42,
            43,
            44,
            45,
            46,
            47,
            48,
            49,
            50,
            51,
            52,
            53,
            54,
            55,
            56,
            57,
            58,
            59,
            60,
            61,
            62,
            63,
            64,
            65,
            66,
            67,
            68,
            69,
            70,
            71,
            72,
            73,
            74,
            75,
            76,
            77,
            78,
            79,
            80,
            81,
            82,
            83,
            84,
            85,
            86,
            87,
            88,
            89,
            90,
            91,
            92,
            93,
            94,
            95,
            96
           ],
           "y": [
            5.5,
            5.1429895000000005,
            4.8091529085655,
            4.496985984117605,
            4.205082126902548,
            3.932126040963176,
            3.6768878075182143,
            3.4382173430444,
            3.2150392170900446,
            3.006347806469513,
            2.8112027640037702,
            2.6287247813895216,
            2.458091627104747,
            2.2985344414977504,
            2.14933427236569,
            2.0098188354121604,
            1.8793594849867215,
            1.757368381456749,
            1.6432958424480095,
            1.5366278660188666,
            1.436883814607716,
            1.343614249317715,
            1.2563989047802526,
            1.174844795472062,
            1.0985844449531748,
            1.0272742300468192,
            0.9605928325002498,
            0.8982397911498262,
            0.8399341480664999,
            0.7854131825813555,
            0.734431227486817,
            0.6867585620794203,
            0.6421803770562831,
            0.6004958066011827,
            0.5615170232988935,
            0.5250683917995389,
            0.4909856774194389,
            0.45911530611246576,
            0.4293136724773993,
            0.40144649268321897,
            0.37538819939665846,
            0.351021375985622,
            0.32823622744901937,
            0.3069300856890762,
            0.2870069468969126,
            0.26837703896688697,
            0.2509564169905074,
            0.23466658500723653,
            0.2194341423078317,
            0.20519045269648797,
            0.19187133522150623,
            0.17941677498094305,
            0.16777065270015507,
            0.15688049186273526,
            0.14669722225543322,
            0.13717495886161082,
            0.12827079510694472,
            0.11994460952575792,
            0.11215888497683146,
            0.10487853959410046,
            0.09807076871050775,
            0.0917048970427399,
            0.08575224047079862,
            0.08018597678959864,
            0.07498102485020898,
            0.07011393154615704,
            0.06556276613556444,
            0.06130702142293876,
            0.05732752135535442,
            0.053606334616657016,
            0.05012669383035516,
            0.04687292000713299,
            0.04383035189655,
            0.04098527992459307,
            0.03832488441940775,
            0.0358371778468596,
            0.03351095079564211,
            0.031335721468546206,
            0.029301688452301418,
            0.027399686553174086,
            0.025621145499320968,
            0.023958051323814507,
            0.022402910254334392,
            0.020948714946815265,
            0.019588912910902583,
            0.018317376984942974,
            0.017128377727473304,
            0.016016557600805333,
            0.014976906830379477,
            0.014004740831112717,
            0.01309567909902441,
            0.01224562547302761,
            0.011450749677947906,
            0.01070747006560264,
            0.010012437476174299,
            0.009362520147158337,
            0.00875478960188614
           ]
          }
         ]
        },
        {
         "data": [
          {
           "line": {
            "color": "red",
            "width": 2
           },
           "mode": "lines",
           "type": "scatter",
           "x": [
            0,
            1,
            2,
            3,
            4,
            5,
            6,
            7,
            8,
            9,
            10,
            11,
            12,
            13,
            14,
            15,
            16,
            17,
            18,
            19,
            20,
            21,
            22,
            23,
            24,
            25,
            26,
            27,
            28,
            29,
            30,
            31,
            32,
            33,
            34,
            35,
            36,
            37,
            38,
            39,
            40,
            41,
            42,
            43,
            44,
            45,
            46,
            47,
            48,
            49,
            50,
            51,
            52,
            53,
            54,
            55,
            56,
            57,
            58,
            59,
            60,
            61,
            62,
            63,
            64,
            65,
            66,
            67,
            68,
            69,
            70,
            71,
            72,
            73,
            74,
            75,
            76,
            77,
            78,
            79,
            80,
            81,
            82,
            83,
            84,
            85,
            86,
            87,
            88,
            89,
            90,
            91,
            92,
            93,
            94,
            95,
            96,
            97
           ],
           "y": [
            5.5,
            5.1429895000000005,
            4.8091529085655,
            4.496985984117605,
            4.205082126902548,
            3.932126040963176,
            3.6768878075182143,
            3.4382173430444,
            3.2150392170900446,
            3.006347806469513,
            2.8112027640037702,
            2.6287247813895216,
            2.458091627104747,
            2.2985344414977504,
            2.14933427236569,
            2.0098188354121604,
            1.8793594849867215,
            1.757368381456749,
            1.6432958424480095,
            1.5366278660188666,
            1.436883814607716,
            1.343614249317715,
            1.2563989047802526,
            1.174844795472062,
            1.0985844449531748,
            1.0272742300468192,
            0.9605928325002498,
            0.8982397911498262,
            0.8399341480664999,
            0.7854131825813555,
            0.734431227486817,
            0.6867585620794203,
            0.6421803770562831,
            0.6004958066011827,
            0.5615170232988935,
            0.5250683917995389,
            0.4909856774194389,
            0.45911530611246576,
            0.4293136724773993,
            0.40144649268321897,
            0.37538819939665846,
            0.351021375985622,
            0.32823622744901937,
            0.3069300856890762,
            0.2870069468969126,
            0.26837703896688697,
            0.2509564169905074,
            0.23466658500723653,
            0.2194341423078317,
            0.20519045269648797,
            0.19187133522150623,
            0.17941677498094305,
            0.16777065270015507,
            0.15688049186273526,
            0.14669722225543322,
            0.13717495886161082,
            0.12827079510694472,
            0.11994460952575792,
            0.11215888497683146,
            0.10487853959410046,
            0.09807076871050775,
            0.0917048970427399,
            0.08575224047079862,
            0.08018597678959864,
            0.07498102485020898,
            0.07011393154615704,
            0.06556276613556444,
            0.06130702142293876,
            0.05732752135535442,
            0.053606334616657016,
            0.05012669383035516,
            0.04687292000713299,
            0.04383035189655,
            0.04098527992459307,
            0.03832488441940775,
            0.0358371778468596,
            0.03351095079564211,
            0.031335721468546206,
            0.029301688452301418,
            0.027399686553174086,
            0.025621145499320968,
            0.023958051323814507,
            0.022402910254334392,
            0.020948714946815265,
            0.019588912910902583,
            0.018317376984942974,
            0.017128377727473304,
            0.016016557600805333,
            0.014976906830379477,
            0.014004740831112717,
            0.01309567909902441,
            0.01224562547302761,
            0.011450749677947906,
            0.01070747006560264,
            0.010012437476174299,
            0.009362520147158337,
            0.00875478960188614,
            0.008186507454038114
           ]
          }
         ]
        },
        {
         "data": [
          {
           "line": {
            "color": "red",
            "width": 2
           },
           "mode": "lines",
           "type": "scatter",
           "x": [
            0,
            1,
            2,
            3,
            4,
            5,
            6,
            7,
            8,
            9,
            10,
            11,
            12,
            13,
            14,
            15,
            16,
            17,
            18,
            19,
            20,
            21,
            22,
            23,
            24,
            25,
            26,
            27,
            28,
            29,
            30,
            31,
            32,
            33,
            34,
            35,
            36,
            37,
            38,
            39,
            40,
            41,
            42,
            43,
            44,
            45,
            46,
            47,
            48,
            49,
            50,
            51,
            52,
            53,
            54,
            55,
            56,
            57,
            58,
            59,
            60,
            61,
            62,
            63,
            64,
            65,
            66,
            67,
            68,
            69,
            70,
            71,
            72,
            73,
            74,
            75,
            76,
            77,
            78,
            79,
            80,
            81,
            82,
            83,
            84,
            85,
            86,
            87,
            88,
            89,
            90,
            91,
            92,
            93,
            94,
            95,
            96,
            97,
            98
           ],
           "y": [
            5.5,
            5.1429895000000005,
            4.8091529085655,
            4.496985984117605,
            4.205082126902548,
            3.932126040963176,
            3.6768878075182143,
            3.4382173430444,
            3.2150392170900446,
            3.006347806469513,
            2.8112027640037702,
            2.6287247813895216,
            2.458091627104747,
            2.2985344414977504,
            2.14933427236569,
            2.0098188354121604,
            1.8793594849867215,
            1.757368381456749,
            1.6432958424480095,
            1.5366278660188666,
            1.436883814607716,
            1.343614249317715,
            1.2563989047802526,
            1.174844795472062,
            1.0985844449531748,
            1.0272742300468192,
            0.9605928325002498,
            0.8982397911498262,
            0.8399341480664999,
            0.7854131825813555,
            0.734431227486817,
            0.6867585620794203,
            0.6421803770562831,
            0.6004958066011827,
            0.5615170232988935,
            0.5250683917995389,
            0.4909856774194389,
            0.45911530611246576,
            0.4293136724773993,
            0.40144649268321897,
            0.37538819939665846,
            0.351021375985622,
            0.32823622744901937,
            0.3069300856890762,
            0.2870069468969126,
            0.26837703896688697,
            0.2509564169905074,
            0.23466658500723653,
            0.2194341423078317,
            0.20519045269648797,
            0.19187133522150623,
            0.17941677498094305,
            0.16777065270015507,
            0.15688049186273526,
            0.14669722225543322,
            0.13717495886161082,
            0.12827079510694472,
            0.11994460952575792,
            0.11215888497683146,
            0.10487853959410046,
            0.09807076871050775,
            0.0917048970427399,
            0.08575224047079862,
            0.08018597678959864,
            0.07498102485020898,
            0.07011393154615704,
            0.06556276613556444,
            0.06130702142293876,
            0.05732752135535442,
            0.053606334616657016,
            0.05012669383035516,
            0.04687292000713299,
            0.04383035189655,
            0.04098527992459307,
            0.03832488441940775,
            0.0358371778468596,
            0.03351095079564211,
            0.031335721468546206,
            0.029301688452301418,
            0.027399686553174086,
            0.025621145499320968,
            0.023958051323814507,
            0.022402910254334392,
            0.020948714946815265,
            0.019588912910902583,
            0.018317376984942974,
            0.017128377727473304,
            0.016016557600805333,
            0.014976906830379477,
            0.014004740831112717,
            0.01309567909902441,
            0.01224562547302761,
            0.011450749677947906,
            0.01070747006560264,
            0.010012437476174299,
            0.009362520147158337,
            0.00875478960188614,
            0.008186507454038114,
            0.007655113068689048
           ]
          }
         ]
        }
       ],
       "layout": {
        "hovermode": "closest",
        "template": {
         "data": {
          "bar": [
           {
            "error_x": {
             "color": "#2a3f5f"
            },
            "error_y": {
             "color": "#2a3f5f"
            },
            "marker": {
             "line": {
              "color": "#E5ECF6",
              "width": 0.5
             }
            },
            "type": "bar"
           }
          ],
          "barpolar": [
           {
            "marker": {
             "line": {
              "color": "#E5ECF6",
              "width": 0.5
             }
            },
            "type": "barpolar"
           }
          ],
          "carpet": [
           {
            "aaxis": {
             "endlinecolor": "#2a3f5f",
             "gridcolor": "white",
             "linecolor": "white",
             "minorgridcolor": "white",
             "startlinecolor": "#2a3f5f"
            },
            "baxis": {
             "endlinecolor": "#2a3f5f",
             "gridcolor": "white",
             "linecolor": "white",
             "minorgridcolor": "white",
             "startlinecolor": "#2a3f5f"
            },
            "type": "carpet"
           }
          ],
          "choropleth": [
           {
            "colorbar": {
             "outlinewidth": 0,
             "ticks": ""
            },
            "type": "choropleth"
           }
          ],
          "contour": [
           {
            "colorbar": {
             "outlinewidth": 0,
             "ticks": ""
            },
            "colorscale": [
             [
              0,
              "#0d0887"
             ],
             [
              0.1111111111111111,
              "#46039f"
             ],
             [
              0.2222222222222222,
              "#7201a8"
             ],
             [
              0.3333333333333333,
              "#9c179e"
             ],
             [
              0.4444444444444444,
              "#bd3786"
             ],
             [
              0.5555555555555556,
              "#d8576b"
             ],
             [
              0.6666666666666666,
              "#ed7953"
             ],
             [
              0.7777777777777778,
              "#fb9f3a"
             ],
             [
              0.8888888888888888,
              "#fdca26"
             ],
             [
              1,
              "#f0f921"
             ]
            ],
            "type": "contour"
           }
          ],
          "contourcarpet": [
           {
            "colorbar": {
             "outlinewidth": 0,
             "ticks": ""
            },
            "type": "contourcarpet"
           }
          ],
          "heatmap": [
           {
            "colorbar": {
             "outlinewidth": 0,
             "ticks": ""
            },
            "colorscale": [
             [
              0,
              "#0d0887"
             ],
             [
              0.1111111111111111,
              "#46039f"
             ],
             [
              0.2222222222222222,
              "#7201a8"
             ],
             [
              0.3333333333333333,
              "#9c179e"
             ],
             [
              0.4444444444444444,
              "#bd3786"
             ],
             [
              0.5555555555555556,
              "#d8576b"
             ],
             [
              0.6666666666666666,
              "#ed7953"
             ],
             [
              0.7777777777777778,
              "#fb9f3a"
             ],
             [
              0.8888888888888888,
              "#fdca26"
             ],
             [
              1,
              "#f0f921"
             ]
            ],
            "type": "heatmap"
           }
          ],
          "heatmapgl": [
           {
            "colorbar": {
             "outlinewidth": 0,
             "ticks": ""
            },
            "colorscale": [
             [
              0,
              "#0d0887"
             ],
             [
              0.1111111111111111,
              "#46039f"
             ],
             [
              0.2222222222222222,
              "#7201a8"
             ],
             [
              0.3333333333333333,
              "#9c179e"
             ],
             [
              0.4444444444444444,
              "#bd3786"
             ],
             [
              0.5555555555555556,
              "#d8576b"
             ],
             [
              0.6666666666666666,
              "#ed7953"
             ],
             [
              0.7777777777777778,
              "#fb9f3a"
             ],
             [
              0.8888888888888888,
              "#fdca26"
             ],
             [
              1,
              "#f0f921"
             ]
            ],
            "type": "heatmapgl"
           }
          ],
          "histogram": [
           {
            "marker": {
             "colorbar": {
              "outlinewidth": 0,
              "ticks": ""
             }
            },
            "type": "histogram"
           }
          ],
          "histogram2d": [
           {
            "colorbar": {
             "outlinewidth": 0,
             "ticks": ""
            },
            "colorscale": [
             [
              0,
              "#0d0887"
             ],
             [
              0.1111111111111111,
              "#46039f"
             ],
             [
              0.2222222222222222,
              "#7201a8"
             ],
             [
              0.3333333333333333,
              "#9c179e"
             ],
             [
              0.4444444444444444,
              "#bd3786"
             ],
             [
              0.5555555555555556,
              "#d8576b"
             ],
             [
              0.6666666666666666,
              "#ed7953"
             ],
             [
              0.7777777777777778,
              "#fb9f3a"
             ],
             [
              0.8888888888888888,
              "#fdca26"
             ],
             [
              1,
              "#f0f921"
             ]
            ],
            "type": "histogram2d"
           }
          ],
          "histogram2dcontour": [
           {
            "colorbar": {
             "outlinewidth": 0,
             "ticks": ""
            },
            "colorscale": [
             [
              0,
              "#0d0887"
             ],
             [
              0.1111111111111111,
              "#46039f"
             ],
             [
              0.2222222222222222,
              "#7201a8"
             ],
             [
              0.3333333333333333,
              "#9c179e"
             ],
             [
              0.4444444444444444,
              "#bd3786"
             ],
             [
              0.5555555555555556,
              "#d8576b"
             ],
             [
              0.6666666666666666,
              "#ed7953"
             ],
             [
              0.7777777777777778,
              "#fb9f3a"
             ],
             [
              0.8888888888888888,
              "#fdca26"
             ],
             [
              1,
              "#f0f921"
             ]
            ],
            "type": "histogram2dcontour"
           }
          ],
          "mesh3d": [
           {
            "colorbar": {
             "outlinewidth": 0,
             "ticks": ""
            },
            "type": "mesh3d"
           }
          ],
          "parcoords": [
           {
            "line": {
             "colorbar": {
              "outlinewidth": 0,
              "ticks": ""
             }
            },
            "type": "parcoords"
           }
          ],
          "scatter": [
           {
            "marker": {
             "colorbar": {
              "outlinewidth": 0,
              "ticks": ""
             }
            },
            "type": "scatter"
           }
          ],
          "scatter3d": [
           {
            "line": {
             "colorbar": {
              "outlinewidth": 0,
              "ticks": ""
             }
            },
            "marker": {
             "colorbar": {
              "outlinewidth": 0,
              "ticks": ""
             }
            },
            "type": "scatter3d"
           }
          ],
          "scattercarpet": [
           {
            "marker": {
             "colorbar": {
              "outlinewidth": 0,
              "ticks": ""
             }
            },
            "type": "scattercarpet"
           }
          ],
          "scattergeo": [
           {
            "marker": {
             "colorbar": {
              "outlinewidth": 0,
              "ticks": ""
             }
            },
            "type": "scattergeo"
           }
          ],
          "scattergl": [
           {
            "marker": {
             "colorbar": {
              "outlinewidth": 0,
              "ticks": ""
             }
            },
            "type": "scattergl"
           }
          ],
          "scattermapbox": [
           {
            "marker": {
             "colorbar": {
              "outlinewidth": 0,
              "ticks": ""
             }
            },
            "type": "scattermapbox"
           }
          ],
          "scatterpolar": [
           {
            "marker": {
             "colorbar": {
              "outlinewidth": 0,
              "ticks": ""
             }
            },
            "type": "scatterpolar"
           }
          ],
          "scatterpolargl": [
           {
            "marker": {
             "colorbar": {
              "outlinewidth": 0,
              "ticks": ""
             }
            },
            "type": "scatterpolargl"
           }
          ],
          "scatterternary": [
           {
            "marker": {
             "colorbar": {
              "outlinewidth": 0,
              "ticks": ""
             }
            },
            "type": "scatterternary"
           }
          ],
          "surface": [
           {
            "colorbar": {
             "outlinewidth": 0,
             "ticks": ""
            },
            "colorscale": [
             [
              0,
              "#0d0887"
             ],
             [
              0.1111111111111111,
              "#46039f"
             ],
             [
              0.2222222222222222,
              "#7201a8"
             ],
             [
              0.3333333333333333,
              "#9c179e"
             ],
             [
              0.4444444444444444,
              "#bd3786"
             ],
             [
              0.5555555555555556,
              "#d8576b"
             ],
             [
              0.6666666666666666,
              "#ed7953"
             ],
             [
              0.7777777777777778,
              "#fb9f3a"
             ],
             [
              0.8888888888888888,
              "#fdca26"
             ],
             [
              1,
              "#f0f921"
             ]
            ],
            "type": "surface"
           }
          ],
          "table": [
           {
            "cells": {
             "fill": {
              "color": "#EBF0F8"
             },
             "line": {
              "color": "white"
             }
            },
            "header": {
             "fill": {
              "color": "#C8D4E3"
             },
             "line": {
              "color": "white"
             }
            },
            "type": "table"
           }
          ]
         },
         "layout": {
          "annotationdefaults": {
           "arrowcolor": "#2a3f5f",
           "arrowhead": 0,
           "arrowwidth": 1
          },
          "colorscale": {
           "diverging": [
            [
             0,
             "#8e0152"
            ],
            [
             0.1,
             "#c51b7d"
            ],
            [
             0.2,
             "#de77ae"
            ],
            [
             0.3,
             "#f1b6da"
            ],
            [
             0.4,
             "#fde0ef"
            ],
            [
             0.5,
             "#f7f7f7"
            ],
            [
             0.6,
             "#e6f5d0"
            ],
            [
             0.7,
             "#b8e186"
            ],
            [
             0.8,
             "#7fbc41"
            ],
            [
             0.9,
             "#4d9221"
            ],
            [
             1,
             "#276419"
            ]
           ],
           "sequential": [
            [
             0,
             "#0d0887"
            ],
            [
             0.1111111111111111,
             "#46039f"
            ],
            [
             0.2222222222222222,
             "#7201a8"
            ],
            [
             0.3333333333333333,
             "#9c179e"
            ],
            [
             0.4444444444444444,
             "#bd3786"
            ],
            [
             0.5555555555555556,
             "#d8576b"
            ],
            [
             0.6666666666666666,
             "#ed7953"
            ],
            [
             0.7777777777777778,
             "#fb9f3a"
            ],
            [
             0.8888888888888888,
             "#fdca26"
            ],
            [
             1,
             "#f0f921"
            ]
           ],
           "sequentialminus": [
            [
             0,
             "#0d0887"
            ],
            [
             0.1111111111111111,
             "#46039f"
            ],
            [
             0.2222222222222222,
             "#7201a8"
            ],
            [
             0.3333333333333333,
             "#9c179e"
            ],
            [
             0.4444444444444444,
             "#bd3786"
            ],
            [
             0.5555555555555556,
             "#d8576b"
            ],
            [
             0.6666666666666666,
             "#ed7953"
            ],
            [
             0.7777777777777778,
             "#fb9f3a"
            ],
            [
             0.8888888888888888,
             "#fdca26"
            ],
            [
             1,
             "#f0f921"
            ]
           ]
          },
          "colorway": [
           "#636efa",
           "#EF553B",
           "#00cc96",
           "#ab63fa",
           "#FFA15A",
           "#19d3f3",
           "#FF6692",
           "#B6E880",
           "#FF97FF",
           "#FECB52"
          ],
          "font": {
           "color": "#2a3f5f"
          },
          "geo": {
           "bgcolor": "white",
           "lakecolor": "white",
           "landcolor": "#E5ECF6",
           "showlakes": true,
           "showland": true,
           "subunitcolor": "white"
          },
          "hoverlabel": {
           "align": "left"
          },
          "hovermode": "closest",
          "mapbox": {
           "style": "light"
          },
          "paper_bgcolor": "white",
          "plot_bgcolor": "#E5ECF6",
          "polar": {
           "angularaxis": {
            "gridcolor": "white",
            "linecolor": "white",
            "ticks": ""
           },
           "bgcolor": "#E5ECF6",
           "radialaxis": {
            "gridcolor": "white",
            "linecolor": "white",
            "ticks": ""
           }
          },
          "scene": {
           "xaxis": {
            "backgroundcolor": "#E5ECF6",
            "gridcolor": "white",
            "gridwidth": 2,
            "linecolor": "white",
            "showbackground": true,
            "ticks": "",
            "zerolinecolor": "white"
           },
           "yaxis": {
            "backgroundcolor": "#E5ECF6",
            "gridcolor": "white",
            "gridwidth": 2,
            "linecolor": "white",
            "showbackground": true,
            "ticks": "",
            "zerolinecolor": "white"
           },
           "zaxis": {
            "backgroundcolor": "#E5ECF6",
            "gridcolor": "white",
            "gridwidth": 2,
            "linecolor": "white",
            "showbackground": true,
            "ticks": "",
            "zerolinecolor": "white"
           }
          },
          "shapedefaults": {
           "line": {
            "color": "#2a3f5f"
           }
          },
          "ternary": {
           "aaxis": {
            "gridcolor": "white",
            "linecolor": "white",
            "ticks": ""
           },
           "baxis": {
            "gridcolor": "white",
            "linecolor": "white",
            "ticks": ""
           },
           "bgcolor": "#E5ECF6",
           "caxis": {
            "gridcolor": "white",
            "linecolor": "white",
            "ticks": ""
           }
          },
          "title": {
           "x": 0.05
          },
          "xaxis": {
           "automargin": true,
           "gridcolor": "white",
           "linecolor": "white",
           "ticks": "",
           "zerolinecolor": "white",
           "zerolinewidth": 2
          },
          "yaxis": {
           "automargin": true,
           "gridcolor": "white",
           "linecolor": "white",
           "ticks": "",
           "zerolinecolor": "white",
           "zerolinewidth": 2
          }
         }
        },
        "title": {
         "text": "The cost of the model per iteration"
        },
        "updatemenus": [
         {
          "buttons": [
           {
            "args": [
             null
            ],
            "label": "Play",
            "method": "animate"
           }
          ],
          "type": "buttons"
         }
        ],
        "xaxis": {
         "autorange": false,
         "range": [
          0,
          100
         ],
         "zeroline": false
        },
        "yaxis": {
         "autorange": false,
         "range": [
          0,
          2
         ],
         "zeroline": false
        }
       }
      },
      "text/html": [
       "<div>\n",
       "        \n",
       "        \n",
       "            <div id=\"e0a84403-8c7a-401e-aa2f-b4eb95ff0638\" class=\"plotly-graph-div\" style=\"height:525px; width:100%;\"></div>\n",
       "            <script type=\"text/javascript\">\n",
       "                require([\"plotly\"], function(Plotly) {\n",
       "                    window.PLOTLYENV=window.PLOTLYENV || {};\n",
       "                    \n",
       "                if (document.getElementById(\"e0a84403-8c7a-401e-aa2f-b4eb95ff0638\")) {\n",
       "                    Plotly.newPlot(\n",
       "                        'e0a84403-8c7a-401e-aa2f-b4eb95ff0638',\n",
       "                        [{\"line\": {\"color\": \"blue\", \"width\": 2}, \"mode\": \"lines\", \"type\": \"scatter\", \"x\": [0, 1, 2], \"y\": [5.5, 5.1429895000000005, 4.8091529085655]}],\n",
       "                        {\"hovermode\": \"closest\", \"template\": {\"data\": {\"bar\": [{\"error_x\": {\"color\": \"#2a3f5f\"}, \"error_y\": {\"color\": \"#2a3f5f\"}, \"marker\": {\"line\": {\"color\": \"#E5ECF6\", \"width\": 0.5}}, \"type\": \"bar\"}], \"barpolar\": [{\"marker\": {\"line\": {\"color\": \"#E5ECF6\", \"width\": 0.5}}, \"type\": \"barpolar\"}], \"carpet\": [{\"aaxis\": {\"endlinecolor\": \"#2a3f5f\", \"gridcolor\": \"white\", \"linecolor\": \"white\", \"minorgridcolor\": \"white\", \"startlinecolor\": \"#2a3f5f\"}, \"baxis\": {\"endlinecolor\": \"#2a3f5f\", \"gridcolor\": \"white\", \"linecolor\": \"white\", \"minorgridcolor\": \"white\", \"startlinecolor\": \"#2a3f5f\"}, \"type\": \"carpet\"}], \"choropleth\": [{\"colorbar\": {\"outlinewidth\": 0, \"ticks\": \"\"}, \"type\": \"choropleth\"}], \"contour\": [{\"colorbar\": {\"outlinewidth\": 0, \"ticks\": \"\"}, \"colorscale\": [[0.0, \"#0d0887\"], [0.1111111111111111, \"#46039f\"], [0.2222222222222222, \"#7201a8\"], [0.3333333333333333, \"#9c179e\"], [0.4444444444444444, \"#bd3786\"], [0.5555555555555556, \"#d8576b\"], [0.6666666666666666, \"#ed7953\"], [0.7777777777777778, \"#fb9f3a\"], [0.8888888888888888, \"#fdca26\"], [1.0, \"#f0f921\"]], \"type\": \"contour\"}], \"contourcarpet\": [{\"colorbar\": {\"outlinewidth\": 0, \"ticks\": \"\"}, \"type\": \"contourcarpet\"}], \"heatmap\": [{\"colorbar\": {\"outlinewidth\": 0, \"ticks\": \"\"}, \"colorscale\": [[0.0, \"#0d0887\"], [0.1111111111111111, \"#46039f\"], [0.2222222222222222, \"#7201a8\"], [0.3333333333333333, \"#9c179e\"], [0.4444444444444444, \"#bd3786\"], [0.5555555555555556, \"#d8576b\"], [0.6666666666666666, \"#ed7953\"], [0.7777777777777778, \"#fb9f3a\"], [0.8888888888888888, \"#fdca26\"], [1.0, \"#f0f921\"]], \"type\": \"heatmap\"}], \"heatmapgl\": [{\"colorbar\": {\"outlinewidth\": 0, \"ticks\": \"\"}, \"colorscale\": [[0.0, \"#0d0887\"], [0.1111111111111111, \"#46039f\"], [0.2222222222222222, \"#7201a8\"], [0.3333333333333333, \"#9c179e\"], [0.4444444444444444, \"#bd3786\"], [0.5555555555555556, \"#d8576b\"], [0.6666666666666666, \"#ed7953\"], [0.7777777777777778, \"#fb9f3a\"], [0.8888888888888888, \"#fdca26\"], [1.0, \"#f0f921\"]], \"type\": \"heatmapgl\"}], \"histogram\": [{\"marker\": {\"colorbar\": {\"outlinewidth\": 0, \"ticks\": \"\"}}, \"type\": \"histogram\"}], \"histogram2d\": [{\"colorbar\": {\"outlinewidth\": 0, \"ticks\": \"\"}, \"colorscale\": [[0.0, \"#0d0887\"], [0.1111111111111111, \"#46039f\"], [0.2222222222222222, \"#7201a8\"], [0.3333333333333333, \"#9c179e\"], [0.4444444444444444, \"#bd3786\"], [0.5555555555555556, \"#d8576b\"], [0.6666666666666666, \"#ed7953\"], [0.7777777777777778, \"#fb9f3a\"], [0.8888888888888888, \"#fdca26\"], [1.0, \"#f0f921\"]], \"type\": \"histogram2d\"}], \"histogram2dcontour\": [{\"colorbar\": {\"outlinewidth\": 0, \"ticks\": \"\"}, \"colorscale\": [[0.0, \"#0d0887\"], [0.1111111111111111, \"#46039f\"], [0.2222222222222222, \"#7201a8\"], [0.3333333333333333, \"#9c179e\"], [0.4444444444444444, \"#bd3786\"], [0.5555555555555556, \"#d8576b\"], [0.6666666666666666, \"#ed7953\"], [0.7777777777777778, \"#fb9f3a\"], [0.8888888888888888, \"#fdca26\"], [1.0, \"#f0f921\"]], \"type\": \"histogram2dcontour\"}], \"mesh3d\": [{\"colorbar\": {\"outlinewidth\": 0, \"ticks\": \"\"}, \"type\": \"mesh3d\"}], \"parcoords\": [{\"line\": {\"colorbar\": {\"outlinewidth\": 0, \"ticks\": \"\"}}, \"type\": \"parcoords\"}], \"scatter\": [{\"marker\": {\"colorbar\": {\"outlinewidth\": 0, \"ticks\": \"\"}}, \"type\": \"scatter\"}], \"scatter3d\": [{\"line\": {\"colorbar\": {\"outlinewidth\": 0, \"ticks\": \"\"}}, \"marker\": {\"colorbar\": {\"outlinewidth\": 0, \"ticks\": \"\"}}, \"type\": \"scatter3d\"}], \"scattercarpet\": [{\"marker\": {\"colorbar\": {\"outlinewidth\": 0, \"ticks\": \"\"}}, \"type\": \"scattercarpet\"}], \"scattergeo\": [{\"marker\": {\"colorbar\": {\"outlinewidth\": 0, \"ticks\": \"\"}}, \"type\": \"scattergeo\"}], \"scattergl\": [{\"marker\": {\"colorbar\": {\"outlinewidth\": 0, \"ticks\": \"\"}}, \"type\": \"scattergl\"}], \"scattermapbox\": [{\"marker\": {\"colorbar\": {\"outlinewidth\": 0, \"ticks\": \"\"}}, \"type\": \"scattermapbox\"}], \"scatterpolar\": [{\"marker\": {\"colorbar\": {\"outlinewidth\": 0, \"ticks\": \"\"}}, \"type\": \"scatterpolar\"}], \"scatterpolargl\": [{\"marker\": {\"colorbar\": {\"outlinewidth\": 0, \"ticks\": \"\"}}, \"type\": \"scatterpolargl\"}], \"scatterternary\": [{\"marker\": {\"colorbar\": {\"outlinewidth\": 0, \"ticks\": \"\"}}, \"type\": \"scatterternary\"}], \"surface\": [{\"colorbar\": {\"outlinewidth\": 0, \"ticks\": \"\"}, \"colorscale\": [[0.0, \"#0d0887\"], [0.1111111111111111, \"#46039f\"], [0.2222222222222222, \"#7201a8\"], [0.3333333333333333, \"#9c179e\"], [0.4444444444444444, \"#bd3786\"], [0.5555555555555556, \"#d8576b\"], [0.6666666666666666, \"#ed7953\"], [0.7777777777777778, \"#fb9f3a\"], [0.8888888888888888, \"#fdca26\"], [1.0, \"#f0f921\"]], \"type\": \"surface\"}], \"table\": [{\"cells\": {\"fill\": {\"color\": \"#EBF0F8\"}, \"line\": {\"color\": \"white\"}}, \"header\": {\"fill\": {\"color\": \"#C8D4E3\"}, \"line\": {\"color\": \"white\"}}, \"type\": \"table\"}]}, \"layout\": {\"annotationdefaults\": {\"arrowcolor\": \"#2a3f5f\", \"arrowhead\": 0, \"arrowwidth\": 1}, \"colorscale\": {\"diverging\": [[0, \"#8e0152\"], [0.1, \"#c51b7d\"], [0.2, \"#de77ae\"], [0.3, \"#f1b6da\"], [0.4, \"#fde0ef\"], [0.5, \"#f7f7f7\"], [0.6, \"#e6f5d0\"], [0.7, \"#b8e186\"], [0.8, \"#7fbc41\"], [0.9, \"#4d9221\"], [1, \"#276419\"]], \"sequential\": [[0.0, \"#0d0887\"], [0.1111111111111111, \"#46039f\"], [0.2222222222222222, \"#7201a8\"], [0.3333333333333333, \"#9c179e\"], [0.4444444444444444, \"#bd3786\"], [0.5555555555555556, \"#d8576b\"], [0.6666666666666666, \"#ed7953\"], [0.7777777777777778, \"#fb9f3a\"], [0.8888888888888888, \"#fdca26\"], [1.0, \"#f0f921\"]], \"sequentialminus\": [[0.0, \"#0d0887\"], [0.1111111111111111, \"#46039f\"], [0.2222222222222222, \"#7201a8\"], [0.3333333333333333, \"#9c179e\"], [0.4444444444444444, \"#bd3786\"], [0.5555555555555556, \"#d8576b\"], [0.6666666666666666, \"#ed7953\"], [0.7777777777777778, \"#fb9f3a\"], [0.8888888888888888, \"#fdca26\"], [1.0, \"#f0f921\"]]}, \"colorway\": [\"#636efa\", \"#EF553B\", \"#00cc96\", \"#ab63fa\", \"#FFA15A\", \"#19d3f3\", \"#FF6692\", \"#B6E880\", \"#FF97FF\", \"#FECB52\"], \"font\": {\"color\": \"#2a3f5f\"}, \"geo\": {\"bgcolor\": \"white\", \"lakecolor\": \"white\", \"landcolor\": \"#E5ECF6\", \"showlakes\": true, \"showland\": true, \"subunitcolor\": \"white\"}, \"hoverlabel\": {\"align\": \"left\"}, \"hovermode\": \"closest\", \"mapbox\": {\"style\": \"light\"}, \"paper_bgcolor\": \"white\", \"plot_bgcolor\": \"#E5ECF6\", \"polar\": {\"angularaxis\": {\"gridcolor\": \"white\", \"linecolor\": \"white\", \"ticks\": \"\"}, \"bgcolor\": \"#E5ECF6\", \"radialaxis\": {\"gridcolor\": \"white\", \"linecolor\": \"white\", \"ticks\": \"\"}}, \"scene\": {\"xaxis\": {\"backgroundcolor\": \"#E5ECF6\", \"gridcolor\": \"white\", \"gridwidth\": 2, \"linecolor\": \"white\", \"showbackground\": true, \"ticks\": \"\", \"zerolinecolor\": \"white\"}, \"yaxis\": {\"backgroundcolor\": \"#E5ECF6\", \"gridcolor\": \"white\", \"gridwidth\": 2, \"linecolor\": \"white\", \"showbackground\": true, \"ticks\": \"\", \"zerolinecolor\": \"white\"}, \"zaxis\": {\"backgroundcolor\": \"#E5ECF6\", \"gridcolor\": \"white\", \"gridwidth\": 2, \"linecolor\": \"white\", \"showbackground\": true, \"ticks\": \"\", \"zerolinecolor\": \"white\"}}, \"shapedefaults\": {\"line\": {\"color\": \"#2a3f5f\"}}, \"ternary\": {\"aaxis\": {\"gridcolor\": \"white\", \"linecolor\": \"white\", \"ticks\": \"\"}, \"baxis\": {\"gridcolor\": \"white\", \"linecolor\": \"white\", \"ticks\": \"\"}, \"bgcolor\": \"#E5ECF6\", \"caxis\": {\"gridcolor\": \"white\", \"linecolor\": \"white\", \"ticks\": \"\"}}, \"title\": {\"x\": 0.05}, \"xaxis\": {\"automargin\": true, \"gridcolor\": \"white\", \"linecolor\": \"white\", \"ticks\": \"\", \"zerolinecolor\": \"white\", \"zerolinewidth\": 2}, \"yaxis\": {\"automargin\": true, \"gridcolor\": \"white\", \"linecolor\": \"white\", \"ticks\": \"\", \"zerolinecolor\": \"white\", \"zerolinewidth\": 2}}}, \"title\": {\"text\": \"The cost of the model per iteration\"}, \"updatemenus\": [{\"buttons\": [{\"args\": [null], \"label\": \"Play\", \"method\": \"animate\"}], \"type\": \"buttons\"}], \"xaxis\": {\"autorange\": false, \"range\": [0, 100], \"zeroline\": false}, \"yaxis\": {\"autorange\": false, \"range\": [0, 2], \"zeroline\": false}},\n",
       "                        {\"responsive\": true}\n",
       "                    ).then(function(){\n",
       "                            Plotly.addFrames('e0a84403-8c7a-401e-aa2f-b4eb95ff0638', [{\"data\": [{\"line\": {\"color\": \"red\", \"width\": 2}, \"mode\": \"lines\", \"x\": [0, 1, 2], \"y\": [5.5, 5.1429895000000005, 4.8091529085655], \"type\": \"scatter\"}]}, {\"data\": [{\"line\": {\"color\": \"red\", \"width\": 2}, \"mode\": \"lines\", \"x\": [0, 1, 2, 3], \"y\": [5.5, 5.1429895000000005, 4.8091529085655, 4.496985984117605], \"type\": \"scatter\"}]}, {\"data\": [{\"line\": {\"color\": \"red\", \"width\": 2}, \"mode\": \"lines\", \"x\": [0, 1, 2, 3, 4], \"y\": [5.5, 5.1429895000000005, 4.8091529085655, 4.496985984117605, 4.205082126902548], \"type\": \"scatter\"}]}, {\"data\": [{\"line\": {\"color\": \"red\", \"width\": 2}, \"mode\": \"lines\", \"x\": [0, 1, 2, 3, 4, 5], \"y\": [5.5, 5.1429895000000005, 4.8091529085655, 4.496985984117605, 4.205082126902548, 3.932126040963176], \"type\": \"scatter\"}]}, {\"data\": [{\"line\": {\"color\": \"red\", \"width\": 2}, \"mode\": \"lines\", \"x\": [0, 1, 2, 3, 4, 5, 6], \"y\": [5.5, 5.1429895000000005, 4.8091529085655, 4.496985984117605, 4.205082126902548, 3.932126040963176, 3.6768878075182143], \"type\": \"scatter\"}]}, {\"data\": [{\"line\": {\"color\": \"red\", \"width\": 2}, \"mode\": \"lines\", \"x\": [0, 1, 2, 3, 4, 5, 6, 7], \"y\": [5.5, 5.1429895000000005, 4.8091529085655, 4.496985984117605, 4.205082126902548, 3.932126040963176, 3.6768878075182143, 3.4382173430444], \"type\": \"scatter\"}]}, {\"data\": [{\"line\": {\"color\": \"red\", \"width\": 2}, \"mode\": \"lines\", \"x\": [0, 1, 2, 3, 4, 5, 6, 7, 8], \"y\": [5.5, 5.1429895000000005, 4.8091529085655, 4.496985984117605, 4.205082126902548, 3.932126040963176, 3.6768878075182143, 3.4382173430444, 3.2150392170900446], \"type\": \"scatter\"}]}, {\"data\": [{\"line\": {\"color\": \"red\", \"width\": 2}, \"mode\": \"lines\", \"x\": [0, 1, 2, 3, 4, 5, 6, 7, 8, 9], \"y\": [5.5, 5.1429895000000005, 4.8091529085655, 4.496985984117605, 4.205082126902548, 3.932126040963176, 3.6768878075182143, 3.4382173430444, 3.2150392170900446, 3.006347806469513], \"type\": \"scatter\"}]}, {\"data\": [{\"line\": {\"color\": \"red\", \"width\": 2}, \"mode\": \"lines\", \"x\": [0, 1, 2, 3, 4, 5, 6, 7, 8, 9, 10], \"y\": [5.5, 5.1429895000000005, 4.8091529085655, 4.496985984117605, 4.205082126902548, 3.932126040963176, 3.6768878075182143, 3.4382173430444, 3.2150392170900446, 3.006347806469513, 2.8112027640037702], \"type\": \"scatter\"}]}, {\"data\": [{\"line\": {\"color\": \"red\", \"width\": 2}, \"mode\": \"lines\", \"x\": [0, 1, 2, 3, 4, 5, 6, 7, 8, 9, 10, 11], \"y\": [5.5, 5.1429895000000005, 4.8091529085655, 4.496985984117605, 4.205082126902548, 3.932126040963176, 3.6768878075182143, 3.4382173430444, 3.2150392170900446, 3.006347806469513, 2.8112027640037702, 2.6287247813895216], \"type\": \"scatter\"}]}, {\"data\": [{\"line\": {\"color\": \"red\", \"width\": 2}, \"mode\": \"lines\", \"x\": [0, 1, 2, 3, 4, 5, 6, 7, 8, 9, 10, 11, 12], \"y\": [5.5, 5.1429895000000005, 4.8091529085655, 4.496985984117605, 4.205082126902548, 3.932126040963176, 3.6768878075182143, 3.4382173430444, 3.2150392170900446, 3.006347806469513, 2.8112027640037702, 2.6287247813895216, 2.458091627104747], \"type\": \"scatter\"}]}, {\"data\": [{\"line\": {\"color\": \"red\", \"width\": 2}, \"mode\": \"lines\", \"x\": [0, 1, 2, 3, 4, 5, 6, 7, 8, 9, 10, 11, 12, 13], \"y\": [5.5, 5.1429895000000005, 4.8091529085655, 4.496985984117605, 4.205082126902548, 3.932126040963176, 3.6768878075182143, 3.4382173430444, 3.2150392170900446, 3.006347806469513, 2.8112027640037702, 2.6287247813895216, 2.458091627104747, 2.2985344414977504], \"type\": \"scatter\"}]}, {\"data\": [{\"line\": {\"color\": \"red\", \"width\": 2}, \"mode\": \"lines\", \"x\": [0, 1, 2, 3, 4, 5, 6, 7, 8, 9, 10, 11, 12, 13, 14], \"y\": [5.5, 5.1429895000000005, 4.8091529085655, 4.496985984117605, 4.205082126902548, 3.932126040963176, 3.6768878075182143, 3.4382173430444, 3.2150392170900446, 3.006347806469513, 2.8112027640037702, 2.6287247813895216, 2.458091627104747, 2.2985344414977504, 2.14933427236569], \"type\": \"scatter\"}]}, {\"data\": [{\"line\": {\"color\": \"red\", \"width\": 2}, \"mode\": \"lines\", \"x\": [0, 1, 2, 3, 4, 5, 6, 7, 8, 9, 10, 11, 12, 13, 14, 15], \"y\": [5.5, 5.1429895000000005, 4.8091529085655, 4.496985984117605, 4.205082126902548, 3.932126040963176, 3.6768878075182143, 3.4382173430444, 3.2150392170900446, 3.006347806469513, 2.8112027640037702, 2.6287247813895216, 2.458091627104747, 2.2985344414977504, 2.14933427236569, 2.0098188354121604], \"type\": \"scatter\"}]}, {\"data\": [{\"line\": {\"color\": \"red\", \"width\": 2}, \"mode\": \"lines\", \"x\": [0, 1, 2, 3, 4, 5, 6, 7, 8, 9, 10, 11, 12, 13, 14, 15, 16], \"y\": [5.5, 5.1429895000000005, 4.8091529085655, 4.496985984117605, 4.205082126902548, 3.932126040963176, 3.6768878075182143, 3.4382173430444, 3.2150392170900446, 3.006347806469513, 2.8112027640037702, 2.6287247813895216, 2.458091627104747, 2.2985344414977504, 2.14933427236569, 2.0098188354121604, 1.8793594849867215], \"type\": \"scatter\"}]}, {\"data\": [{\"line\": {\"color\": \"red\", \"width\": 2}, \"mode\": \"lines\", \"x\": [0, 1, 2, 3, 4, 5, 6, 7, 8, 9, 10, 11, 12, 13, 14, 15, 16, 17], \"y\": [5.5, 5.1429895000000005, 4.8091529085655, 4.496985984117605, 4.205082126902548, 3.932126040963176, 3.6768878075182143, 3.4382173430444, 3.2150392170900446, 3.006347806469513, 2.8112027640037702, 2.6287247813895216, 2.458091627104747, 2.2985344414977504, 2.14933427236569, 2.0098188354121604, 1.8793594849867215, 1.757368381456749], \"type\": \"scatter\"}]}, {\"data\": [{\"line\": {\"color\": \"red\", \"width\": 2}, \"mode\": \"lines\", \"x\": [0, 1, 2, 3, 4, 5, 6, 7, 8, 9, 10, 11, 12, 13, 14, 15, 16, 17, 18], \"y\": [5.5, 5.1429895000000005, 4.8091529085655, 4.496985984117605, 4.205082126902548, 3.932126040963176, 3.6768878075182143, 3.4382173430444, 3.2150392170900446, 3.006347806469513, 2.8112027640037702, 2.6287247813895216, 2.458091627104747, 2.2985344414977504, 2.14933427236569, 2.0098188354121604, 1.8793594849867215, 1.757368381456749, 1.6432958424480095], \"type\": \"scatter\"}]}, {\"data\": [{\"line\": {\"color\": \"red\", \"width\": 2}, \"mode\": \"lines\", \"x\": [0, 1, 2, 3, 4, 5, 6, 7, 8, 9, 10, 11, 12, 13, 14, 15, 16, 17, 18, 19], \"y\": [5.5, 5.1429895000000005, 4.8091529085655, 4.496985984117605, 4.205082126902548, 3.932126040963176, 3.6768878075182143, 3.4382173430444, 3.2150392170900446, 3.006347806469513, 2.8112027640037702, 2.6287247813895216, 2.458091627104747, 2.2985344414977504, 2.14933427236569, 2.0098188354121604, 1.8793594849867215, 1.757368381456749, 1.6432958424480095, 1.5366278660188666], \"type\": \"scatter\"}]}, {\"data\": [{\"line\": {\"color\": \"red\", \"width\": 2}, \"mode\": \"lines\", \"x\": [0, 1, 2, 3, 4, 5, 6, 7, 8, 9, 10, 11, 12, 13, 14, 15, 16, 17, 18, 19, 20], \"y\": [5.5, 5.1429895000000005, 4.8091529085655, 4.496985984117605, 4.205082126902548, 3.932126040963176, 3.6768878075182143, 3.4382173430444, 3.2150392170900446, 3.006347806469513, 2.8112027640037702, 2.6287247813895216, 2.458091627104747, 2.2985344414977504, 2.14933427236569, 2.0098188354121604, 1.8793594849867215, 1.757368381456749, 1.6432958424480095, 1.5366278660188666, 1.436883814607716], \"type\": \"scatter\"}]}, {\"data\": [{\"line\": {\"color\": \"red\", \"width\": 2}, \"mode\": \"lines\", \"x\": [0, 1, 2, 3, 4, 5, 6, 7, 8, 9, 10, 11, 12, 13, 14, 15, 16, 17, 18, 19, 20, 21], \"y\": [5.5, 5.1429895000000005, 4.8091529085655, 4.496985984117605, 4.205082126902548, 3.932126040963176, 3.6768878075182143, 3.4382173430444, 3.2150392170900446, 3.006347806469513, 2.8112027640037702, 2.6287247813895216, 2.458091627104747, 2.2985344414977504, 2.14933427236569, 2.0098188354121604, 1.8793594849867215, 1.757368381456749, 1.6432958424480095, 1.5366278660188666, 1.436883814607716, 1.343614249317715], \"type\": \"scatter\"}]}, {\"data\": [{\"line\": {\"color\": \"red\", \"width\": 2}, \"mode\": \"lines\", \"x\": [0, 1, 2, 3, 4, 5, 6, 7, 8, 9, 10, 11, 12, 13, 14, 15, 16, 17, 18, 19, 20, 21, 22], \"y\": [5.5, 5.1429895000000005, 4.8091529085655, 4.496985984117605, 4.205082126902548, 3.932126040963176, 3.6768878075182143, 3.4382173430444, 3.2150392170900446, 3.006347806469513, 2.8112027640037702, 2.6287247813895216, 2.458091627104747, 2.2985344414977504, 2.14933427236569, 2.0098188354121604, 1.8793594849867215, 1.757368381456749, 1.6432958424480095, 1.5366278660188666, 1.436883814607716, 1.343614249317715, 1.2563989047802526], \"type\": \"scatter\"}]}, {\"data\": [{\"line\": {\"color\": \"red\", \"width\": 2}, \"mode\": \"lines\", \"x\": [0, 1, 2, 3, 4, 5, 6, 7, 8, 9, 10, 11, 12, 13, 14, 15, 16, 17, 18, 19, 20, 21, 22, 23], \"y\": [5.5, 5.1429895000000005, 4.8091529085655, 4.496985984117605, 4.205082126902548, 3.932126040963176, 3.6768878075182143, 3.4382173430444, 3.2150392170900446, 3.006347806469513, 2.8112027640037702, 2.6287247813895216, 2.458091627104747, 2.2985344414977504, 2.14933427236569, 2.0098188354121604, 1.8793594849867215, 1.757368381456749, 1.6432958424480095, 1.5366278660188666, 1.436883814607716, 1.343614249317715, 1.2563989047802526, 1.174844795472062], \"type\": \"scatter\"}]}, {\"data\": [{\"line\": {\"color\": \"red\", \"width\": 2}, \"mode\": \"lines\", \"x\": [0, 1, 2, 3, 4, 5, 6, 7, 8, 9, 10, 11, 12, 13, 14, 15, 16, 17, 18, 19, 20, 21, 22, 23, 24], \"y\": [5.5, 5.1429895000000005, 4.8091529085655, 4.496985984117605, 4.205082126902548, 3.932126040963176, 3.6768878075182143, 3.4382173430444, 3.2150392170900446, 3.006347806469513, 2.8112027640037702, 2.6287247813895216, 2.458091627104747, 2.2985344414977504, 2.14933427236569, 2.0098188354121604, 1.8793594849867215, 1.757368381456749, 1.6432958424480095, 1.5366278660188666, 1.436883814607716, 1.343614249317715, 1.2563989047802526, 1.174844795472062, 1.0985844449531748], \"type\": \"scatter\"}]}, {\"data\": [{\"line\": {\"color\": \"red\", \"width\": 2}, \"mode\": \"lines\", \"x\": [0, 1, 2, 3, 4, 5, 6, 7, 8, 9, 10, 11, 12, 13, 14, 15, 16, 17, 18, 19, 20, 21, 22, 23, 24, 25], \"y\": [5.5, 5.1429895000000005, 4.8091529085655, 4.496985984117605, 4.205082126902548, 3.932126040963176, 3.6768878075182143, 3.4382173430444, 3.2150392170900446, 3.006347806469513, 2.8112027640037702, 2.6287247813895216, 2.458091627104747, 2.2985344414977504, 2.14933427236569, 2.0098188354121604, 1.8793594849867215, 1.757368381456749, 1.6432958424480095, 1.5366278660188666, 1.436883814607716, 1.343614249317715, 1.2563989047802526, 1.174844795472062, 1.0985844449531748, 1.0272742300468192], \"type\": \"scatter\"}]}, {\"data\": [{\"line\": {\"color\": \"red\", \"width\": 2}, \"mode\": \"lines\", \"x\": [0, 1, 2, 3, 4, 5, 6, 7, 8, 9, 10, 11, 12, 13, 14, 15, 16, 17, 18, 19, 20, 21, 22, 23, 24, 25, 26], \"y\": [5.5, 5.1429895000000005, 4.8091529085655, 4.496985984117605, 4.205082126902548, 3.932126040963176, 3.6768878075182143, 3.4382173430444, 3.2150392170900446, 3.006347806469513, 2.8112027640037702, 2.6287247813895216, 2.458091627104747, 2.2985344414977504, 2.14933427236569, 2.0098188354121604, 1.8793594849867215, 1.757368381456749, 1.6432958424480095, 1.5366278660188666, 1.436883814607716, 1.343614249317715, 1.2563989047802526, 1.174844795472062, 1.0985844449531748, 1.0272742300468192, 0.9605928325002498], \"type\": \"scatter\"}]}, {\"data\": [{\"line\": {\"color\": \"red\", \"width\": 2}, \"mode\": \"lines\", \"x\": [0, 1, 2, 3, 4, 5, 6, 7, 8, 9, 10, 11, 12, 13, 14, 15, 16, 17, 18, 19, 20, 21, 22, 23, 24, 25, 26, 27], \"y\": [5.5, 5.1429895000000005, 4.8091529085655, 4.496985984117605, 4.205082126902548, 3.932126040963176, 3.6768878075182143, 3.4382173430444, 3.2150392170900446, 3.006347806469513, 2.8112027640037702, 2.6287247813895216, 2.458091627104747, 2.2985344414977504, 2.14933427236569, 2.0098188354121604, 1.8793594849867215, 1.757368381456749, 1.6432958424480095, 1.5366278660188666, 1.436883814607716, 1.343614249317715, 1.2563989047802526, 1.174844795472062, 1.0985844449531748, 1.0272742300468192, 0.9605928325002498, 0.8982397911498262], \"type\": \"scatter\"}]}, {\"data\": [{\"line\": {\"color\": \"red\", \"width\": 2}, \"mode\": \"lines\", \"x\": [0, 1, 2, 3, 4, 5, 6, 7, 8, 9, 10, 11, 12, 13, 14, 15, 16, 17, 18, 19, 20, 21, 22, 23, 24, 25, 26, 27, 28], \"y\": [5.5, 5.1429895000000005, 4.8091529085655, 4.496985984117605, 4.205082126902548, 3.932126040963176, 3.6768878075182143, 3.4382173430444, 3.2150392170900446, 3.006347806469513, 2.8112027640037702, 2.6287247813895216, 2.458091627104747, 2.2985344414977504, 2.14933427236569, 2.0098188354121604, 1.8793594849867215, 1.757368381456749, 1.6432958424480095, 1.5366278660188666, 1.436883814607716, 1.343614249317715, 1.2563989047802526, 1.174844795472062, 1.0985844449531748, 1.0272742300468192, 0.9605928325002498, 0.8982397911498262, 0.8399341480664999], \"type\": \"scatter\"}]}, {\"data\": [{\"line\": {\"color\": \"red\", \"width\": 2}, \"mode\": \"lines\", \"x\": [0, 1, 2, 3, 4, 5, 6, 7, 8, 9, 10, 11, 12, 13, 14, 15, 16, 17, 18, 19, 20, 21, 22, 23, 24, 25, 26, 27, 28, 29], \"y\": [5.5, 5.1429895000000005, 4.8091529085655, 4.496985984117605, 4.205082126902548, 3.932126040963176, 3.6768878075182143, 3.4382173430444, 3.2150392170900446, 3.006347806469513, 2.8112027640037702, 2.6287247813895216, 2.458091627104747, 2.2985344414977504, 2.14933427236569, 2.0098188354121604, 1.8793594849867215, 1.757368381456749, 1.6432958424480095, 1.5366278660188666, 1.436883814607716, 1.343614249317715, 1.2563989047802526, 1.174844795472062, 1.0985844449531748, 1.0272742300468192, 0.9605928325002498, 0.8982397911498262, 0.8399341480664999, 0.7854131825813555], \"type\": \"scatter\"}]}, {\"data\": [{\"line\": {\"color\": \"red\", \"width\": 2}, \"mode\": \"lines\", \"x\": [0, 1, 2, 3, 4, 5, 6, 7, 8, 9, 10, 11, 12, 13, 14, 15, 16, 17, 18, 19, 20, 21, 22, 23, 24, 25, 26, 27, 28, 29, 30], \"y\": [5.5, 5.1429895000000005, 4.8091529085655, 4.496985984117605, 4.205082126902548, 3.932126040963176, 3.6768878075182143, 3.4382173430444, 3.2150392170900446, 3.006347806469513, 2.8112027640037702, 2.6287247813895216, 2.458091627104747, 2.2985344414977504, 2.14933427236569, 2.0098188354121604, 1.8793594849867215, 1.757368381456749, 1.6432958424480095, 1.5366278660188666, 1.436883814607716, 1.343614249317715, 1.2563989047802526, 1.174844795472062, 1.0985844449531748, 1.0272742300468192, 0.9605928325002498, 0.8982397911498262, 0.8399341480664999, 0.7854131825813555, 0.734431227486817], \"type\": \"scatter\"}]}, {\"data\": [{\"line\": {\"color\": \"red\", \"width\": 2}, \"mode\": \"lines\", \"x\": [0, 1, 2, 3, 4, 5, 6, 7, 8, 9, 10, 11, 12, 13, 14, 15, 16, 17, 18, 19, 20, 21, 22, 23, 24, 25, 26, 27, 28, 29, 30, 31], \"y\": [5.5, 5.1429895000000005, 4.8091529085655, 4.496985984117605, 4.205082126902548, 3.932126040963176, 3.6768878075182143, 3.4382173430444, 3.2150392170900446, 3.006347806469513, 2.8112027640037702, 2.6287247813895216, 2.458091627104747, 2.2985344414977504, 2.14933427236569, 2.0098188354121604, 1.8793594849867215, 1.757368381456749, 1.6432958424480095, 1.5366278660188666, 1.436883814607716, 1.343614249317715, 1.2563989047802526, 1.174844795472062, 1.0985844449531748, 1.0272742300468192, 0.9605928325002498, 0.8982397911498262, 0.8399341480664999, 0.7854131825813555, 0.734431227486817, 0.6867585620794203], \"type\": \"scatter\"}]}, {\"data\": [{\"line\": {\"color\": \"red\", \"width\": 2}, \"mode\": \"lines\", \"x\": [0, 1, 2, 3, 4, 5, 6, 7, 8, 9, 10, 11, 12, 13, 14, 15, 16, 17, 18, 19, 20, 21, 22, 23, 24, 25, 26, 27, 28, 29, 30, 31, 32], \"y\": [5.5, 5.1429895000000005, 4.8091529085655, 4.496985984117605, 4.205082126902548, 3.932126040963176, 3.6768878075182143, 3.4382173430444, 3.2150392170900446, 3.006347806469513, 2.8112027640037702, 2.6287247813895216, 2.458091627104747, 2.2985344414977504, 2.14933427236569, 2.0098188354121604, 1.8793594849867215, 1.757368381456749, 1.6432958424480095, 1.5366278660188666, 1.436883814607716, 1.343614249317715, 1.2563989047802526, 1.174844795472062, 1.0985844449531748, 1.0272742300468192, 0.9605928325002498, 0.8982397911498262, 0.8399341480664999, 0.7854131825813555, 0.734431227486817, 0.6867585620794203, 0.6421803770562831], \"type\": \"scatter\"}]}, {\"data\": [{\"line\": {\"color\": \"red\", \"width\": 2}, \"mode\": \"lines\", \"x\": [0, 1, 2, 3, 4, 5, 6, 7, 8, 9, 10, 11, 12, 13, 14, 15, 16, 17, 18, 19, 20, 21, 22, 23, 24, 25, 26, 27, 28, 29, 30, 31, 32, 33], \"y\": [5.5, 5.1429895000000005, 4.8091529085655, 4.496985984117605, 4.205082126902548, 3.932126040963176, 3.6768878075182143, 3.4382173430444, 3.2150392170900446, 3.006347806469513, 2.8112027640037702, 2.6287247813895216, 2.458091627104747, 2.2985344414977504, 2.14933427236569, 2.0098188354121604, 1.8793594849867215, 1.757368381456749, 1.6432958424480095, 1.5366278660188666, 1.436883814607716, 1.343614249317715, 1.2563989047802526, 1.174844795472062, 1.0985844449531748, 1.0272742300468192, 0.9605928325002498, 0.8982397911498262, 0.8399341480664999, 0.7854131825813555, 0.734431227486817, 0.6867585620794203, 0.6421803770562831, 0.6004958066011827], \"type\": \"scatter\"}]}, {\"data\": [{\"line\": {\"color\": \"red\", \"width\": 2}, \"mode\": \"lines\", \"x\": [0, 1, 2, 3, 4, 5, 6, 7, 8, 9, 10, 11, 12, 13, 14, 15, 16, 17, 18, 19, 20, 21, 22, 23, 24, 25, 26, 27, 28, 29, 30, 31, 32, 33, 34], \"y\": [5.5, 5.1429895000000005, 4.8091529085655, 4.496985984117605, 4.205082126902548, 3.932126040963176, 3.6768878075182143, 3.4382173430444, 3.2150392170900446, 3.006347806469513, 2.8112027640037702, 2.6287247813895216, 2.458091627104747, 2.2985344414977504, 2.14933427236569, 2.0098188354121604, 1.8793594849867215, 1.757368381456749, 1.6432958424480095, 1.5366278660188666, 1.436883814607716, 1.343614249317715, 1.2563989047802526, 1.174844795472062, 1.0985844449531748, 1.0272742300468192, 0.9605928325002498, 0.8982397911498262, 0.8399341480664999, 0.7854131825813555, 0.734431227486817, 0.6867585620794203, 0.6421803770562831, 0.6004958066011827, 0.5615170232988935], \"type\": \"scatter\"}]}, {\"data\": [{\"line\": {\"color\": \"red\", \"width\": 2}, \"mode\": \"lines\", \"x\": [0, 1, 2, 3, 4, 5, 6, 7, 8, 9, 10, 11, 12, 13, 14, 15, 16, 17, 18, 19, 20, 21, 22, 23, 24, 25, 26, 27, 28, 29, 30, 31, 32, 33, 34, 35], \"y\": [5.5, 5.1429895000000005, 4.8091529085655, 4.496985984117605, 4.205082126902548, 3.932126040963176, 3.6768878075182143, 3.4382173430444, 3.2150392170900446, 3.006347806469513, 2.8112027640037702, 2.6287247813895216, 2.458091627104747, 2.2985344414977504, 2.14933427236569, 2.0098188354121604, 1.8793594849867215, 1.757368381456749, 1.6432958424480095, 1.5366278660188666, 1.436883814607716, 1.343614249317715, 1.2563989047802526, 1.174844795472062, 1.0985844449531748, 1.0272742300468192, 0.9605928325002498, 0.8982397911498262, 0.8399341480664999, 0.7854131825813555, 0.734431227486817, 0.6867585620794203, 0.6421803770562831, 0.6004958066011827, 0.5615170232988935, 0.5250683917995389], \"type\": \"scatter\"}]}, {\"data\": [{\"line\": {\"color\": \"red\", \"width\": 2}, \"mode\": \"lines\", \"x\": [0, 1, 2, 3, 4, 5, 6, 7, 8, 9, 10, 11, 12, 13, 14, 15, 16, 17, 18, 19, 20, 21, 22, 23, 24, 25, 26, 27, 28, 29, 30, 31, 32, 33, 34, 35, 36], \"y\": [5.5, 5.1429895000000005, 4.8091529085655, 4.496985984117605, 4.205082126902548, 3.932126040963176, 3.6768878075182143, 3.4382173430444, 3.2150392170900446, 3.006347806469513, 2.8112027640037702, 2.6287247813895216, 2.458091627104747, 2.2985344414977504, 2.14933427236569, 2.0098188354121604, 1.8793594849867215, 1.757368381456749, 1.6432958424480095, 1.5366278660188666, 1.436883814607716, 1.343614249317715, 1.2563989047802526, 1.174844795472062, 1.0985844449531748, 1.0272742300468192, 0.9605928325002498, 0.8982397911498262, 0.8399341480664999, 0.7854131825813555, 0.734431227486817, 0.6867585620794203, 0.6421803770562831, 0.6004958066011827, 0.5615170232988935, 0.5250683917995389, 0.4909856774194389], \"type\": \"scatter\"}]}, {\"data\": [{\"line\": {\"color\": \"red\", \"width\": 2}, \"mode\": \"lines\", \"x\": [0, 1, 2, 3, 4, 5, 6, 7, 8, 9, 10, 11, 12, 13, 14, 15, 16, 17, 18, 19, 20, 21, 22, 23, 24, 25, 26, 27, 28, 29, 30, 31, 32, 33, 34, 35, 36, 37], \"y\": [5.5, 5.1429895000000005, 4.8091529085655, 4.496985984117605, 4.205082126902548, 3.932126040963176, 3.6768878075182143, 3.4382173430444, 3.2150392170900446, 3.006347806469513, 2.8112027640037702, 2.6287247813895216, 2.458091627104747, 2.2985344414977504, 2.14933427236569, 2.0098188354121604, 1.8793594849867215, 1.757368381456749, 1.6432958424480095, 1.5366278660188666, 1.436883814607716, 1.343614249317715, 1.2563989047802526, 1.174844795472062, 1.0985844449531748, 1.0272742300468192, 0.9605928325002498, 0.8982397911498262, 0.8399341480664999, 0.7854131825813555, 0.734431227486817, 0.6867585620794203, 0.6421803770562831, 0.6004958066011827, 0.5615170232988935, 0.5250683917995389, 0.4909856774194389, 0.45911530611246576], \"type\": \"scatter\"}]}, {\"data\": [{\"line\": {\"color\": \"red\", \"width\": 2}, \"mode\": \"lines\", \"x\": [0, 1, 2, 3, 4, 5, 6, 7, 8, 9, 10, 11, 12, 13, 14, 15, 16, 17, 18, 19, 20, 21, 22, 23, 24, 25, 26, 27, 28, 29, 30, 31, 32, 33, 34, 35, 36, 37, 38], \"y\": [5.5, 5.1429895000000005, 4.8091529085655, 4.496985984117605, 4.205082126902548, 3.932126040963176, 3.6768878075182143, 3.4382173430444, 3.2150392170900446, 3.006347806469513, 2.8112027640037702, 2.6287247813895216, 2.458091627104747, 2.2985344414977504, 2.14933427236569, 2.0098188354121604, 1.8793594849867215, 1.757368381456749, 1.6432958424480095, 1.5366278660188666, 1.436883814607716, 1.343614249317715, 1.2563989047802526, 1.174844795472062, 1.0985844449531748, 1.0272742300468192, 0.9605928325002498, 0.8982397911498262, 0.8399341480664999, 0.7854131825813555, 0.734431227486817, 0.6867585620794203, 0.6421803770562831, 0.6004958066011827, 0.5615170232988935, 0.5250683917995389, 0.4909856774194389, 0.45911530611246576, 0.4293136724773993], \"type\": \"scatter\"}]}, {\"data\": [{\"line\": {\"color\": \"red\", \"width\": 2}, \"mode\": \"lines\", \"x\": [0, 1, 2, 3, 4, 5, 6, 7, 8, 9, 10, 11, 12, 13, 14, 15, 16, 17, 18, 19, 20, 21, 22, 23, 24, 25, 26, 27, 28, 29, 30, 31, 32, 33, 34, 35, 36, 37, 38, 39], \"y\": [5.5, 5.1429895000000005, 4.8091529085655, 4.496985984117605, 4.205082126902548, 3.932126040963176, 3.6768878075182143, 3.4382173430444, 3.2150392170900446, 3.006347806469513, 2.8112027640037702, 2.6287247813895216, 2.458091627104747, 2.2985344414977504, 2.14933427236569, 2.0098188354121604, 1.8793594849867215, 1.757368381456749, 1.6432958424480095, 1.5366278660188666, 1.436883814607716, 1.343614249317715, 1.2563989047802526, 1.174844795472062, 1.0985844449531748, 1.0272742300468192, 0.9605928325002498, 0.8982397911498262, 0.8399341480664999, 0.7854131825813555, 0.734431227486817, 0.6867585620794203, 0.6421803770562831, 0.6004958066011827, 0.5615170232988935, 0.5250683917995389, 0.4909856774194389, 0.45911530611246576, 0.4293136724773993, 0.40144649268321897], \"type\": \"scatter\"}]}, {\"data\": [{\"line\": {\"color\": \"red\", \"width\": 2}, \"mode\": \"lines\", \"x\": [0, 1, 2, 3, 4, 5, 6, 7, 8, 9, 10, 11, 12, 13, 14, 15, 16, 17, 18, 19, 20, 21, 22, 23, 24, 25, 26, 27, 28, 29, 30, 31, 32, 33, 34, 35, 36, 37, 38, 39, 40], \"y\": [5.5, 5.1429895000000005, 4.8091529085655, 4.496985984117605, 4.205082126902548, 3.932126040963176, 3.6768878075182143, 3.4382173430444, 3.2150392170900446, 3.006347806469513, 2.8112027640037702, 2.6287247813895216, 2.458091627104747, 2.2985344414977504, 2.14933427236569, 2.0098188354121604, 1.8793594849867215, 1.757368381456749, 1.6432958424480095, 1.5366278660188666, 1.436883814607716, 1.343614249317715, 1.2563989047802526, 1.174844795472062, 1.0985844449531748, 1.0272742300468192, 0.9605928325002498, 0.8982397911498262, 0.8399341480664999, 0.7854131825813555, 0.734431227486817, 0.6867585620794203, 0.6421803770562831, 0.6004958066011827, 0.5615170232988935, 0.5250683917995389, 0.4909856774194389, 0.45911530611246576, 0.4293136724773993, 0.40144649268321897, 0.37538819939665846], \"type\": \"scatter\"}]}, {\"data\": [{\"line\": {\"color\": \"red\", \"width\": 2}, \"mode\": \"lines\", \"x\": [0, 1, 2, 3, 4, 5, 6, 7, 8, 9, 10, 11, 12, 13, 14, 15, 16, 17, 18, 19, 20, 21, 22, 23, 24, 25, 26, 27, 28, 29, 30, 31, 32, 33, 34, 35, 36, 37, 38, 39, 40, 41], \"y\": [5.5, 5.1429895000000005, 4.8091529085655, 4.496985984117605, 4.205082126902548, 3.932126040963176, 3.6768878075182143, 3.4382173430444, 3.2150392170900446, 3.006347806469513, 2.8112027640037702, 2.6287247813895216, 2.458091627104747, 2.2985344414977504, 2.14933427236569, 2.0098188354121604, 1.8793594849867215, 1.757368381456749, 1.6432958424480095, 1.5366278660188666, 1.436883814607716, 1.343614249317715, 1.2563989047802526, 1.174844795472062, 1.0985844449531748, 1.0272742300468192, 0.9605928325002498, 0.8982397911498262, 0.8399341480664999, 0.7854131825813555, 0.734431227486817, 0.6867585620794203, 0.6421803770562831, 0.6004958066011827, 0.5615170232988935, 0.5250683917995389, 0.4909856774194389, 0.45911530611246576, 0.4293136724773993, 0.40144649268321897, 0.37538819939665846, 0.351021375985622], \"type\": \"scatter\"}]}, {\"data\": [{\"line\": {\"color\": \"red\", \"width\": 2}, \"mode\": \"lines\", \"x\": [0, 1, 2, 3, 4, 5, 6, 7, 8, 9, 10, 11, 12, 13, 14, 15, 16, 17, 18, 19, 20, 21, 22, 23, 24, 25, 26, 27, 28, 29, 30, 31, 32, 33, 34, 35, 36, 37, 38, 39, 40, 41, 42], \"y\": [5.5, 5.1429895000000005, 4.8091529085655, 4.496985984117605, 4.205082126902548, 3.932126040963176, 3.6768878075182143, 3.4382173430444, 3.2150392170900446, 3.006347806469513, 2.8112027640037702, 2.6287247813895216, 2.458091627104747, 2.2985344414977504, 2.14933427236569, 2.0098188354121604, 1.8793594849867215, 1.757368381456749, 1.6432958424480095, 1.5366278660188666, 1.436883814607716, 1.343614249317715, 1.2563989047802526, 1.174844795472062, 1.0985844449531748, 1.0272742300468192, 0.9605928325002498, 0.8982397911498262, 0.8399341480664999, 0.7854131825813555, 0.734431227486817, 0.6867585620794203, 0.6421803770562831, 0.6004958066011827, 0.5615170232988935, 0.5250683917995389, 0.4909856774194389, 0.45911530611246576, 0.4293136724773993, 0.40144649268321897, 0.37538819939665846, 0.351021375985622, 0.32823622744901937], \"type\": \"scatter\"}]}, {\"data\": [{\"line\": {\"color\": \"red\", \"width\": 2}, \"mode\": \"lines\", \"x\": [0, 1, 2, 3, 4, 5, 6, 7, 8, 9, 10, 11, 12, 13, 14, 15, 16, 17, 18, 19, 20, 21, 22, 23, 24, 25, 26, 27, 28, 29, 30, 31, 32, 33, 34, 35, 36, 37, 38, 39, 40, 41, 42, 43], \"y\": [5.5, 5.1429895000000005, 4.8091529085655, 4.496985984117605, 4.205082126902548, 3.932126040963176, 3.6768878075182143, 3.4382173430444, 3.2150392170900446, 3.006347806469513, 2.8112027640037702, 2.6287247813895216, 2.458091627104747, 2.2985344414977504, 2.14933427236569, 2.0098188354121604, 1.8793594849867215, 1.757368381456749, 1.6432958424480095, 1.5366278660188666, 1.436883814607716, 1.343614249317715, 1.2563989047802526, 1.174844795472062, 1.0985844449531748, 1.0272742300468192, 0.9605928325002498, 0.8982397911498262, 0.8399341480664999, 0.7854131825813555, 0.734431227486817, 0.6867585620794203, 0.6421803770562831, 0.6004958066011827, 0.5615170232988935, 0.5250683917995389, 0.4909856774194389, 0.45911530611246576, 0.4293136724773993, 0.40144649268321897, 0.37538819939665846, 0.351021375985622, 0.32823622744901937, 0.3069300856890762], \"type\": \"scatter\"}]}, {\"data\": [{\"line\": {\"color\": \"red\", \"width\": 2}, \"mode\": \"lines\", \"x\": [0, 1, 2, 3, 4, 5, 6, 7, 8, 9, 10, 11, 12, 13, 14, 15, 16, 17, 18, 19, 20, 21, 22, 23, 24, 25, 26, 27, 28, 29, 30, 31, 32, 33, 34, 35, 36, 37, 38, 39, 40, 41, 42, 43, 44], \"y\": [5.5, 5.1429895000000005, 4.8091529085655, 4.496985984117605, 4.205082126902548, 3.932126040963176, 3.6768878075182143, 3.4382173430444, 3.2150392170900446, 3.006347806469513, 2.8112027640037702, 2.6287247813895216, 2.458091627104747, 2.2985344414977504, 2.14933427236569, 2.0098188354121604, 1.8793594849867215, 1.757368381456749, 1.6432958424480095, 1.5366278660188666, 1.436883814607716, 1.343614249317715, 1.2563989047802526, 1.174844795472062, 1.0985844449531748, 1.0272742300468192, 0.9605928325002498, 0.8982397911498262, 0.8399341480664999, 0.7854131825813555, 0.734431227486817, 0.6867585620794203, 0.6421803770562831, 0.6004958066011827, 0.5615170232988935, 0.5250683917995389, 0.4909856774194389, 0.45911530611246576, 0.4293136724773993, 0.40144649268321897, 0.37538819939665846, 0.351021375985622, 0.32823622744901937, 0.3069300856890762, 0.2870069468969126], \"type\": \"scatter\"}]}, {\"data\": [{\"line\": {\"color\": \"red\", \"width\": 2}, \"mode\": \"lines\", \"x\": [0, 1, 2, 3, 4, 5, 6, 7, 8, 9, 10, 11, 12, 13, 14, 15, 16, 17, 18, 19, 20, 21, 22, 23, 24, 25, 26, 27, 28, 29, 30, 31, 32, 33, 34, 35, 36, 37, 38, 39, 40, 41, 42, 43, 44, 45], \"y\": [5.5, 5.1429895000000005, 4.8091529085655, 4.496985984117605, 4.205082126902548, 3.932126040963176, 3.6768878075182143, 3.4382173430444, 3.2150392170900446, 3.006347806469513, 2.8112027640037702, 2.6287247813895216, 2.458091627104747, 2.2985344414977504, 2.14933427236569, 2.0098188354121604, 1.8793594849867215, 1.757368381456749, 1.6432958424480095, 1.5366278660188666, 1.436883814607716, 1.343614249317715, 1.2563989047802526, 1.174844795472062, 1.0985844449531748, 1.0272742300468192, 0.9605928325002498, 0.8982397911498262, 0.8399341480664999, 0.7854131825813555, 0.734431227486817, 0.6867585620794203, 0.6421803770562831, 0.6004958066011827, 0.5615170232988935, 0.5250683917995389, 0.4909856774194389, 0.45911530611246576, 0.4293136724773993, 0.40144649268321897, 0.37538819939665846, 0.351021375985622, 0.32823622744901937, 0.3069300856890762, 0.2870069468969126, 0.26837703896688697], \"type\": \"scatter\"}]}, {\"data\": [{\"line\": {\"color\": \"red\", \"width\": 2}, \"mode\": \"lines\", \"x\": [0, 1, 2, 3, 4, 5, 6, 7, 8, 9, 10, 11, 12, 13, 14, 15, 16, 17, 18, 19, 20, 21, 22, 23, 24, 25, 26, 27, 28, 29, 30, 31, 32, 33, 34, 35, 36, 37, 38, 39, 40, 41, 42, 43, 44, 45, 46], \"y\": [5.5, 5.1429895000000005, 4.8091529085655, 4.496985984117605, 4.205082126902548, 3.932126040963176, 3.6768878075182143, 3.4382173430444, 3.2150392170900446, 3.006347806469513, 2.8112027640037702, 2.6287247813895216, 2.458091627104747, 2.2985344414977504, 2.14933427236569, 2.0098188354121604, 1.8793594849867215, 1.757368381456749, 1.6432958424480095, 1.5366278660188666, 1.436883814607716, 1.343614249317715, 1.2563989047802526, 1.174844795472062, 1.0985844449531748, 1.0272742300468192, 0.9605928325002498, 0.8982397911498262, 0.8399341480664999, 0.7854131825813555, 0.734431227486817, 0.6867585620794203, 0.6421803770562831, 0.6004958066011827, 0.5615170232988935, 0.5250683917995389, 0.4909856774194389, 0.45911530611246576, 0.4293136724773993, 0.40144649268321897, 0.37538819939665846, 0.351021375985622, 0.32823622744901937, 0.3069300856890762, 0.2870069468969126, 0.26837703896688697, 0.2509564169905074], \"type\": \"scatter\"}]}, {\"data\": [{\"line\": {\"color\": \"red\", \"width\": 2}, \"mode\": \"lines\", \"x\": [0, 1, 2, 3, 4, 5, 6, 7, 8, 9, 10, 11, 12, 13, 14, 15, 16, 17, 18, 19, 20, 21, 22, 23, 24, 25, 26, 27, 28, 29, 30, 31, 32, 33, 34, 35, 36, 37, 38, 39, 40, 41, 42, 43, 44, 45, 46, 47], \"y\": [5.5, 5.1429895000000005, 4.8091529085655, 4.496985984117605, 4.205082126902548, 3.932126040963176, 3.6768878075182143, 3.4382173430444, 3.2150392170900446, 3.006347806469513, 2.8112027640037702, 2.6287247813895216, 2.458091627104747, 2.2985344414977504, 2.14933427236569, 2.0098188354121604, 1.8793594849867215, 1.757368381456749, 1.6432958424480095, 1.5366278660188666, 1.436883814607716, 1.343614249317715, 1.2563989047802526, 1.174844795472062, 1.0985844449531748, 1.0272742300468192, 0.9605928325002498, 0.8982397911498262, 0.8399341480664999, 0.7854131825813555, 0.734431227486817, 0.6867585620794203, 0.6421803770562831, 0.6004958066011827, 0.5615170232988935, 0.5250683917995389, 0.4909856774194389, 0.45911530611246576, 0.4293136724773993, 0.40144649268321897, 0.37538819939665846, 0.351021375985622, 0.32823622744901937, 0.3069300856890762, 0.2870069468969126, 0.26837703896688697, 0.2509564169905074, 0.23466658500723653], \"type\": \"scatter\"}]}, {\"data\": [{\"line\": {\"color\": \"red\", \"width\": 2}, \"mode\": \"lines\", \"x\": [0, 1, 2, 3, 4, 5, 6, 7, 8, 9, 10, 11, 12, 13, 14, 15, 16, 17, 18, 19, 20, 21, 22, 23, 24, 25, 26, 27, 28, 29, 30, 31, 32, 33, 34, 35, 36, 37, 38, 39, 40, 41, 42, 43, 44, 45, 46, 47, 48], \"y\": [5.5, 5.1429895000000005, 4.8091529085655, 4.496985984117605, 4.205082126902548, 3.932126040963176, 3.6768878075182143, 3.4382173430444, 3.2150392170900446, 3.006347806469513, 2.8112027640037702, 2.6287247813895216, 2.458091627104747, 2.2985344414977504, 2.14933427236569, 2.0098188354121604, 1.8793594849867215, 1.757368381456749, 1.6432958424480095, 1.5366278660188666, 1.436883814607716, 1.343614249317715, 1.2563989047802526, 1.174844795472062, 1.0985844449531748, 1.0272742300468192, 0.9605928325002498, 0.8982397911498262, 0.8399341480664999, 0.7854131825813555, 0.734431227486817, 0.6867585620794203, 0.6421803770562831, 0.6004958066011827, 0.5615170232988935, 0.5250683917995389, 0.4909856774194389, 0.45911530611246576, 0.4293136724773993, 0.40144649268321897, 0.37538819939665846, 0.351021375985622, 0.32823622744901937, 0.3069300856890762, 0.2870069468969126, 0.26837703896688697, 0.2509564169905074, 0.23466658500723653, 0.2194341423078317], \"type\": \"scatter\"}]}, {\"data\": [{\"line\": {\"color\": \"red\", \"width\": 2}, \"mode\": \"lines\", \"x\": [0, 1, 2, 3, 4, 5, 6, 7, 8, 9, 10, 11, 12, 13, 14, 15, 16, 17, 18, 19, 20, 21, 22, 23, 24, 25, 26, 27, 28, 29, 30, 31, 32, 33, 34, 35, 36, 37, 38, 39, 40, 41, 42, 43, 44, 45, 46, 47, 48, 49], \"y\": [5.5, 5.1429895000000005, 4.8091529085655, 4.496985984117605, 4.205082126902548, 3.932126040963176, 3.6768878075182143, 3.4382173430444, 3.2150392170900446, 3.006347806469513, 2.8112027640037702, 2.6287247813895216, 2.458091627104747, 2.2985344414977504, 2.14933427236569, 2.0098188354121604, 1.8793594849867215, 1.757368381456749, 1.6432958424480095, 1.5366278660188666, 1.436883814607716, 1.343614249317715, 1.2563989047802526, 1.174844795472062, 1.0985844449531748, 1.0272742300468192, 0.9605928325002498, 0.8982397911498262, 0.8399341480664999, 0.7854131825813555, 0.734431227486817, 0.6867585620794203, 0.6421803770562831, 0.6004958066011827, 0.5615170232988935, 0.5250683917995389, 0.4909856774194389, 0.45911530611246576, 0.4293136724773993, 0.40144649268321897, 0.37538819939665846, 0.351021375985622, 0.32823622744901937, 0.3069300856890762, 0.2870069468969126, 0.26837703896688697, 0.2509564169905074, 0.23466658500723653, 0.2194341423078317, 0.20519045269648797], \"type\": \"scatter\"}]}, {\"data\": [{\"line\": {\"color\": \"red\", \"width\": 2}, \"mode\": \"lines\", \"x\": [0, 1, 2, 3, 4, 5, 6, 7, 8, 9, 10, 11, 12, 13, 14, 15, 16, 17, 18, 19, 20, 21, 22, 23, 24, 25, 26, 27, 28, 29, 30, 31, 32, 33, 34, 35, 36, 37, 38, 39, 40, 41, 42, 43, 44, 45, 46, 47, 48, 49, 50], \"y\": [5.5, 5.1429895000000005, 4.8091529085655, 4.496985984117605, 4.205082126902548, 3.932126040963176, 3.6768878075182143, 3.4382173430444, 3.2150392170900446, 3.006347806469513, 2.8112027640037702, 2.6287247813895216, 2.458091627104747, 2.2985344414977504, 2.14933427236569, 2.0098188354121604, 1.8793594849867215, 1.757368381456749, 1.6432958424480095, 1.5366278660188666, 1.436883814607716, 1.343614249317715, 1.2563989047802526, 1.174844795472062, 1.0985844449531748, 1.0272742300468192, 0.9605928325002498, 0.8982397911498262, 0.8399341480664999, 0.7854131825813555, 0.734431227486817, 0.6867585620794203, 0.6421803770562831, 0.6004958066011827, 0.5615170232988935, 0.5250683917995389, 0.4909856774194389, 0.45911530611246576, 0.4293136724773993, 0.40144649268321897, 0.37538819939665846, 0.351021375985622, 0.32823622744901937, 0.3069300856890762, 0.2870069468969126, 0.26837703896688697, 0.2509564169905074, 0.23466658500723653, 0.2194341423078317, 0.20519045269648797, 0.19187133522150623], \"type\": \"scatter\"}]}, {\"data\": [{\"line\": {\"color\": \"red\", \"width\": 2}, \"mode\": \"lines\", \"x\": [0, 1, 2, 3, 4, 5, 6, 7, 8, 9, 10, 11, 12, 13, 14, 15, 16, 17, 18, 19, 20, 21, 22, 23, 24, 25, 26, 27, 28, 29, 30, 31, 32, 33, 34, 35, 36, 37, 38, 39, 40, 41, 42, 43, 44, 45, 46, 47, 48, 49, 50, 51], \"y\": [5.5, 5.1429895000000005, 4.8091529085655, 4.496985984117605, 4.205082126902548, 3.932126040963176, 3.6768878075182143, 3.4382173430444, 3.2150392170900446, 3.006347806469513, 2.8112027640037702, 2.6287247813895216, 2.458091627104747, 2.2985344414977504, 2.14933427236569, 2.0098188354121604, 1.8793594849867215, 1.757368381456749, 1.6432958424480095, 1.5366278660188666, 1.436883814607716, 1.343614249317715, 1.2563989047802526, 1.174844795472062, 1.0985844449531748, 1.0272742300468192, 0.9605928325002498, 0.8982397911498262, 0.8399341480664999, 0.7854131825813555, 0.734431227486817, 0.6867585620794203, 0.6421803770562831, 0.6004958066011827, 0.5615170232988935, 0.5250683917995389, 0.4909856774194389, 0.45911530611246576, 0.4293136724773993, 0.40144649268321897, 0.37538819939665846, 0.351021375985622, 0.32823622744901937, 0.3069300856890762, 0.2870069468969126, 0.26837703896688697, 0.2509564169905074, 0.23466658500723653, 0.2194341423078317, 0.20519045269648797, 0.19187133522150623, 0.17941677498094305], \"type\": \"scatter\"}]}, {\"data\": [{\"line\": {\"color\": \"red\", \"width\": 2}, \"mode\": \"lines\", \"x\": [0, 1, 2, 3, 4, 5, 6, 7, 8, 9, 10, 11, 12, 13, 14, 15, 16, 17, 18, 19, 20, 21, 22, 23, 24, 25, 26, 27, 28, 29, 30, 31, 32, 33, 34, 35, 36, 37, 38, 39, 40, 41, 42, 43, 44, 45, 46, 47, 48, 49, 50, 51, 52], \"y\": [5.5, 5.1429895000000005, 4.8091529085655, 4.496985984117605, 4.205082126902548, 3.932126040963176, 3.6768878075182143, 3.4382173430444, 3.2150392170900446, 3.006347806469513, 2.8112027640037702, 2.6287247813895216, 2.458091627104747, 2.2985344414977504, 2.14933427236569, 2.0098188354121604, 1.8793594849867215, 1.757368381456749, 1.6432958424480095, 1.5366278660188666, 1.436883814607716, 1.343614249317715, 1.2563989047802526, 1.174844795472062, 1.0985844449531748, 1.0272742300468192, 0.9605928325002498, 0.8982397911498262, 0.8399341480664999, 0.7854131825813555, 0.734431227486817, 0.6867585620794203, 0.6421803770562831, 0.6004958066011827, 0.5615170232988935, 0.5250683917995389, 0.4909856774194389, 0.45911530611246576, 0.4293136724773993, 0.40144649268321897, 0.37538819939665846, 0.351021375985622, 0.32823622744901937, 0.3069300856890762, 0.2870069468969126, 0.26837703896688697, 0.2509564169905074, 0.23466658500723653, 0.2194341423078317, 0.20519045269648797, 0.19187133522150623, 0.17941677498094305, 0.16777065270015507], \"type\": \"scatter\"}]}, {\"data\": [{\"line\": {\"color\": \"red\", \"width\": 2}, \"mode\": \"lines\", \"x\": [0, 1, 2, 3, 4, 5, 6, 7, 8, 9, 10, 11, 12, 13, 14, 15, 16, 17, 18, 19, 20, 21, 22, 23, 24, 25, 26, 27, 28, 29, 30, 31, 32, 33, 34, 35, 36, 37, 38, 39, 40, 41, 42, 43, 44, 45, 46, 47, 48, 49, 50, 51, 52, 53], \"y\": [5.5, 5.1429895000000005, 4.8091529085655, 4.496985984117605, 4.205082126902548, 3.932126040963176, 3.6768878075182143, 3.4382173430444, 3.2150392170900446, 3.006347806469513, 2.8112027640037702, 2.6287247813895216, 2.458091627104747, 2.2985344414977504, 2.14933427236569, 2.0098188354121604, 1.8793594849867215, 1.757368381456749, 1.6432958424480095, 1.5366278660188666, 1.436883814607716, 1.343614249317715, 1.2563989047802526, 1.174844795472062, 1.0985844449531748, 1.0272742300468192, 0.9605928325002498, 0.8982397911498262, 0.8399341480664999, 0.7854131825813555, 0.734431227486817, 0.6867585620794203, 0.6421803770562831, 0.6004958066011827, 0.5615170232988935, 0.5250683917995389, 0.4909856774194389, 0.45911530611246576, 0.4293136724773993, 0.40144649268321897, 0.37538819939665846, 0.351021375985622, 0.32823622744901937, 0.3069300856890762, 0.2870069468969126, 0.26837703896688697, 0.2509564169905074, 0.23466658500723653, 0.2194341423078317, 0.20519045269648797, 0.19187133522150623, 0.17941677498094305, 0.16777065270015507, 0.15688049186273526], \"type\": \"scatter\"}]}, {\"data\": [{\"line\": {\"color\": \"red\", \"width\": 2}, \"mode\": \"lines\", \"x\": [0, 1, 2, 3, 4, 5, 6, 7, 8, 9, 10, 11, 12, 13, 14, 15, 16, 17, 18, 19, 20, 21, 22, 23, 24, 25, 26, 27, 28, 29, 30, 31, 32, 33, 34, 35, 36, 37, 38, 39, 40, 41, 42, 43, 44, 45, 46, 47, 48, 49, 50, 51, 52, 53, 54], \"y\": [5.5, 5.1429895000000005, 4.8091529085655, 4.496985984117605, 4.205082126902548, 3.932126040963176, 3.6768878075182143, 3.4382173430444, 3.2150392170900446, 3.006347806469513, 2.8112027640037702, 2.6287247813895216, 2.458091627104747, 2.2985344414977504, 2.14933427236569, 2.0098188354121604, 1.8793594849867215, 1.757368381456749, 1.6432958424480095, 1.5366278660188666, 1.436883814607716, 1.343614249317715, 1.2563989047802526, 1.174844795472062, 1.0985844449531748, 1.0272742300468192, 0.9605928325002498, 0.8982397911498262, 0.8399341480664999, 0.7854131825813555, 0.734431227486817, 0.6867585620794203, 0.6421803770562831, 0.6004958066011827, 0.5615170232988935, 0.5250683917995389, 0.4909856774194389, 0.45911530611246576, 0.4293136724773993, 0.40144649268321897, 0.37538819939665846, 0.351021375985622, 0.32823622744901937, 0.3069300856890762, 0.2870069468969126, 0.26837703896688697, 0.2509564169905074, 0.23466658500723653, 0.2194341423078317, 0.20519045269648797, 0.19187133522150623, 0.17941677498094305, 0.16777065270015507, 0.15688049186273526, 0.14669722225543322], \"type\": \"scatter\"}]}, {\"data\": [{\"line\": {\"color\": \"red\", \"width\": 2}, \"mode\": \"lines\", \"x\": [0, 1, 2, 3, 4, 5, 6, 7, 8, 9, 10, 11, 12, 13, 14, 15, 16, 17, 18, 19, 20, 21, 22, 23, 24, 25, 26, 27, 28, 29, 30, 31, 32, 33, 34, 35, 36, 37, 38, 39, 40, 41, 42, 43, 44, 45, 46, 47, 48, 49, 50, 51, 52, 53, 54, 55], \"y\": [5.5, 5.1429895000000005, 4.8091529085655, 4.496985984117605, 4.205082126902548, 3.932126040963176, 3.6768878075182143, 3.4382173430444, 3.2150392170900446, 3.006347806469513, 2.8112027640037702, 2.6287247813895216, 2.458091627104747, 2.2985344414977504, 2.14933427236569, 2.0098188354121604, 1.8793594849867215, 1.757368381456749, 1.6432958424480095, 1.5366278660188666, 1.436883814607716, 1.343614249317715, 1.2563989047802526, 1.174844795472062, 1.0985844449531748, 1.0272742300468192, 0.9605928325002498, 0.8982397911498262, 0.8399341480664999, 0.7854131825813555, 0.734431227486817, 0.6867585620794203, 0.6421803770562831, 0.6004958066011827, 0.5615170232988935, 0.5250683917995389, 0.4909856774194389, 0.45911530611246576, 0.4293136724773993, 0.40144649268321897, 0.37538819939665846, 0.351021375985622, 0.32823622744901937, 0.3069300856890762, 0.2870069468969126, 0.26837703896688697, 0.2509564169905074, 0.23466658500723653, 0.2194341423078317, 0.20519045269648797, 0.19187133522150623, 0.17941677498094305, 0.16777065270015507, 0.15688049186273526, 0.14669722225543322, 0.13717495886161082], \"type\": \"scatter\"}]}, {\"data\": [{\"line\": {\"color\": \"red\", \"width\": 2}, \"mode\": \"lines\", \"x\": [0, 1, 2, 3, 4, 5, 6, 7, 8, 9, 10, 11, 12, 13, 14, 15, 16, 17, 18, 19, 20, 21, 22, 23, 24, 25, 26, 27, 28, 29, 30, 31, 32, 33, 34, 35, 36, 37, 38, 39, 40, 41, 42, 43, 44, 45, 46, 47, 48, 49, 50, 51, 52, 53, 54, 55, 56], \"y\": [5.5, 5.1429895000000005, 4.8091529085655, 4.496985984117605, 4.205082126902548, 3.932126040963176, 3.6768878075182143, 3.4382173430444, 3.2150392170900446, 3.006347806469513, 2.8112027640037702, 2.6287247813895216, 2.458091627104747, 2.2985344414977504, 2.14933427236569, 2.0098188354121604, 1.8793594849867215, 1.757368381456749, 1.6432958424480095, 1.5366278660188666, 1.436883814607716, 1.343614249317715, 1.2563989047802526, 1.174844795472062, 1.0985844449531748, 1.0272742300468192, 0.9605928325002498, 0.8982397911498262, 0.8399341480664999, 0.7854131825813555, 0.734431227486817, 0.6867585620794203, 0.6421803770562831, 0.6004958066011827, 0.5615170232988935, 0.5250683917995389, 0.4909856774194389, 0.45911530611246576, 0.4293136724773993, 0.40144649268321897, 0.37538819939665846, 0.351021375985622, 0.32823622744901937, 0.3069300856890762, 0.2870069468969126, 0.26837703896688697, 0.2509564169905074, 0.23466658500723653, 0.2194341423078317, 0.20519045269648797, 0.19187133522150623, 0.17941677498094305, 0.16777065270015507, 0.15688049186273526, 0.14669722225543322, 0.13717495886161082, 0.12827079510694472], \"type\": \"scatter\"}]}, {\"data\": [{\"line\": {\"color\": \"red\", \"width\": 2}, \"mode\": \"lines\", \"x\": [0, 1, 2, 3, 4, 5, 6, 7, 8, 9, 10, 11, 12, 13, 14, 15, 16, 17, 18, 19, 20, 21, 22, 23, 24, 25, 26, 27, 28, 29, 30, 31, 32, 33, 34, 35, 36, 37, 38, 39, 40, 41, 42, 43, 44, 45, 46, 47, 48, 49, 50, 51, 52, 53, 54, 55, 56, 57], \"y\": [5.5, 5.1429895000000005, 4.8091529085655, 4.496985984117605, 4.205082126902548, 3.932126040963176, 3.6768878075182143, 3.4382173430444, 3.2150392170900446, 3.006347806469513, 2.8112027640037702, 2.6287247813895216, 2.458091627104747, 2.2985344414977504, 2.14933427236569, 2.0098188354121604, 1.8793594849867215, 1.757368381456749, 1.6432958424480095, 1.5366278660188666, 1.436883814607716, 1.343614249317715, 1.2563989047802526, 1.174844795472062, 1.0985844449531748, 1.0272742300468192, 0.9605928325002498, 0.8982397911498262, 0.8399341480664999, 0.7854131825813555, 0.734431227486817, 0.6867585620794203, 0.6421803770562831, 0.6004958066011827, 0.5615170232988935, 0.5250683917995389, 0.4909856774194389, 0.45911530611246576, 0.4293136724773993, 0.40144649268321897, 0.37538819939665846, 0.351021375985622, 0.32823622744901937, 0.3069300856890762, 0.2870069468969126, 0.26837703896688697, 0.2509564169905074, 0.23466658500723653, 0.2194341423078317, 0.20519045269648797, 0.19187133522150623, 0.17941677498094305, 0.16777065270015507, 0.15688049186273526, 0.14669722225543322, 0.13717495886161082, 0.12827079510694472, 0.11994460952575792], \"type\": \"scatter\"}]}, {\"data\": [{\"line\": {\"color\": \"red\", \"width\": 2}, \"mode\": \"lines\", \"x\": [0, 1, 2, 3, 4, 5, 6, 7, 8, 9, 10, 11, 12, 13, 14, 15, 16, 17, 18, 19, 20, 21, 22, 23, 24, 25, 26, 27, 28, 29, 30, 31, 32, 33, 34, 35, 36, 37, 38, 39, 40, 41, 42, 43, 44, 45, 46, 47, 48, 49, 50, 51, 52, 53, 54, 55, 56, 57, 58], \"y\": [5.5, 5.1429895000000005, 4.8091529085655, 4.496985984117605, 4.205082126902548, 3.932126040963176, 3.6768878075182143, 3.4382173430444, 3.2150392170900446, 3.006347806469513, 2.8112027640037702, 2.6287247813895216, 2.458091627104747, 2.2985344414977504, 2.14933427236569, 2.0098188354121604, 1.8793594849867215, 1.757368381456749, 1.6432958424480095, 1.5366278660188666, 1.436883814607716, 1.343614249317715, 1.2563989047802526, 1.174844795472062, 1.0985844449531748, 1.0272742300468192, 0.9605928325002498, 0.8982397911498262, 0.8399341480664999, 0.7854131825813555, 0.734431227486817, 0.6867585620794203, 0.6421803770562831, 0.6004958066011827, 0.5615170232988935, 0.5250683917995389, 0.4909856774194389, 0.45911530611246576, 0.4293136724773993, 0.40144649268321897, 0.37538819939665846, 0.351021375985622, 0.32823622744901937, 0.3069300856890762, 0.2870069468969126, 0.26837703896688697, 0.2509564169905074, 0.23466658500723653, 0.2194341423078317, 0.20519045269648797, 0.19187133522150623, 0.17941677498094305, 0.16777065270015507, 0.15688049186273526, 0.14669722225543322, 0.13717495886161082, 0.12827079510694472, 0.11994460952575792, 0.11215888497683146], \"type\": \"scatter\"}]}, {\"data\": [{\"line\": {\"color\": \"red\", \"width\": 2}, \"mode\": \"lines\", \"x\": [0, 1, 2, 3, 4, 5, 6, 7, 8, 9, 10, 11, 12, 13, 14, 15, 16, 17, 18, 19, 20, 21, 22, 23, 24, 25, 26, 27, 28, 29, 30, 31, 32, 33, 34, 35, 36, 37, 38, 39, 40, 41, 42, 43, 44, 45, 46, 47, 48, 49, 50, 51, 52, 53, 54, 55, 56, 57, 58, 59], \"y\": [5.5, 5.1429895000000005, 4.8091529085655, 4.496985984117605, 4.205082126902548, 3.932126040963176, 3.6768878075182143, 3.4382173430444, 3.2150392170900446, 3.006347806469513, 2.8112027640037702, 2.6287247813895216, 2.458091627104747, 2.2985344414977504, 2.14933427236569, 2.0098188354121604, 1.8793594849867215, 1.757368381456749, 1.6432958424480095, 1.5366278660188666, 1.436883814607716, 1.343614249317715, 1.2563989047802526, 1.174844795472062, 1.0985844449531748, 1.0272742300468192, 0.9605928325002498, 0.8982397911498262, 0.8399341480664999, 0.7854131825813555, 0.734431227486817, 0.6867585620794203, 0.6421803770562831, 0.6004958066011827, 0.5615170232988935, 0.5250683917995389, 0.4909856774194389, 0.45911530611246576, 0.4293136724773993, 0.40144649268321897, 0.37538819939665846, 0.351021375985622, 0.32823622744901937, 0.3069300856890762, 0.2870069468969126, 0.26837703896688697, 0.2509564169905074, 0.23466658500723653, 0.2194341423078317, 0.20519045269648797, 0.19187133522150623, 0.17941677498094305, 0.16777065270015507, 0.15688049186273526, 0.14669722225543322, 0.13717495886161082, 0.12827079510694472, 0.11994460952575792, 0.11215888497683146, 0.10487853959410046], \"type\": \"scatter\"}]}, {\"data\": [{\"line\": {\"color\": \"red\", \"width\": 2}, \"mode\": \"lines\", \"x\": [0, 1, 2, 3, 4, 5, 6, 7, 8, 9, 10, 11, 12, 13, 14, 15, 16, 17, 18, 19, 20, 21, 22, 23, 24, 25, 26, 27, 28, 29, 30, 31, 32, 33, 34, 35, 36, 37, 38, 39, 40, 41, 42, 43, 44, 45, 46, 47, 48, 49, 50, 51, 52, 53, 54, 55, 56, 57, 58, 59, 60], \"y\": [5.5, 5.1429895000000005, 4.8091529085655, 4.496985984117605, 4.205082126902548, 3.932126040963176, 3.6768878075182143, 3.4382173430444, 3.2150392170900446, 3.006347806469513, 2.8112027640037702, 2.6287247813895216, 2.458091627104747, 2.2985344414977504, 2.14933427236569, 2.0098188354121604, 1.8793594849867215, 1.757368381456749, 1.6432958424480095, 1.5366278660188666, 1.436883814607716, 1.343614249317715, 1.2563989047802526, 1.174844795472062, 1.0985844449531748, 1.0272742300468192, 0.9605928325002498, 0.8982397911498262, 0.8399341480664999, 0.7854131825813555, 0.734431227486817, 0.6867585620794203, 0.6421803770562831, 0.6004958066011827, 0.5615170232988935, 0.5250683917995389, 0.4909856774194389, 0.45911530611246576, 0.4293136724773993, 0.40144649268321897, 0.37538819939665846, 0.351021375985622, 0.32823622744901937, 0.3069300856890762, 0.2870069468969126, 0.26837703896688697, 0.2509564169905074, 0.23466658500723653, 0.2194341423078317, 0.20519045269648797, 0.19187133522150623, 0.17941677498094305, 0.16777065270015507, 0.15688049186273526, 0.14669722225543322, 0.13717495886161082, 0.12827079510694472, 0.11994460952575792, 0.11215888497683146, 0.10487853959410046, 0.09807076871050775], \"type\": \"scatter\"}]}, {\"data\": [{\"line\": {\"color\": \"red\", \"width\": 2}, \"mode\": \"lines\", \"x\": [0, 1, 2, 3, 4, 5, 6, 7, 8, 9, 10, 11, 12, 13, 14, 15, 16, 17, 18, 19, 20, 21, 22, 23, 24, 25, 26, 27, 28, 29, 30, 31, 32, 33, 34, 35, 36, 37, 38, 39, 40, 41, 42, 43, 44, 45, 46, 47, 48, 49, 50, 51, 52, 53, 54, 55, 56, 57, 58, 59, 60, 61], \"y\": [5.5, 5.1429895000000005, 4.8091529085655, 4.496985984117605, 4.205082126902548, 3.932126040963176, 3.6768878075182143, 3.4382173430444, 3.2150392170900446, 3.006347806469513, 2.8112027640037702, 2.6287247813895216, 2.458091627104747, 2.2985344414977504, 2.14933427236569, 2.0098188354121604, 1.8793594849867215, 1.757368381456749, 1.6432958424480095, 1.5366278660188666, 1.436883814607716, 1.343614249317715, 1.2563989047802526, 1.174844795472062, 1.0985844449531748, 1.0272742300468192, 0.9605928325002498, 0.8982397911498262, 0.8399341480664999, 0.7854131825813555, 0.734431227486817, 0.6867585620794203, 0.6421803770562831, 0.6004958066011827, 0.5615170232988935, 0.5250683917995389, 0.4909856774194389, 0.45911530611246576, 0.4293136724773993, 0.40144649268321897, 0.37538819939665846, 0.351021375985622, 0.32823622744901937, 0.3069300856890762, 0.2870069468969126, 0.26837703896688697, 0.2509564169905074, 0.23466658500723653, 0.2194341423078317, 0.20519045269648797, 0.19187133522150623, 0.17941677498094305, 0.16777065270015507, 0.15688049186273526, 0.14669722225543322, 0.13717495886161082, 0.12827079510694472, 0.11994460952575792, 0.11215888497683146, 0.10487853959410046, 0.09807076871050775, 0.0917048970427399], \"type\": \"scatter\"}]}, {\"data\": [{\"line\": {\"color\": \"red\", \"width\": 2}, \"mode\": \"lines\", \"x\": [0, 1, 2, 3, 4, 5, 6, 7, 8, 9, 10, 11, 12, 13, 14, 15, 16, 17, 18, 19, 20, 21, 22, 23, 24, 25, 26, 27, 28, 29, 30, 31, 32, 33, 34, 35, 36, 37, 38, 39, 40, 41, 42, 43, 44, 45, 46, 47, 48, 49, 50, 51, 52, 53, 54, 55, 56, 57, 58, 59, 60, 61, 62], \"y\": [5.5, 5.1429895000000005, 4.8091529085655, 4.496985984117605, 4.205082126902548, 3.932126040963176, 3.6768878075182143, 3.4382173430444, 3.2150392170900446, 3.006347806469513, 2.8112027640037702, 2.6287247813895216, 2.458091627104747, 2.2985344414977504, 2.14933427236569, 2.0098188354121604, 1.8793594849867215, 1.757368381456749, 1.6432958424480095, 1.5366278660188666, 1.436883814607716, 1.343614249317715, 1.2563989047802526, 1.174844795472062, 1.0985844449531748, 1.0272742300468192, 0.9605928325002498, 0.8982397911498262, 0.8399341480664999, 0.7854131825813555, 0.734431227486817, 0.6867585620794203, 0.6421803770562831, 0.6004958066011827, 0.5615170232988935, 0.5250683917995389, 0.4909856774194389, 0.45911530611246576, 0.4293136724773993, 0.40144649268321897, 0.37538819939665846, 0.351021375985622, 0.32823622744901937, 0.3069300856890762, 0.2870069468969126, 0.26837703896688697, 0.2509564169905074, 0.23466658500723653, 0.2194341423078317, 0.20519045269648797, 0.19187133522150623, 0.17941677498094305, 0.16777065270015507, 0.15688049186273526, 0.14669722225543322, 0.13717495886161082, 0.12827079510694472, 0.11994460952575792, 0.11215888497683146, 0.10487853959410046, 0.09807076871050775, 0.0917048970427399, 0.08575224047079862], \"type\": \"scatter\"}]}, {\"data\": [{\"line\": {\"color\": \"red\", \"width\": 2}, \"mode\": \"lines\", \"x\": [0, 1, 2, 3, 4, 5, 6, 7, 8, 9, 10, 11, 12, 13, 14, 15, 16, 17, 18, 19, 20, 21, 22, 23, 24, 25, 26, 27, 28, 29, 30, 31, 32, 33, 34, 35, 36, 37, 38, 39, 40, 41, 42, 43, 44, 45, 46, 47, 48, 49, 50, 51, 52, 53, 54, 55, 56, 57, 58, 59, 60, 61, 62, 63], \"y\": [5.5, 5.1429895000000005, 4.8091529085655, 4.496985984117605, 4.205082126902548, 3.932126040963176, 3.6768878075182143, 3.4382173430444, 3.2150392170900446, 3.006347806469513, 2.8112027640037702, 2.6287247813895216, 2.458091627104747, 2.2985344414977504, 2.14933427236569, 2.0098188354121604, 1.8793594849867215, 1.757368381456749, 1.6432958424480095, 1.5366278660188666, 1.436883814607716, 1.343614249317715, 1.2563989047802526, 1.174844795472062, 1.0985844449531748, 1.0272742300468192, 0.9605928325002498, 0.8982397911498262, 0.8399341480664999, 0.7854131825813555, 0.734431227486817, 0.6867585620794203, 0.6421803770562831, 0.6004958066011827, 0.5615170232988935, 0.5250683917995389, 0.4909856774194389, 0.45911530611246576, 0.4293136724773993, 0.40144649268321897, 0.37538819939665846, 0.351021375985622, 0.32823622744901937, 0.3069300856890762, 0.2870069468969126, 0.26837703896688697, 0.2509564169905074, 0.23466658500723653, 0.2194341423078317, 0.20519045269648797, 0.19187133522150623, 0.17941677498094305, 0.16777065270015507, 0.15688049186273526, 0.14669722225543322, 0.13717495886161082, 0.12827079510694472, 0.11994460952575792, 0.11215888497683146, 0.10487853959410046, 0.09807076871050775, 0.0917048970427399, 0.08575224047079862, 0.08018597678959864], \"type\": \"scatter\"}]}, {\"data\": [{\"line\": {\"color\": \"red\", \"width\": 2}, \"mode\": \"lines\", \"x\": [0, 1, 2, 3, 4, 5, 6, 7, 8, 9, 10, 11, 12, 13, 14, 15, 16, 17, 18, 19, 20, 21, 22, 23, 24, 25, 26, 27, 28, 29, 30, 31, 32, 33, 34, 35, 36, 37, 38, 39, 40, 41, 42, 43, 44, 45, 46, 47, 48, 49, 50, 51, 52, 53, 54, 55, 56, 57, 58, 59, 60, 61, 62, 63, 64], \"y\": [5.5, 5.1429895000000005, 4.8091529085655, 4.496985984117605, 4.205082126902548, 3.932126040963176, 3.6768878075182143, 3.4382173430444, 3.2150392170900446, 3.006347806469513, 2.8112027640037702, 2.6287247813895216, 2.458091627104747, 2.2985344414977504, 2.14933427236569, 2.0098188354121604, 1.8793594849867215, 1.757368381456749, 1.6432958424480095, 1.5366278660188666, 1.436883814607716, 1.343614249317715, 1.2563989047802526, 1.174844795472062, 1.0985844449531748, 1.0272742300468192, 0.9605928325002498, 0.8982397911498262, 0.8399341480664999, 0.7854131825813555, 0.734431227486817, 0.6867585620794203, 0.6421803770562831, 0.6004958066011827, 0.5615170232988935, 0.5250683917995389, 0.4909856774194389, 0.45911530611246576, 0.4293136724773993, 0.40144649268321897, 0.37538819939665846, 0.351021375985622, 0.32823622744901937, 0.3069300856890762, 0.2870069468969126, 0.26837703896688697, 0.2509564169905074, 0.23466658500723653, 0.2194341423078317, 0.20519045269648797, 0.19187133522150623, 0.17941677498094305, 0.16777065270015507, 0.15688049186273526, 0.14669722225543322, 0.13717495886161082, 0.12827079510694472, 0.11994460952575792, 0.11215888497683146, 0.10487853959410046, 0.09807076871050775, 0.0917048970427399, 0.08575224047079862, 0.08018597678959864, 0.07498102485020898], \"type\": \"scatter\"}]}, {\"data\": [{\"line\": {\"color\": \"red\", \"width\": 2}, \"mode\": \"lines\", \"x\": [0, 1, 2, 3, 4, 5, 6, 7, 8, 9, 10, 11, 12, 13, 14, 15, 16, 17, 18, 19, 20, 21, 22, 23, 24, 25, 26, 27, 28, 29, 30, 31, 32, 33, 34, 35, 36, 37, 38, 39, 40, 41, 42, 43, 44, 45, 46, 47, 48, 49, 50, 51, 52, 53, 54, 55, 56, 57, 58, 59, 60, 61, 62, 63, 64, 65], \"y\": [5.5, 5.1429895000000005, 4.8091529085655, 4.496985984117605, 4.205082126902548, 3.932126040963176, 3.6768878075182143, 3.4382173430444, 3.2150392170900446, 3.006347806469513, 2.8112027640037702, 2.6287247813895216, 2.458091627104747, 2.2985344414977504, 2.14933427236569, 2.0098188354121604, 1.8793594849867215, 1.757368381456749, 1.6432958424480095, 1.5366278660188666, 1.436883814607716, 1.343614249317715, 1.2563989047802526, 1.174844795472062, 1.0985844449531748, 1.0272742300468192, 0.9605928325002498, 0.8982397911498262, 0.8399341480664999, 0.7854131825813555, 0.734431227486817, 0.6867585620794203, 0.6421803770562831, 0.6004958066011827, 0.5615170232988935, 0.5250683917995389, 0.4909856774194389, 0.45911530611246576, 0.4293136724773993, 0.40144649268321897, 0.37538819939665846, 0.351021375985622, 0.32823622744901937, 0.3069300856890762, 0.2870069468969126, 0.26837703896688697, 0.2509564169905074, 0.23466658500723653, 0.2194341423078317, 0.20519045269648797, 0.19187133522150623, 0.17941677498094305, 0.16777065270015507, 0.15688049186273526, 0.14669722225543322, 0.13717495886161082, 0.12827079510694472, 0.11994460952575792, 0.11215888497683146, 0.10487853959410046, 0.09807076871050775, 0.0917048970427399, 0.08575224047079862, 0.08018597678959864, 0.07498102485020898, 0.07011393154615704], \"type\": \"scatter\"}]}, {\"data\": [{\"line\": {\"color\": \"red\", \"width\": 2}, \"mode\": \"lines\", \"x\": [0, 1, 2, 3, 4, 5, 6, 7, 8, 9, 10, 11, 12, 13, 14, 15, 16, 17, 18, 19, 20, 21, 22, 23, 24, 25, 26, 27, 28, 29, 30, 31, 32, 33, 34, 35, 36, 37, 38, 39, 40, 41, 42, 43, 44, 45, 46, 47, 48, 49, 50, 51, 52, 53, 54, 55, 56, 57, 58, 59, 60, 61, 62, 63, 64, 65, 66], \"y\": [5.5, 5.1429895000000005, 4.8091529085655, 4.496985984117605, 4.205082126902548, 3.932126040963176, 3.6768878075182143, 3.4382173430444, 3.2150392170900446, 3.006347806469513, 2.8112027640037702, 2.6287247813895216, 2.458091627104747, 2.2985344414977504, 2.14933427236569, 2.0098188354121604, 1.8793594849867215, 1.757368381456749, 1.6432958424480095, 1.5366278660188666, 1.436883814607716, 1.343614249317715, 1.2563989047802526, 1.174844795472062, 1.0985844449531748, 1.0272742300468192, 0.9605928325002498, 0.8982397911498262, 0.8399341480664999, 0.7854131825813555, 0.734431227486817, 0.6867585620794203, 0.6421803770562831, 0.6004958066011827, 0.5615170232988935, 0.5250683917995389, 0.4909856774194389, 0.45911530611246576, 0.4293136724773993, 0.40144649268321897, 0.37538819939665846, 0.351021375985622, 0.32823622744901937, 0.3069300856890762, 0.2870069468969126, 0.26837703896688697, 0.2509564169905074, 0.23466658500723653, 0.2194341423078317, 0.20519045269648797, 0.19187133522150623, 0.17941677498094305, 0.16777065270015507, 0.15688049186273526, 0.14669722225543322, 0.13717495886161082, 0.12827079510694472, 0.11994460952575792, 0.11215888497683146, 0.10487853959410046, 0.09807076871050775, 0.0917048970427399, 0.08575224047079862, 0.08018597678959864, 0.07498102485020898, 0.07011393154615704, 0.06556276613556444], \"type\": \"scatter\"}]}, {\"data\": [{\"line\": {\"color\": \"red\", \"width\": 2}, \"mode\": \"lines\", \"x\": [0, 1, 2, 3, 4, 5, 6, 7, 8, 9, 10, 11, 12, 13, 14, 15, 16, 17, 18, 19, 20, 21, 22, 23, 24, 25, 26, 27, 28, 29, 30, 31, 32, 33, 34, 35, 36, 37, 38, 39, 40, 41, 42, 43, 44, 45, 46, 47, 48, 49, 50, 51, 52, 53, 54, 55, 56, 57, 58, 59, 60, 61, 62, 63, 64, 65, 66, 67], \"y\": [5.5, 5.1429895000000005, 4.8091529085655, 4.496985984117605, 4.205082126902548, 3.932126040963176, 3.6768878075182143, 3.4382173430444, 3.2150392170900446, 3.006347806469513, 2.8112027640037702, 2.6287247813895216, 2.458091627104747, 2.2985344414977504, 2.14933427236569, 2.0098188354121604, 1.8793594849867215, 1.757368381456749, 1.6432958424480095, 1.5366278660188666, 1.436883814607716, 1.343614249317715, 1.2563989047802526, 1.174844795472062, 1.0985844449531748, 1.0272742300468192, 0.9605928325002498, 0.8982397911498262, 0.8399341480664999, 0.7854131825813555, 0.734431227486817, 0.6867585620794203, 0.6421803770562831, 0.6004958066011827, 0.5615170232988935, 0.5250683917995389, 0.4909856774194389, 0.45911530611246576, 0.4293136724773993, 0.40144649268321897, 0.37538819939665846, 0.351021375985622, 0.32823622744901937, 0.3069300856890762, 0.2870069468969126, 0.26837703896688697, 0.2509564169905074, 0.23466658500723653, 0.2194341423078317, 0.20519045269648797, 0.19187133522150623, 0.17941677498094305, 0.16777065270015507, 0.15688049186273526, 0.14669722225543322, 0.13717495886161082, 0.12827079510694472, 0.11994460952575792, 0.11215888497683146, 0.10487853959410046, 0.09807076871050775, 0.0917048970427399, 0.08575224047079862, 0.08018597678959864, 0.07498102485020898, 0.07011393154615704, 0.06556276613556444, 0.06130702142293876], \"type\": \"scatter\"}]}, {\"data\": [{\"line\": {\"color\": \"red\", \"width\": 2}, \"mode\": \"lines\", \"x\": [0, 1, 2, 3, 4, 5, 6, 7, 8, 9, 10, 11, 12, 13, 14, 15, 16, 17, 18, 19, 20, 21, 22, 23, 24, 25, 26, 27, 28, 29, 30, 31, 32, 33, 34, 35, 36, 37, 38, 39, 40, 41, 42, 43, 44, 45, 46, 47, 48, 49, 50, 51, 52, 53, 54, 55, 56, 57, 58, 59, 60, 61, 62, 63, 64, 65, 66, 67, 68], \"y\": [5.5, 5.1429895000000005, 4.8091529085655, 4.496985984117605, 4.205082126902548, 3.932126040963176, 3.6768878075182143, 3.4382173430444, 3.2150392170900446, 3.006347806469513, 2.8112027640037702, 2.6287247813895216, 2.458091627104747, 2.2985344414977504, 2.14933427236569, 2.0098188354121604, 1.8793594849867215, 1.757368381456749, 1.6432958424480095, 1.5366278660188666, 1.436883814607716, 1.343614249317715, 1.2563989047802526, 1.174844795472062, 1.0985844449531748, 1.0272742300468192, 0.9605928325002498, 0.8982397911498262, 0.8399341480664999, 0.7854131825813555, 0.734431227486817, 0.6867585620794203, 0.6421803770562831, 0.6004958066011827, 0.5615170232988935, 0.5250683917995389, 0.4909856774194389, 0.45911530611246576, 0.4293136724773993, 0.40144649268321897, 0.37538819939665846, 0.351021375985622, 0.32823622744901937, 0.3069300856890762, 0.2870069468969126, 0.26837703896688697, 0.2509564169905074, 0.23466658500723653, 0.2194341423078317, 0.20519045269648797, 0.19187133522150623, 0.17941677498094305, 0.16777065270015507, 0.15688049186273526, 0.14669722225543322, 0.13717495886161082, 0.12827079510694472, 0.11994460952575792, 0.11215888497683146, 0.10487853959410046, 0.09807076871050775, 0.0917048970427399, 0.08575224047079862, 0.08018597678959864, 0.07498102485020898, 0.07011393154615704, 0.06556276613556444, 0.06130702142293876, 0.05732752135535442], \"type\": \"scatter\"}]}, {\"data\": [{\"line\": {\"color\": \"red\", \"width\": 2}, \"mode\": \"lines\", \"x\": [0, 1, 2, 3, 4, 5, 6, 7, 8, 9, 10, 11, 12, 13, 14, 15, 16, 17, 18, 19, 20, 21, 22, 23, 24, 25, 26, 27, 28, 29, 30, 31, 32, 33, 34, 35, 36, 37, 38, 39, 40, 41, 42, 43, 44, 45, 46, 47, 48, 49, 50, 51, 52, 53, 54, 55, 56, 57, 58, 59, 60, 61, 62, 63, 64, 65, 66, 67, 68, 69], \"y\": [5.5, 5.1429895000000005, 4.8091529085655, 4.496985984117605, 4.205082126902548, 3.932126040963176, 3.6768878075182143, 3.4382173430444, 3.2150392170900446, 3.006347806469513, 2.8112027640037702, 2.6287247813895216, 2.458091627104747, 2.2985344414977504, 2.14933427236569, 2.0098188354121604, 1.8793594849867215, 1.757368381456749, 1.6432958424480095, 1.5366278660188666, 1.436883814607716, 1.343614249317715, 1.2563989047802526, 1.174844795472062, 1.0985844449531748, 1.0272742300468192, 0.9605928325002498, 0.8982397911498262, 0.8399341480664999, 0.7854131825813555, 0.734431227486817, 0.6867585620794203, 0.6421803770562831, 0.6004958066011827, 0.5615170232988935, 0.5250683917995389, 0.4909856774194389, 0.45911530611246576, 0.4293136724773993, 0.40144649268321897, 0.37538819939665846, 0.351021375985622, 0.32823622744901937, 0.3069300856890762, 0.2870069468969126, 0.26837703896688697, 0.2509564169905074, 0.23466658500723653, 0.2194341423078317, 0.20519045269648797, 0.19187133522150623, 0.17941677498094305, 0.16777065270015507, 0.15688049186273526, 0.14669722225543322, 0.13717495886161082, 0.12827079510694472, 0.11994460952575792, 0.11215888497683146, 0.10487853959410046, 0.09807076871050775, 0.0917048970427399, 0.08575224047079862, 0.08018597678959864, 0.07498102485020898, 0.07011393154615704, 0.06556276613556444, 0.06130702142293876, 0.05732752135535442, 0.053606334616657016], \"type\": \"scatter\"}]}, {\"data\": [{\"line\": {\"color\": \"red\", \"width\": 2}, \"mode\": \"lines\", \"x\": [0, 1, 2, 3, 4, 5, 6, 7, 8, 9, 10, 11, 12, 13, 14, 15, 16, 17, 18, 19, 20, 21, 22, 23, 24, 25, 26, 27, 28, 29, 30, 31, 32, 33, 34, 35, 36, 37, 38, 39, 40, 41, 42, 43, 44, 45, 46, 47, 48, 49, 50, 51, 52, 53, 54, 55, 56, 57, 58, 59, 60, 61, 62, 63, 64, 65, 66, 67, 68, 69, 70], \"y\": [5.5, 5.1429895000000005, 4.8091529085655, 4.496985984117605, 4.205082126902548, 3.932126040963176, 3.6768878075182143, 3.4382173430444, 3.2150392170900446, 3.006347806469513, 2.8112027640037702, 2.6287247813895216, 2.458091627104747, 2.2985344414977504, 2.14933427236569, 2.0098188354121604, 1.8793594849867215, 1.757368381456749, 1.6432958424480095, 1.5366278660188666, 1.436883814607716, 1.343614249317715, 1.2563989047802526, 1.174844795472062, 1.0985844449531748, 1.0272742300468192, 0.9605928325002498, 0.8982397911498262, 0.8399341480664999, 0.7854131825813555, 0.734431227486817, 0.6867585620794203, 0.6421803770562831, 0.6004958066011827, 0.5615170232988935, 0.5250683917995389, 0.4909856774194389, 0.45911530611246576, 0.4293136724773993, 0.40144649268321897, 0.37538819939665846, 0.351021375985622, 0.32823622744901937, 0.3069300856890762, 0.2870069468969126, 0.26837703896688697, 0.2509564169905074, 0.23466658500723653, 0.2194341423078317, 0.20519045269648797, 0.19187133522150623, 0.17941677498094305, 0.16777065270015507, 0.15688049186273526, 0.14669722225543322, 0.13717495886161082, 0.12827079510694472, 0.11994460952575792, 0.11215888497683146, 0.10487853959410046, 0.09807076871050775, 0.0917048970427399, 0.08575224047079862, 0.08018597678959864, 0.07498102485020898, 0.07011393154615704, 0.06556276613556444, 0.06130702142293876, 0.05732752135535442, 0.053606334616657016, 0.05012669383035516], \"type\": \"scatter\"}]}, {\"data\": [{\"line\": {\"color\": \"red\", \"width\": 2}, \"mode\": \"lines\", \"x\": [0, 1, 2, 3, 4, 5, 6, 7, 8, 9, 10, 11, 12, 13, 14, 15, 16, 17, 18, 19, 20, 21, 22, 23, 24, 25, 26, 27, 28, 29, 30, 31, 32, 33, 34, 35, 36, 37, 38, 39, 40, 41, 42, 43, 44, 45, 46, 47, 48, 49, 50, 51, 52, 53, 54, 55, 56, 57, 58, 59, 60, 61, 62, 63, 64, 65, 66, 67, 68, 69, 70, 71], \"y\": [5.5, 5.1429895000000005, 4.8091529085655, 4.496985984117605, 4.205082126902548, 3.932126040963176, 3.6768878075182143, 3.4382173430444, 3.2150392170900446, 3.006347806469513, 2.8112027640037702, 2.6287247813895216, 2.458091627104747, 2.2985344414977504, 2.14933427236569, 2.0098188354121604, 1.8793594849867215, 1.757368381456749, 1.6432958424480095, 1.5366278660188666, 1.436883814607716, 1.343614249317715, 1.2563989047802526, 1.174844795472062, 1.0985844449531748, 1.0272742300468192, 0.9605928325002498, 0.8982397911498262, 0.8399341480664999, 0.7854131825813555, 0.734431227486817, 0.6867585620794203, 0.6421803770562831, 0.6004958066011827, 0.5615170232988935, 0.5250683917995389, 0.4909856774194389, 0.45911530611246576, 0.4293136724773993, 0.40144649268321897, 0.37538819939665846, 0.351021375985622, 0.32823622744901937, 0.3069300856890762, 0.2870069468969126, 0.26837703896688697, 0.2509564169905074, 0.23466658500723653, 0.2194341423078317, 0.20519045269648797, 0.19187133522150623, 0.17941677498094305, 0.16777065270015507, 0.15688049186273526, 0.14669722225543322, 0.13717495886161082, 0.12827079510694472, 0.11994460952575792, 0.11215888497683146, 0.10487853959410046, 0.09807076871050775, 0.0917048970427399, 0.08575224047079862, 0.08018597678959864, 0.07498102485020898, 0.07011393154615704, 0.06556276613556444, 0.06130702142293876, 0.05732752135535442, 0.053606334616657016, 0.05012669383035516, 0.04687292000713299], \"type\": \"scatter\"}]}, {\"data\": [{\"line\": {\"color\": \"red\", \"width\": 2}, \"mode\": \"lines\", \"x\": [0, 1, 2, 3, 4, 5, 6, 7, 8, 9, 10, 11, 12, 13, 14, 15, 16, 17, 18, 19, 20, 21, 22, 23, 24, 25, 26, 27, 28, 29, 30, 31, 32, 33, 34, 35, 36, 37, 38, 39, 40, 41, 42, 43, 44, 45, 46, 47, 48, 49, 50, 51, 52, 53, 54, 55, 56, 57, 58, 59, 60, 61, 62, 63, 64, 65, 66, 67, 68, 69, 70, 71, 72], \"y\": [5.5, 5.1429895000000005, 4.8091529085655, 4.496985984117605, 4.205082126902548, 3.932126040963176, 3.6768878075182143, 3.4382173430444, 3.2150392170900446, 3.006347806469513, 2.8112027640037702, 2.6287247813895216, 2.458091627104747, 2.2985344414977504, 2.14933427236569, 2.0098188354121604, 1.8793594849867215, 1.757368381456749, 1.6432958424480095, 1.5366278660188666, 1.436883814607716, 1.343614249317715, 1.2563989047802526, 1.174844795472062, 1.0985844449531748, 1.0272742300468192, 0.9605928325002498, 0.8982397911498262, 0.8399341480664999, 0.7854131825813555, 0.734431227486817, 0.6867585620794203, 0.6421803770562831, 0.6004958066011827, 0.5615170232988935, 0.5250683917995389, 0.4909856774194389, 0.45911530611246576, 0.4293136724773993, 0.40144649268321897, 0.37538819939665846, 0.351021375985622, 0.32823622744901937, 0.3069300856890762, 0.2870069468969126, 0.26837703896688697, 0.2509564169905074, 0.23466658500723653, 0.2194341423078317, 0.20519045269648797, 0.19187133522150623, 0.17941677498094305, 0.16777065270015507, 0.15688049186273526, 0.14669722225543322, 0.13717495886161082, 0.12827079510694472, 0.11994460952575792, 0.11215888497683146, 0.10487853959410046, 0.09807076871050775, 0.0917048970427399, 0.08575224047079862, 0.08018597678959864, 0.07498102485020898, 0.07011393154615704, 0.06556276613556444, 0.06130702142293876, 0.05732752135535442, 0.053606334616657016, 0.05012669383035516, 0.04687292000713299, 0.04383035189655], \"type\": \"scatter\"}]}, {\"data\": [{\"line\": {\"color\": \"red\", \"width\": 2}, \"mode\": \"lines\", \"x\": [0, 1, 2, 3, 4, 5, 6, 7, 8, 9, 10, 11, 12, 13, 14, 15, 16, 17, 18, 19, 20, 21, 22, 23, 24, 25, 26, 27, 28, 29, 30, 31, 32, 33, 34, 35, 36, 37, 38, 39, 40, 41, 42, 43, 44, 45, 46, 47, 48, 49, 50, 51, 52, 53, 54, 55, 56, 57, 58, 59, 60, 61, 62, 63, 64, 65, 66, 67, 68, 69, 70, 71, 72, 73], \"y\": [5.5, 5.1429895000000005, 4.8091529085655, 4.496985984117605, 4.205082126902548, 3.932126040963176, 3.6768878075182143, 3.4382173430444, 3.2150392170900446, 3.006347806469513, 2.8112027640037702, 2.6287247813895216, 2.458091627104747, 2.2985344414977504, 2.14933427236569, 2.0098188354121604, 1.8793594849867215, 1.757368381456749, 1.6432958424480095, 1.5366278660188666, 1.436883814607716, 1.343614249317715, 1.2563989047802526, 1.174844795472062, 1.0985844449531748, 1.0272742300468192, 0.9605928325002498, 0.8982397911498262, 0.8399341480664999, 0.7854131825813555, 0.734431227486817, 0.6867585620794203, 0.6421803770562831, 0.6004958066011827, 0.5615170232988935, 0.5250683917995389, 0.4909856774194389, 0.45911530611246576, 0.4293136724773993, 0.40144649268321897, 0.37538819939665846, 0.351021375985622, 0.32823622744901937, 0.3069300856890762, 0.2870069468969126, 0.26837703896688697, 0.2509564169905074, 0.23466658500723653, 0.2194341423078317, 0.20519045269648797, 0.19187133522150623, 0.17941677498094305, 0.16777065270015507, 0.15688049186273526, 0.14669722225543322, 0.13717495886161082, 0.12827079510694472, 0.11994460952575792, 0.11215888497683146, 0.10487853959410046, 0.09807076871050775, 0.0917048970427399, 0.08575224047079862, 0.08018597678959864, 0.07498102485020898, 0.07011393154615704, 0.06556276613556444, 0.06130702142293876, 0.05732752135535442, 0.053606334616657016, 0.05012669383035516, 0.04687292000713299, 0.04383035189655, 0.04098527992459307], \"type\": \"scatter\"}]}, {\"data\": [{\"line\": {\"color\": \"red\", \"width\": 2}, \"mode\": \"lines\", \"x\": [0, 1, 2, 3, 4, 5, 6, 7, 8, 9, 10, 11, 12, 13, 14, 15, 16, 17, 18, 19, 20, 21, 22, 23, 24, 25, 26, 27, 28, 29, 30, 31, 32, 33, 34, 35, 36, 37, 38, 39, 40, 41, 42, 43, 44, 45, 46, 47, 48, 49, 50, 51, 52, 53, 54, 55, 56, 57, 58, 59, 60, 61, 62, 63, 64, 65, 66, 67, 68, 69, 70, 71, 72, 73, 74], \"y\": [5.5, 5.1429895000000005, 4.8091529085655, 4.496985984117605, 4.205082126902548, 3.932126040963176, 3.6768878075182143, 3.4382173430444, 3.2150392170900446, 3.006347806469513, 2.8112027640037702, 2.6287247813895216, 2.458091627104747, 2.2985344414977504, 2.14933427236569, 2.0098188354121604, 1.8793594849867215, 1.757368381456749, 1.6432958424480095, 1.5366278660188666, 1.436883814607716, 1.343614249317715, 1.2563989047802526, 1.174844795472062, 1.0985844449531748, 1.0272742300468192, 0.9605928325002498, 0.8982397911498262, 0.8399341480664999, 0.7854131825813555, 0.734431227486817, 0.6867585620794203, 0.6421803770562831, 0.6004958066011827, 0.5615170232988935, 0.5250683917995389, 0.4909856774194389, 0.45911530611246576, 0.4293136724773993, 0.40144649268321897, 0.37538819939665846, 0.351021375985622, 0.32823622744901937, 0.3069300856890762, 0.2870069468969126, 0.26837703896688697, 0.2509564169905074, 0.23466658500723653, 0.2194341423078317, 0.20519045269648797, 0.19187133522150623, 0.17941677498094305, 0.16777065270015507, 0.15688049186273526, 0.14669722225543322, 0.13717495886161082, 0.12827079510694472, 0.11994460952575792, 0.11215888497683146, 0.10487853959410046, 0.09807076871050775, 0.0917048970427399, 0.08575224047079862, 0.08018597678959864, 0.07498102485020898, 0.07011393154615704, 0.06556276613556444, 0.06130702142293876, 0.05732752135535442, 0.053606334616657016, 0.05012669383035516, 0.04687292000713299, 0.04383035189655, 0.04098527992459307, 0.03832488441940775], \"type\": \"scatter\"}]}, {\"data\": [{\"line\": {\"color\": \"red\", \"width\": 2}, \"mode\": \"lines\", \"x\": [0, 1, 2, 3, 4, 5, 6, 7, 8, 9, 10, 11, 12, 13, 14, 15, 16, 17, 18, 19, 20, 21, 22, 23, 24, 25, 26, 27, 28, 29, 30, 31, 32, 33, 34, 35, 36, 37, 38, 39, 40, 41, 42, 43, 44, 45, 46, 47, 48, 49, 50, 51, 52, 53, 54, 55, 56, 57, 58, 59, 60, 61, 62, 63, 64, 65, 66, 67, 68, 69, 70, 71, 72, 73, 74, 75], \"y\": [5.5, 5.1429895000000005, 4.8091529085655, 4.496985984117605, 4.205082126902548, 3.932126040963176, 3.6768878075182143, 3.4382173430444, 3.2150392170900446, 3.006347806469513, 2.8112027640037702, 2.6287247813895216, 2.458091627104747, 2.2985344414977504, 2.14933427236569, 2.0098188354121604, 1.8793594849867215, 1.757368381456749, 1.6432958424480095, 1.5366278660188666, 1.436883814607716, 1.343614249317715, 1.2563989047802526, 1.174844795472062, 1.0985844449531748, 1.0272742300468192, 0.9605928325002498, 0.8982397911498262, 0.8399341480664999, 0.7854131825813555, 0.734431227486817, 0.6867585620794203, 0.6421803770562831, 0.6004958066011827, 0.5615170232988935, 0.5250683917995389, 0.4909856774194389, 0.45911530611246576, 0.4293136724773993, 0.40144649268321897, 0.37538819939665846, 0.351021375985622, 0.32823622744901937, 0.3069300856890762, 0.2870069468969126, 0.26837703896688697, 0.2509564169905074, 0.23466658500723653, 0.2194341423078317, 0.20519045269648797, 0.19187133522150623, 0.17941677498094305, 0.16777065270015507, 0.15688049186273526, 0.14669722225543322, 0.13717495886161082, 0.12827079510694472, 0.11994460952575792, 0.11215888497683146, 0.10487853959410046, 0.09807076871050775, 0.0917048970427399, 0.08575224047079862, 0.08018597678959864, 0.07498102485020898, 0.07011393154615704, 0.06556276613556444, 0.06130702142293876, 0.05732752135535442, 0.053606334616657016, 0.05012669383035516, 0.04687292000713299, 0.04383035189655, 0.04098527992459307, 0.03832488441940775, 0.0358371778468596], \"type\": \"scatter\"}]}, {\"data\": [{\"line\": {\"color\": \"red\", \"width\": 2}, \"mode\": \"lines\", \"x\": [0, 1, 2, 3, 4, 5, 6, 7, 8, 9, 10, 11, 12, 13, 14, 15, 16, 17, 18, 19, 20, 21, 22, 23, 24, 25, 26, 27, 28, 29, 30, 31, 32, 33, 34, 35, 36, 37, 38, 39, 40, 41, 42, 43, 44, 45, 46, 47, 48, 49, 50, 51, 52, 53, 54, 55, 56, 57, 58, 59, 60, 61, 62, 63, 64, 65, 66, 67, 68, 69, 70, 71, 72, 73, 74, 75, 76], \"y\": [5.5, 5.1429895000000005, 4.8091529085655, 4.496985984117605, 4.205082126902548, 3.932126040963176, 3.6768878075182143, 3.4382173430444, 3.2150392170900446, 3.006347806469513, 2.8112027640037702, 2.6287247813895216, 2.458091627104747, 2.2985344414977504, 2.14933427236569, 2.0098188354121604, 1.8793594849867215, 1.757368381456749, 1.6432958424480095, 1.5366278660188666, 1.436883814607716, 1.343614249317715, 1.2563989047802526, 1.174844795472062, 1.0985844449531748, 1.0272742300468192, 0.9605928325002498, 0.8982397911498262, 0.8399341480664999, 0.7854131825813555, 0.734431227486817, 0.6867585620794203, 0.6421803770562831, 0.6004958066011827, 0.5615170232988935, 0.5250683917995389, 0.4909856774194389, 0.45911530611246576, 0.4293136724773993, 0.40144649268321897, 0.37538819939665846, 0.351021375985622, 0.32823622744901937, 0.3069300856890762, 0.2870069468969126, 0.26837703896688697, 0.2509564169905074, 0.23466658500723653, 0.2194341423078317, 0.20519045269648797, 0.19187133522150623, 0.17941677498094305, 0.16777065270015507, 0.15688049186273526, 0.14669722225543322, 0.13717495886161082, 0.12827079510694472, 0.11994460952575792, 0.11215888497683146, 0.10487853959410046, 0.09807076871050775, 0.0917048970427399, 0.08575224047079862, 0.08018597678959864, 0.07498102485020898, 0.07011393154615704, 0.06556276613556444, 0.06130702142293876, 0.05732752135535442, 0.053606334616657016, 0.05012669383035516, 0.04687292000713299, 0.04383035189655, 0.04098527992459307, 0.03832488441940775, 0.0358371778468596, 0.03351095079564211], \"type\": \"scatter\"}]}, {\"data\": [{\"line\": {\"color\": \"red\", \"width\": 2}, \"mode\": \"lines\", \"x\": [0, 1, 2, 3, 4, 5, 6, 7, 8, 9, 10, 11, 12, 13, 14, 15, 16, 17, 18, 19, 20, 21, 22, 23, 24, 25, 26, 27, 28, 29, 30, 31, 32, 33, 34, 35, 36, 37, 38, 39, 40, 41, 42, 43, 44, 45, 46, 47, 48, 49, 50, 51, 52, 53, 54, 55, 56, 57, 58, 59, 60, 61, 62, 63, 64, 65, 66, 67, 68, 69, 70, 71, 72, 73, 74, 75, 76, 77], \"y\": [5.5, 5.1429895000000005, 4.8091529085655, 4.496985984117605, 4.205082126902548, 3.932126040963176, 3.6768878075182143, 3.4382173430444, 3.2150392170900446, 3.006347806469513, 2.8112027640037702, 2.6287247813895216, 2.458091627104747, 2.2985344414977504, 2.14933427236569, 2.0098188354121604, 1.8793594849867215, 1.757368381456749, 1.6432958424480095, 1.5366278660188666, 1.436883814607716, 1.343614249317715, 1.2563989047802526, 1.174844795472062, 1.0985844449531748, 1.0272742300468192, 0.9605928325002498, 0.8982397911498262, 0.8399341480664999, 0.7854131825813555, 0.734431227486817, 0.6867585620794203, 0.6421803770562831, 0.6004958066011827, 0.5615170232988935, 0.5250683917995389, 0.4909856774194389, 0.45911530611246576, 0.4293136724773993, 0.40144649268321897, 0.37538819939665846, 0.351021375985622, 0.32823622744901937, 0.3069300856890762, 0.2870069468969126, 0.26837703896688697, 0.2509564169905074, 0.23466658500723653, 0.2194341423078317, 0.20519045269648797, 0.19187133522150623, 0.17941677498094305, 0.16777065270015507, 0.15688049186273526, 0.14669722225543322, 0.13717495886161082, 0.12827079510694472, 0.11994460952575792, 0.11215888497683146, 0.10487853959410046, 0.09807076871050775, 0.0917048970427399, 0.08575224047079862, 0.08018597678959864, 0.07498102485020898, 0.07011393154615704, 0.06556276613556444, 0.06130702142293876, 0.05732752135535442, 0.053606334616657016, 0.05012669383035516, 0.04687292000713299, 0.04383035189655, 0.04098527992459307, 0.03832488441940775, 0.0358371778468596, 0.03351095079564211, 0.031335721468546206], \"type\": \"scatter\"}]}, {\"data\": [{\"line\": {\"color\": \"red\", \"width\": 2}, \"mode\": \"lines\", \"x\": [0, 1, 2, 3, 4, 5, 6, 7, 8, 9, 10, 11, 12, 13, 14, 15, 16, 17, 18, 19, 20, 21, 22, 23, 24, 25, 26, 27, 28, 29, 30, 31, 32, 33, 34, 35, 36, 37, 38, 39, 40, 41, 42, 43, 44, 45, 46, 47, 48, 49, 50, 51, 52, 53, 54, 55, 56, 57, 58, 59, 60, 61, 62, 63, 64, 65, 66, 67, 68, 69, 70, 71, 72, 73, 74, 75, 76, 77, 78], \"y\": [5.5, 5.1429895000000005, 4.8091529085655, 4.496985984117605, 4.205082126902548, 3.932126040963176, 3.6768878075182143, 3.4382173430444, 3.2150392170900446, 3.006347806469513, 2.8112027640037702, 2.6287247813895216, 2.458091627104747, 2.2985344414977504, 2.14933427236569, 2.0098188354121604, 1.8793594849867215, 1.757368381456749, 1.6432958424480095, 1.5366278660188666, 1.436883814607716, 1.343614249317715, 1.2563989047802526, 1.174844795472062, 1.0985844449531748, 1.0272742300468192, 0.9605928325002498, 0.8982397911498262, 0.8399341480664999, 0.7854131825813555, 0.734431227486817, 0.6867585620794203, 0.6421803770562831, 0.6004958066011827, 0.5615170232988935, 0.5250683917995389, 0.4909856774194389, 0.45911530611246576, 0.4293136724773993, 0.40144649268321897, 0.37538819939665846, 0.351021375985622, 0.32823622744901937, 0.3069300856890762, 0.2870069468969126, 0.26837703896688697, 0.2509564169905074, 0.23466658500723653, 0.2194341423078317, 0.20519045269648797, 0.19187133522150623, 0.17941677498094305, 0.16777065270015507, 0.15688049186273526, 0.14669722225543322, 0.13717495886161082, 0.12827079510694472, 0.11994460952575792, 0.11215888497683146, 0.10487853959410046, 0.09807076871050775, 0.0917048970427399, 0.08575224047079862, 0.08018597678959864, 0.07498102485020898, 0.07011393154615704, 0.06556276613556444, 0.06130702142293876, 0.05732752135535442, 0.053606334616657016, 0.05012669383035516, 0.04687292000713299, 0.04383035189655, 0.04098527992459307, 0.03832488441940775, 0.0358371778468596, 0.03351095079564211, 0.031335721468546206, 0.029301688452301418], \"type\": \"scatter\"}]}, {\"data\": [{\"line\": {\"color\": \"red\", \"width\": 2}, \"mode\": \"lines\", \"x\": [0, 1, 2, 3, 4, 5, 6, 7, 8, 9, 10, 11, 12, 13, 14, 15, 16, 17, 18, 19, 20, 21, 22, 23, 24, 25, 26, 27, 28, 29, 30, 31, 32, 33, 34, 35, 36, 37, 38, 39, 40, 41, 42, 43, 44, 45, 46, 47, 48, 49, 50, 51, 52, 53, 54, 55, 56, 57, 58, 59, 60, 61, 62, 63, 64, 65, 66, 67, 68, 69, 70, 71, 72, 73, 74, 75, 76, 77, 78, 79], \"y\": [5.5, 5.1429895000000005, 4.8091529085655, 4.496985984117605, 4.205082126902548, 3.932126040963176, 3.6768878075182143, 3.4382173430444, 3.2150392170900446, 3.006347806469513, 2.8112027640037702, 2.6287247813895216, 2.458091627104747, 2.2985344414977504, 2.14933427236569, 2.0098188354121604, 1.8793594849867215, 1.757368381456749, 1.6432958424480095, 1.5366278660188666, 1.436883814607716, 1.343614249317715, 1.2563989047802526, 1.174844795472062, 1.0985844449531748, 1.0272742300468192, 0.9605928325002498, 0.8982397911498262, 0.8399341480664999, 0.7854131825813555, 0.734431227486817, 0.6867585620794203, 0.6421803770562831, 0.6004958066011827, 0.5615170232988935, 0.5250683917995389, 0.4909856774194389, 0.45911530611246576, 0.4293136724773993, 0.40144649268321897, 0.37538819939665846, 0.351021375985622, 0.32823622744901937, 0.3069300856890762, 0.2870069468969126, 0.26837703896688697, 0.2509564169905074, 0.23466658500723653, 0.2194341423078317, 0.20519045269648797, 0.19187133522150623, 0.17941677498094305, 0.16777065270015507, 0.15688049186273526, 0.14669722225543322, 0.13717495886161082, 0.12827079510694472, 0.11994460952575792, 0.11215888497683146, 0.10487853959410046, 0.09807076871050775, 0.0917048970427399, 0.08575224047079862, 0.08018597678959864, 0.07498102485020898, 0.07011393154615704, 0.06556276613556444, 0.06130702142293876, 0.05732752135535442, 0.053606334616657016, 0.05012669383035516, 0.04687292000713299, 0.04383035189655, 0.04098527992459307, 0.03832488441940775, 0.0358371778468596, 0.03351095079564211, 0.031335721468546206, 0.029301688452301418, 0.027399686553174086], \"type\": \"scatter\"}]}, {\"data\": [{\"line\": {\"color\": \"red\", \"width\": 2}, \"mode\": \"lines\", \"x\": [0, 1, 2, 3, 4, 5, 6, 7, 8, 9, 10, 11, 12, 13, 14, 15, 16, 17, 18, 19, 20, 21, 22, 23, 24, 25, 26, 27, 28, 29, 30, 31, 32, 33, 34, 35, 36, 37, 38, 39, 40, 41, 42, 43, 44, 45, 46, 47, 48, 49, 50, 51, 52, 53, 54, 55, 56, 57, 58, 59, 60, 61, 62, 63, 64, 65, 66, 67, 68, 69, 70, 71, 72, 73, 74, 75, 76, 77, 78, 79, 80], \"y\": [5.5, 5.1429895000000005, 4.8091529085655, 4.496985984117605, 4.205082126902548, 3.932126040963176, 3.6768878075182143, 3.4382173430444, 3.2150392170900446, 3.006347806469513, 2.8112027640037702, 2.6287247813895216, 2.458091627104747, 2.2985344414977504, 2.14933427236569, 2.0098188354121604, 1.8793594849867215, 1.757368381456749, 1.6432958424480095, 1.5366278660188666, 1.436883814607716, 1.343614249317715, 1.2563989047802526, 1.174844795472062, 1.0985844449531748, 1.0272742300468192, 0.9605928325002498, 0.8982397911498262, 0.8399341480664999, 0.7854131825813555, 0.734431227486817, 0.6867585620794203, 0.6421803770562831, 0.6004958066011827, 0.5615170232988935, 0.5250683917995389, 0.4909856774194389, 0.45911530611246576, 0.4293136724773993, 0.40144649268321897, 0.37538819939665846, 0.351021375985622, 0.32823622744901937, 0.3069300856890762, 0.2870069468969126, 0.26837703896688697, 0.2509564169905074, 0.23466658500723653, 0.2194341423078317, 0.20519045269648797, 0.19187133522150623, 0.17941677498094305, 0.16777065270015507, 0.15688049186273526, 0.14669722225543322, 0.13717495886161082, 0.12827079510694472, 0.11994460952575792, 0.11215888497683146, 0.10487853959410046, 0.09807076871050775, 0.0917048970427399, 0.08575224047079862, 0.08018597678959864, 0.07498102485020898, 0.07011393154615704, 0.06556276613556444, 0.06130702142293876, 0.05732752135535442, 0.053606334616657016, 0.05012669383035516, 0.04687292000713299, 0.04383035189655, 0.04098527992459307, 0.03832488441940775, 0.0358371778468596, 0.03351095079564211, 0.031335721468546206, 0.029301688452301418, 0.027399686553174086, 0.025621145499320968], \"type\": \"scatter\"}]}, {\"data\": [{\"line\": {\"color\": \"red\", \"width\": 2}, \"mode\": \"lines\", \"x\": [0, 1, 2, 3, 4, 5, 6, 7, 8, 9, 10, 11, 12, 13, 14, 15, 16, 17, 18, 19, 20, 21, 22, 23, 24, 25, 26, 27, 28, 29, 30, 31, 32, 33, 34, 35, 36, 37, 38, 39, 40, 41, 42, 43, 44, 45, 46, 47, 48, 49, 50, 51, 52, 53, 54, 55, 56, 57, 58, 59, 60, 61, 62, 63, 64, 65, 66, 67, 68, 69, 70, 71, 72, 73, 74, 75, 76, 77, 78, 79, 80, 81], \"y\": [5.5, 5.1429895000000005, 4.8091529085655, 4.496985984117605, 4.205082126902548, 3.932126040963176, 3.6768878075182143, 3.4382173430444, 3.2150392170900446, 3.006347806469513, 2.8112027640037702, 2.6287247813895216, 2.458091627104747, 2.2985344414977504, 2.14933427236569, 2.0098188354121604, 1.8793594849867215, 1.757368381456749, 1.6432958424480095, 1.5366278660188666, 1.436883814607716, 1.343614249317715, 1.2563989047802526, 1.174844795472062, 1.0985844449531748, 1.0272742300468192, 0.9605928325002498, 0.8982397911498262, 0.8399341480664999, 0.7854131825813555, 0.734431227486817, 0.6867585620794203, 0.6421803770562831, 0.6004958066011827, 0.5615170232988935, 0.5250683917995389, 0.4909856774194389, 0.45911530611246576, 0.4293136724773993, 0.40144649268321897, 0.37538819939665846, 0.351021375985622, 0.32823622744901937, 0.3069300856890762, 0.2870069468969126, 0.26837703896688697, 0.2509564169905074, 0.23466658500723653, 0.2194341423078317, 0.20519045269648797, 0.19187133522150623, 0.17941677498094305, 0.16777065270015507, 0.15688049186273526, 0.14669722225543322, 0.13717495886161082, 0.12827079510694472, 0.11994460952575792, 0.11215888497683146, 0.10487853959410046, 0.09807076871050775, 0.0917048970427399, 0.08575224047079862, 0.08018597678959864, 0.07498102485020898, 0.07011393154615704, 0.06556276613556444, 0.06130702142293876, 0.05732752135535442, 0.053606334616657016, 0.05012669383035516, 0.04687292000713299, 0.04383035189655, 0.04098527992459307, 0.03832488441940775, 0.0358371778468596, 0.03351095079564211, 0.031335721468546206, 0.029301688452301418, 0.027399686553174086, 0.025621145499320968, 0.023958051323814507], \"type\": \"scatter\"}]}, {\"data\": [{\"line\": {\"color\": \"red\", \"width\": 2}, \"mode\": \"lines\", \"x\": [0, 1, 2, 3, 4, 5, 6, 7, 8, 9, 10, 11, 12, 13, 14, 15, 16, 17, 18, 19, 20, 21, 22, 23, 24, 25, 26, 27, 28, 29, 30, 31, 32, 33, 34, 35, 36, 37, 38, 39, 40, 41, 42, 43, 44, 45, 46, 47, 48, 49, 50, 51, 52, 53, 54, 55, 56, 57, 58, 59, 60, 61, 62, 63, 64, 65, 66, 67, 68, 69, 70, 71, 72, 73, 74, 75, 76, 77, 78, 79, 80, 81, 82], \"y\": [5.5, 5.1429895000000005, 4.8091529085655, 4.496985984117605, 4.205082126902548, 3.932126040963176, 3.6768878075182143, 3.4382173430444, 3.2150392170900446, 3.006347806469513, 2.8112027640037702, 2.6287247813895216, 2.458091627104747, 2.2985344414977504, 2.14933427236569, 2.0098188354121604, 1.8793594849867215, 1.757368381456749, 1.6432958424480095, 1.5366278660188666, 1.436883814607716, 1.343614249317715, 1.2563989047802526, 1.174844795472062, 1.0985844449531748, 1.0272742300468192, 0.9605928325002498, 0.8982397911498262, 0.8399341480664999, 0.7854131825813555, 0.734431227486817, 0.6867585620794203, 0.6421803770562831, 0.6004958066011827, 0.5615170232988935, 0.5250683917995389, 0.4909856774194389, 0.45911530611246576, 0.4293136724773993, 0.40144649268321897, 0.37538819939665846, 0.351021375985622, 0.32823622744901937, 0.3069300856890762, 0.2870069468969126, 0.26837703896688697, 0.2509564169905074, 0.23466658500723653, 0.2194341423078317, 0.20519045269648797, 0.19187133522150623, 0.17941677498094305, 0.16777065270015507, 0.15688049186273526, 0.14669722225543322, 0.13717495886161082, 0.12827079510694472, 0.11994460952575792, 0.11215888497683146, 0.10487853959410046, 0.09807076871050775, 0.0917048970427399, 0.08575224047079862, 0.08018597678959864, 0.07498102485020898, 0.07011393154615704, 0.06556276613556444, 0.06130702142293876, 0.05732752135535442, 0.053606334616657016, 0.05012669383035516, 0.04687292000713299, 0.04383035189655, 0.04098527992459307, 0.03832488441940775, 0.0358371778468596, 0.03351095079564211, 0.031335721468546206, 0.029301688452301418, 0.027399686553174086, 0.025621145499320968, 0.023958051323814507, 0.022402910254334392], \"type\": \"scatter\"}]}, {\"data\": [{\"line\": {\"color\": \"red\", \"width\": 2}, \"mode\": \"lines\", \"x\": [0, 1, 2, 3, 4, 5, 6, 7, 8, 9, 10, 11, 12, 13, 14, 15, 16, 17, 18, 19, 20, 21, 22, 23, 24, 25, 26, 27, 28, 29, 30, 31, 32, 33, 34, 35, 36, 37, 38, 39, 40, 41, 42, 43, 44, 45, 46, 47, 48, 49, 50, 51, 52, 53, 54, 55, 56, 57, 58, 59, 60, 61, 62, 63, 64, 65, 66, 67, 68, 69, 70, 71, 72, 73, 74, 75, 76, 77, 78, 79, 80, 81, 82, 83], \"y\": [5.5, 5.1429895000000005, 4.8091529085655, 4.496985984117605, 4.205082126902548, 3.932126040963176, 3.6768878075182143, 3.4382173430444, 3.2150392170900446, 3.006347806469513, 2.8112027640037702, 2.6287247813895216, 2.458091627104747, 2.2985344414977504, 2.14933427236569, 2.0098188354121604, 1.8793594849867215, 1.757368381456749, 1.6432958424480095, 1.5366278660188666, 1.436883814607716, 1.343614249317715, 1.2563989047802526, 1.174844795472062, 1.0985844449531748, 1.0272742300468192, 0.9605928325002498, 0.8982397911498262, 0.8399341480664999, 0.7854131825813555, 0.734431227486817, 0.6867585620794203, 0.6421803770562831, 0.6004958066011827, 0.5615170232988935, 0.5250683917995389, 0.4909856774194389, 0.45911530611246576, 0.4293136724773993, 0.40144649268321897, 0.37538819939665846, 0.351021375985622, 0.32823622744901937, 0.3069300856890762, 0.2870069468969126, 0.26837703896688697, 0.2509564169905074, 0.23466658500723653, 0.2194341423078317, 0.20519045269648797, 0.19187133522150623, 0.17941677498094305, 0.16777065270015507, 0.15688049186273526, 0.14669722225543322, 0.13717495886161082, 0.12827079510694472, 0.11994460952575792, 0.11215888497683146, 0.10487853959410046, 0.09807076871050775, 0.0917048970427399, 0.08575224047079862, 0.08018597678959864, 0.07498102485020898, 0.07011393154615704, 0.06556276613556444, 0.06130702142293876, 0.05732752135535442, 0.053606334616657016, 0.05012669383035516, 0.04687292000713299, 0.04383035189655, 0.04098527992459307, 0.03832488441940775, 0.0358371778468596, 0.03351095079564211, 0.031335721468546206, 0.029301688452301418, 0.027399686553174086, 0.025621145499320968, 0.023958051323814507, 0.022402910254334392, 0.020948714946815265], \"type\": \"scatter\"}]}, {\"data\": [{\"line\": {\"color\": \"red\", \"width\": 2}, \"mode\": \"lines\", \"x\": [0, 1, 2, 3, 4, 5, 6, 7, 8, 9, 10, 11, 12, 13, 14, 15, 16, 17, 18, 19, 20, 21, 22, 23, 24, 25, 26, 27, 28, 29, 30, 31, 32, 33, 34, 35, 36, 37, 38, 39, 40, 41, 42, 43, 44, 45, 46, 47, 48, 49, 50, 51, 52, 53, 54, 55, 56, 57, 58, 59, 60, 61, 62, 63, 64, 65, 66, 67, 68, 69, 70, 71, 72, 73, 74, 75, 76, 77, 78, 79, 80, 81, 82, 83, 84], \"y\": [5.5, 5.1429895000000005, 4.8091529085655, 4.496985984117605, 4.205082126902548, 3.932126040963176, 3.6768878075182143, 3.4382173430444, 3.2150392170900446, 3.006347806469513, 2.8112027640037702, 2.6287247813895216, 2.458091627104747, 2.2985344414977504, 2.14933427236569, 2.0098188354121604, 1.8793594849867215, 1.757368381456749, 1.6432958424480095, 1.5366278660188666, 1.436883814607716, 1.343614249317715, 1.2563989047802526, 1.174844795472062, 1.0985844449531748, 1.0272742300468192, 0.9605928325002498, 0.8982397911498262, 0.8399341480664999, 0.7854131825813555, 0.734431227486817, 0.6867585620794203, 0.6421803770562831, 0.6004958066011827, 0.5615170232988935, 0.5250683917995389, 0.4909856774194389, 0.45911530611246576, 0.4293136724773993, 0.40144649268321897, 0.37538819939665846, 0.351021375985622, 0.32823622744901937, 0.3069300856890762, 0.2870069468969126, 0.26837703896688697, 0.2509564169905074, 0.23466658500723653, 0.2194341423078317, 0.20519045269648797, 0.19187133522150623, 0.17941677498094305, 0.16777065270015507, 0.15688049186273526, 0.14669722225543322, 0.13717495886161082, 0.12827079510694472, 0.11994460952575792, 0.11215888497683146, 0.10487853959410046, 0.09807076871050775, 0.0917048970427399, 0.08575224047079862, 0.08018597678959864, 0.07498102485020898, 0.07011393154615704, 0.06556276613556444, 0.06130702142293876, 0.05732752135535442, 0.053606334616657016, 0.05012669383035516, 0.04687292000713299, 0.04383035189655, 0.04098527992459307, 0.03832488441940775, 0.0358371778468596, 0.03351095079564211, 0.031335721468546206, 0.029301688452301418, 0.027399686553174086, 0.025621145499320968, 0.023958051323814507, 0.022402910254334392, 0.020948714946815265, 0.019588912910902583], \"type\": \"scatter\"}]}, {\"data\": [{\"line\": {\"color\": \"red\", \"width\": 2}, \"mode\": \"lines\", \"x\": [0, 1, 2, 3, 4, 5, 6, 7, 8, 9, 10, 11, 12, 13, 14, 15, 16, 17, 18, 19, 20, 21, 22, 23, 24, 25, 26, 27, 28, 29, 30, 31, 32, 33, 34, 35, 36, 37, 38, 39, 40, 41, 42, 43, 44, 45, 46, 47, 48, 49, 50, 51, 52, 53, 54, 55, 56, 57, 58, 59, 60, 61, 62, 63, 64, 65, 66, 67, 68, 69, 70, 71, 72, 73, 74, 75, 76, 77, 78, 79, 80, 81, 82, 83, 84, 85], \"y\": [5.5, 5.1429895000000005, 4.8091529085655, 4.496985984117605, 4.205082126902548, 3.932126040963176, 3.6768878075182143, 3.4382173430444, 3.2150392170900446, 3.006347806469513, 2.8112027640037702, 2.6287247813895216, 2.458091627104747, 2.2985344414977504, 2.14933427236569, 2.0098188354121604, 1.8793594849867215, 1.757368381456749, 1.6432958424480095, 1.5366278660188666, 1.436883814607716, 1.343614249317715, 1.2563989047802526, 1.174844795472062, 1.0985844449531748, 1.0272742300468192, 0.9605928325002498, 0.8982397911498262, 0.8399341480664999, 0.7854131825813555, 0.734431227486817, 0.6867585620794203, 0.6421803770562831, 0.6004958066011827, 0.5615170232988935, 0.5250683917995389, 0.4909856774194389, 0.45911530611246576, 0.4293136724773993, 0.40144649268321897, 0.37538819939665846, 0.351021375985622, 0.32823622744901937, 0.3069300856890762, 0.2870069468969126, 0.26837703896688697, 0.2509564169905074, 0.23466658500723653, 0.2194341423078317, 0.20519045269648797, 0.19187133522150623, 0.17941677498094305, 0.16777065270015507, 0.15688049186273526, 0.14669722225543322, 0.13717495886161082, 0.12827079510694472, 0.11994460952575792, 0.11215888497683146, 0.10487853959410046, 0.09807076871050775, 0.0917048970427399, 0.08575224047079862, 0.08018597678959864, 0.07498102485020898, 0.07011393154615704, 0.06556276613556444, 0.06130702142293876, 0.05732752135535442, 0.053606334616657016, 0.05012669383035516, 0.04687292000713299, 0.04383035189655, 0.04098527992459307, 0.03832488441940775, 0.0358371778468596, 0.03351095079564211, 0.031335721468546206, 0.029301688452301418, 0.027399686553174086, 0.025621145499320968, 0.023958051323814507, 0.022402910254334392, 0.020948714946815265, 0.019588912910902583, 0.018317376984942974], \"type\": \"scatter\"}]}, {\"data\": [{\"line\": {\"color\": \"red\", \"width\": 2}, \"mode\": \"lines\", \"x\": [0, 1, 2, 3, 4, 5, 6, 7, 8, 9, 10, 11, 12, 13, 14, 15, 16, 17, 18, 19, 20, 21, 22, 23, 24, 25, 26, 27, 28, 29, 30, 31, 32, 33, 34, 35, 36, 37, 38, 39, 40, 41, 42, 43, 44, 45, 46, 47, 48, 49, 50, 51, 52, 53, 54, 55, 56, 57, 58, 59, 60, 61, 62, 63, 64, 65, 66, 67, 68, 69, 70, 71, 72, 73, 74, 75, 76, 77, 78, 79, 80, 81, 82, 83, 84, 85, 86], \"y\": [5.5, 5.1429895000000005, 4.8091529085655, 4.496985984117605, 4.205082126902548, 3.932126040963176, 3.6768878075182143, 3.4382173430444, 3.2150392170900446, 3.006347806469513, 2.8112027640037702, 2.6287247813895216, 2.458091627104747, 2.2985344414977504, 2.14933427236569, 2.0098188354121604, 1.8793594849867215, 1.757368381456749, 1.6432958424480095, 1.5366278660188666, 1.436883814607716, 1.343614249317715, 1.2563989047802526, 1.174844795472062, 1.0985844449531748, 1.0272742300468192, 0.9605928325002498, 0.8982397911498262, 0.8399341480664999, 0.7854131825813555, 0.734431227486817, 0.6867585620794203, 0.6421803770562831, 0.6004958066011827, 0.5615170232988935, 0.5250683917995389, 0.4909856774194389, 0.45911530611246576, 0.4293136724773993, 0.40144649268321897, 0.37538819939665846, 0.351021375985622, 0.32823622744901937, 0.3069300856890762, 0.2870069468969126, 0.26837703896688697, 0.2509564169905074, 0.23466658500723653, 0.2194341423078317, 0.20519045269648797, 0.19187133522150623, 0.17941677498094305, 0.16777065270015507, 0.15688049186273526, 0.14669722225543322, 0.13717495886161082, 0.12827079510694472, 0.11994460952575792, 0.11215888497683146, 0.10487853959410046, 0.09807076871050775, 0.0917048970427399, 0.08575224047079862, 0.08018597678959864, 0.07498102485020898, 0.07011393154615704, 0.06556276613556444, 0.06130702142293876, 0.05732752135535442, 0.053606334616657016, 0.05012669383035516, 0.04687292000713299, 0.04383035189655, 0.04098527992459307, 0.03832488441940775, 0.0358371778468596, 0.03351095079564211, 0.031335721468546206, 0.029301688452301418, 0.027399686553174086, 0.025621145499320968, 0.023958051323814507, 0.022402910254334392, 0.020948714946815265, 0.019588912910902583, 0.018317376984942974, 0.017128377727473304], \"type\": \"scatter\"}]}, {\"data\": [{\"line\": {\"color\": \"red\", \"width\": 2}, \"mode\": \"lines\", \"x\": [0, 1, 2, 3, 4, 5, 6, 7, 8, 9, 10, 11, 12, 13, 14, 15, 16, 17, 18, 19, 20, 21, 22, 23, 24, 25, 26, 27, 28, 29, 30, 31, 32, 33, 34, 35, 36, 37, 38, 39, 40, 41, 42, 43, 44, 45, 46, 47, 48, 49, 50, 51, 52, 53, 54, 55, 56, 57, 58, 59, 60, 61, 62, 63, 64, 65, 66, 67, 68, 69, 70, 71, 72, 73, 74, 75, 76, 77, 78, 79, 80, 81, 82, 83, 84, 85, 86, 87], \"y\": [5.5, 5.1429895000000005, 4.8091529085655, 4.496985984117605, 4.205082126902548, 3.932126040963176, 3.6768878075182143, 3.4382173430444, 3.2150392170900446, 3.006347806469513, 2.8112027640037702, 2.6287247813895216, 2.458091627104747, 2.2985344414977504, 2.14933427236569, 2.0098188354121604, 1.8793594849867215, 1.757368381456749, 1.6432958424480095, 1.5366278660188666, 1.436883814607716, 1.343614249317715, 1.2563989047802526, 1.174844795472062, 1.0985844449531748, 1.0272742300468192, 0.9605928325002498, 0.8982397911498262, 0.8399341480664999, 0.7854131825813555, 0.734431227486817, 0.6867585620794203, 0.6421803770562831, 0.6004958066011827, 0.5615170232988935, 0.5250683917995389, 0.4909856774194389, 0.45911530611246576, 0.4293136724773993, 0.40144649268321897, 0.37538819939665846, 0.351021375985622, 0.32823622744901937, 0.3069300856890762, 0.2870069468969126, 0.26837703896688697, 0.2509564169905074, 0.23466658500723653, 0.2194341423078317, 0.20519045269648797, 0.19187133522150623, 0.17941677498094305, 0.16777065270015507, 0.15688049186273526, 0.14669722225543322, 0.13717495886161082, 0.12827079510694472, 0.11994460952575792, 0.11215888497683146, 0.10487853959410046, 0.09807076871050775, 0.0917048970427399, 0.08575224047079862, 0.08018597678959864, 0.07498102485020898, 0.07011393154615704, 0.06556276613556444, 0.06130702142293876, 0.05732752135535442, 0.053606334616657016, 0.05012669383035516, 0.04687292000713299, 0.04383035189655, 0.04098527992459307, 0.03832488441940775, 0.0358371778468596, 0.03351095079564211, 0.031335721468546206, 0.029301688452301418, 0.027399686553174086, 0.025621145499320968, 0.023958051323814507, 0.022402910254334392, 0.020948714946815265, 0.019588912910902583, 0.018317376984942974, 0.017128377727473304, 0.016016557600805333], \"type\": \"scatter\"}]}, {\"data\": [{\"line\": {\"color\": \"red\", \"width\": 2}, \"mode\": \"lines\", \"x\": [0, 1, 2, 3, 4, 5, 6, 7, 8, 9, 10, 11, 12, 13, 14, 15, 16, 17, 18, 19, 20, 21, 22, 23, 24, 25, 26, 27, 28, 29, 30, 31, 32, 33, 34, 35, 36, 37, 38, 39, 40, 41, 42, 43, 44, 45, 46, 47, 48, 49, 50, 51, 52, 53, 54, 55, 56, 57, 58, 59, 60, 61, 62, 63, 64, 65, 66, 67, 68, 69, 70, 71, 72, 73, 74, 75, 76, 77, 78, 79, 80, 81, 82, 83, 84, 85, 86, 87, 88], \"y\": [5.5, 5.1429895000000005, 4.8091529085655, 4.496985984117605, 4.205082126902548, 3.932126040963176, 3.6768878075182143, 3.4382173430444, 3.2150392170900446, 3.006347806469513, 2.8112027640037702, 2.6287247813895216, 2.458091627104747, 2.2985344414977504, 2.14933427236569, 2.0098188354121604, 1.8793594849867215, 1.757368381456749, 1.6432958424480095, 1.5366278660188666, 1.436883814607716, 1.343614249317715, 1.2563989047802526, 1.174844795472062, 1.0985844449531748, 1.0272742300468192, 0.9605928325002498, 0.8982397911498262, 0.8399341480664999, 0.7854131825813555, 0.734431227486817, 0.6867585620794203, 0.6421803770562831, 0.6004958066011827, 0.5615170232988935, 0.5250683917995389, 0.4909856774194389, 0.45911530611246576, 0.4293136724773993, 0.40144649268321897, 0.37538819939665846, 0.351021375985622, 0.32823622744901937, 0.3069300856890762, 0.2870069468969126, 0.26837703896688697, 0.2509564169905074, 0.23466658500723653, 0.2194341423078317, 0.20519045269648797, 0.19187133522150623, 0.17941677498094305, 0.16777065270015507, 0.15688049186273526, 0.14669722225543322, 0.13717495886161082, 0.12827079510694472, 0.11994460952575792, 0.11215888497683146, 0.10487853959410046, 0.09807076871050775, 0.0917048970427399, 0.08575224047079862, 0.08018597678959864, 0.07498102485020898, 0.07011393154615704, 0.06556276613556444, 0.06130702142293876, 0.05732752135535442, 0.053606334616657016, 0.05012669383035516, 0.04687292000713299, 0.04383035189655, 0.04098527992459307, 0.03832488441940775, 0.0358371778468596, 0.03351095079564211, 0.031335721468546206, 0.029301688452301418, 0.027399686553174086, 0.025621145499320968, 0.023958051323814507, 0.022402910254334392, 0.020948714946815265, 0.019588912910902583, 0.018317376984942974, 0.017128377727473304, 0.016016557600805333, 0.014976906830379477], \"type\": \"scatter\"}]}, {\"data\": [{\"line\": {\"color\": \"red\", \"width\": 2}, \"mode\": \"lines\", \"x\": [0, 1, 2, 3, 4, 5, 6, 7, 8, 9, 10, 11, 12, 13, 14, 15, 16, 17, 18, 19, 20, 21, 22, 23, 24, 25, 26, 27, 28, 29, 30, 31, 32, 33, 34, 35, 36, 37, 38, 39, 40, 41, 42, 43, 44, 45, 46, 47, 48, 49, 50, 51, 52, 53, 54, 55, 56, 57, 58, 59, 60, 61, 62, 63, 64, 65, 66, 67, 68, 69, 70, 71, 72, 73, 74, 75, 76, 77, 78, 79, 80, 81, 82, 83, 84, 85, 86, 87, 88, 89], \"y\": [5.5, 5.1429895000000005, 4.8091529085655, 4.496985984117605, 4.205082126902548, 3.932126040963176, 3.6768878075182143, 3.4382173430444, 3.2150392170900446, 3.006347806469513, 2.8112027640037702, 2.6287247813895216, 2.458091627104747, 2.2985344414977504, 2.14933427236569, 2.0098188354121604, 1.8793594849867215, 1.757368381456749, 1.6432958424480095, 1.5366278660188666, 1.436883814607716, 1.343614249317715, 1.2563989047802526, 1.174844795472062, 1.0985844449531748, 1.0272742300468192, 0.9605928325002498, 0.8982397911498262, 0.8399341480664999, 0.7854131825813555, 0.734431227486817, 0.6867585620794203, 0.6421803770562831, 0.6004958066011827, 0.5615170232988935, 0.5250683917995389, 0.4909856774194389, 0.45911530611246576, 0.4293136724773993, 0.40144649268321897, 0.37538819939665846, 0.351021375985622, 0.32823622744901937, 0.3069300856890762, 0.2870069468969126, 0.26837703896688697, 0.2509564169905074, 0.23466658500723653, 0.2194341423078317, 0.20519045269648797, 0.19187133522150623, 0.17941677498094305, 0.16777065270015507, 0.15688049186273526, 0.14669722225543322, 0.13717495886161082, 0.12827079510694472, 0.11994460952575792, 0.11215888497683146, 0.10487853959410046, 0.09807076871050775, 0.0917048970427399, 0.08575224047079862, 0.08018597678959864, 0.07498102485020898, 0.07011393154615704, 0.06556276613556444, 0.06130702142293876, 0.05732752135535442, 0.053606334616657016, 0.05012669383035516, 0.04687292000713299, 0.04383035189655, 0.04098527992459307, 0.03832488441940775, 0.0358371778468596, 0.03351095079564211, 0.031335721468546206, 0.029301688452301418, 0.027399686553174086, 0.025621145499320968, 0.023958051323814507, 0.022402910254334392, 0.020948714946815265, 0.019588912910902583, 0.018317376984942974, 0.017128377727473304, 0.016016557600805333, 0.014976906830379477, 0.014004740831112717], \"type\": \"scatter\"}]}, {\"data\": [{\"line\": {\"color\": \"red\", \"width\": 2}, \"mode\": \"lines\", \"x\": [0, 1, 2, 3, 4, 5, 6, 7, 8, 9, 10, 11, 12, 13, 14, 15, 16, 17, 18, 19, 20, 21, 22, 23, 24, 25, 26, 27, 28, 29, 30, 31, 32, 33, 34, 35, 36, 37, 38, 39, 40, 41, 42, 43, 44, 45, 46, 47, 48, 49, 50, 51, 52, 53, 54, 55, 56, 57, 58, 59, 60, 61, 62, 63, 64, 65, 66, 67, 68, 69, 70, 71, 72, 73, 74, 75, 76, 77, 78, 79, 80, 81, 82, 83, 84, 85, 86, 87, 88, 89, 90], \"y\": [5.5, 5.1429895000000005, 4.8091529085655, 4.496985984117605, 4.205082126902548, 3.932126040963176, 3.6768878075182143, 3.4382173430444, 3.2150392170900446, 3.006347806469513, 2.8112027640037702, 2.6287247813895216, 2.458091627104747, 2.2985344414977504, 2.14933427236569, 2.0098188354121604, 1.8793594849867215, 1.757368381456749, 1.6432958424480095, 1.5366278660188666, 1.436883814607716, 1.343614249317715, 1.2563989047802526, 1.174844795472062, 1.0985844449531748, 1.0272742300468192, 0.9605928325002498, 0.8982397911498262, 0.8399341480664999, 0.7854131825813555, 0.734431227486817, 0.6867585620794203, 0.6421803770562831, 0.6004958066011827, 0.5615170232988935, 0.5250683917995389, 0.4909856774194389, 0.45911530611246576, 0.4293136724773993, 0.40144649268321897, 0.37538819939665846, 0.351021375985622, 0.32823622744901937, 0.3069300856890762, 0.2870069468969126, 0.26837703896688697, 0.2509564169905074, 0.23466658500723653, 0.2194341423078317, 0.20519045269648797, 0.19187133522150623, 0.17941677498094305, 0.16777065270015507, 0.15688049186273526, 0.14669722225543322, 0.13717495886161082, 0.12827079510694472, 0.11994460952575792, 0.11215888497683146, 0.10487853959410046, 0.09807076871050775, 0.0917048970427399, 0.08575224047079862, 0.08018597678959864, 0.07498102485020898, 0.07011393154615704, 0.06556276613556444, 0.06130702142293876, 0.05732752135535442, 0.053606334616657016, 0.05012669383035516, 0.04687292000713299, 0.04383035189655, 0.04098527992459307, 0.03832488441940775, 0.0358371778468596, 0.03351095079564211, 0.031335721468546206, 0.029301688452301418, 0.027399686553174086, 0.025621145499320968, 0.023958051323814507, 0.022402910254334392, 0.020948714946815265, 0.019588912910902583, 0.018317376984942974, 0.017128377727473304, 0.016016557600805333, 0.014976906830379477, 0.014004740831112717, 0.01309567909902441], \"type\": \"scatter\"}]}, {\"data\": [{\"line\": {\"color\": \"red\", \"width\": 2}, \"mode\": \"lines\", \"x\": [0, 1, 2, 3, 4, 5, 6, 7, 8, 9, 10, 11, 12, 13, 14, 15, 16, 17, 18, 19, 20, 21, 22, 23, 24, 25, 26, 27, 28, 29, 30, 31, 32, 33, 34, 35, 36, 37, 38, 39, 40, 41, 42, 43, 44, 45, 46, 47, 48, 49, 50, 51, 52, 53, 54, 55, 56, 57, 58, 59, 60, 61, 62, 63, 64, 65, 66, 67, 68, 69, 70, 71, 72, 73, 74, 75, 76, 77, 78, 79, 80, 81, 82, 83, 84, 85, 86, 87, 88, 89, 90, 91], \"y\": [5.5, 5.1429895000000005, 4.8091529085655, 4.496985984117605, 4.205082126902548, 3.932126040963176, 3.6768878075182143, 3.4382173430444, 3.2150392170900446, 3.006347806469513, 2.8112027640037702, 2.6287247813895216, 2.458091627104747, 2.2985344414977504, 2.14933427236569, 2.0098188354121604, 1.8793594849867215, 1.757368381456749, 1.6432958424480095, 1.5366278660188666, 1.436883814607716, 1.343614249317715, 1.2563989047802526, 1.174844795472062, 1.0985844449531748, 1.0272742300468192, 0.9605928325002498, 0.8982397911498262, 0.8399341480664999, 0.7854131825813555, 0.734431227486817, 0.6867585620794203, 0.6421803770562831, 0.6004958066011827, 0.5615170232988935, 0.5250683917995389, 0.4909856774194389, 0.45911530611246576, 0.4293136724773993, 0.40144649268321897, 0.37538819939665846, 0.351021375985622, 0.32823622744901937, 0.3069300856890762, 0.2870069468969126, 0.26837703896688697, 0.2509564169905074, 0.23466658500723653, 0.2194341423078317, 0.20519045269648797, 0.19187133522150623, 0.17941677498094305, 0.16777065270015507, 0.15688049186273526, 0.14669722225543322, 0.13717495886161082, 0.12827079510694472, 0.11994460952575792, 0.11215888497683146, 0.10487853959410046, 0.09807076871050775, 0.0917048970427399, 0.08575224047079862, 0.08018597678959864, 0.07498102485020898, 0.07011393154615704, 0.06556276613556444, 0.06130702142293876, 0.05732752135535442, 0.053606334616657016, 0.05012669383035516, 0.04687292000713299, 0.04383035189655, 0.04098527992459307, 0.03832488441940775, 0.0358371778468596, 0.03351095079564211, 0.031335721468546206, 0.029301688452301418, 0.027399686553174086, 0.025621145499320968, 0.023958051323814507, 0.022402910254334392, 0.020948714946815265, 0.019588912910902583, 0.018317376984942974, 0.017128377727473304, 0.016016557600805333, 0.014976906830379477, 0.014004740831112717, 0.01309567909902441, 0.01224562547302761], \"type\": \"scatter\"}]}, {\"data\": [{\"line\": {\"color\": \"red\", \"width\": 2}, \"mode\": \"lines\", \"x\": [0, 1, 2, 3, 4, 5, 6, 7, 8, 9, 10, 11, 12, 13, 14, 15, 16, 17, 18, 19, 20, 21, 22, 23, 24, 25, 26, 27, 28, 29, 30, 31, 32, 33, 34, 35, 36, 37, 38, 39, 40, 41, 42, 43, 44, 45, 46, 47, 48, 49, 50, 51, 52, 53, 54, 55, 56, 57, 58, 59, 60, 61, 62, 63, 64, 65, 66, 67, 68, 69, 70, 71, 72, 73, 74, 75, 76, 77, 78, 79, 80, 81, 82, 83, 84, 85, 86, 87, 88, 89, 90, 91, 92], \"y\": [5.5, 5.1429895000000005, 4.8091529085655, 4.496985984117605, 4.205082126902548, 3.932126040963176, 3.6768878075182143, 3.4382173430444, 3.2150392170900446, 3.006347806469513, 2.8112027640037702, 2.6287247813895216, 2.458091627104747, 2.2985344414977504, 2.14933427236569, 2.0098188354121604, 1.8793594849867215, 1.757368381456749, 1.6432958424480095, 1.5366278660188666, 1.436883814607716, 1.343614249317715, 1.2563989047802526, 1.174844795472062, 1.0985844449531748, 1.0272742300468192, 0.9605928325002498, 0.8982397911498262, 0.8399341480664999, 0.7854131825813555, 0.734431227486817, 0.6867585620794203, 0.6421803770562831, 0.6004958066011827, 0.5615170232988935, 0.5250683917995389, 0.4909856774194389, 0.45911530611246576, 0.4293136724773993, 0.40144649268321897, 0.37538819939665846, 0.351021375985622, 0.32823622744901937, 0.3069300856890762, 0.2870069468969126, 0.26837703896688697, 0.2509564169905074, 0.23466658500723653, 0.2194341423078317, 0.20519045269648797, 0.19187133522150623, 0.17941677498094305, 0.16777065270015507, 0.15688049186273526, 0.14669722225543322, 0.13717495886161082, 0.12827079510694472, 0.11994460952575792, 0.11215888497683146, 0.10487853959410046, 0.09807076871050775, 0.0917048970427399, 0.08575224047079862, 0.08018597678959864, 0.07498102485020898, 0.07011393154615704, 0.06556276613556444, 0.06130702142293876, 0.05732752135535442, 0.053606334616657016, 0.05012669383035516, 0.04687292000713299, 0.04383035189655, 0.04098527992459307, 0.03832488441940775, 0.0358371778468596, 0.03351095079564211, 0.031335721468546206, 0.029301688452301418, 0.027399686553174086, 0.025621145499320968, 0.023958051323814507, 0.022402910254334392, 0.020948714946815265, 0.019588912910902583, 0.018317376984942974, 0.017128377727473304, 0.016016557600805333, 0.014976906830379477, 0.014004740831112717, 0.01309567909902441, 0.01224562547302761, 0.011450749677947906], \"type\": \"scatter\"}]}, {\"data\": [{\"line\": {\"color\": \"red\", \"width\": 2}, \"mode\": \"lines\", \"x\": [0, 1, 2, 3, 4, 5, 6, 7, 8, 9, 10, 11, 12, 13, 14, 15, 16, 17, 18, 19, 20, 21, 22, 23, 24, 25, 26, 27, 28, 29, 30, 31, 32, 33, 34, 35, 36, 37, 38, 39, 40, 41, 42, 43, 44, 45, 46, 47, 48, 49, 50, 51, 52, 53, 54, 55, 56, 57, 58, 59, 60, 61, 62, 63, 64, 65, 66, 67, 68, 69, 70, 71, 72, 73, 74, 75, 76, 77, 78, 79, 80, 81, 82, 83, 84, 85, 86, 87, 88, 89, 90, 91, 92, 93], \"y\": [5.5, 5.1429895000000005, 4.8091529085655, 4.496985984117605, 4.205082126902548, 3.932126040963176, 3.6768878075182143, 3.4382173430444, 3.2150392170900446, 3.006347806469513, 2.8112027640037702, 2.6287247813895216, 2.458091627104747, 2.2985344414977504, 2.14933427236569, 2.0098188354121604, 1.8793594849867215, 1.757368381456749, 1.6432958424480095, 1.5366278660188666, 1.436883814607716, 1.343614249317715, 1.2563989047802526, 1.174844795472062, 1.0985844449531748, 1.0272742300468192, 0.9605928325002498, 0.8982397911498262, 0.8399341480664999, 0.7854131825813555, 0.734431227486817, 0.6867585620794203, 0.6421803770562831, 0.6004958066011827, 0.5615170232988935, 0.5250683917995389, 0.4909856774194389, 0.45911530611246576, 0.4293136724773993, 0.40144649268321897, 0.37538819939665846, 0.351021375985622, 0.32823622744901937, 0.3069300856890762, 0.2870069468969126, 0.26837703896688697, 0.2509564169905074, 0.23466658500723653, 0.2194341423078317, 0.20519045269648797, 0.19187133522150623, 0.17941677498094305, 0.16777065270015507, 0.15688049186273526, 0.14669722225543322, 0.13717495886161082, 0.12827079510694472, 0.11994460952575792, 0.11215888497683146, 0.10487853959410046, 0.09807076871050775, 0.0917048970427399, 0.08575224047079862, 0.08018597678959864, 0.07498102485020898, 0.07011393154615704, 0.06556276613556444, 0.06130702142293876, 0.05732752135535442, 0.053606334616657016, 0.05012669383035516, 0.04687292000713299, 0.04383035189655, 0.04098527992459307, 0.03832488441940775, 0.0358371778468596, 0.03351095079564211, 0.031335721468546206, 0.029301688452301418, 0.027399686553174086, 0.025621145499320968, 0.023958051323814507, 0.022402910254334392, 0.020948714946815265, 0.019588912910902583, 0.018317376984942974, 0.017128377727473304, 0.016016557600805333, 0.014976906830379477, 0.014004740831112717, 0.01309567909902441, 0.01224562547302761, 0.011450749677947906, 0.01070747006560264], \"type\": \"scatter\"}]}, {\"data\": [{\"line\": {\"color\": \"red\", \"width\": 2}, \"mode\": \"lines\", \"x\": [0, 1, 2, 3, 4, 5, 6, 7, 8, 9, 10, 11, 12, 13, 14, 15, 16, 17, 18, 19, 20, 21, 22, 23, 24, 25, 26, 27, 28, 29, 30, 31, 32, 33, 34, 35, 36, 37, 38, 39, 40, 41, 42, 43, 44, 45, 46, 47, 48, 49, 50, 51, 52, 53, 54, 55, 56, 57, 58, 59, 60, 61, 62, 63, 64, 65, 66, 67, 68, 69, 70, 71, 72, 73, 74, 75, 76, 77, 78, 79, 80, 81, 82, 83, 84, 85, 86, 87, 88, 89, 90, 91, 92, 93, 94], \"y\": [5.5, 5.1429895000000005, 4.8091529085655, 4.496985984117605, 4.205082126902548, 3.932126040963176, 3.6768878075182143, 3.4382173430444, 3.2150392170900446, 3.006347806469513, 2.8112027640037702, 2.6287247813895216, 2.458091627104747, 2.2985344414977504, 2.14933427236569, 2.0098188354121604, 1.8793594849867215, 1.757368381456749, 1.6432958424480095, 1.5366278660188666, 1.436883814607716, 1.343614249317715, 1.2563989047802526, 1.174844795472062, 1.0985844449531748, 1.0272742300468192, 0.9605928325002498, 0.8982397911498262, 0.8399341480664999, 0.7854131825813555, 0.734431227486817, 0.6867585620794203, 0.6421803770562831, 0.6004958066011827, 0.5615170232988935, 0.5250683917995389, 0.4909856774194389, 0.45911530611246576, 0.4293136724773993, 0.40144649268321897, 0.37538819939665846, 0.351021375985622, 0.32823622744901937, 0.3069300856890762, 0.2870069468969126, 0.26837703896688697, 0.2509564169905074, 0.23466658500723653, 0.2194341423078317, 0.20519045269648797, 0.19187133522150623, 0.17941677498094305, 0.16777065270015507, 0.15688049186273526, 0.14669722225543322, 0.13717495886161082, 0.12827079510694472, 0.11994460952575792, 0.11215888497683146, 0.10487853959410046, 0.09807076871050775, 0.0917048970427399, 0.08575224047079862, 0.08018597678959864, 0.07498102485020898, 0.07011393154615704, 0.06556276613556444, 0.06130702142293876, 0.05732752135535442, 0.053606334616657016, 0.05012669383035516, 0.04687292000713299, 0.04383035189655, 0.04098527992459307, 0.03832488441940775, 0.0358371778468596, 0.03351095079564211, 0.031335721468546206, 0.029301688452301418, 0.027399686553174086, 0.025621145499320968, 0.023958051323814507, 0.022402910254334392, 0.020948714946815265, 0.019588912910902583, 0.018317376984942974, 0.017128377727473304, 0.016016557600805333, 0.014976906830379477, 0.014004740831112717, 0.01309567909902441, 0.01224562547302761, 0.011450749677947906, 0.01070747006560264, 0.010012437476174299], \"type\": \"scatter\"}]}, {\"data\": [{\"line\": {\"color\": \"red\", \"width\": 2}, \"mode\": \"lines\", \"x\": [0, 1, 2, 3, 4, 5, 6, 7, 8, 9, 10, 11, 12, 13, 14, 15, 16, 17, 18, 19, 20, 21, 22, 23, 24, 25, 26, 27, 28, 29, 30, 31, 32, 33, 34, 35, 36, 37, 38, 39, 40, 41, 42, 43, 44, 45, 46, 47, 48, 49, 50, 51, 52, 53, 54, 55, 56, 57, 58, 59, 60, 61, 62, 63, 64, 65, 66, 67, 68, 69, 70, 71, 72, 73, 74, 75, 76, 77, 78, 79, 80, 81, 82, 83, 84, 85, 86, 87, 88, 89, 90, 91, 92, 93, 94, 95], \"y\": [5.5, 5.1429895000000005, 4.8091529085655, 4.496985984117605, 4.205082126902548, 3.932126040963176, 3.6768878075182143, 3.4382173430444, 3.2150392170900446, 3.006347806469513, 2.8112027640037702, 2.6287247813895216, 2.458091627104747, 2.2985344414977504, 2.14933427236569, 2.0098188354121604, 1.8793594849867215, 1.757368381456749, 1.6432958424480095, 1.5366278660188666, 1.436883814607716, 1.343614249317715, 1.2563989047802526, 1.174844795472062, 1.0985844449531748, 1.0272742300468192, 0.9605928325002498, 0.8982397911498262, 0.8399341480664999, 0.7854131825813555, 0.734431227486817, 0.6867585620794203, 0.6421803770562831, 0.6004958066011827, 0.5615170232988935, 0.5250683917995389, 0.4909856774194389, 0.45911530611246576, 0.4293136724773993, 0.40144649268321897, 0.37538819939665846, 0.351021375985622, 0.32823622744901937, 0.3069300856890762, 0.2870069468969126, 0.26837703896688697, 0.2509564169905074, 0.23466658500723653, 0.2194341423078317, 0.20519045269648797, 0.19187133522150623, 0.17941677498094305, 0.16777065270015507, 0.15688049186273526, 0.14669722225543322, 0.13717495886161082, 0.12827079510694472, 0.11994460952575792, 0.11215888497683146, 0.10487853959410046, 0.09807076871050775, 0.0917048970427399, 0.08575224047079862, 0.08018597678959864, 0.07498102485020898, 0.07011393154615704, 0.06556276613556444, 0.06130702142293876, 0.05732752135535442, 0.053606334616657016, 0.05012669383035516, 0.04687292000713299, 0.04383035189655, 0.04098527992459307, 0.03832488441940775, 0.0358371778468596, 0.03351095079564211, 0.031335721468546206, 0.029301688452301418, 0.027399686553174086, 0.025621145499320968, 0.023958051323814507, 0.022402910254334392, 0.020948714946815265, 0.019588912910902583, 0.018317376984942974, 0.017128377727473304, 0.016016557600805333, 0.014976906830379477, 0.014004740831112717, 0.01309567909902441, 0.01224562547302761, 0.011450749677947906, 0.01070747006560264, 0.010012437476174299, 0.009362520147158337], \"type\": \"scatter\"}]}, {\"data\": [{\"line\": {\"color\": \"red\", \"width\": 2}, \"mode\": \"lines\", \"x\": [0, 1, 2, 3, 4, 5, 6, 7, 8, 9, 10, 11, 12, 13, 14, 15, 16, 17, 18, 19, 20, 21, 22, 23, 24, 25, 26, 27, 28, 29, 30, 31, 32, 33, 34, 35, 36, 37, 38, 39, 40, 41, 42, 43, 44, 45, 46, 47, 48, 49, 50, 51, 52, 53, 54, 55, 56, 57, 58, 59, 60, 61, 62, 63, 64, 65, 66, 67, 68, 69, 70, 71, 72, 73, 74, 75, 76, 77, 78, 79, 80, 81, 82, 83, 84, 85, 86, 87, 88, 89, 90, 91, 92, 93, 94, 95, 96], \"y\": [5.5, 5.1429895000000005, 4.8091529085655, 4.496985984117605, 4.205082126902548, 3.932126040963176, 3.6768878075182143, 3.4382173430444, 3.2150392170900446, 3.006347806469513, 2.8112027640037702, 2.6287247813895216, 2.458091627104747, 2.2985344414977504, 2.14933427236569, 2.0098188354121604, 1.8793594849867215, 1.757368381456749, 1.6432958424480095, 1.5366278660188666, 1.436883814607716, 1.343614249317715, 1.2563989047802526, 1.174844795472062, 1.0985844449531748, 1.0272742300468192, 0.9605928325002498, 0.8982397911498262, 0.8399341480664999, 0.7854131825813555, 0.734431227486817, 0.6867585620794203, 0.6421803770562831, 0.6004958066011827, 0.5615170232988935, 0.5250683917995389, 0.4909856774194389, 0.45911530611246576, 0.4293136724773993, 0.40144649268321897, 0.37538819939665846, 0.351021375985622, 0.32823622744901937, 0.3069300856890762, 0.2870069468969126, 0.26837703896688697, 0.2509564169905074, 0.23466658500723653, 0.2194341423078317, 0.20519045269648797, 0.19187133522150623, 0.17941677498094305, 0.16777065270015507, 0.15688049186273526, 0.14669722225543322, 0.13717495886161082, 0.12827079510694472, 0.11994460952575792, 0.11215888497683146, 0.10487853959410046, 0.09807076871050775, 0.0917048970427399, 0.08575224047079862, 0.08018597678959864, 0.07498102485020898, 0.07011393154615704, 0.06556276613556444, 0.06130702142293876, 0.05732752135535442, 0.053606334616657016, 0.05012669383035516, 0.04687292000713299, 0.04383035189655, 0.04098527992459307, 0.03832488441940775, 0.0358371778468596, 0.03351095079564211, 0.031335721468546206, 0.029301688452301418, 0.027399686553174086, 0.025621145499320968, 0.023958051323814507, 0.022402910254334392, 0.020948714946815265, 0.019588912910902583, 0.018317376984942974, 0.017128377727473304, 0.016016557600805333, 0.014976906830379477, 0.014004740831112717, 0.01309567909902441, 0.01224562547302761, 0.011450749677947906, 0.01070747006560264, 0.010012437476174299, 0.009362520147158337, 0.00875478960188614], \"type\": \"scatter\"}]}, {\"data\": [{\"line\": {\"color\": \"red\", \"width\": 2}, \"mode\": \"lines\", \"x\": [0, 1, 2, 3, 4, 5, 6, 7, 8, 9, 10, 11, 12, 13, 14, 15, 16, 17, 18, 19, 20, 21, 22, 23, 24, 25, 26, 27, 28, 29, 30, 31, 32, 33, 34, 35, 36, 37, 38, 39, 40, 41, 42, 43, 44, 45, 46, 47, 48, 49, 50, 51, 52, 53, 54, 55, 56, 57, 58, 59, 60, 61, 62, 63, 64, 65, 66, 67, 68, 69, 70, 71, 72, 73, 74, 75, 76, 77, 78, 79, 80, 81, 82, 83, 84, 85, 86, 87, 88, 89, 90, 91, 92, 93, 94, 95, 96, 97], \"y\": [5.5, 5.1429895000000005, 4.8091529085655, 4.496985984117605, 4.205082126902548, 3.932126040963176, 3.6768878075182143, 3.4382173430444, 3.2150392170900446, 3.006347806469513, 2.8112027640037702, 2.6287247813895216, 2.458091627104747, 2.2985344414977504, 2.14933427236569, 2.0098188354121604, 1.8793594849867215, 1.757368381456749, 1.6432958424480095, 1.5366278660188666, 1.436883814607716, 1.343614249317715, 1.2563989047802526, 1.174844795472062, 1.0985844449531748, 1.0272742300468192, 0.9605928325002498, 0.8982397911498262, 0.8399341480664999, 0.7854131825813555, 0.734431227486817, 0.6867585620794203, 0.6421803770562831, 0.6004958066011827, 0.5615170232988935, 0.5250683917995389, 0.4909856774194389, 0.45911530611246576, 0.4293136724773993, 0.40144649268321897, 0.37538819939665846, 0.351021375985622, 0.32823622744901937, 0.3069300856890762, 0.2870069468969126, 0.26837703896688697, 0.2509564169905074, 0.23466658500723653, 0.2194341423078317, 0.20519045269648797, 0.19187133522150623, 0.17941677498094305, 0.16777065270015507, 0.15688049186273526, 0.14669722225543322, 0.13717495886161082, 0.12827079510694472, 0.11994460952575792, 0.11215888497683146, 0.10487853959410046, 0.09807076871050775, 0.0917048970427399, 0.08575224047079862, 0.08018597678959864, 0.07498102485020898, 0.07011393154615704, 0.06556276613556444, 0.06130702142293876, 0.05732752135535442, 0.053606334616657016, 0.05012669383035516, 0.04687292000713299, 0.04383035189655, 0.04098527992459307, 0.03832488441940775, 0.0358371778468596, 0.03351095079564211, 0.031335721468546206, 0.029301688452301418, 0.027399686553174086, 0.025621145499320968, 0.023958051323814507, 0.022402910254334392, 0.020948714946815265, 0.019588912910902583, 0.018317376984942974, 0.017128377727473304, 0.016016557600805333, 0.014976906830379477, 0.014004740831112717, 0.01309567909902441, 0.01224562547302761, 0.011450749677947906, 0.01070747006560264, 0.010012437476174299, 0.009362520147158337, 0.00875478960188614, 0.008186507454038114], \"type\": \"scatter\"}]}, {\"data\": [{\"line\": {\"color\": \"red\", \"width\": 2}, \"mode\": \"lines\", \"x\": [0, 1, 2, 3, 4, 5, 6, 7, 8, 9, 10, 11, 12, 13, 14, 15, 16, 17, 18, 19, 20, 21, 22, 23, 24, 25, 26, 27, 28, 29, 30, 31, 32, 33, 34, 35, 36, 37, 38, 39, 40, 41, 42, 43, 44, 45, 46, 47, 48, 49, 50, 51, 52, 53, 54, 55, 56, 57, 58, 59, 60, 61, 62, 63, 64, 65, 66, 67, 68, 69, 70, 71, 72, 73, 74, 75, 76, 77, 78, 79, 80, 81, 82, 83, 84, 85, 86, 87, 88, 89, 90, 91, 92, 93, 94, 95, 96, 97, 98], \"y\": [5.5, 5.1429895000000005, 4.8091529085655, 4.496985984117605, 4.205082126902548, 3.932126040963176, 3.6768878075182143, 3.4382173430444, 3.2150392170900446, 3.006347806469513, 2.8112027640037702, 2.6287247813895216, 2.458091627104747, 2.2985344414977504, 2.14933427236569, 2.0098188354121604, 1.8793594849867215, 1.757368381456749, 1.6432958424480095, 1.5366278660188666, 1.436883814607716, 1.343614249317715, 1.2563989047802526, 1.174844795472062, 1.0985844449531748, 1.0272742300468192, 0.9605928325002498, 0.8982397911498262, 0.8399341480664999, 0.7854131825813555, 0.734431227486817, 0.6867585620794203, 0.6421803770562831, 0.6004958066011827, 0.5615170232988935, 0.5250683917995389, 0.4909856774194389, 0.45911530611246576, 0.4293136724773993, 0.40144649268321897, 0.37538819939665846, 0.351021375985622, 0.32823622744901937, 0.3069300856890762, 0.2870069468969126, 0.26837703896688697, 0.2509564169905074, 0.23466658500723653, 0.2194341423078317, 0.20519045269648797, 0.19187133522150623, 0.17941677498094305, 0.16777065270015507, 0.15688049186273526, 0.14669722225543322, 0.13717495886161082, 0.12827079510694472, 0.11994460952575792, 0.11215888497683146, 0.10487853959410046, 0.09807076871050775, 0.0917048970427399, 0.08575224047079862, 0.08018597678959864, 0.07498102485020898, 0.07011393154615704, 0.06556276613556444, 0.06130702142293876, 0.05732752135535442, 0.053606334616657016, 0.05012669383035516, 0.04687292000713299, 0.04383035189655, 0.04098527992459307, 0.03832488441940775, 0.0358371778468596, 0.03351095079564211, 0.031335721468546206, 0.029301688452301418, 0.027399686553174086, 0.025621145499320968, 0.023958051323814507, 0.022402910254334392, 0.020948714946815265, 0.019588912910902583, 0.018317376984942974, 0.017128377727473304, 0.016016557600805333, 0.014976906830379477, 0.014004740831112717, 0.01309567909902441, 0.01224562547302761, 0.011450749677947906, 0.01070747006560264, 0.010012437476174299, 0.009362520147158337, 0.00875478960188614, 0.008186507454038114, 0.007655113068689048], \"type\": \"scatter\"}]}]);\n",
       "                        }).then(function(){\n",
       "                            \n",
       "var gd = document.getElementById('e0a84403-8c7a-401e-aa2f-b4eb95ff0638');\n",
       "var x = new MutationObserver(function (mutations, observer) {{\n",
       "        var display = window.getComputedStyle(gd).display;\n",
       "        if (!display || display === 'none') {{\n",
       "            console.log([gd, 'removed!']);\n",
       "            Plotly.purge(gd);\n",
       "            observer.disconnect();\n",
       "        }}\n",
       "}});\n",
       "\n",
       "// Listen for the removal of the full notebook cells\n",
       "var notebookContainer = gd.closest('#notebook-container');\n",
       "if (notebookContainer) {{\n",
       "    x.observe(notebookContainer, {childList: true});\n",
       "}}\n",
       "\n",
       "// Listen for the clearing of the current output cell\n",
       "var outputEl = gd.closest('.output');\n",
       "if (outputEl) {{\n",
       "    x.observe(outputEl, {childList: true});\n",
       "}}\n",
       "\n",
       "                        })\n",
       "                };\n",
       "                });\n",
       "            </script>\n",
       "        </div>"
      ]
     },
     "metadata": {},
     "output_type": "display_data"
    }
   ],
   "source": [
    "x = np.arange(100)\n",
    "fig = go.Figure(\n",
    "    data=[go.Scatter(x=x[:3], y=lin_reg.t_cost[:3],\n",
    "                     mode=\"lines\",\n",
    "                     line=dict(width=2, color=\"blue\"))],\n",
    "    layout=go.Layout(\n",
    "        xaxis=dict(range=[0, 100], autorange=False, zeroline=False),\n",
    "        yaxis=dict(range=[0, 2], autorange=False, zeroline=False),\n",
    "        title_text=\"The cost of the model per iteration\", hovermode=\"closest\",\n",
    "        updatemenus=[dict(type=\"buttons\",\n",
    "                          buttons=[dict(label=\"Play\",\n",
    "                                        method=\"animate\",\n",
    "                                        args=[None])])]),\n",
    "      frames=[go.Frame(\n",
    "        data=[go.Scatter(\n",
    "            x=x[:k],\n",
    "            y=lin_reg.t_cost[:k],\n",
    "            mode=\"lines\",\n",
    "            line=dict(color=\"red\", width=2))\n",
    "        ]) for k in range(3, 100)]\n",
    ")\n",
    "\n",
    "fig.show()"
   ]
  },
  {
   "cell_type": "markdown",
   "metadata": {},
   "source": [
    "### Making sure the model is working fine:\n",
    "* If $\\ J(\\theta)$ is not converging it means gradient descent is not working. Try changing the $\\alpha$.\n",
    "* If $\\alpha$ is too small, gradient descent can be slow to converge.\n",
    "* I $\\alpha$ is too large $\\ J(\\theta)$ may not decrease and the model will not converge.\n",
    "* Chose alpha between $ 0.001 and 0.3$. It depends on the problem mostly."
   ]
  },
  {
   "cell_type": "code",
   "execution_count": 14,
   "metadata": {},
   "outputs": [],
   "source": [
    "#Lets cheack the model by predicting a value other than the training data\n",
    "x = np.array([6, 7, 8])\n",
    "result = lin_reg.predict(x)"
   ]
  },
  {
   "cell_type": "code",
   "execution_count": 15,
   "metadata": {},
   "outputs": [
    {
     "data": {
      "text/plain": [
       "array([6., 7., 8.])"
      ]
     },
     "execution_count": 15,
     "metadata": {},
     "output_type": "execute_result"
    }
   ],
   "source": [
    "result"
   ]
  },
  {
   "cell_type": "markdown",
   "metadata": {},
   "source": [
    "        The result is 100% accurate.\n",
    "## Performance measure:\n",
    "    The next thing is that we have to select a performance. The typical performance measure for regression problem is Root Mean Square Method RMSE. It measures the standard deviation of the errors the system makes in its predictions. In our example we have used RMSE.\n",
    "    \n",
    "    \n",
    "$$ RMSE(X, H) = \\sqrt{\\frac{1}{m}\\sum_{i=1}^{m}(h(x^{(i)}) - y^{(i)})^2} $$\n",
    "\n",
    "* $ m $ is the number of instances .\n",
    "* $X^{(i)}$ is the vector of all feature values of the $ith$ instance of the dataset.\n",
    "* $y^{(i)} $ is it labels, the desired values for that instance."
   ]
  },
  {
   "cell_type": "code",
   "execution_count": 16,
   "metadata": {},
   "outputs": [
    {
     "data": {
      "text/plain": [
       "2.2741530499570502e-14"
      ]
     },
     "execution_count": 16,
     "metadata": {},
     "output_type": "execute_result"
    }
   ],
   "source": [
    "x_test = np.array([6, 7, 8, 9, 10])\n",
    "y_test = np.array([6, 7, 8, 9, 10])\n",
    "lin_reg.evaluate(x_test, y_test)"
   ]
  },
  {
   "cell_type": "markdown",
   "metadata": {},
   "source": [
    "        The error is very small so our model is working fine"
   ]
  },
  {
   "cell_type": "markdown",
   "metadata": {},
   "source": [
    "## Linear Regression usin scikit-learn"
   ]
  },
  {
   "cell_type": "code",
   "execution_count": 17,
   "metadata": {},
   "outputs": [],
   "source": [
    "x_train = np.array([[1, 2], [2, 3], [3, 4], [4, 5]])\n",
    "y_train = np.array([1, 2, 3, 4])\n",
    "x_test = np.array([[6, 7], [7, 8], [8, 9], [9, 10]])\n",
    "y_test = np.array([6, 7, 8, 9])"
   ]
  },
  {
   "cell_type": "code",
   "execution_count": 18,
   "metadata": {},
   "outputs": [],
   "source": [
    "from sklearn.linear_model import LinearRegression"
   ]
  },
  {
   "cell_type": "code",
   "execution_count": 20,
   "metadata": {},
   "outputs": [],
   "source": [
    "lng = LinearRegression().fit(x_train, y_train)"
   ]
  },
  {
   "cell_type": "code",
   "execution_count": 21,
   "metadata": {},
   "outputs": [
    {
     "data": {
      "text/plain": [
       "1.0"
      ]
     },
     "execution_count": 21,
     "metadata": {},
     "output_type": "execute_result"
    }
   ],
   "source": [
    "lng.score(x_test, y_test)"
   ]
  },
  {
   "cell_type": "markdown",
   "metadata": {},
   "source": [
    "## Linear Regression using Tensorflow"
   ]
  },
  {
   "cell_type": "code",
   "execution_count": 1,
   "metadata": {},
   "outputs": [],
   "source": [
    "import tensorflow as tf\n",
    "import numpy as np"
   ]
  },
  {
   "cell_type": "code",
   "execution_count": 41,
   "metadata": {},
   "outputs": [],
   "source": [
    "x_data = np.random.randn(2000, 6)\n",
    "w_real = [0.4,0.6,0.3, 0.2, 0.9, 1]\n",
    "b_real = -0.5\n",
    "y_data = np.matmul(w_real, x_data.T) + b_real"
   ]
  },
  {
   "cell_type": "code",
   "execution_count": 46,
   "metadata": {},
   "outputs": [
    {
     "name": "stdout",
     "output_type": "stream",
     "text": [
      "0 [array([[0.30013746, 0.5993727 , 0.26156157, 0.25131458, 0.8087102 ,\n",
      "        0.9860471 ]], dtype=float32), -0.47960034]\n",
      "2 [array([[0.39872503, 0.59999704, 0.29970193, 0.20045543, 0.8988761 ,\n",
      "        0.9995887 ]], dtype=float32), -0.49975953]\n",
      "4 [array([[0.3999836 , 0.60000014, 0.29999742, 0.20000502, 0.8999861 ,\n",
      "        0.9999929 ]], dtype=float32), -0.4999975]\n",
      "5 [array([[0.3999836 , 0.60000014, 0.29999742, 0.20000502, 0.8999861 ,\n",
      "        0.9999929 ]], dtype=float32), -0.4999975]\n"
     ]
    }
   ],
   "source": [
    "NUM_STEPS = 5\n",
    "w_ = []\n",
    "g = tf.Graph()\n",
    "loss_ = []\n",
    "with g.as_default():\n",
    "    x = tf.placeholder(tf.float32)\n",
    "    y_true = tf.placeholder(tf.float32)\n",
    "    with tf.name_scope('inference') as scope:\n",
    "        w = tf.Variable([[0, 0, 0, 0, 0, 0]], dtype=tf.float32, name='weights')\n",
    "        b = tf.Variable(0, dtype=tf.float32, name='bias')\n",
    "        y_pred = tf.matmul(w, tf.transpose(x)) + b\n",
    "    with tf.name_scope('loss') as scope:\n",
    "        loss = tf.reduce_mean(tf.square(y_true - y_pred))\n",
    "    with tf.name_scope('train') as scope:\n",
    "        learning_rate = 0.5\n",
    "        optimizer = tf.train.GradientDescentOptimizer(learning_rate)\n",
    "        train = optimizer.minimize(loss)\n",
    "    init = tf.global_variables_initializer()\n",
    "    with tf.Session() as sess:\n",
    "        sess.run(init)\n",
    "        for step in range(NUM_STEPS):\n",
    "            sess.run(train, {x:x_data, y_true:y_data})\n",
    "            if step%2 == 0:\n",
    "                print(step, sess.run([w, b]))\n",
    "                w_.append(sess.run([w, b]))\n",
    "            loss_.append(sess.run(loss, {x:x_data, y_true:y_data}))\n",
    "        print(5, sess.run([w, b]))"
   ]
  },
  {
   "cell_type": "code",
   "execution_count": 47,
   "metadata": {},
   "outputs": [
    {
     "data": {
      "text/plain": [
       "[<matplotlib.lines.Line2D at 0x7f3eedaac6d8>]"
      ]
     },
     "execution_count": 47,
     "metadata": {},
     "output_type": "execute_result"
    },
    {
     "data": {
      "image/png": "[encoded data removed]",
      "text/plain": [
       "<Figure size 432x288 with 1 Axes>"
      ]
     },
     "metadata": {
      "needs_background": "light"
     },
     "output_type": "display_data"
    }
   ],
   "source": [
    "import matplotlib.pyplot as plt\n",
    "plt.plot(np.arange(NUM_STEPS), loss_)"
   ]
  },
  {
   "cell_type": "markdown",
   "metadata": {},
   "source": [
    "         The weights mathced with the real weights and biases, Means the model is working."
   ]
  },
  {
   "cell_type": "code",
   "execution_count": null,
   "metadata": {},
   "outputs": [],
   "source": [
    "x"
   ]
  }
 ],
 "metadata": {
  "kernelspec": {
   "display_name": "Python 3",
   "language": "python",
   "name": "python3"
  },
  "language_info": {
   "codemirror_mode": {
    "name": "ipython",
    "version": 3
   },
   "file_extension": ".py",
   "mimetype": "text/x-python",
   "name": "python",
   "nbconvert_exporter": "python",
   "pygments_lexer": "ipython3",
   "version": "3.7.3"
  }
 },
 "nbformat": 4,
 "nbformat_minor": 2
}
